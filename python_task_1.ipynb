{
 "cells": [
  {
   "cell_type": "code",
   "execution_count": 13,
   "id": "3e9aaa22-8183-4f7d-944f-29673b9d58a0",
   "metadata": {},
   "outputs": [],
   "source": [
    "# Q1. Create a function which will take a list as an argument and return the product of all the numbers\n",
    "# after creating a flat list.\n",
    "# Use the below-given list as an argument for your function.\n",
    "\n",
    "# list1 = [1,2,3,4, [44,55,66, True], False, (34,56,78,89,34), {1,2,3,3,2,1}, {1:34, \"key2\": [55, 67, 78, 89], 4: (45,\n",
    "# 22, 61, 34)}, [56, 'data science'], 'Machine Learning']\n",
    "\n",
    "# Note: you must extract numeric keys and values of the dictionary also."
   ]
  },
  {
   "cell_type": "code",
   "execution_count": 17,
   "id": "32acd6d7-7de7-46b5-9adc-e984e176f5e3",
   "metadata": {},
   "outputs": [],
   "source": [
    "list1 = [1, 2, 3, 4, [44, 55, 66, True], False, (34, 56, 78, 89, 34), {1, 2, 3, 3, 2, 1},\n",
    "         {1: 34, \"key2\": [55, 67, 78, 89], 4: (45, 22, 61, 34)}, [56, 'data science'], 'Machine Learning']"
   ]
  },
  {
   "cell_type": "code",
   "execution_count": 18,
   "id": "036e1722-4c48-41c3-9468-eabbcb42b093",
   "metadata": {},
   "outputs": [],
   "source": [
    "def calculate_product(list1):\n",
    "    product = 1\n",
    "    for item in list1:\n",
    "        if isinstance(item, (int, float)):\n",
    "            product *= item\n",
    "        elif isinstance(item, list):\n",
    "            product *= calculate_product(item)\n",
    "        elif isinstance(item, dict):\n",
    "            product *= calculate_product(list(item.values()))\n",
    "            product *= calculate_product(list(item.keys()))\n",
    "    return product"
   ]
  },
  {
   "cell_type": "code",
   "execution_count": 19,
   "id": "b761c834-5368-4295-b1d2-117db7145fee",
   "metadata": {},
   "outputs": [
    {
     "data": {
      "text/plain": [
       "0"
      ]
     },
     "execution_count": 19,
     "metadata": {},
     "output_type": "execute_result"
    }
   ],
   "source": [
    "calculate_product(list1)"
   ]
  },
  {
   "cell_type": "code",
   "execution_count": 20,
   "id": "1874fe98-e8be-4175-bbae-20738a1de280",
   "metadata": {},
   "outputs": [],
   "source": [
    "# Q2. Write a python program for encrypting a message sent to you by your friend. The logic of encryption\n",
    "# should be such that, for a the output should be z. For b, the output should be y. For c, the output should\n",
    "# be x respectively. Also, the whitespace should be replaced with a dollar sign. Keep the punctuation\n",
    "# marks unchanged.\n",
    "\n",
    "# Input Sentence: I want to become a Data Scientist.\n",
    "\n",
    "# Encrypt the above input sentence using the program you just created.\n",
    "\n",
    "# Convert the given input sentence into lowercase before encrypting. The final output should be\n",
    "# lowercase."
   ]
  },
  {
   "cell_type": "code",
   "execution_count": 27,
   "id": "47d4658a-6fab-420b-adfe-b84ca7dd4e98",
   "metadata": {},
   "outputs": [],
   "source": [
    "message = \"I want to become a Data Scientist.\""
   ]
  },
  {
   "cell_type": "code",
   "execution_count": 34,
   "id": "15ae87f6-6114-4a33-8c2d-d0aa81ed0ca0",
   "metadata": {},
   "outputs": [
    {
     "name": "stdout",
     "output_type": "stream",
     "text": [
      "r$dzmg$gl$yvxlnv$z$wzgz$hxrvmgrhg.\n"
     ]
    }
   ],
   "source": [
    "def encrypt_message(message):\n",
    "    encrypted_message = \"\"\n",
    "    for char in message:\n",
    "        if char.isalpha():\n",
    "            char = chr(ord('a') + (ord('z') - ord(char)))\n",
    "        elif char == ' ':\n",
    "            char = '$'\n",
    "        encrypted_message += char.lower()\n",
    "    return encrypted_message\n",
    "encrypted_sentence = encrypt_message(input_sentence.lower())\n",
    "print(encrypted_sentence)"
   ]
  },
  {
   "cell_type": "code",
   "execution_count": null,
   "id": "50bfda84-e3a2-49f8-81d3-e101626dfd2c",
   "metadata": {},
   "outputs": [],
   "source": []
  },
  {
   "cell_type": "code",
   "execution_count": null,
   "id": "be010ce4-1cba-4e27-a3c8-3181399727e0",
   "metadata": {},
   "outputs": [],
   "source": []
  }
 ],
 "metadata": {
  "kernelspec": {
   "display_name": "Python 3 (ipykernel)",
   "language": "python",
   "name": "python3"
  },
  "language_info": {
   "codemirror_mode": {
    "name": "ipython",
    "version": 3
   },
   "file_extension": ".py",
   "mimetype": "text/x-python",
   "name": "python",
   "nbconvert_exporter": "python",
   "pygments_lexer": "ipython3",
   "version": "3.10.8"
  }
 },
 "nbformat": 4,
 "nbformat_minor": 5
}
