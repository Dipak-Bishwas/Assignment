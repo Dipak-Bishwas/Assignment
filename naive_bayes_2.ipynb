{
 "cells": [
  {
   "cell_type": "code",
   "execution_count": 1,
   "id": "5ddeef72-21df-4ce0-92fc-0a0132bc04f4",
   "metadata": {},
   "outputs": [],
   "source": [
    "# Q1. A company conducted a survey of its employees and found that 70% of the employees use the\n",
    "# company's health insurance plan, while 40% of the employees who use the plan are smokers. What is the\n",
    "# probability that an employee is a smoker given that he/she uses the health insurance plan?"
   ]
  },
  {
   "cell_type": "code",
   "execution_count": 2,
   "id": "82df54fa-f3df-4a73-9d43-909a40c1551d",
   "metadata": {},
   "outputs": [],
   "source": [
    "# Given information:\n",
    "\n",
    "# 70% of employees use the company's health insurance plan: P(Uses Plan) = 0.7\n",
    "# 40% of employees who use the plan are smokers: P(Smoker | Uses Plan) = 0.4\n",
    "\n",
    "# P(Smoker | Uses Plan) =?\n",
    "\n",
    "# Let's find P(Smoker):\n",
    "# Since 40% of employees who use the plan are smokers, we can assume that the proportion of smokers among all employees is similar. Let's assume P(Smoker) = x.\n",
    "# We know that 70% of employees use the plan, and 40% of them are smokers. So, \n",
    "# the number of smokers who use the plan is 0.4 * 0.7 = 0.28.Since x is the proportion of smokers among all employees, we can set up the equation:\n",
    "# 0.28 = x * 0.7\n",
    "# Solving for x, we get:\n",
    "# x = 0.28 / 0.7 = 0.4\n",
    "# So, P(Smoker) = 0.4.\n",
    "\n",
    "# Now, let's find P(Smoker | Uses Plan):\n",
    "# Using Bayes' Theorem:\n",
    "# P(Smoker | Uses Plan) = P(Uses Plan | Smoker) * P(Smoker) / P(Uses Plan) = 0.4 * 0.4 / 0.7 = 0.5714\n",
    "\n",
    "# The probability that an employee is a smoker given that they use the health insurance plan is approximately 57.14%."
   ]
  },
  {
   "cell_type": "code",
   "execution_count": 3,
   "id": "ed465820-6902-4c06-bd23-dbc2c0f2d858",
   "metadata": {},
   "outputs": [],
   "source": [
    "# Q2. What is the difference between Bernoulli Naive Bayes and Multinomial Naive Bayes?"
   ]
  },
  {
   "cell_type": "code",
   "execution_count": 4,
   "id": "9a0536c5-d5a4-4bda-92af-c6061d1cd985",
   "metadata": {},
   "outputs": [],
   "source": [
    "# Feature type: Bernoulli Naive Bayes is used for binary features, while Multinomial Naive Bayes is used for categorical \n",
    "# features with more than two values.\n",
    "\n",
    "# Distribution: Bernoulli Naive Bayes assumes a Bernoulli distribution, while Multinomial Naive Bayes assumes a multinomial \n",
    "# distribution.\n",
    "\n",
    "# Likelihood calculation: The likelihood calculations differ between the two algorithms, as shown above."
   ]
  },
  {
   "cell_type": "code",
   "execution_count": 5,
   "id": "c721731a-d832-4cb7-9fc8-6a244e3edd23",
   "metadata": {},
   "outputs": [],
   "source": [
    "# Q3. How does Bernoulli Naive Bayes handle missing values?"
   ]
  },
  {
   "cell_type": "code",
   "execution_count": 6,
   "id": "21b1443b-0d18-4a29-a4bb-68f68f21fbd3",
   "metadata": {},
   "outputs": [],
   "source": [
    "# Bernoulli Naive Bayes is immune to missing values. This means that the algorithm can simply ignore missing values because \n",
    "# it handles the input features independently.\n",
    "\n",
    "# There are two approaches to handle missing values in Naive Bayes:\n",
    "\n",
    "#     Imputation: This involves using various imputation algorithms to estimate the missing values based on the other \n",
    "#     observations in the dataset.\n",
    "\n",
    "#     Using a different algorithm: Some algorithms are more robust to missing values, and using them can improve the\n",
    "#     performance of the Naive Bayes algorithm."
   ]
  },
  {
   "cell_type": "code",
   "execution_count": 7,
   "id": "f35357cc-ab23-4059-86d1-0847521f2a11",
   "metadata": {},
   "outputs": [],
   "source": [
    "# Q4. Can Gaussian Naive Bayes be used for multi-class classification?"
   ]
  },
  {
   "cell_type": "code",
   "execution_count": 8,
   "id": "912ed235-d0ce-4b48-90c1-dcf4df29bfc3",
   "metadata": {},
   "outputs": [],
   "source": [
    "# Yes, Gaussian Naive Bayes can be used for multi-class classification."
   ]
  },
  {
   "cell_type": "code",
   "execution_count": 9,
   "id": "bd91f564-9366-426c-a082-fdd8f7fc6482",
   "metadata": {},
   "outputs": [],
   "source": [
    "# Q5. Assignment:\n",
    "# Data preparation:\n",
    "# Download the \"Spambase Data Set\" from the UCI Machine Learning Repository (https://archive.ics.uci.edu/ml/\n",
    "# datasets/Spambase). This dataset contains email messages, where the goal is to predict whether a message\n",
    "# is spam or not based on several input features.\n",
    "# Implementation:\n",
    "# Implement Bernoulli Naive Bayes, Multinomial Naive Bayes, and Gaussian Naive Bayes classifiers using the\n",
    "# scikit-learn library in Python. Use 10-fold cross-validation to evaluate the performance of each classifier on the\n",
    "# dataset. You should use the default hyperparameters for each classifier.\n",
    "# Results:\n",
    "# Report the following performance metrics for each classifier:\n",
    "# Accuracy\n",
    "# Precision\n",
    "# Recall\n",
    "# F1 score\n",
    "# Discussion:\n",
    "# Discuss the results you obtained. Which variant of Naive Bayes performed the best? Why do you think that is\n",
    "# the case? Are there any limitations of Naive Bayes that you observed?\n",
    "# Conclusion:\n",
    "# Summarise your findings and provide some suggestions for future work.\n",
    "\n",
    "# Note: Create your assignment in Jupyter notebook and upload it to GitHub & share that github repository\n",
    "# link through your dashboard. Make sure the repository is public.\n",
    "# Note: This dataset contains a binary classification problem with multiple features. The dataset is\n",
    "# relatively small, but it can be used to demonstrate the performance of the different variants of Naive\n",
    "# Bayes on a real-world problem."
   ]
  },
  {
   "cell_type": "code",
   "execution_count": 19,
   "id": "51c5837d-fa85-4a92-a023-ed08b928ea8b",
   "metadata": {},
   "outputs": [],
   "source": [
    "import pandas as pd\n",
    "from sklearn.model_selection import train_test_split\n",
    "from sklearn.naive_bayes import BernoulliNB, MultinomialNB, GaussianNB\n",
    "from sklearn.metrics import accuracy_score, precision_score, recall_score, f1_score\n",
    "from sklearn.preprocessing import StandardScaler"
   ]
  },
  {
   "cell_type": "code",
   "execution_count": 20,
   "id": "c1b6fed8-416a-4836-8944-3d756500e4f8",
   "metadata": {},
   "outputs": [],
   "source": [
    "df = pd.read_csv('spambase.csv')\n"
   ]
  },
  {
   "cell_type": "code",
   "execution_count": 25,
   "id": "f2ee01ab-adc7-43d4-8a6a-55614741be6e",
   "metadata": {},
   "outputs": [
    {
     "data": {
      "text/html": [
       "<div>\n",
       "<style scoped>\n",
       "    .dataframe tbody tr th:only-of-type {\n",
       "        vertical-align: middle;\n",
       "    }\n",
       "\n",
       "    .dataframe tbody tr th {\n",
       "        vertical-align: top;\n",
       "    }\n",
       "\n",
       "    .dataframe thead th {\n",
       "        text-align: right;\n",
       "    }\n",
       "</style>\n",
       "<table border=\"1\" class=\"dataframe\">\n",
       "  <thead>\n",
       "    <tr style=\"text-align: right;\">\n",
       "      <th></th>\n",
       "      <th>0</th>\n",
       "      <th>0.64</th>\n",
       "      <th>0.64.1</th>\n",
       "      <th>0.1</th>\n",
       "      <th>0.32</th>\n",
       "      <th>0.2</th>\n",
       "      <th>0.3</th>\n",
       "      <th>0.4</th>\n",
       "      <th>0.5</th>\n",
       "      <th>0.6</th>\n",
       "      <th>...</th>\n",
       "      <th>0.41</th>\n",
       "      <th>0.42</th>\n",
       "      <th>0.43</th>\n",
       "      <th>0.778</th>\n",
       "      <th>0.44</th>\n",
       "      <th>0.45</th>\n",
       "      <th>3.756</th>\n",
       "      <th>61</th>\n",
       "      <th>278</th>\n",
       "      <th>1</th>\n",
       "    </tr>\n",
       "  </thead>\n",
       "  <tbody>\n",
       "    <tr>\n",
       "      <th>0</th>\n",
       "      <td>0.21</td>\n",
       "      <td>0.28</td>\n",
       "      <td>0.50</td>\n",
       "      <td>0.0</td>\n",
       "      <td>0.14</td>\n",
       "      <td>0.28</td>\n",
       "      <td>0.21</td>\n",
       "      <td>0.07</td>\n",
       "      <td>0.00</td>\n",
       "      <td>0.94</td>\n",
       "      <td>...</td>\n",
       "      <td>0.00</td>\n",
       "      <td>0.132</td>\n",
       "      <td>0.0</td>\n",
       "      <td>0.372</td>\n",
       "      <td>0.180</td>\n",
       "      <td>0.048</td>\n",
       "      <td>5.114</td>\n",
       "      <td>101</td>\n",
       "      <td>1028</td>\n",
       "      <td>1</td>\n",
       "    </tr>\n",
       "    <tr>\n",
       "      <th>1</th>\n",
       "      <td>0.06</td>\n",
       "      <td>0.00</td>\n",
       "      <td>0.71</td>\n",
       "      <td>0.0</td>\n",
       "      <td>1.23</td>\n",
       "      <td>0.19</td>\n",
       "      <td>0.19</td>\n",
       "      <td>0.12</td>\n",
       "      <td>0.64</td>\n",
       "      <td>0.25</td>\n",
       "      <td>...</td>\n",
       "      <td>0.01</td>\n",
       "      <td>0.143</td>\n",
       "      <td>0.0</td>\n",
       "      <td>0.276</td>\n",
       "      <td>0.184</td>\n",
       "      <td>0.010</td>\n",
       "      <td>9.821</td>\n",
       "      <td>485</td>\n",
       "      <td>2259</td>\n",
       "      <td>1</td>\n",
       "    </tr>\n",
       "    <tr>\n",
       "      <th>2</th>\n",
       "      <td>0.00</td>\n",
       "      <td>0.00</td>\n",
       "      <td>0.00</td>\n",
       "      <td>0.0</td>\n",
       "      <td>0.63</td>\n",
       "      <td>0.00</td>\n",
       "      <td>0.31</td>\n",
       "      <td>0.63</td>\n",
       "      <td>0.31</td>\n",
       "      <td>0.63</td>\n",
       "      <td>...</td>\n",
       "      <td>0.00</td>\n",
       "      <td>0.137</td>\n",
       "      <td>0.0</td>\n",
       "      <td>0.137</td>\n",
       "      <td>0.000</td>\n",
       "      <td>0.000</td>\n",
       "      <td>3.537</td>\n",
       "      <td>40</td>\n",
       "      <td>191</td>\n",
       "      <td>1</td>\n",
       "    </tr>\n",
       "    <tr>\n",
       "      <th>3</th>\n",
       "      <td>0.00</td>\n",
       "      <td>0.00</td>\n",
       "      <td>0.00</td>\n",
       "      <td>0.0</td>\n",
       "      <td>0.63</td>\n",
       "      <td>0.00</td>\n",
       "      <td>0.31</td>\n",
       "      <td>0.63</td>\n",
       "      <td>0.31</td>\n",
       "      <td>0.63</td>\n",
       "      <td>...</td>\n",
       "      <td>0.00</td>\n",
       "      <td>0.135</td>\n",
       "      <td>0.0</td>\n",
       "      <td>0.135</td>\n",
       "      <td>0.000</td>\n",
       "      <td>0.000</td>\n",
       "      <td>3.537</td>\n",
       "      <td>40</td>\n",
       "      <td>191</td>\n",
       "      <td>1</td>\n",
       "    </tr>\n",
       "    <tr>\n",
       "      <th>4</th>\n",
       "      <td>0.00</td>\n",
       "      <td>0.00</td>\n",
       "      <td>0.00</td>\n",
       "      <td>0.0</td>\n",
       "      <td>1.85</td>\n",
       "      <td>0.00</td>\n",
       "      <td>0.00</td>\n",
       "      <td>1.85</td>\n",
       "      <td>0.00</td>\n",
       "      <td>0.00</td>\n",
       "      <td>...</td>\n",
       "      <td>0.00</td>\n",
       "      <td>0.223</td>\n",
       "      <td>0.0</td>\n",
       "      <td>0.000</td>\n",
       "      <td>0.000</td>\n",
       "      <td>0.000</td>\n",
       "      <td>3.000</td>\n",
       "      <td>15</td>\n",
       "      <td>54</td>\n",
       "      <td>1</td>\n",
       "    </tr>\n",
       "  </tbody>\n",
       "</table>\n",
       "<p>5 rows × 58 columns</p>\n",
       "</div>"
      ],
      "text/plain": [
       "      0  0.64  0.64.1  0.1  0.32   0.2   0.3   0.4   0.5   0.6  ...  0.41  \\\n",
       "0  0.21  0.28    0.50  0.0  0.14  0.28  0.21  0.07  0.00  0.94  ...  0.00   \n",
       "1  0.06  0.00    0.71  0.0  1.23  0.19  0.19  0.12  0.64  0.25  ...  0.01   \n",
       "2  0.00  0.00    0.00  0.0  0.63  0.00  0.31  0.63  0.31  0.63  ...  0.00   \n",
       "3  0.00  0.00    0.00  0.0  0.63  0.00  0.31  0.63  0.31  0.63  ...  0.00   \n",
       "4  0.00  0.00    0.00  0.0  1.85  0.00  0.00  1.85  0.00  0.00  ...  0.00   \n",
       "\n",
       "    0.42  0.43  0.778   0.44   0.45  3.756   61   278  1  \n",
       "0  0.132   0.0  0.372  0.180  0.048  5.114  101  1028  1  \n",
       "1  0.143   0.0  0.276  0.184  0.010  9.821  485  2259  1  \n",
       "2  0.137   0.0  0.137  0.000  0.000  3.537   40   191  1  \n",
       "3  0.135   0.0  0.135  0.000  0.000  3.537   40   191  1  \n",
       "4  0.223   0.0  0.000  0.000  0.000  3.000   15    54  1  \n",
       "\n",
       "[5 rows x 58 columns]"
      ]
     },
     "execution_count": 25,
     "metadata": {},
     "output_type": "execute_result"
    }
   ],
   "source": [
    "df.head()"
   ]
  },
  {
   "cell_type": "code",
   "execution_count": 21,
   "id": "2528192f-ae54-48cb-b253-4f3e4e565a1e",
   "metadata": {},
   "outputs": [
    {
     "data": {
      "text/plain": [
       "Index(['0', '0.64', '0.64.1', '0.1', '0.32', '0.2', '0.3', '0.4', '0.5', '0.6',\n",
       "       '0.7', '0.64.2', '0.8', '0.9', '0.10', '0.32.1', '0.11', '1.29', '1.93',\n",
       "       '0.12', '0.96', '0.13', '0.14', '0.15', '0.16', '0.17', '0.18', '0.19',\n",
       "       '0.20', '0.21', '0.22', '0.23', '0.24', '0.25', '0.26', '0.27', '0.28',\n",
       "       '0.29', '0.30', '0.31', '0.33', '0.34', '0.35', '0.36', '0.37', '0.38',\n",
       "       '0.39', '0.40', '0.41', '0.42', '0.43', '0.778', '0.44', '0.45',\n",
       "       '3.756', '61', '278', '1'],\n",
       "      dtype='object')"
      ]
     },
     "execution_count": 21,
     "metadata": {},
     "output_type": "execute_result"
    }
   ],
   "source": [
    "df.columns"
   ]
  },
  {
   "cell_type": "code",
   "execution_count": 32,
   "id": "f6b69c25-4b10-4bf1-b63c-3bbc689ce589",
   "metadata": {},
   "outputs": [],
   "source": [
    "target_column = '1'"
   ]
  },
  {
   "cell_type": "code",
   "execution_count": 33,
   "id": "a275b396-92b3-425f-8d83-48611682dd20",
   "metadata": {},
   "outputs": [],
   "source": [
    "X = df.drop(target_column, axis=1)\n",
    "y = df[target_column]"
   ]
  },
  {
   "cell_type": "code",
   "execution_count": 34,
   "id": "2dbd2805-40c5-409c-b522-7a125f03c158",
   "metadata": {},
   "outputs": [],
   "source": [
    "X_train, X_test, y_train, y_test = train_test_split(X, y, test_size=0.3, random_state=42)"
   ]
  },
  {
   "cell_type": "code",
   "execution_count": 35,
   "id": "719df4f1-fccd-4f98-85c2-02b29d2c24a6",
   "metadata": {},
   "outputs": [],
   "source": [
    "scaler = StandardScaler()\n",
    "X_train_scaled = scaler.fit_transform(X_train)\n",
    "X_test_scaled = scaler.transform(X_test)"
   ]
  },
  {
   "cell_type": "code",
   "execution_count": 36,
   "id": "10d6186a-1c87-43dd-b428-260deb976ddd",
   "metadata": {},
   "outputs": [],
   "source": [
    "models = {\n",
    "    'BernoulliNB': BernoulliNB(),\n",
    "    'MultinomialNB': MultinomialNB(),\n",
    "    'GaussianNB': GaussianNB()\n",
    "}"
   ]
  },
  {
   "cell_type": "code",
   "execution_count": 37,
   "id": "0b594bbc-9747-4dda-b704-60244a30e767",
   "metadata": {},
   "outputs": [
    {
     "name": "stdout",
     "output_type": "stream",
     "text": [
      "BernoulliNB - Accuracy: 0.8717\n",
      "BernoulliNB - Precision: 0.8846\n",
      "BernoulliNB - Recall: 0.7972\n",
      "BernoulliNB - F1 Score: 0.8387\n",
      "MultinomialNB - Accuracy: 0.7717\n",
      "MultinomialNB - Precision: 0.7426\n",
      "MultinomialNB - Recall: 0.6950\n",
      "MultinomialNB - F1 Score: 0.7180\n",
      "GaussianNB - Accuracy: 0.8145\n",
      "GaussianNB - Precision: 0.7093\n",
      "GaussianNB - Recall: 0.9428\n",
      "GaussianNB - F1 Score: 0.8095\n"
     ]
    }
   ],
   "source": [
    "for name, model in models.items():\n",
    "    if name == 'GaussianNB':\n",
    "        model.fit(X_train_scaled, y_train)\n",
    "        y_pred = model.predict(X_test_scaled)\n",
    "    else:\n",
    "        model.fit(X_train, y_train)\n",
    "        y_pred = model.predict(X_test)\n",
    "    print(f'{name} - Accuracy: {accuracy_score(y_test, y_pred):.4f}')\n",
    "    print(f'{name} - Precision: {precision_score(y_test, y_pred):.4f}')\n",
    "    print(f'{name} - Recall: {recall_score(y_test, y_pred):.4f}')\n",
    "    print(f'{name} - F1 Score: {f1_score(y_test, y_pred):.4f}')"
   ]
  },
  {
   "cell_type": "code",
   "execution_count": null,
   "id": "d46fb724-979a-4712-b1bd-5fc34c9a7315",
   "metadata": {},
   "outputs": [],
   "source": []
  }
 ],
 "metadata": {
  "kernelspec": {
   "display_name": "Python 3 (ipykernel)",
   "language": "python",
   "name": "python3"
  },
  "language_info": {
   "codemirror_mode": {
    "name": "ipython",
    "version": 3
   },
   "file_extension": ".py",
   "mimetype": "text/x-python",
   "name": "python",
   "nbconvert_exporter": "python",
   "pygments_lexer": "ipython3",
   "version": "3.10.8"
  }
 },
 "nbformat": 4,
 "nbformat_minor": 5
}
