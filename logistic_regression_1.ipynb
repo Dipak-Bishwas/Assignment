{
 "cells": [
  {
   "cell_type": "code",
   "execution_count": 1,
   "id": "08eafb32-eedd-4fcb-b024-01c80796fccb",
   "metadata": {},
   "outputs": [],
   "source": [
    "# Q1. Explain the difference between linear regression and logistic regression models. Provide an example of\n",
    "# a scenario where logistic regression would be more appropriate."
   ]
  },
  {
   "cell_type": "code",
   "execution_count": 2,
   "id": "85b8da2f-5dc5-4e72-967b-fd1f8cade800",
   "metadata": {},
   "outputs": [],
   "source": [
    "# Linear Regression: \n",
    "#     Predicts continuous outcomes and is used for regression problems.\n",
    "\n",
    "# Logistic Regression:\n",
    "#     Predicts probabilities of categorical outcomes and is used for classification problems with binary\n",
    "# outcomes."
   ]
  },
  {
   "cell_type": "code",
   "execution_count": 3,
   "id": "e5c36e85-ba33-4410-bcc8-27ee80619d2a",
   "metadata": {},
   "outputs": [],
   "source": [
    "# Q2. What is the cost function used in logistic regression, and how is it optimized?"
   ]
  },
  {
   "cell_type": "code",
   "execution_count": 4,
   "id": "8a3d2827-9c20-4a06-81d4-528f6ba08514",
   "metadata": {},
   "outputs": [],
   "source": [
    "# Cost Function: Logistic regression uses the log-loss (binary cross-entropy) function.\n",
    "\n",
    "# Optimization: The cost function is optimized using gradient descent, where parameters are updated iteratively to minimize\n",
    "# the cost."
   ]
  },
  {
   "cell_type": "code",
   "execution_count": 5,
   "id": "3ca05d60-4098-4fa4-91b8-1fcc4fcc615e",
   "metadata": {},
   "outputs": [],
   "source": [
    "# Q3. Explain the concept of regularization in logistic regression and how it helps prevent overfitting."
   ]
  },
  {
   "cell_type": "code",
   "execution_count": 6,
   "id": "e8a36dc1-27e1-4ffe-8e09-6d132321c896",
   "metadata": {},
   "outputs": [],
   "source": [
    "# Regularization in logistic regression helps prevent overfitting by adding a penalty to the cost function that discourages \n",
    "# large coefficients. This penalty controls the model's complexity, leading to simpler models that generalize better to new\n",
    "# data. The two main types of regularization are L2 (Ridge) and L1 (Lasso), with Elastic Net combining both."
   ]
  },
  {
   "cell_type": "code",
   "execution_count": 7,
   "id": "63224406-c457-4c2f-bdc6-aae030b4b9a9",
   "metadata": {},
   "outputs": [],
   "source": [
    "# Q4. What is the ROC curve, and how is it used to evaluate the performance of the logistic regression\n",
    "# model?"
   ]
  },
  {
   "cell_type": "code",
   "execution_count": 8,
   "id": "e09f8fc7-cc88-4b51-a383-8e0bf43e6a35",
   "metadata": {},
   "outputs": [],
   "source": [
    "# The ROC curve is a valuable tool for evaluating the performance of a logistic regression model in binary classification\n",
    "# tasks. It visualizes the trade-offs between true positive and false positive rates across different thresholds, while the\n",
    "# AUC-ROC provides a single metric to summarize the model's discriminatory power."
   ]
  },
  {
   "cell_type": "code",
   "execution_count": 9,
   "id": "ffa3ac84-337f-45f6-a125-265a124fc391",
   "metadata": {},
   "outputs": [],
   "source": [
    "# Q5. What are some common techniques for feature selection in logistic regression? How do these\n",
    "# techniques help improve the model's performance?"
   ]
  },
  {
   "cell_type": "code",
   "execution_count": 10,
   "id": "e6ee02f5-4f7a-4ef7-adac-0d7bdb80be77",
   "metadata": {},
   "outputs": [],
   "source": [
    "# Feature selection techniques in logistic regression help to identify and retain only the most relevant features, \n",
    "# improving model accuracy, reducing overfitting, and enhancing interpretability. By removing irrelevant or redundant\n",
    "# features, these techniques lead to models that are more efficient, easier to understand, and perform better on unseen data."
   ]
  },
  {
   "cell_type": "code",
   "execution_count": 11,
   "id": "a46773b0-13e2-4368-8a93-52555f9edb00",
   "metadata": {},
   "outputs": [],
   "source": [
    "# Q6. How can you handle imbalanced datasets in logistic regression? What are some strategies for dealing\n",
    "# with class imbalance?"
   ]
  },
  {
   "cell_type": "code",
   "execution_count": 12,
   "id": "483a6dfc-0f4d-4fe4-b602-166d55635425",
   "metadata": {},
   "outputs": [],
   "source": [
    "# Handling imbalanced datasets in logistic regression involves using techniques like resampling, adjusting class weights,\n",
    "# and focusing on appropriate evaluation metrics. These strategies help to mitigate the bias towards the majority class, \n",
    "# improve the model's ability to correctly classify the minority class, and provide a more accurate representation of\n",
    "# performance."
   ]
  },
  {
   "cell_type": "code",
   "execution_count": 13,
   "id": "ff847907-bbc5-4da4-adc5-03fc43c53e9e",
   "metadata": {},
   "outputs": [],
   "source": [
    "# Q7. Can you discuss some common issues and challenges that may arise when implementing logistic\n",
    "# regression, and how they can be addressed? For example, what can be done if there is multicollinearity\n",
    "# among the independent variables?"
   ]
  },
  {
   "cell_type": "code",
   "execution_count": null,
   "id": "0675a733-6050-4ac9-a3e3-5037a99005b4",
   "metadata": {},
   "outputs": [],
   "source": []
  }
 ],
 "metadata": {
  "kernelspec": {
   "display_name": "Python 3 (ipykernel)",
   "language": "python",
   "name": "python3"
  },
  "language_info": {
   "codemirror_mode": {
    "name": "ipython",
    "version": 3
   },
   "file_extension": ".py",
   "mimetype": "text/x-python",
   "name": "python",
   "nbconvert_exporter": "python",
   "pygments_lexer": "ipython3",
   "version": "3.10.8"
  }
 },
 "nbformat": 4,
 "nbformat_minor": 5
}
