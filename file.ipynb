{
 "cells": [
  {
   "cell_type": "code",
   "execution_count": 1,
   "id": "55387466-50ea-47ab-bc78-47c40bed0f23",
   "metadata": {},
   "outputs": [],
   "source": [
    "# Q1. Which function is used to open a file? What are the different modes of opening a file? Explain each mode\n",
    "# of file opening.\n",
    "\n",
    "# Ans: -> open() function is used to open a file.\n",
    "\n",
    "#         'r': Read \n",
    "#         -> 'r' (read mode): This is the default mode. It opens the file for reading. If the file does not exist, it raises a FileNotFoundError.\n",
    "        \n",
    "#         'w': Write \n",
    "#         -> 'w' (write mode): Opens the file for writing, truncating it if it exists or creating a new file if it doesn't.\n",
    "        \n",
    "#         'a': Append\n",
    "#         -> \n",
    "#         'a' (append mode): Opens the file for writing without truncating it, appending new data to the end, and creates a new file if it doesn't exist\n",
    "        \n",
    "#         'b': Binary mode\n",
    "#         -> 'b' (binary mode): Used with other modes to read or write a file in binary form (bytes), e.g., 'rb' for reading and 'wb' for writing in binary mode.\n",
    "\n",
    "#         't': Text mode\n",
    "#         ->t (text mode): The default mode for opening a file, reading or writing data as strings, e.g., 'rt' is 'r' and 'wt' is 'w'.\n",
    "        \n"
   ]
  },
  {
   "cell_type": "code",
   "execution_count": 2,
   "id": "966579d3-0c90-4374-b550-dbbba6106ce5",
   "metadata": {},
   "outputs": [],
   "source": [
    "# Q2. Why close() function is used? Why is it important to close a file?\n",
    "\n",
    "# Ans: The close() function is used to close an open file, releasing associated resources and ensuring all data is properly written. It is important to prevent data corruption, free up system resources"
   ]
  },
  {
   "cell_type": "code",
   "execution_count": 3,
   "id": "c80ae428-4835-499c-8883-8f25410147b3",
   "metadata": {},
   "outputs": [],
   "source": [
    "# Q3. Write a python program to create a text file. Write ‘I want to become a Data Scientist’ in that file. Then\n",
    "# close the file. Open this file and read the content of the file.\n",
    "\n",
    "# Ans: \n"
   ]
  },
  {
   "cell_type": "code",
   "execution_count": 4,
   "id": "5789f5cc-4363-4038-9b88-372bfe032311",
   "metadata": {},
   "outputs": [],
   "source": [
    "with open('data_scientist.txt', 'w') as file:\n",
    "    file.write('I want to become a Data Scientist')"
   ]
  },
  {
   "cell_type": "code",
   "execution_count": 5,
   "id": "caa9e5b0-92cb-486a-bf6d-fdf3f63d5085",
   "metadata": {},
   "outputs": [
    {
     "name": "stdout",
     "output_type": "stream",
     "text": [
      "I want to become a Data Scientist\n"
     ]
    }
   ],
   "source": [
    "with open('data_scientist.txt', 'r') as file:\n",
    "    data = file.read()\n",
    "    print(data)"
   ]
  },
  {
   "cell_type": "code",
   "execution_count": 6,
   "id": "862433b6-c4eb-41b5-8f35-c00b196da799",
   "metadata": {},
   "outputs": [],
   "source": [
    "# Q4. Explain the following with python code: read(), readline() and readlines().\n",
    "\n",
    "# Ans:  read() -> The read() method reads the entire content of a file as a single string.\n",
    "        \n",
    "#       readline() -> The readline() method reads one line from the file at a time, returning it as a string.\n",
    "        \n",
    "#       readlines() -> The readlines() method reads all the lines in a file and returns them as a list of strings."
   ]
  },
  {
   "cell_type": "code",
   "execution_count": 7,
   "id": "246fab4c-6dcf-483b-bb72-dc389cbf3219",
   "metadata": {},
   "outputs": [],
   "source": [
    "# Q5. Explain why with statement is used with open(). What is the advantage of using with statement and\n",
    "# open() together?\n",
    "\n",
    "# Ans: \n",
    "# The with statement is used with open() to ensure that the file is automatically closed after its block of code is executed, even if an exception occurs. This promotes automatic resource management, cleaner code, and exception safety.\n"
   ]
  },
  {
   "cell_type": "code",
   "execution_count": 9,
   "id": "5c5eac3b-5437-485b-85fc-9e2c59db5057",
   "metadata": {},
   "outputs": [],
   "source": [
    "# Q6. Explain the write() and writelines() functions. Give a suitable example.\n",
    "\n",
    "# Ans: write() -> The write() function writes a single string to a file. It does not add a newline character after the string, so if you want to write multiple lines, you need to include newline characters explicitly\n"
   ]
  },
  {
   "cell_type": "code",
   "execution_count": 12,
   "id": "74005d4a-0836-418c-a5d9-48296df7af1d",
   "metadata": {},
   "outputs": [],
   "source": [
    "with open('test.txt', 'w') as file:\n",
    "    file.write(\"This is first line\\n\")\n",
    "    file.write(\"This is second line\\n\")"
   ]
  },
  {
   "cell_type": "code",
   "execution_count": 14,
   "id": "cb734cd1-ad8a-432a-b7e2-8661f3470cc4",
   "metadata": {},
   "outputs": [],
   "source": [
    "# writelines() -> The writelines() function writes a list of strings to a file. It does not add newline characters between the strings, so each string in the list should include a newline character if you want to separate lines."
   ]
  },
  {
   "cell_type": "code",
   "execution_count": null,
   "id": "c14ddea2-c7ca-48f3-9a6b-ff3d167b74d8",
   "metadata": {},
   "outputs": [],
   "source": [
    "l = [\"dipak\\m"
   ]
  }
 ],
 "metadata": {
  "kernelspec": {
   "display_name": "Python 3 (ipykernel)",
   "language": "python",
   "name": "python3"
  },
  "language_info": {
   "codemirror_mode": {
    "name": "ipython",
    "version": 3
   },
   "file_extension": ".py",
   "mimetype": "text/x-python",
   "name": "python",
   "nbconvert_exporter": "python",
   "pygments_lexer": "ipython3",
   "version": "3.10.8"
  }
 },
 "nbformat": 4,
 "nbformat_minor": 5
}
