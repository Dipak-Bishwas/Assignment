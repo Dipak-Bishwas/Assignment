{
 "cells": [
  {
   "cell_type": "code",
   "execution_count": 1,
   "id": "3f613fc3-c3c8-415d-99a1-99a1f8a91651",
   "metadata": {},
   "outputs": [],
   "source": [
    "# Q1. What is Abstraction in OOps? Explain with an example."
   ]
  },
  {
   "cell_type": "code",
   "execution_count": 2,
   "id": "d92f985e-317d-4aa0-8e00-5a0396d58a83",
   "metadata": {},
   "outputs": [],
   "source": [
    "# Ans:\n",
    "#     Abstraction in OOP hides implementation, focuses on essential features, and is achieved through abstract base classes. In Python, abstract base classes define blueprints for derived classes. Abstraction promotes reusability, modularity, and manages complexity, enabling polymorphism and separating interface from implementation."
   ]
  },
  {
   "cell_type": "code",
   "execution_count": 3,
   "id": "e94a7c81-bec2-403e-a789-cb9c7d1f91b1",
   "metadata": {},
   "outputs": [],
   "source": [
    "# Example:"
   ]
  },
  {
   "cell_type": "code",
   "execution_count": 10,
   "id": "fd4f3cc8-12ed-44c6-a9b1-b83d313a1d7f",
   "metadata": {},
   "outputs": [],
   "source": [
    "import abc"
   ]
  },
  {
   "cell_type": "code",
   "execution_count": 11,
   "id": "307df529-cbe9-4116-b795-5c228776d925",
   "metadata": {},
   "outputs": [],
   "source": [
    "class Fruit:\n",
    "    \n",
    "    @abc.abstractmethod\n",
    "    def colour(self):\n",
    "        pass"
   ]
  },
  {
   "cell_type": "code",
   "execution_count": 15,
   "id": "4079e583-031e-4408-a604-5686da0fa937",
   "metadata": {},
   "outputs": [],
   "source": [
    "class Mango(Fruit):\n",
    "    def colour(self):\n",
    "        return \"yellow and red\"\n",
    "    \n",
    "class Apple(Fruit):\n",
    "    def colour(self):\n",
    "        return \"Red\""
   ]
  },
  {
   "cell_type": "code",
   "execution_count": 16,
   "id": "dbc7cab8-5b5b-443e-a175-c5d3b52c19bb",
   "metadata": {},
   "outputs": [
    {
     "data": {
      "text/plain": [
       "'yellow and red'"
      ]
     },
     "execution_count": 16,
     "metadata": {},
     "output_type": "execute_result"
    }
   ],
   "source": [
    "mg = Mango()\n",
    "mg.colour()"
   ]
  },
  {
   "cell_type": "code",
   "execution_count": 17,
   "id": "9b94b57d-98d8-49e0-9440-db9b26a6f2b9",
   "metadata": {},
   "outputs": [
    {
     "data": {
      "text/plain": [
       "'Red'"
      ]
     },
     "execution_count": 17,
     "metadata": {},
     "output_type": "execute_result"
    }
   ],
   "source": [
    "ap = Apple()\n",
    "ap.colour()"
   ]
  },
  {
   "cell_type": "code",
   "execution_count": 18,
   "id": "fe673e0e-5238-437c-8dc0-c6219d6ec67d",
   "metadata": {},
   "outputs": [],
   "source": [
    "# Q2. Differentiate between Abstraction and Encapsulation. Explain with an example."
   ]
  },
  {
   "cell_type": "code",
   "execution_count": 19,
   "id": "9ad85708-7172-416f-b6b9-5d51f903c66a",
   "metadata": {},
   "outputs": [],
   "source": [
    "# Ans:\n",
    "#     Abstraction focuses on hiding unnecessary details and providing a simplified view of objects and their interactions. Encapsulation, on the other hand, involves bundling data and methods together, promoting data hiding and controlled access to attributes. While abstraction emphasizes what objects do, encapsulation emphasizes how objects are structured and how their data is accessed and modified.\n",
    "    "
   ]
  },
  {
   "cell_type": "code",
   "execution_count": 21,
   "id": "54fba459-bde0-45a0-a2e3-d1076e5af9b3",
   "metadata": {},
   "outputs": [],
   "source": [
    "# Abstraction Example"
   ]
  },
  {
   "cell_type": "code",
   "execution_count": 22,
   "id": "19334203-d275-4ef8-8a63-4b7c204f1dc7",
   "metadata": {},
   "outputs": [],
   "source": [
    "import abc"
   ]
  },
  {
   "cell_type": "code",
   "execution_count": 27,
   "id": "16aef347-6133-4e6f-87a1-da0aa8a7103e",
   "metadata": {},
   "outputs": [],
   "source": [
    "class Bike:\n",
    "    \n",
    "    @abc.abstractmethod\n",
    "    def model(self):\n",
    "        pass"
   ]
  },
  {
   "cell_type": "code",
   "execution_count": 28,
   "id": "841ff9f1-22e5-40fb-b85c-b2de95a65c02",
   "metadata": {},
   "outputs": [],
   "source": [
    "class Bullet(Bike):\n",
    "    def model(self):\n",
    "        return \"Royal Enfield Bullet 350\"\n",
    "    \n",
    "class  Hero(Bike):\n",
    "    def model(self):\n",
    "        return \"Hero Passion Pro\""
   ]
  },
  {
   "cell_type": "code",
   "execution_count": 30,
   "id": "be5a4ccf-b77c-477f-8225-09ddc200773e",
   "metadata": {},
   "outputs": [
    {
     "data": {
      "text/plain": [
       "'Royal Enfield Bullet 350'"
      ]
     },
     "execution_count": 30,
     "metadata": {},
     "output_type": "execute_result"
    }
   ],
   "source": [
    "bt = Bullet()\n",
    "bt.model()"
   ]
  },
  {
   "cell_type": "code",
   "execution_count": 31,
   "id": "a7e9278c-fb88-46e1-835b-0fa30c59210a",
   "metadata": {},
   "outputs": [],
   "source": [
    "# Encapsulation Example "
   ]
  },
  {
   "cell_type": "code",
   "execution_count": 38,
   "id": "2357f279-41b4-421b-91ca-6bc2a5433171",
   "metadata": {},
   "outputs": [],
   "source": [
    "class Person:\n",
    "    def __init__(self, name, age):\n",
    "        self.__name = name\n",
    "        self.__age = age\n",
    "\n",
    "    def get_name(self):\n",
    "        return self.__name\n",
    "\n",
    "    def get_age(self):\n",
    "        return self.__age\n",
    "\n",
    "    def set_age(self, age):\n",
    "        if age > 0:\n",
    "            self.__age = age"
   ]
  },
  {
   "cell_type": "code",
   "execution_count": 39,
   "id": "a54cf3fe-bac0-4e22-8877-d9b65b85784a",
   "metadata": {},
   "outputs": [],
   "source": [
    "person = Person(\"Dipak\", 23)"
   ]
  },
  {
   "cell_type": "code",
   "execution_count": 40,
   "id": "d56269ad-06c3-413b-9191-542ddc874d3b",
   "metadata": {},
   "outputs": [
    {
     "name": "stdout",
     "output_type": "stream",
     "text": [
      "Dipak\n"
     ]
    }
   ],
   "source": [
    "print(person.get_name())  "
   ]
  },
  {
   "cell_type": "code",
   "execution_count": 41,
   "id": "00c368bf-4ef4-4746-89dc-146932cc0c89",
   "metadata": {},
   "outputs": [
    {
     "name": "stdout",
     "output_type": "stream",
     "text": [
      "23\n"
     ]
    }
   ],
   "source": [
    "print(person.get_age())"
   ]
  },
  {
   "cell_type": "code",
   "execution_count": 42,
   "id": "edade6da-5900-4611-b8c1-728e7b56f555",
   "metadata": {},
   "outputs": [],
   "source": [
    "person.set_age(20)"
   ]
  },
  {
   "cell_type": "code",
   "execution_count": 43,
   "id": "674c98b6-e223-4878-a87b-71c5e18b65f9",
   "metadata": {},
   "outputs": [
    {
     "name": "stdout",
     "output_type": "stream",
     "text": [
      "20\n"
     ]
    }
   ],
   "source": [
    "print(person.get_age())"
   ]
  },
  {
   "cell_type": "code",
   "execution_count": 44,
   "id": "2f27e9c8-fde4-4d68-a6f2-773f37228c59",
   "metadata": {},
   "outputs": [],
   "source": [
    "# Q3. What is abc module in python? Why is it used?"
   ]
  },
  {
   "cell_type": "code",
   "execution_count": 45,
   "id": "86bf7387-87e1-432d-a3be-edee24611b14",
   "metadata": {},
   "outputs": [],
   "source": [
    "# Ans: \n",
    "#     The abc module in Python stands for \"Abstract Base Classes.\" It provides infrastructure for creating abstract base classes (ABCs) in Python. ABCs are classes that define a common interface or blueprint for derived classes. The abc module is used to define and work with abstract base classes.\n",
    "    \n",
    "#     Usage: 1.The abc module provides the ABC class for defining abstract base classes.\n",
    "#            2.Abstract base classes use the @abstractmethod decorator to define methods without implementation.\n",
    "#            3.Abstract base classes enforce subclass implementation by requiring derived classes to implement specific methods.\n",
    "#            4.The isinstance() and issubclass() functions from the abc module check object and class relationships with abstract base classes.\n",
    "#            5.Abstract base classes enable polymorphism by allowing objects to be treated uniformly based on the methods defined in the abstract base class."
   ]
  },
  {
   "cell_type": "code",
   "execution_count": 46,
   "id": "bff82689-bfcb-44ff-b738-6cd7832ef7d3",
   "metadata": {},
   "outputs": [],
   "source": [
    "# Q4. How can we achieve data abstraction?"
   ]
  },
  {
   "cell_type": "code",
   "execution_count": 48,
   "id": "f5d02cc9-4dab-4ee0-83e7-da2ca3dd976f",
   "metadata": {},
   "outputs": [],
   "source": [
    "# Encapsulation: Encapsulation involves bundling data and methods together within a class. By encapsulating data, we can hide the internal representation of the data and provide controlled access to it through methods. This ensures that the data is not directly accessible from outside the class, promoting data abstraction.\n",
    "              "
   ]
  },
  {
   "cell_type": "code",
   "execution_count": null,
   "id": "6e9f1757-7923-4c57-ad9e-632f2618bc21",
   "metadata": {},
   "outputs": [],
   "source": []
  }
 ],
 "metadata": {
  "kernelspec": {
   "display_name": "Python 3 (ipykernel)",
   "language": "python",
   "name": "python3"
  },
  "language_info": {
   "codemirror_mode": {
    "name": "ipython",
    "version": 3
   },
   "file_extension": ".py",
   "mimetype": "text/x-python",
   "name": "python",
   "nbconvert_exporter": "python",
   "pygments_lexer": "ipython3",
   "version": "3.10.8"
  }
 },
 "nbformat": 4,
 "nbformat_minor": 5
}
