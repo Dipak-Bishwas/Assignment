{
 "cells": [
  {
   "cell_type": "code",
   "execution_count": 1,
   "id": "16693915-fdaf-49d9-9c7d-d888e1e1f380",
   "metadata": {},
   "outputs": [],
   "source": [
    "# Q1. What is an ensemble technique in machine learning?"
   ]
  },
  {
   "cell_type": "code",
   "execution_count": 2,
   "id": "72b82247-8edd-42fa-8288-cae241c792e0",
   "metadata": {},
   "outputs": [],
   "source": [
    "# An ensemble technique in machine learning combines multiple models to improve prediction accuracy and robustness.\n",
    "# By aggregating the outputs of different models, ensemble methods reduce errors and enhance overall performance. \n",
    "# Common ensemble methods include bagging, boosting, and stacking."
   ]
  },
  {
   "cell_type": "code",
   "execution_count": 3,
   "id": "7daaa6ff-70fc-4627-bd34-5bd10b552d61",
   "metadata": {},
   "outputs": [],
   "source": [
    "# Q2. Why are ensemble techniques used in machine learning?"
   ]
  },
  {
   "cell_type": "code",
   "execution_count": 4,
   "id": "87e03345-508d-40e8-8ea2-85e24b60b3d0",
   "metadata": {},
   "outputs": [],
   "source": [
    "# Ensemble techniques are used in machine learning because they improve model accuracy, reduce overfitting, and enhance\n",
    "# robustness. By combining multiple models, ensemble methods leverage the strengths of individual models, leading to better\n",
    "# generalization and more reliable predictions."
   ]
  },
  {
   "cell_type": "code",
   "execution_count": 5,
   "id": "e7ba95a3-b0bb-42dd-92a3-fc8e4af6f1f9",
   "metadata": {},
   "outputs": [],
   "source": [
    "# Q3. What is bagging?"
   ]
  },
  {
   "cell_type": "code",
   "execution_count": 6,
   "id": "bf63e91a-1a93-4efa-8e59-af0ec84a6584",
   "metadata": {},
   "outputs": [],
   "source": [
    "# Bagging is an ensemble technique in machine learning that trains multiple models on different random subsets of the\n",
    "# data and combines their predictions to improve accuracy and reduce overfitting."
   ]
  },
  {
   "cell_type": "code",
   "execution_count": 7,
   "id": "feb52650-ac7f-4c9e-9483-bcff9fcaf092",
   "metadata": {},
   "outputs": [],
   "source": [
    "# Q4. What is boosting?"
   ]
  },
  {
   "cell_type": "code",
   "execution_count": 8,
   "id": "628d1058-f23b-4c36-b00a-7b62cc347203",
   "metadata": {},
   "outputs": [],
   "source": [
    "# Boosting is an ensemble technique in machine learning that sequentially trains models, each focusing on correcting \n",
    "# the errors of the previous ones. The final prediction is a weighted combination of all models, leading to improved \n",
    "# accuracy and reduced bias."
   ]
  },
  {
   "cell_type": "code",
   "execution_count": 9,
   "id": "d2c52a9e-0529-4ebd-8b02-0c4813b36d26",
   "metadata": {},
   "outputs": [],
   "source": [
    "# Q5. What are the benefits of using ensemble techniques?"
   ]
  },
  {
   "cell_type": "code",
   "execution_count": 10,
   "id": "c6d19ae2-dff1-4285-9534-15190f533bee",
   "metadata": {},
   "outputs": [],
   "source": [
    "# Improved Accuracy: Combining multiple models often leads to better predictive performance than individual models.\n",
    "# Reduced Overfitting: Ensemble methods help to generalize better by averaging out errors from individual models.\n",
    "# Increased Robustness: They make predictions more stable and reliable, even in the presence of noise or outliers.\n",
    "# Bias-Variance Trade-off: Ensemble techniques can balance bias and variance, leading to more effective models."
   ]
  },
  {
   "cell_type": "code",
   "execution_count": 11,
   "id": "499bcb4f-fa2b-411e-b608-9d601a76e1ed",
   "metadata": {},
   "outputs": [],
   "source": [
    "# Q6. Are ensemble techniques always better than individual models?"
   ]
  },
  {
   "cell_type": "code",
   "execution_count": 12,
   "id": "2c3e8bf8-985a-47a5-b5f7-b17bfad0bc0d",
   "metadata": {},
   "outputs": [],
   "source": [
    "# No, ensemble techniques are not always better than individual models. While they often improve performance, they can\n",
    "# add complexity, require more computational resources, and may not provide significant benefits if the individual models\n",
    "# are already highly accurate or if the dataset is small. Additionally, ensembles can sometimes reduce interpretability."
   ]
  },
  {
   "cell_type": "code",
   "execution_count": 13,
   "id": "2c8e3d30-8e6b-4c05-a8c6-5d893a4be08c",
   "metadata": {},
   "outputs": [],
   "source": [
    "# Q7. How is the confidence interval calculated using bootstrap?"
   ]
  },
  {
   "cell_type": "code",
   "execution_count": 14,
   "id": "14043c39-c574-4712-be14-651fe4e5db84",
   "metadata": {},
   "outputs": [],
   "source": [
    "# Resampling: Randomly resample your data with replacement to create multiple (typically 1,000 or more) bootstrap samples.\n",
    "\n",
    "# Statistic Calculation: For each bootstrap sample, calculate the statistic of interest (e.g., mean, median).\n",
    "\n",
    "# Distribution Creation: Form a distribution of the calculated statistics from all bootstrap samples.\n",
    "\n",
    "# Confidence Interval: Determine the confidence interval by finding the appropriate percentiles from the distribution.\n",
    "# For a 95% confidence interval, for example, use the 2.5th and 97.5th percentiles of the bootstrap distribution."
   ]
  },
  {
   "cell_type": "code",
   "execution_count": 15,
   "id": "2db56adc-80d3-418b-9e44-ae31c697404a",
   "metadata": {},
   "outputs": [],
   "source": [
    "# Q8. How does bootstrap work and What are the steps involved in bootstrap?"
   ]
  },
  {
   "cell_type": "code",
   "execution_count": null,
   "id": "01264f9c-ac09-47c1-bdbe-e1c38ceed3d2",
   "metadata": {},
   "outputs": [],
   "source": [
    "Resampling: Randomly resample your data with replacement to create multiple (typically 1,000 or more) bootstrap samples.\n",
    "\n",
    "Statistic Calculation: For each bootstrap sample, calculate the statistic of interest (e.g., mean, median).\n",
    "\n",
    "Distribution Creation: Form a distribution of the calculated statistics from all bootstrap samples.\n",
    "\n",
    "Confidence Interval: Determine the confidence interval by finding the appropriate percentiles from the distribution. \n",
    "For a 95% confidence interval, for example, use the 2.5th and 97.5th percentiles of the bootstrap distribution."
   ]
  }
 ],
 "metadata": {
  "kernelspec": {
   "display_name": "Python 3 (ipykernel)",
   "language": "python",
   "name": "python3"
  },
  "language_info": {
   "codemirror_mode": {
    "name": "ipython",
    "version": 3
   },
   "file_extension": ".py",
   "mimetype": "text/x-python",
   "name": "python",
   "nbconvert_exporter": "python",
   "pygments_lexer": "ipython3",
   "version": "3.10.8"
  }
 },
 "nbformat": 4,
 "nbformat_minor": 5
}
