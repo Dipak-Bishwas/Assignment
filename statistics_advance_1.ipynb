{
 "cells": [
  {
   "cell_type": "code",
   "execution_count": 1,
   "id": "c946bcac-f7a4-4f9b-aa9b-2d09643357e8",
   "metadata": {},
   "outputs": [],
   "source": [
    "# Q1. What is the Probability density function?"
   ]
  },
  {
   "cell_type": "code",
   "execution_count": 2,
   "id": "70c83124-9028-435f-8968-194807676bf7",
   "metadata": {},
   "outputs": [],
   "source": [
    "# The Probability Density Function (PDF) describes the likelihood of a continuous random variable taking on a range of values.\n",
    "# It shows how probabilities are distributed across possible values, with the area under the curve representing the\n",
    "# probability of the variable falling within a specific range. For example, in a normal distribution of adult men's heights,\n",
    "# the PDF would indicate that average heights are more likely than extremely short or tall ones."
   ]
  },
  {
   "cell_type": "code",
   "execution_count": 3,
   "id": "34eaec67-7933-4277-8576-3e2e5c50e1f8",
   "metadata": {},
   "outputs": [],
   "source": [
    "# Q2. What are the types of Probability distribution?"
   ]
  },
  {
   "cell_type": "code",
   "execution_count": 4,
   "id": "b7c4a88a-f712-487d-b55e-feacf9dc0540",
   "metadata": {},
   "outputs": [],
   "source": [
    "# Discrete distributions deal with countable outcomes (e.g., number of heads in coin tosses).\n",
    "\n",
    "# Continuous distributions deal with uncountable outcomes (e.g., time, height, temperature).\n",
    "\n",
    "# Each type has specific distributions that model different kinds of random variables"
   ]
  },
  {
   "cell_type": "code",
   "execution_count": 5,
   "id": "dfffe8e5-4ce5-46e0-8fd8-344fc23320e9",
   "metadata": {},
   "outputs": [],
   "source": [
    "# Q3. Write a Python function to calculate the probability density function of a normal distribution with\n",
    "# given mean and standard deviation at a given point."
   ]
  },
  {
   "cell_type": "code",
   "execution_count": 6,
   "id": "87e99d5c-8f1f-4909-8f28-81f23de23c23",
   "metadata": {},
   "outputs": [],
   "source": [
    "import math"
   ]
  },
  {
   "cell_type": "code",
   "execution_count": 7,
   "id": "a541b5a5-0654-4ca5-971c-bc2ced901bf2",
   "metadata": {},
   "outputs": [],
   "source": [
    "def normal_pdf(x, mean, std_dev):\n",
    "        exponent = math.exp(-((x - mean) ** 2) / (2 * std_dev ** 2))\n",
    "        coefficient = 1 / (math.sqrt(2 * math.pi) * std_dev)\n",
    "        return coefficient * exponent"
   ]
  },
  {
   "cell_type": "code",
   "execution_count": 9,
   "id": "70d8f80c-1e20-4118-aa3b-7cc45645d1ad",
   "metadata": {},
   "outputs": [
    {
     "data": {
      "text/plain": [
       "0.24197072451914337"
      ]
     },
     "execution_count": 9,
     "metadata": {},
     "output_type": "execute_result"
    }
   ],
   "source": [
    "normal_pdf(1, 0, 1)"
   ]
  },
  {
   "cell_type": "code",
   "execution_count": 10,
   "id": "915dedd7-3b5e-46da-ae1e-d7c988f9766d",
   "metadata": {},
   "outputs": [],
   "source": [
    "# Q4. What are the properties of Binomial distribution? Give two examples of events where binomial\n",
    "# distribution can be applied."
   ]
  },
  {
   "cell_type": "code",
   "execution_count": 11,
   "id": "4be1a416-92ed-4bc4-9ba8-f792e5aa0e71",
   "metadata": {},
   "outputs": [],
   "source": [
    "# The Binomial distribution describes the probability of achieving a specific number of successes in a fixed number of\n",
    "# independent trials, each with the same probability of success.\n",
    "\n",
    "# Key Properties:\n",
    "#     Fixed number of trials.\n",
    "#     Two possible outcomes (success or failure).\n",
    "#     Constant probability of success.\n",
    "#     Trials are independent.\n",
    "    \n",
    "# Examples:\n",
    "#     Flipping a Coin: If you flip a coin 10 times and want to know the probability of getting exactly 6 heads, this scenario \n",
    "#     can be modeled using a binomial distribution.\n",
    "\n",
    "# Quality Control: \n",
    "#     If a factory tests 20 light bulbs and wants to know the probability of finding exactly 2 defective bulbs, this can also\n",
    "#     be modeled using a binomial distribution"
   ]
  },
  {
   "cell_type": "code",
   "execution_count": 12,
   "id": "298e49cc-347f-4824-bc45-67a6509ce219",
   "metadata": {},
   "outputs": [],
   "source": [
    "# Q5. Generate a random sample of size 1000 from a binomial distribution with probability of success 0.4\n",
    "# and plot a histogram of the results using matplotlib."
   ]
  },
  {
   "cell_type": "code",
   "execution_count": 13,
   "id": "964bbbc3-810f-4ac5-8f88-2ee50ca40d14",
   "metadata": {},
   "outputs": [],
   "source": [
    "import numpy as np\n",
    "import matplotlib.pyplot as plt"
   ]
  },
  {
   "cell_type": "code",
   "execution_count": 14,
   "id": "e2f7e7cd-8476-4dfd-965f-aa2e5f7bb2e8",
   "metadata": {},
   "outputs": [],
   "source": [
    "n = 10  \n",
    "p = 0.4"
   ]
  },
  {
   "cell_type": "code",
   "execution_count": 15,
   "id": "0b42614b-10e5-40d8-bb65-a41b2069238c",
   "metadata": {},
   "outputs": [],
   "source": [
    "sample = np.random.binomial(n, p, size=1000)"
   ]
  },
  {
   "cell_type": "code",
   "execution_count": 16,
   "id": "d5261f2a-11f2-4f99-a771-687d825a9567",
   "metadata": {},
   "outputs": [
    {
     "data": {
      "image/png": "[encoded data removed]",
      "text/plain": [
       "<Figure size 640x480 with 1 Axes>"
      ]
     },
     "metadata": {},
     "output_type": "display_data"
    }
   ],
   "source": [
    "plt.hist(sample, bins=range(n+2), align='left', rwidth=0.8)\n",
    "plt.xlabel('Number of Successes')\n",
    "plt.ylabel('Frequency')\n",
    "plt.title('Histogram of Binomial Sample')\n",
    "plt.show()"
   ]
  },
  {
   "cell_type": "code",
   "execution_count": 17,
   "id": "4a9f247c-fef5-4d45-b30e-4c45dc539633",
   "metadata": {},
   "outputs": [],
   "source": [
    "# Q6. Write a Python function to calculate the cumulative distribution function of a Poisson distribution\n",
    "# with given mean at a given point."
   ]
  },
  {
   "cell_type": "code",
   "execution_count": 18,
   "id": "f4ff125a-3dab-4b42-aab1-b9fa1594a711",
   "metadata": {},
   "outputs": [],
   "source": [
    "def poisson_cdf(k, lam):\n",
    "    cdf = 0\n",
    "    for i in range(k + 1):\n",
    "        cdf += (math.exp(-lam) * (lam ** i)) / math.factorial(i)\n",
    "    return cdf"
   ]
  },
  {
   "cell_type": "code",
   "execution_count": 21,
   "id": "80f38d64-1406-4481-99c0-79bc0879e07d",
   "metadata": {},
   "outputs": [
    {
     "data": {
      "text/plain": [
       "0.2650259152973617"
      ]
     },
     "execution_count": 21,
     "metadata": {},
     "output_type": "execute_result"
    }
   ],
   "source": [
    "poisson_cdf(3, 5)"
   ]
  },
  {
   "cell_type": "code",
   "execution_count": 22,
   "id": "adfbe744-0dd9-4582-af12-fc7e2c0050af",
   "metadata": {},
   "outputs": [],
   "source": [
    "# Q7. How Binomial distribution different from Poisson distribution?"
   ]
  },
  {
   "cell_type": "code",
   "execution_count": 23,
   "id": "11aad27a-2d87-49ea-8790-e77a7c1ce73d",
   "metadata": {},
   "outputs": [],
   "source": [
    "# Binomial:\n",
    "#     Fixed number of trials (n)\n",
    "#     Constant probability of success (p)\n",
    "#     Models number of successes in n trials\n",
    "#     Bounded between 0 and n\n",
    "    \n",
    "# Poisson:\n",
    "#     No fixed number of trials\n",
    "#     Constant average rate of events (λ)\n",
    "#     Models number of events in a fixed interval\n",
    "#     Unbounded (0 to infinity)"
   ]
  },
  {
   "cell_type": "code",
   "execution_count": 24,
   "id": "c5ab5f26-1b3b-4914-994b-b64349eb061d",
   "metadata": {},
   "outputs": [],
   "source": [
    "# Q8. Generate a random sample of size 1000 from a Poisson distribution with mean 5 and calculate the\n",
    "# sample mean and variance."
   ]
  },
  {
   "cell_type": "code",
   "execution_count": 25,
   "id": "7880fd16-2d9b-492d-a9fb-5ce2ee0f2283",
   "metadata": {},
   "outputs": [],
   "source": [
    "import numpy as np"
   ]
  },
  {
   "cell_type": "code",
   "execution_count": 26,
   "id": "78819f73-0e1a-46f2-9c02-06e3b8d6d9af",
   "metadata": {},
   "outputs": [],
   "source": [
    "lambda_val = 5"
   ]
  },
  {
   "cell_type": "code",
   "execution_count": 27,
   "id": "7afdbce8-141f-4966-b3af-eb75cf959d8d",
   "metadata": {},
   "outputs": [],
   "source": [
    "sample = np.random.poisson(lam=lambda_val, size=1000)"
   ]
  },
  {
   "cell_type": "code",
   "execution_count": 28,
   "id": "d03900e5-bf28-4bb3-8f0f-e02532a4e9b2",
   "metadata": {},
   "outputs": [],
   "source": [
    "sample_mean = np.mean(sample)"
   ]
  },
  {
   "cell_type": "code",
   "execution_count": 29,
   "id": "1f9c8afe-b9fa-4419-a053-7e1e23d8bb56",
   "metadata": {},
   "outputs": [],
   "source": [
    "sample_variance = np.var(sample)"
   ]
  },
  {
   "cell_type": "code",
   "execution_count": 30,
   "id": "05305934-0fd3-4e8d-a1a2-6a79e4c1e783",
   "metadata": {},
   "outputs": [
    {
     "data": {
      "text/plain": [
       "5.016375"
      ]
     },
     "execution_count": 30,
     "metadata": {},
     "output_type": "execute_result"
    }
   ],
   "source": [
    "sample_variance"
   ]
  },
  {
   "cell_type": "code",
   "execution_count": 31,
   "id": "47a27d76-6339-4cb4-85e3-eeb42865805a",
   "metadata": {},
   "outputs": [
    {
     "data": {
      "text/plain": [
       "5.025"
      ]
     },
     "execution_count": 31,
     "metadata": {},
     "output_type": "execute_result"
    }
   ],
   "source": [
    "sample_mean"
   ]
  },
  {
   "cell_type": "code",
   "execution_count": 32,
   "id": "627dabca-9e8a-46fd-ab29-fc40ee4c000a",
   "metadata": {},
   "outputs": [],
   "source": [
    "# Q9. How mean and variance are related in Binomial distribution and Poisson distribution?"
   ]
  },
  {
   "cell_type": "code",
   "execution_count": 33,
   "id": "a38b3dfd-adcc-4aa4-b599-4b3aa11f0977",
   "metadata": {},
   "outputs": [],
   "source": [
    "# inomial Distribution\n",
    "#     Mean: μ = np\n",
    "#     Variance: σ² = np(1 - p)\n",
    "#     Relationship: Variance depends on both the number of trials (n) and the probability of success (p).\n",
    "    \n",
    "# Poisson Distribution\n",
    "#     Mean: μ = λ\n",
    "#     Variance: σ² = λ\n",
    "#     Relationship: Mean and variance are equal, both determined by the rate parameter (λ).\n",
    "    \n",
    "# Connection\n",
    "#     The Poisson distribution approximates the Binomial distribution when:\n",
    "#     The number of trials (n) is large.\n",
    "#     The probability of success (p) is small.\n",
    "#     np (the mean) remains constant."
   ]
  },
  {
   "cell_type": "code",
   "execution_count": 34,
   "id": "96487cb8-850a-41b2-885e-e5bb7c9a1365",
   "metadata": {},
   "outputs": [],
   "source": [
    "# Q10. In normal distribution with respect to mean position, where does the least frequent data appear?"
   ]
  },
  {
   "cell_type": "code",
   "execution_count": 35,
   "id": "b11c5ffe-2231-4aab-b088-0ee84d988a18",
   "metadata": {},
   "outputs": [],
   "source": [
    "# n a normal distribution, the least frequent data appears at the extremes or tails of the distribution, farthest away \n",
    "# from the mean.\n",
    "\n",
    "# To be more specific, the least frequent data points are located at the outer edges of the distribution, typically more\n",
    "# than 2-3 standard deviations away from the mean. These areas are often referred to as the \"tails\" of the normal distribution.\n",
    "\n",
    "# In contrast, the most frequent data points are clustered around the mean, with the majority of the data falling within\n",
    "# 1-2 standard deviations of the mean."
   ]
  },
  {
   "cell_type": "code",
   "execution_count": null,
   "id": "d1f40297-5d66-408b-a36c-01f5a12dfaba",
   "metadata": {},
   "outputs": [],
   "source": []
  }
 ],
 "metadata": {
  "kernelspec": {
   "display_name": "Python 3 (ipykernel)",
   "language": "python",
   "name": "python3"
  },
  "language_info": {
   "codemirror_mode": {
    "name": "ipython",
    "version": 3
   },
   "file_extension": ".py",
   "mimetype": "text/x-python",
   "name": "python",
   "nbconvert_exporter": "python",
   "pygments_lexer": "ipython3",
   "version": "3.10.8"
  }
 },
 "nbformat": 4,
 "nbformat_minor": 5
}
