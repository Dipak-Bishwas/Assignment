{
 "cells": [
  {
   "cell_type": "code",
   "execution_count": 1,
   "id": "ff8235c6-c9fb-442d-81b7-672c40cbcbbe",
   "metadata": {},
   "outputs": [],
   "source": [
    "# Q1. Explain Class and Object with respect to Object-Oriented Programming. Give a suitable example."
   ]
  },
  {
   "cell_type": "code",
   "execution_count": 2,
   "id": "ea851e76-7e9e-4f63-b0de-cc166482764d",
   "metadata": {},
   "outputs": [],
   "source": [
    "# Ans: A class is a blueprint or template that defines the structure and behavior of objects. It encapsulates data and functions related to a specific entity or concept. It serves as a blueprint for creating instances of objects, which are the actual entities that exist in memory based on the class definition.\n",
    "\n",
    "    \n",
    "#     An object is an instance of a class. It represents a specific occurrence or realization of the class. Objects have their own unique identity and can have different values for their attributes, even though they share the same structure and behavior defined by the class."
   ]
  },
  {
   "cell_type": "code",
   "execution_count": 3,
   "id": "c57f468b-f6ff-48ca-ab35-1e17f5fcfae6",
   "metadata": {},
   "outputs": [],
   "source": [
    "# Example"
   ]
  },
  {
   "cell_type": "code",
   "execution_count": 14,
   "id": "d663ca5b-b88a-464d-ad18-9d567ee42422",
   "metadata": {},
   "outputs": [],
   "source": [
    "class mango:\n",
    "    name = \"Kesar\"\n",
    "    colour = \"yellow or orange\"\n",
    "    "
   ]
  },
  {
   "cell_type": "code",
   "execution_count": 15,
   "id": "2aefc441-32fc-4f37-9aa9-765702d2c52a",
   "metadata": {},
   "outputs": [],
   "source": [
    "dipak = mango()"
   ]
  },
  {
   "cell_type": "code",
   "execution_count": 16,
   "id": "a15b51bb-fa60-4ca0-9ecc-31e5f5d04e82",
   "metadata": {},
   "outputs": [
    {
     "data": {
      "text/plain": [
       "'Kesar'"
      ]
     },
     "execution_count": 16,
     "metadata": {},
     "output_type": "execute_result"
    }
   ],
   "source": [
    "dipak.name"
   ]
  },
  {
   "cell_type": "code",
   "execution_count": 17,
   "id": "65022e7c-0c67-4f14-b70c-b2eede03e30c",
   "metadata": {},
   "outputs": [
    {
     "data": {
      "text/plain": [
       "'yellow or orange'"
      ]
     },
     "execution_count": 17,
     "metadata": {},
     "output_type": "execute_result"
    }
   ],
   "source": [
    "dipak.colour"
   ]
  },
  {
   "cell_type": "code",
   "execution_count": 18,
   "id": "83660340-02a1-4a50-bbbe-08a89ae894d0",
   "metadata": {},
   "outputs": [],
   "source": [
    "# Q2. Name the four pillars of OOPs."
   ]
  },
  {
   "cell_type": "code",
   "execution_count": 19,
   "id": "e0f0a429-c54c-41b4-81c9-8e9cdb1251c0",
   "metadata": {},
   "outputs": [],
   "source": [
    "# Ans: 1.Encapsulation\n",
    "#      2.Inheritance\n",
    "#      3.Polymorphism\n",
    "#      4.Abstraction"
   ]
  },
  {
   "cell_type": "code",
   "execution_count": null,
   "id": "e0df3530-5bb3-4839-a610-ef0d89ec1c8d",
   "metadata": {},
   "outputs": [],
   "source": [
    "# Q3. Explain why the __init__() function is used. Give a suitable example."
   ]
  },
  {
   "cell_type": "code",
   "execution_count": null,
   "id": "244fe1c3-ffff-4a62-a6e7-18666dce4517",
   "metadata": {},
   "outputs": [],
   "source": [
    "# Ans: The __init__() function is a special method in Python classes that is automatically called when an object is created. Its purpose is to initialize the object's attributes and perform any necessary setup tasks. By providing initial values and performing initialization operations in the __init__() function, we ensure that the object is in a valid and consistent state when it is created, making it ready for use."
   ]
  },
  {
   "cell_type": "code",
   "execution_count": null,
   "id": "b83bcc73-848e-4c4a-9eaa-6f312eb0b9c0",
   "metadata": {},
   "outputs": [],
   "source": [
    "# Example"
   ]
  },
  {
   "cell_type": "code",
   "execution_count": 20,
   "id": "b07cc4b1-86fe-44ab-bcaa-bf540c6d23e7",
   "metadata": {},
   "outputs": [],
   "source": [
    "class car:\n",
    "    def __init__(self , name , model , colour):\n",
    "        self.name = name\n",
    "        self.model = model\n",
    "        self.colour = colour\n",
    "        \n",
    "    def return_car_detail(self):\n",
    "        return self.name , self.model , self.colour"
   ]
  },
  {
   "cell_type": "code",
   "execution_count": 21,
   "id": "d7381d50-2c50-4b81-97d4-7a6657a24f81",
   "metadata": {},
   "outputs": [],
   "source": [
    "dipak = car(\"Rolls-Royce\" , \"2022 Rolls-Royce\" \"Ghost\" , \"Black\" ) "
   ]
  },
  {
   "cell_type": "code",
   "execution_count": 23,
   "id": "4baccf45-801f-4c65-97f7-e467473b49f9",
   "metadata": {},
   "outputs": [
    {
     "data": {
      "text/plain": [
       "('Rolls-Royce', '2022 Rolls-RoyceGhost', 'Black')"
      ]
     },
     "execution_count": 23,
     "metadata": {},
     "output_type": "execute_result"
    }
   ],
   "source": [
    "dipak.return_car_detail()"
   ]
  },
  {
   "cell_type": "code",
   "execution_count": 24,
   "id": "6bd0bbcd-ab6b-4a50-ad2c-d0bec9b00ce5",
   "metadata": {},
   "outputs": [],
   "source": [
    "# Q4. Why self is used in OOPs?"
   ]
  },
  {
   "cell_type": "code",
   "execution_count": 25,
   "id": "59907e77-025e-4cfc-b4fa-ca5677767fe4",
   "metadata": {},
   "outputs": [],
   "source": [
    "# Ans:  self is used as a parameter in instance methods to refer to the instance itself. It allows access to the instance's attributes and methods. By convention, the first parameter in instance methods is named self. This parameter helps differentiate between instance variables and local variables. It enables manipulation of the instance's state and facilitates the calling of other methods within the class."
   ]
  },
  {
   "cell_type": "code",
   "execution_count": 26,
   "id": "d7627b8a-d88a-439e-a488-2b4761837050",
   "metadata": {},
   "outputs": [],
   "source": [
    "# Q5. What is inheritance? Give an example for each type of inheritance."
   ]
  },
  {
   "cell_type": "code",
   "execution_count": 1,
   "id": "cbcf7e89-1c87-4229-8ba3-bc18a2caab9a",
   "metadata": {},
   "outputs": [],
   "source": [
    "# Ans:\n",
    "#     It's allows a class to inherit properties and behaviors from another class. It establishes a parent-child relationship between classes, where the child class (subclass) inherits characteristics from the parent class (superclass)."
   ]
  },
  {
   "cell_type": "code",
   "execution_count": 2,
   "id": "3345ee58-baa0-48ca-ac6b-810370b392b4",
   "metadata": {},
   "outputs": [],
   "source": [
    "# 1.Single Inheritance"
   ]
  },
  {
   "cell_type": "code",
   "execution_count": 32,
   "id": "e0060bb2-8c5e-4457-a8ee-0e0ec2a4408e",
   "metadata": {},
   "outputs": [],
   "source": [
    "class fruit:\n",
    "    def apple(self):\n",
    "        return \"good for heart\"\n",
    "        "
   ]
  },
  {
   "cell_type": "code",
   "execution_count": 33,
   "id": "2a9eed98-26b5-4308-9bb7-3a329477ec48",
   "metadata": {},
   "outputs": [],
   "source": [
    "class mango(Apple):\n",
    "    pass"
   ]
  },
  {
   "cell_type": "code",
   "execution_count": 34,
   "id": "906fbdf4-59f6-4462-beb7-e554ad7905fb",
   "metadata": {},
   "outputs": [],
   "source": [
    "dipak = mango()"
   ]
  },
  {
   "cell_type": "code",
   "execution_count": 35,
   "id": "aa5cb72a-a532-4136-8fa9-a5da441e1114",
   "metadata": {},
   "outputs": [
    {
     "data": {
      "text/plain": [
       "'colour is red'"
      ]
     },
     "execution_count": 35,
     "metadata": {},
     "output_type": "execute_result"
    }
   ],
   "source": [
    "dipak.colour()"
   ]
  },
  {
   "cell_type": "code",
   "execution_count": 36,
   "id": "4650c3f2-016d-4225-b8b8-800c2979b581",
   "metadata": {},
   "outputs": [],
   "source": [
    "# 1.Multilevel Inheritance"
   ]
  },
  {
   "cell_type": "code",
   "execution_count": 37,
   "id": "7e88ac15-3dd2-46cd-9b40-15f270bb93fd",
   "metadata": {},
   "outputs": [],
   "source": [
    "class fruit1:\n",
    "    def mango(self):\n",
    "        return \"good for eye\""
   ]
  },
  {
   "cell_type": "code",
   "execution_count": 38,
   "id": "0945046f-7433-4177-ac85-35d2e6083015",
   "metadata": {},
   "outputs": [],
   "source": [
    "class fruit2(fruit1):\n",
    "    def apple(self):\n",
    "        return \"good for heart\""
   ]
  },
  {
   "cell_type": "code",
   "execution_count": 40,
   "id": "a4e172d0-8e7e-4301-b5e9-7942725558c8",
   "metadata": {},
   "outputs": [],
   "source": [
    "class fruit3(fruit2):\n",
    "    def pineapple(self):\n",
    "        return \"good for immunity\""
   ]
  },
  {
   "cell_type": "code",
   "execution_count": 41,
   "id": "cc1da9cd-9c41-439d-a57d-f26f5117157f",
   "metadata": {},
   "outputs": [],
   "source": [
    "dipak = fruit3()"
   ]
  },
  {
   "cell_type": "code",
   "execution_count": 42,
   "id": "3c7990ea-0cf1-4e71-9447-6b0bbd50d228",
   "metadata": {},
   "outputs": [
    {
     "data": {
      "text/plain": [
       "'good for immunity'"
      ]
     },
     "execution_count": 42,
     "metadata": {},
     "output_type": "execute_result"
    }
   ],
   "source": [
    "dipak.pineapple()"
   ]
  },
  {
   "cell_type": "code",
   "execution_count": 43,
   "id": "fa4a9654-afb4-46e2-87d8-0377c8394254",
   "metadata": {},
   "outputs": [
    {
     "data": {
      "text/plain": [
       "'good for heart'"
      ]
     },
     "execution_count": 43,
     "metadata": {},
     "output_type": "execute_result"
    }
   ],
   "source": [
    "dipak.apple()"
   ]
  },
  {
   "cell_type": "code",
   "execution_count": 44,
   "id": "f655a5ba-b635-4b32-af99-594450a48090",
   "metadata": {},
   "outputs": [
    {
     "data": {
      "text/plain": [
       "'good for eye'"
      ]
     },
     "execution_count": 44,
     "metadata": {},
     "output_type": "execute_result"
    }
   ],
   "source": [
    "dipak.mango()"
   ]
  },
  {
   "cell_type": "code",
   "execution_count": 45,
   "id": "f94d9b2b-8d5b-4db5-a6cb-315b228d2757",
   "metadata": {},
   "outputs": [],
   "source": [
    "# 3.Multiple Inheritance"
   ]
  },
  {
   "cell_type": "code",
   "execution_count": 46,
   "id": "f180d380-b006-4b59-8889-bbd891d50cc0",
   "metadata": {},
   "outputs": [],
   "source": [
    "class fruit1:\n",
    "    def mango(self):\n",
    "        return \"good for eye\""
   ]
  },
  {
   "cell_type": "code",
   "execution_count": 47,
   "id": "e327cc96-7bcd-4964-996e-8dbf73b5ecda",
   "metadata": {},
   "outputs": [],
   "source": [
    "class fruit2:\n",
    "    def apple(self):\n",
    "        return \"good for heart\""
   ]
  },
  {
   "cell_type": "code",
   "execution_count": 48,
   "id": "c620cd92-f72d-4ebd-9965-642649e8b295",
   "metadata": {},
   "outputs": [],
   "source": [
    "class fruit3(fruit1,fruit2):\n",
    "    def pineapple(self):\n",
    "        return \"good for immunity\""
   ]
  },
  {
   "cell_type": "code",
   "execution_count": 49,
   "id": "c40c9255-5ab3-416c-88f1-58667269325a",
   "metadata": {},
   "outputs": [],
   "source": [
    "dipak = fruit3()"
   ]
  },
  {
   "cell_type": "code",
   "execution_count": 50,
   "id": "aff3bf6b-79b5-4cc2-8a3c-9a48b2bf9e51",
   "metadata": {},
   "outputs": [
    {
     "data": {
      "text/plain": [
       "'good for eye'"
      ]
     },
     "execution_count": 50,
     "metadata": {},
     "output_type": "execute_result"
    }
   ],
   "source": [
    "dipak.mango()"
   ]
  },
  {
   "cell_type": "code",
   "execution_count": 52,
   "id": "171e635c-5788-4586-9494-222180848b54",
   "metadata": {},
   "outputs": [
    {
     "data": {
      "text/plain": [
       "'good for heart'"
      ]
     },
     "execution_count": 52,
     "metadata": {},
     "output_type": "execute_result"
    }
   ],
   "source": [
    "dipak.apple()"
   ]
  },
  {
   "cell_type": "code",
   "execution_count": null,
   "id": "74cf1130-9683-4346-b580-bafc4b530150",
   "metadata": {},
   "outputs": [],
   "source": []
  }
 ],
 "metadata": {
  "kernelspec": {
   "display_name": "Python 3 (ipykernel)",
   "language": "python",
   "name": "python3"
  },
  "language_info": {
   "codemirror_mode": {
    "name": "ipython",
    "version": 3
   },
   "file_extension": ".py",
   "mimetype": "text/x-python",
   "name": "python",
   "nbconvert_exporter": "python",
   "pygments_lexer": "ipython3",
   "version": "3.10.8"
  }
 },
 "nbformat": 4,
 "nbformat_minor": 5
}
