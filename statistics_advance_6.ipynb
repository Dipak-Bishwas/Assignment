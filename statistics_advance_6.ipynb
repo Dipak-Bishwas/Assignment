{
 "cells": [
  {
   "cell_type": "code",
   "execution_count": 61,
   "id": "b8889121-61d2-4a5e-97df-2ef45c9504e2",
   "metadata": {},
   "outputs": [],
   "source": [
    "# Q1. Explain the assumptions required to use ANOVA and provide examples of violations that could impact\n",
    "# the validity of the results."
   ]
  },
  {
   "cell_type": "code",
   "execution_count": 62,
   "id": "6fb78663-afdc-4e57-89a6-581d8c4fdb04",
   "metadata": {},
   "outputs": [],
   "source": [
    "# Independence of Observations: Data points must be independent. Violation example: Using repeated measures on the same\n",
    "# subjects.\n",
    "\n",
    "# Normality: Data within each group should be normally distributed. Violation example: Skewed data or outliers.\n",
    "\n",
    "# Homogeneity of Variances: Variances among groups should be equal. Violation example: One group has much larger \n",
    "# variance than others.\n",
    "\n",
    "# Violations can lead to incorrect conclusions, such as false positives or reduced statistical power."
   ]
  },
  {
   "cell_type": "code",
   "execution_count": 63,
   "id": "8da06ece-211c-461b-a614-b30b000837d5",
   "metadata": {},
   "outputs": [],
   "source": [
    "# Q2. What are the three types of ANOVA, and in what situations would each be used?"
   ]
  },
  {
   "cell_type": "code",
   "execution_count": 64,
   "id": "476a260e-d13b-4e04-8b1e-8760bf1cc9f5",
   "metadata": {},
   "outputs": [],
   "source": [
    "# One-Way ANOVA:\n",
    "#     Use: When comparing the means of three or more independent groups based on one factor or independent variable.\n",
    "#     Situation: Testing the effectiveness of different diets (Diet A, Diet B, Diet C) on weight loss.\\\n",
    "    \n",
    "# Two-Way ANOVA:\n",
    "#     Use: When comparing the means of groups based on two factors, and it can also assess the interaction between these factors.\n",
    "#     Situation: Studying the effect of different teaching methods (Method A, Method B) and different study times \n",
    "#     (1 hour, 2 hours) on student performance.\n",
    "    \n",
    "# Repeated Measures ANOVA:\n",
    "#     Use: When comparing means across multiple measurements taken from the same subjects under different conditions or at different times.\n",
    "#     Situation: Evaluating the impact of a training program on the same group's performance over several time points (e.g., before, during, and after training)."
   ]
  },
  {
   "cell_type": "code",
   "execution_count": 65,
   "id": "7714eb99-81d5-44d3-a6f9-45aa70ace16f",
   "metadata": {},
   "outputs": [],
   "source": [
    "# Q3. What is the partitioning of variance in ANOVA, and why is it important to understand this concept?"
   ]
  },
  {
   "cell_type": "code",
   "execution_count": 66,
   "id": "1dbf3c3c-1b41-4b7e-aca2-80ded04e4e16",
   "metadata": {},
   "outputs": [],
   "source": [
    "# The partitioning of variance is a fundamental concept in Analysis of Variance (ANOVA). It involves dividing the total\n",
    "# variance in the response variable into:\n",
    "\n",
    "# Between-group variance (SSB): Variance between different groups or levels of the factor(s)\n",
    "# Within-group variance (SSW): Variance within each group or level of the factor(s)\n",
    "# Error variance (SSE): Variance that cannot be explained by the factor(s)\n",
    "\n",
    "# Understanding the partitioning of variance is crucial in ANOVA because it helps determine the significance of the \n",
    "# factor(s) and estimate the effect size."
   ]
  },
  {
   "cell_type": "code",
   "execution_count": 67,
   "id": "2e638861-3452-4ad4-9641-b9fb92780263",
   "metadata": {},
   "outputs": [],
   "source": [
    "# Q4. How would you calculate the total sum of squares (SST), explained sum of squares (SSE), and residual\n",
    "# sum of squares (SSR) in a one-way ANOVA using Python?"
   ]
  },
  {
   "cell_type": "code",
   "execution_count": 68,
   "id": "6b299e66-5fa9-4b60-b448-e3a986c742b8",
   "metadata": {},
   "outputs": [],
   "source": [
    "import numpy as np"
   ]
  },
  {
   "cell_type": "code",
   "execution_count": 69,
   "id": "50881926-dccb-4d5a-9f0c-22865d92ec85",
   "metadata": {},
   "outputs": [],
   "source": [
    "def calculate_anova(y, groups):\n",
    "    unique_groups = np.unique(groups)\n",
    "    group_means = np.array([np.mean(y[groups == i]) for i in unique_groups])\n",
    "    overall_mean = np.mean(y)\n",
    "    SST = np.sum((y - overall_mean) ** 2)\n",
    "    SSE = np.sum([(y[groups == i] - group_means[j]) ** 2 for j, i in enumerate(unique_groups)]).sum()\n",
    "    SSR = SST - SSE\n",
    "    return SST, SSE, SSR\n"
   ]
  },
  {
   "cell_type": "code",
   "execution_count": 70,
   "id": "9c8a6c29-6558-4d62-8a71-9999aa4c45b5",
   "metadata": {},
   "outputs": [],
   "source": [
    "y = np.array([23, 21, 19, 24, 20, 22, 18, 25, 19, 21, 20, 23])\n",
    "groups = np.array([1, 1, 1, 1, 2, 2, 2, 2, 3, 3, 3, 3])"
   ]
  },
  {
   "cell_type": "code",
   "execution_count": 71,
   "id": "8ce08750-3527-404e-bfb4-ca3d07eb4dae",
   "metadata": {},
   "outputs": [],
   "source": [
    "SST, SSE, SSR = calculate_anova(y, groups)"
   ]
  },
  {
   "cell_type": "code",
   "execution_count": 72,
   "id": "0fea39f6-6918-4762-98a1-41fb4ae00d9f",
   "metadata": {},
   "outputs": [
    {
     "data": {
      "text/plain": [
       "(52.25, 50.25, 2.0)"
      ]
     },
     "execution_count": 72,
     "metadata": {},
     "output_type": "execute_result"
    }
   ],
   "source": [
    "SST, SSE, SSR"
   ]
  },
  {
   "cell_type": "code",
   "execution_count": 73,
   "id": "8cd5e288-286e-44b4-b9bf-33c80407bdac",
   "metadata": {},
   "outputs": [],
   "source": [
    "# Q5. In a two-way ANOVA, how would you calculate the main effects and interaction effects using Python?"
   ]
  },
  {
   "cell_type": "code",
   "execution_count": 74,
   "id": "39ed66f6-ecc3-4e18-a241-bf6830cd7a26",
   "metadata": {},
   "outputs": [],
   "source": [
    "from statsmodels.formula.api import ols\n",
    "from statsmodels.stats.anova import anova_lm"
   ]
  },
  {
   "cell_type": "code",
   "execution_count": 75,
   "id": "1507b041-6c91-4769-bb93-dfb3694fd718",
   "metadata": {},
   "outputs": [],
   "source": [
    "np.random.seed(0)\n",
    "A = np.repeat(['A1', 'A2'], 10)\n",
    "B = np.tile(['B1', 'B2'], 10)\n",
    "y = np.random.normal(0, 1, 20)"
   ]
  },
  {
   "cell_type": "code",
   "execution_count": 76,
   "id": "e98ad4d2-cc67-4cc5-82c1-a1c9b49efb0b",
   "metadata": {},
   "outputs": [],
   "source": [
    "import pandas as pd\n",
    "df = pd.DataFrame({'y': y, 'A': A, 'B': B})"
   ]
  },
  {
   "cell_type": "code",
   "execution_count": 77,
   "id": "5d94aacb-36ba-4300-a620-7a9736498040",
   "metadata": {},
   "outputs": [],
   "source": [
    "model = ols('y ~ C(A) + C(B) + C(A):C(B)', data=df).fit()"
   ]
  },
  {
   "cell_type": "code",
   "execution_count": 78,
   "id": "1a71560f-35ae-4889-8f8c-c7d2a07b3241",
   "metadata": {},
   "outputs": [],
   "source": [
    "anova_table = anova_lm(model, typ=2)"
   ]
  },
  {
   "cell_type": "code",
   "execution_count": 79,
   "id": "49cdeb40-66fe-47a0-be8f-9ad12c929e31",
   "metadata": {},
   "outputs": [
    {
     "data": {
      "text/html": [
       "<div>\n",
       "<style scoped>\n",
       "    .dataframe tbody tr th:only-of-type {\n",
       "        vertical-align: middle;\n",
       "    }\n",
       "\n",
       "    .dataframe tbody tr th {\n",
       "        vertical-align: top;\n",
       "    }\n",
       "\n",
       "    .dataframe thead th {\n",
       "        text-align: right;\n",
       "    }\n",
       "</style>\n",
       "<table border=\"1\" class=\"dataframe\">\n",
       "  <thead>\n",
       "    <tr style=\"text-align: right;\">\n",
       "      <th></th>\n",
       "      <th>sum_sq</th>\n",
       "      <th>df</th>\n",
       "      <th>F</th>\n",
       "      <th>PR(&gt;F)</th>\n",
       "    </tr>\n",
       "  </thead>\n",
       "  <tbody>\n",
       "    <tr>\n",
       "      <th>C(A)</th>\n",
       "      <td>0.569117</td>\n",
       "      <td>1.0</td>\n",
       "      <td>0.752153</td>\n",
       "      <td>0.398616</td>\n",
       "    </tr>\n",
       "    <tr>\n",
       "      <th>C(B)</th>\n",
       "      <td>1.705237</td>\n",
       "      <td>1.0</td>\n",
       "      <td>2.253666</td>\n",
       "      <td>0.152774</td>\n",
       "    </tr>\n",
       "    <tr>\n",
       "      <th>C(A):C(B)</th>\n",
       "      <td>0.075458</td>\n",
       "      <td>1.0</td>\n",
       "      <td>0.099727</td>\n",
       "      <td>0.756240</td>\n",
       "    </tr>\n",
       "    <tr>\n",
       "      <th>Residual</th>\n",
       "      <td>12.106404</td>\n",
       "      <td>16.0</td>\n",
       "      <td>NaN</td>\n",
       "      <td>NaN</td>\n",
       "    </tr>\n",
       "  </tbody>\n",
       "</table>\n",
       "</div>"
      ],
      "text/plain": [
       "              sum_sq    df         F    PR(>F)\n",
       "C(A)        0.569117   1.0  0.752153  0.398616\n",
       "C(B)        1.705237   1.0  2.253666  0.152774\n",
       "C(A):C(B)   0.075458   1.0  0.099727  0.756240\n",
       "Residual   12.106404  16.0       NaN       NaN"
      ]
     },
     "execution_count": 79,
     "metadata": {},
     "output_type": "execute_result"
    }
   ],
   "source": [
    "anova_table"
   ]
  },
  {
   "cell_type": "code",
   "execution_count": 80,
   "id": "3a364849-6d49-4553-9658-812e221af6c2",
   "metadata": {},
   "outputs": [],
   "source": [
    "# Q6. Suppose you conducted a one-way ANOVA and obtained an F-statistic of 5.23 and a p-value of 0.02.\n",
    "# What can you conclude about the differences between the groups, and how would you interpret these\n",
    "# results?"
   ]
  },
  {
   "cell_type": "code",
   "execution_count": 81,
   "id": "a24c5e75-dff7-402c-8b13-35839f844184",
   "metadata": {},
   "outputs": [],
   "source": [
    "# With an F-statistic of 5.23 and a p-value of 0.02, you can conclude that there are statistically significant differences\n",
    "# between the group means. Since the p-value is less than 0.05, it suggests that at least one group mean is different from \n",
    "# the others. Post-hoc tests would be needed to identify which specific groups differ."
   ]
  },
  {
   "cell_type": "code",
   "execution_count": 82,
   "id": "5180cd01-0f51-4dc1-9ba5-9a7aba3f0c58",
   "metadata": {},
   "outputs": [],
   "source": [
    "# Q7. In a repeated measures ANOVA, how would you handle missing data, and what are the potential\n",
    "# consequences of using different methods to handle missing data?"
   ]
  },
  {
   "cell_type": "code",
   "execution_count": 83,
   "id": "5161d598-1489-40f1-af81-4746020bfcb3",
   "metadata": {},
   "outputs": [],
   "source": [
    "# Listwise Deletion: Exclude subjects with missing data, but this reduces sample size and may bias results.\n",
    "# Pairwise Deletion: Use all available data, risking inconsistent sample sizes.\n",
    "# Mean Imputation: Replace missing values with the mean, but it underestimates variability.\n",
    "# LOCF: Carry forward the last observation, which may introduce bias if patterns change.\n",
    "# Multiple Imputation: Impute missing values using statistical models, providing more accurate estimates but is complex.\n",
    "# Mixed-Effects Models: Handle missing data within the model, offering unbiased estimates if modeled correctly."
   ]
  },
  {
   "cell_type": "code",
   "execution_count": 84,
   "id": "16a5b9c5-8540-4cd3-aa09-74b3acdd9a8e",
   "metadata": {},
   "outputs": [],
   "source": [
    "# Q8. What are some common post-hoc tests used after ANOVA, and when would you use each one? Provide\n",
    "# an example of a situation where a post-hoc test might be necessary."
   ]
  },
  {
   "cell_type": "code",
   "execution_count": 85,
   "id": "102dfaab-4c5a-40d7-9ba4-549ef59209c1",
   "metadata": {},
   "outputs": [],
   "source": [
    "# Tukey's HSD: Compares all pairs of means, controlling for Type I error. Use: To compare multiple treatments, like different \n",
    "# medications.\n",
    "\n",
    "# Bonferroni Correction: Adjusts significance levels for multiple comparisons. Use: When comparing several pairs of means.\n",
    "\n",
    "# Scheffé Test: Handles complex comparisons and group combinations. Use: When comparing various combinations of treatments.\n",
    "\n",
    "# Dunnett's Test: Compares multiple groups to a single control. Use: To test different drug dosages against a placebo.\n",
    "\n",
    "# Example: After a significant ANOVA result comparing teaching methods, Tukey's HSD can identify which specific methods \n",
    "# differ in their effectiveness."
   ]
  },
  {
   "cell_type": "code",
   "execution_count": 86,
   "id": "e0ee7e0a-dbcc-40eb-8e45-5702a02203d7",
   "metadata": {},
   "outputs": [],
   "source": [
    "# Q9. A researcher wants to compare the mean weight loss of three diets: A, B, and C. They collect data from\n",
    "# 50 participants who were randomly assigned to one of the diets. Conduct a one-way ANOVA using Python\n",
    "# to determine if there are any significant differences between the mean weight loss of the three diets.\n",
    "# Report the F-statistic and p-value, and interpret the results."
   ]
  },
  {
   "cell_type": "code",
   "execution_count": 87,
   "id": "85a13527-4517-4349-9a76-248da008ef8a",
   "metadata": {},
   "outputs": [],
   "source": [
    "from scipy.stats import f_oneway"
   ]
  },
  {
   "cell_type": "code",
   "execution_count": 88,
   "id": "350c559d-a1b4-4144-8f1a-57164a7bf591",
   "metadata": {},
   "outputs": [],
   "source": [
    "diet_A = np.random.normal(loc=5, scale=1, size=17) \n",
    "diet_B = np.random.normal(loc=4.5, scale=1, size=17)  \n",
    "diet_C = np.random.normal(loc=4, scale=1, size=16)"
   ]
  },
  {
   "cell_type": "code",
   "execution_count": 89,
   "id": "0b530d00-9c4a-41de-b198-e08af8eec50c",
   "metadata": {},
   "outputs": [],
   "source": [
    "f_stat, p_value = f_oneway(diet_A, diet_B, diet_C)"
   ]
  },
  {
   "cell_type": "code",
   "execution_count": 90,
   "id": "b38ad891-ca9e-4e9b-ba1a-a4c8552c7e38",
   "metadata": {},
   "outputs": [
    {
     "data": {
      "text/plain": [
       "(8.192248308455516, 0.0008865394976159794)"
      ]
     },
     "execution_count": 90,
     "metadata": {},
     "output_type": "execute_result"
    }
   ],
   "source": [
    "f_stat, p_value"
   ]
  },
  {
   "cell_type": "code",
   "execution_count": 91,
   "id": "8bf76ec6-76fa-42df-b4a1-930c03341627",
   "metadata": {},
   "outputs": [
    {
     "name": "stdout",
     "output_type": "stream",
     "text": [
      "There are significant differences between the mean weight loss of the diets.\n"
     ]
    }
   ],
   "source": [
    "if p_value < 0.05:\n",
    "    print(\"There are significant differences between the mean weight loss of the diets.\")\n",
    "else:\n",
    "    print(\"There are no significant differences between the mean weight loss of the diets.\")"
   ]
  },
  {
   "cell_type": "code",
   "execution_count": 92,
   "id": "5553e023-32b8-4e97-8702-2d4bf7891534",
   "metadata": {},
   "outputs": [],
   "source": [
    "# Q10. A company wants to know if there are any significant differences in the average time it takes to\n",
    "# complete a task using three different software programs: Program A, Program B, and Program C. They\n",
    "# randomly assign 30 employees to one of the programs and record the time it takes each employee to\n",
    "# complete the task. Conduct a two-way ANOVA using Python to determine if there are any main effects or\n",
    "# interaction effects between the software programs and employee experience level (novice vs.\n",
    "# experienced). Report the F-statistics and p-values, and interpret the results."
   ]
  },
  {
   "cell_type": "code",
   "execution_count": 93,
   "id": "724f6ada-80e0-4f20-b118-c5e8266c4b1c",
   "metadata": {},
   "outputs": [],
   "source": [
    "import numpy as np\n",
    "import pandas as pd\n",
    "from statsmodels.formula.api import ols\n",
    "from statsmodels.stats.anova import anova_lm\n",
    "from scipy import stats"
   ]
  },
  {
   "cell_type": "code",
   "execution_count": 94,
   "id": "2a610d62-ddf2-40c5-a93b-b5da8aaa6710",
   "metadata": {},
   "outputs": [],
   "source": [
    "np.random.seed(0)\n",
    "program_A_novice = np.random.normal(60, 10, 10) \n",
    "program_A_experienced = np.random.normal(40, 10, 10)  \n",
    "program_B_novice = np.random.normal(70, 10, 10) \n",
    "program_B_experienced = np.random.normal(50, 10, 10)  \n",
    "program_C_novice = np.random.normal(80, 10, 10)  \n",
    "program_C_experienced = np.random.normal(60, 10, 10)  "
   ]
  },
  {
   "cell_type": "code",
   "execution_count": 95,
   "id": "0d374a82-6287-4212-8c59-7a0a04252cb9",
   "metadata": {},
   "outputs": [],
   "source": [
    "df = pd.DataFrame({\n",
    "    'time': np.concatenate([program_A_novice, program_A_experienced, program_B_novice, program_B_experienced, program_C_novice, program_C_experienced]),\n",
    "    'program': np.repeat(['A', 'A', 'B', 'B', 'C', 'C'], 10),\n",
    "    'experience': np.tile(['novice', 'experienced'], 30)\n",
    "})"
   ]
  },
  {
   "cell_type": "code",
   "execution_count": 96,
   "id": "9f1f69dd-04ae-41e2-8161-89aae7c302a0",
   "metadata": {},
   "outputs": [],
   "source": [
    "model = ols('time ~ C(program) + C(experience) + C(program):C(experience)', data=df).fit()\n",
    "anova_table = anova_lm(model, typ=2)\n"
   ]
  },
  {
   "cell_type": "code",
   "execution_count": 97,
   "id": "f93103f0-5d9a-4fce-b81b-d27dc9c087ae",
   "metadata": {},
   "outputs": [
    {
     "data": {
      "text/html": [
       "<div>\n",
       "<style scoped>\n",
       "    .dataframe tbody tr th:only-of-type {\n",
       "        vertical-align: middle;\n",
       "    }\n",
       "\n",
       "    .dataframe tbody tr th {\n",
       "        vertical-align: top;\n",
       "    }\n",
       "\n",
       "    .dataframe thead th {\n",
       "        text-align: right;\n",
       "    }\n",
       "</style>\n",
       "<table border=\"1\" class=\"dataframe\">\n",
       "  <thead>\n",
       "    <tr style=\"text-align: right;\">\n",
       "      <th></th>\n",
       "      <th>sum_sq</th>\n",
       "      <th>df</th>\n",
       "      <th>F</th>\n",
       "      <th>PR(&gt;F)</th>\n",
       "    </tr>\n",
       "  </thead>\n",
       "  <tbody>\n",
       "    <tr>\n",
       "      <th>C(program)</th>\n",
       "      <td>1073.743353</td>\n",
       "      <td>2.0</td>\n",
       "      <td>2.445944</td>\n",
       "      <td>0.096191</td>\n",
       "    </tr>\n",
       "    <tr>\n",
       "      <th>C(experience)</th>\n",
       "      <td>0.069109</td>\n",
       "      <td>1.0</td>\n",
       "      <td>0.000315</td>\n",
       "      <td>0.985908</td>\n",
       "    </tr>\n",
       "    <tr>\n",
       "      <th>C(program):C(experience)</th>\n",
       "      <td>557.571310</td>\n",
       "      <td>2.0</td>\n",
       "      <td>1.270125</td>\n",
       "      <td>0.289050</td>\n",
       "    </tr>\n",
       "    <tr>\n",
       "      <th>Residual</th>\n",
       "      <td>11852.712779</td>\n",
       "      <td>54.0</td>\n",
       "      <td>NaN</td>\n",
       "      <td>NaN</td>\n",
       "    </tr>\n",
       "  </tbody>\n",
       "</table>\n",
       "</div>"
      ],
      "text/plain": [
       "                                sum_sq    df         F    PR(>F)\n",
       "C(program)                 1073.743353   2.0  2.445944  0.096191\n",
       "C(experience)                 0.069109   1.0  0.000315  0.985908\n",
       "C(program):C(experience)    557.571310   2.0  1.270125  0.289050\n",
       "Residual                  11852.712779  54.0       NaN       NaN"
      ]
     },
     "execution_count": 97,
     "metadata": {},
     "output_type": "execute_result"
    }
   ],
   "source": [
    "anova_table"
   ]
  },
  {
   "cell_type": "code",
   "execution_count": 98,
   "id": "024517c4-8a06-4bca-8e01-ffe78f3bebcc",
   "metadata": {},
   "outputs": [],
   "source": [
    "# Q11. An educational researcher is interested in whether a new teaching method improves student test\n",
    "# scores. They randomly assign 100 students to either the control group (traditional teaching method) or the\n",
    "# experimental group (new teaching method) and administer a test at the end of the semester. Conduct a\n",
    "# two-sample t-test using Python to determine if there are any significant differences in test scores\n",
    "# between the two groups. If the results are significant, follow up with a post-hoc test to determine which\n",
    "# group(s) differ significantly from each other."
   ]
  },
  {
   "cell_type": "code",
   "execution_count": 99,
   "id": "300fe774-4e03-41a2-9dc9-115d686f6c36",
   "metadata": {},
   "outputs": [],
   "source": [
    "np.random.seed(0)\n",
    "control_group = np.random.normal(70, 10, 50) \n",
    "experimental_group = np.random.normal(80, 10, 50)"
   ]
  },
  {
   "cell_type": "code",
   "execution_count": 100,
   "id": "20f28416-47e2-43ae-b735-2d6e56971dcb",
   "metadata": {},
   "outputs": [],
   "source": [
    "t_stat, p_val = stats.ttest_ind(control_group, experimental_group)"
   ]
  },
  {
   "cell_type": "code",
   "execution_count": 101,
   "id": "f002515b-f468-455e-8b25-4eb9d2391175",
   "metadata": {},
   "outputs": [
    {
     "data": {
      "text/plain": [
       "(-4.131173276068804, 7.60404836914434e-05)"
      ]
     },
     "execution_count": 101,
     "metadata": {},
     "output_type": "execute_result"
    }
   ],
   "source": [
    "t_stat, p_val"
   ]
  },
  {
   "cell_type": "code",
   "execution_count": 102,
   "id": "2d7e9bdb-c66c-492d-a57c-d4ab487043be",
   "metadata": {},
   "outputs": [],
   "source": [
    "# Q12. A researcher wants to know if there are any significant differences in the average daily sales of three\n",
    "# retail stores: Store A, Store B, and Store C. They randomly select 30 days and record the sales for each store\n",
    "# on those days. Conduct a repeated measures ANOVA using Python to determine if there are any\n",
    "\n",
    "# significant differences in sales between the three stores. If the results are significant, follow up with a post-\n",
    "# hoc test to determine which store(s) differ significantly from each other."
   ]
  },
  {
   "cell_type": "code",
   "execution_count": 103,
   "id": "ffbd7fc1-64c1-4e31-a3a7-cbee6b28034c",
   "metadata": {},
   "outputs": [],
   "source": [
    "from statsmodels.formula.api import ols\n",
    "from statsmodels.stats.anova import anova_lm\n",
    "from statsmodels.stats.multicomp import pairwise_tukeyhsd"
   ]
  },
  {
   "cell_type": "code",
   "execution_count": 110,
   "id": "523c9c51-c497-4772-9cb1-ed9d7ec6b00e",
   "metadata": {},
   "outputs": [],
   "source": [
    "np.random.seed(0)\n",
    "store_A = np.random.normal(1000, 100, 30)  \n",
    "store_B = np.random.normal(1200, 100, 30)  \n",
    "store_C = np.random.normal(1100, 100, 30) "
   ]
  },
  {
   "cell_type": "code",
   "execution_count": 111,
   "id": "651f1527-3d39-4016-8aa2-9f0ac4fadbb1",
   "metadata": {},
   "outputs": [],
   "source": [
    "df = pd.DataFrame({\n",
    "    'store': np.repeat(['A', 'B', 'C'], 30),\n",
    "    'sales': np.concatenate([store_A, store_B, store_C])\n",
    "})"
   ]
  },
  {
   "cell_type": "code",
   "execution_count": 112,
   "id": "e1a2353e-e0ce-4577-8e94-6e52b21d588f",
   "metadata": {},
   "outputs": [],
   "source": [
    "model = ols('sales ~ C(store)', data=df).fit()\n",
    "anova_table = anova_lm(model, typ=2)\n"
   ]
  },
  {
   "cell_type": "code",
   "execution_count": 113,
   "id": "33007ed7-a227-4b13-89c7-d49ab1f5e1ae",
   "metadata": {},
   "outputs": [
    {
     "data": {
      "text/html": [
       "<div>\n",
       "<style scoped>\n",
       "    .dataframe tbody tr th:only-of-type {\n",
       "        vertical-align: middle;\n",
       "    }\n",
       "\n",
       "    .dataframe tbody tr th {\n",
       "        vertical-align: top;\n",
       "    }\n",
       "\n",
       "    .dataframe thead th {\n",
       "        text-align: right;\n",
       "    }\n",
       "</style>\n",
       "<table border=\"1\" class=\"dataframe\">\n",
       "  <thead>\n",
       "    <tr style=\"text-align: right;\">\n",
       "      <th></th>\n",
       "      <th>sum_sq</th>\n",
       "      <th>df</th>\n",
       "      <th>F</th>\n",
       "      <th>PR(&gt;F)</th>\n",
       "    </tr>\n",
       "  </thead>\n",
       "  <tbody>\n",
       "    <tr>\n",
       "      <th>C(store)</th>\n",
       "      <td>249882.361419</td>\n",
       "      <td>2.0</td>\n",
       "      <td>12.586992</td>\n",
       "      <td>0.000016</td>\n",
       "    </tr>\n",
       "    <tr>\n",
       "      <th>Residual</th>\n",
       "      <td>863580.661905</td>\n",
       "      <td>87.0</td>\n",
       "      <td>NaN</td>\n",
       "      <td>NaN</td>\n",
       "    </tr>\n",
       "  </tbody>\n",
       "</table>\n",
       "</div>"
      ],
      "text/plain": [
       "                 sum_sq    df          F    PR(>F)\n",
       "C(store)  249882.361419   2.0  12.586992  0.000016\n",
       "Residual  863580.661905  87.0        NaN       NaN"
      ]
     },
     "execution_count": 113,
     "metadata": {},
     "output_type": "execute_result"
    }
   ],
   "source": [
    "anova_table"
   ]
  },
  {
   "cell_type": "code",
   "execution_count": 114,
   "id": "7fa83ad3-394b-4386-bf66-4ef2a6f3bc83",
   "metadata": {},
   "outputs": [],
   "source": [
    "tukey = pairwise_tukeyhsd(endog=df['sales'], groups=df['store'], alpha=0.05)\n"
   ]
  },
  {
   "cell_type": "code",
   "execution_count": 115,
   "id": "da0bc92f-5ef9-4677-aa21-51a56889c3d1",
   "metadata": {},
   "outputs": [
    {
     "data": {
      "text/plain": [
       "<statsmodels.sandbox.stats.multicomp.TukeyHSDResults at 0x790616810f70>"
      ]
     },
     "execution_count": 115,
     "metadata": {},
     "output_type": "execute_result"
    }
   ],
   "source": [
    "tukey"
   ]
  },
  {
   "cell_type": "code",
   "execution_count": null,
   "id": "3baf035e-85fe-4fa3-9f13-a23f0fcce4f4",
   "metadata": {},
   "outputs": [],
   "source": []
  },
  {
   "cell_type": "code",
   "execution_count": null,
   "id": "b9356175-a22b-4bd8-9d2d-78ab396f8453",
   "metadata": {},
   "outputs": [],
   "source": []
  },
  {
   "cell_type": "code",
   "execution_count": null,
   "id": "866671cb-ab17-455b-b719-2ca0d86698e6",
   "metadata": {},
   "outputs": [],
   "source": []
  },
  {
   "cell_type": "code",
   "execution_count": null,
   "id": "76565d18-3881-4483-8941-e06c97feb806",
   "metadata": {},
   "outputs": [],
   "source": []
  }
 ],
 "metadata": {
  "kernelspec": {
   "display_name": "Python 3 (ipykernel)",
   "language": "python",
   "name": "python3"
  },
  "language_info": {
   "codemirror_mode": {
    "name": "ipython",
    "version": 3
   },
   "file_extension": ".py",
   "mimetype": "text/x-python",
   "name": "python",
   "nbconvert_exporter": "python",
   "pygments_lexer": "ipython3",
   "version": "3.10.8"
  }
 },
 "nbformat": 4,
 "nbformat_minor": 5
}
