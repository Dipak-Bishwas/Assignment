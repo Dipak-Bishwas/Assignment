{
 "cells": [
  {
   "cell_type": "code",
   "execution_count": 1,
   "id": "d59c0763-b8f4-423a-9e09-6f142cc1bbd1",
   "metadata": {},
   "outputs": [],
   "source": [
    "# Consider the below code to answer further questions:\n",
    "# import numpy as np\n",
    "# list_ = [ ‘1’ , ’2’ , ‘3’ , ‘4’ , ‘5’ ]\n",
    "# array_list = np.array(object = list_)\n",
    "# Q1. Is there any difference in the data type of variables list_ and array_list? If there is then write a code\n",
    "# to print the data types of both the variables."
   ]
  },
  {
   "cell_type": "code",
   "execution_count": 2,
   "id": "9525c748-95e1-469e-9317-56eec0837c5f",
   "metadata": {},
   "outputs": [],
   "source": [
    "# Ans:Yes, there is a difference in the data type of the variables list_ and array_list. The list_ variable is a Python list,\n",
    "# while array_list is a NumPy array.\n",
    "\n",
    "# type(list_) will return <class 'list'> indicating that list_ is a Python list.\n",
    "# type(array_list) will return <class 'numpy.ndarray'> indicating that array_list is a NumPy array.\n",
    "\n"
   ]
  },
  {
   "cell_type": "code",
   "execution_count": 6,
   "id": "45e12aca-6f18-48eb-9ae5-fb7ac2912147",
   "metadata": {},
   "outputs": [],
   "source": [
    "import numpy as np"
   ]
  },
  {
   "cell_type": "code",
   "execution_count": 7,
   "id": "65d8839e-d302-4681-991d-586e5eb93a8e",
   "metadata": {},
   "outputs": [],
   "source": [
    "l = ['1', '2', '3', '4', '5']"
   ]
  },
  {
   "cell_type": "code",
   "execution_count": 9,
   "id": "cba86193-0b55-4c0c-b59c-ac912b5adf24",
   "metadata": {},
   "outputs": [],
   "source": [
    "arr_list = np.array(l)"
   ]
  },
  {
   "cell_type": "code",
   "execution_count": 11,
   "id": "085ed6fd-ba2b-44d8-88fc-1a0b5ed53f22",
   "metadata": {},
   "outputs": [
    {
     "data": {
      "text/plain": [
       "list"
      ]
     },
     "execution_count": 11,
     "metadata": {},
     "output_type": "execute_result"
    }
   ],
   "source": [
    "type(l)"
   ]
  },
  {
   "cell_type": "code",
   "execution_count": 12,
   "id": "699dee23-0145-4788-a9ba-1e9fb20fda9a",
   "metadata": {},
   "outputs": [
    {
     "data": {
      "text/plain": [
       "numpy.ndarray"
      ]
     },
     "execution_count": 12,
     "metadata": {},
     "output_type": "execute_result"
    }
   ],
   "source": [
    "type(arr_list)"
   ]
  },
  {
   "cell_type": "code",
   "execution_count": 13,
   "id": "99968cdf-e1de-4a88-83e5-62b8c89bfd6c",
   "metadata": {},
   "outputs": [],
   "source": [
    "# Q2. Write a code to print the data type of each and every element of both the variables list_ and\n",
    "# arra_list."
   ]
  },
  {
   "cell_type": "code",
   "execution_count": 14,
   "id": "41a7a2a1-203d-4dd7-a29d-a580af501971",
   "metadata": {},
   "outputs": [
    {
     "name": "stdout",
     "output_type": "stream",
     "text": [
      "<class 'str'>\n",
      "<class 'str'>\n",
      "<class 'str'>\n",
      "<class 'str'>\n",
      "<class 'str'>\n"
     ]
    }
   ],
   "source": [
    "for i in l:\n",
    "    print(type(i))"
   ]
  },
  {
   "cell_type": "code",
   "execution_count": 15,
   "id": "f4e703f4-67f9-4baa-8ee5-4fd3122ec2a4",
   "metadata": {},
   "outputs": [
    {
     "name": "stdout",
     "output_type": "stream",
     "text": [
      "<class 'numpy.str_'>\n",
      "<class 'numpy.str_'>\n",
      "<class 'numpy.str_'>\n",
      "<class 'numpy.str_'>\n",
      "<class 'numpy.str_'>\n"
     ]
    }
   ],
   "source": [
    "for i in arr_list:\n",
    "    print(type(i))"
   ]
  },
  {
   "cell_type": "code",
   "execution_count": 16,
   "id": "b1b7b416-3049-467f-8a25-223e96919996",
   "metadata": {},
   "outputs": [],
   "source": [
    "# Q3. Considering the following changes in the variable, array_list:\n",
    "# array_list = np.array(object = list_, dtype = int)\n",
    "# Will there be any difference in the data type of the elements present in both the variables, list_ and\n",
    "# arra_list? If so then print the data types of each and every element present in both the variables, list_\n",
    "# and arra_list.\n",
    "# Consider the below code to answer further questions:\n",
    "# import numpy as np\n",
    "# num_list = [ [ 1 , 2 , 3 ] , [ 4 , 5 , 6 ] ]\n",
    "# num_array = np.array(object = num_list)"
   ]
  },
  {
   "cell_type": "code",
   "execution_count": 17,
   "id": "8d16c5cf-c0f7-4e29-97ca-20d48d2c66ae",
   "metadata": {},
   "outputs": [],
   "source": [
    "# Ans: Yes, there will be a difference in the data type of the elements present in both list_ and array_list after converting\n",
    "# array_list with dtype=int. The elements in list_ will remain as strings, while the elements in array_list will be converted \n",
    "# to integers."
   ]
  },
  {
   "cell_type": "code",
   "execution_count": 18,
   "id": "f12b40dd-67b5-4620-9769-95313f2cd89b",
   "metadata": {},
   "outputs": [],
   "source": [
    "arr_list1 = np.array(object=l,dtype=int)"
   ]
  },
  {
   "cell_type": "code",
   "execution_count": 20,
   "id": "489a573c-719b-42fa-9eff-7eb0405ac2c5",
   "metadata": {},
   "outputs": [
    {
     "name": "stdout",
     "output_type": "stream",
     "text": [
      "<class 'str'>\n",
      "<class 'str'>\n",
      "<class 'str'>\n",
      "<class 'str'>\n",
      "<class 'str'>\n"
     ]
    }
   ],
   "source": [
    "for i in l:\n",
    "    print(type(i))"
   ]
  },
  {
   "cell_type": "code",
   "execution_count": 21,
   "id": "699e4c3b-8ca4-4c6d-9dd8-b25a24fe86d7",
   "metadata": {},
   "outputs": [
    {
     "name": "stdout",
     "output_type": "stream",
     "text": [
      "<class 'numpy.int64'>\n",
      "<class 'numpy.int64'>\n",
      "<class 'numpy.int64'>\n",
      "<class 'numpy.int64'>\n",
      "<class 'numpy.int64'>\n"
     ]
    }
   ],
   "source": [
    "for i in arr_list1:\n",
    "    print(type(i))"
   ]
  },
  {
   "cell_type": "code",
   "execution_count": 22,
   "id": "db83e2b3-264c-4427-b9c8-4fa688942883",
   "metadata": {},
   "outputs": [],
   "source": [
    "# Q5. Write a code to create numpy array of 3*3 matrix containing zeros only, using a numpy array\n",
    "# creation function.\n",
    "# [Hint: The size of the array will be 9 and the shape will be (3,3).]"
   ]
  },
  {
   "cell_type": "code",
   "execution_count": 23,
   "id": "5a5e025d-05a7-42c2-9e9b-a33fcc61fd9e",
   "metadata": {},
   "outputs": [],
   "source": [
    "zeros_matrix = np.zeros((3, 3))"
   ]
  },
  {
   "cell_type": "code",
   "execution_count": 24,
   "id": "50cb0bf2-90fb-4ab5-a60d-aa9c18202d89",
   "metadata": {},
   "outputs": [
    {
     "data": {
      "text/plain": [
       "array([[0., 0., 0.],\n",
       "       [0., 0., 0.],\n",
       "       [0., 0., 0.]])"
      ]
     },
     "execution_count": 24,
     "metadata": {},
     "output_type": "execute_result"
    }
   ],
   "source": [
    "zeros_matrix"
   ]
  },
  {
   "cell_type": "code",
   "execution_count": 25,
   "id": "81231cb3-5191-48db-a36a-1f23c4158ab1",
   "metadata": {},
   "outputs": [],
   "source": [
    "# Q6. Create an identity matrix of shape (5,5) using numpy functions?\n",
    "# [Hint: An identity matrix is a matrix containing 1 diagonally and other elements will be 0.]"
   ]
  },
  {
   "cell_type": "code",
   "execution_count": 26,
   "id": "fd010bc9-99c1-4e74-83ed-4d77a5b086cc",
   "metadata": {},
   "outputs": [],
   "source": [
    "identity_matrix = np.eye(5)"
   ]
  },
  {
   "cell_type": "code",
   "execution_count": 27,
   "id": "a8006716-8320-42e9-bac6-870565e47360",
   "metadata": {},
   "outputs": [
    {
     "data": {
      "text/plain": [
       "array([[1., 0., 0., 0., 0.],\n",
       "       [0., 1., 0., 0., 0.],\n",
       "       [0., 0., 1., 0., 0.],\n",
       "       [0., 0., 0., 1., 0.],\n",
       "       [0., 0., 0., 0., 1.]])"
      ]
     },
     "execution_count": 27,
     "metadata": {},
     "output_type": "execute_result"
    }
   ],
   "source": [
    "identity_matrix"
   ]
  },
  {
   "cell_type": "code",
   "execution_count": null,
   "id": "30f0bebd-45bb-430d-bf58-dd9e793c9f7a",
   "metadata": {},
   "outputs": [],
   "source": []
  }
 ],
 "metadata": {
  "kernelspec": {
   "display_name": "Python 3 (ipykernel)",
   "language": "python",
   "name": "python3"
  },
  "language_info": {
   "codemirror_mode": {
    "name": "ipython",
    "version": 3
   },
   "file_extension": ".py",
   "mimetype": "text/x-python",
   "name": "python",
   "nbconvert_exporter": "python",
   "pygments_lexer": "ipython3",
   "version": "3.10.8"
  }
 },
 "nbformat": 4,
 "nbformat_minor": 5
}
