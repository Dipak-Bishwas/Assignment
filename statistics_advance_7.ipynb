{
 "cells": [
  {
   "cell_type": "code",
   "execution_count": 66,
   "id": "da0d2e01-eba3-4266-9cfb-4092ee216b91",
   "metadata": {},
   "outputs": [],
   "source": [
    "# Q1. Write a Python function that takes in two arrays of data and calculates the F-value for a variance ratio\n",
    "# test. The function should return the F-value and the corresponding p-value for the test."
   ]
  },
  {
   "cell_type": "code",
   "execution_count": 67,
   "id": "439c6295-062a-44a0-87ce-f3f964aadcbb",
   "metadata": {},
   "outputs": [],
   "source": [
    "import numpy as np\n",
    "from scipy.stats import f, bartlett\n",
    "import scipy.stats as stats"
   ]
  },
  {
   "cell_type": "code",
   "execution_count": 68,
   "id": "ed37f3be-762d-47b1-93c7-d423079bd4fc",
   "metadata": {},
   "outputs": [],
   "source": [
    "def variance_ratio_test(data1, data2):\n",
    "    var1 = np.var(data1, ddof=1)\n",
    "    var2 = np.var(data2, ddof=1)\n",
    "    F_value = var1 / var2\n",
    "    df1 = len(data1) - 1\n",
    "    df2 = len(data2) - 1\n",
    "    p_value = f.sf(F_value, df1, df2)\n",
    "\n",
    "    return F_value, p_value"
   ]
  },
  {
   "cell_type": "code",
   "execution_count": 69,
   "id": "d8b4aa4a-d6eb-4535-925c-53b827963bbd",
   "metadata": {},
   "outputs": [],
   "source": [
    "data1 = [1, 2, 3, 4, 5]\n",
    "data2 = [2, 4, 6, 8, 10]"
   ]
  },
  {
   "cell_type": "code",
   "execution_count": 70,
   "id": "38549349-2f3e-4c7b-826c-e28ce8632079",
   "metadata": {},
   "outputs": [],
   "source": [
    "F_value, p_value = variance_ratio_test(data1, data2)"
   ]
  },
  {
   "cell_type": "code",
   "execution_count": 71,
   "id": "beff8d29-6dcc-48cb-b11c-8edbd6f262f8",
   "metadata": {},
   "outputs": [
    {
     "data": {
      "text/plain": [
       "(0.25, 0.896)"
      ]
     },
     "execution_count": 71,
     "metadata": {},
     "output_type": "execute_result"
    }
   ],
   "source": [
    "F_value, p_value"
   ]
  },
  {
   "cell_type": "code",
   "execution_count": 72,
   "id": "6f5f1e3a-3de2-4114-a2a6-a045709615cb",
   "metadata": {},
   "outputs": [],
   "source": [
    "# Q2. Given a significance level of 0.05 and the degrees of freedom for the numerator and denominator of an\n",
    "# F-distribution, write a Python function that returns the critical F-value for a two-tailed test."
   ]
  },
  {
   "cell_type": "code",
   "execution_count": 73,
   "id": "aee4a779-ad98-4374-953e-65029276d660",
   "metadata": {},
   "outputs": [],
   "source": [
    "def critical_f_value(alpha, df_numerator, df_denominator):\n",
    "    critical_value = stats.f.ppf(1 - alpha / 2, df_numerator, df_denominator)\n",
    "    return critical_value"
   ]
  },
  {
   "cell_type": "code",
   "execution_count": 74,
   "id": "7849b8cc-601b-4600-be8d-8ed051ae48c9",
   "metadata": {},
   "outputs": [],
   "source": [
    "alpha = 0.05\n",
    "df_numerator = 3 \n",
    "df_denominator = 20  "
   ]
  },
  {
   "cell_type": "code",
   "execution_count": 75,
   "id": "8a1cc17d-873c-498f-a93c-4ceddffbe422",
   "metadata": {},
   "outputs": [],
   "source": [
    "critical_value = critical_f_value(alpha, df_numerator, df_denominator)"
   ]
  },
  {
   "cell_type": "code",
   "execution_count": 76,
   "id": "1498c7e4-db27-4900-9fab-76405090f09b",
   "metadata": {},
   "outputs": [
    {
     "data": {
      "text/plain": [
       "3.8586986662732143"
      ]
     },
     "execution_count": 76,
     "metadata": {},
     "output_type": "execute_result"
    }
   ],
   "source": [
    "critical_value"
   ]
  },
  {
   "cell_type": "code",
   "execution_count": 77,
   "id": "50514d13-da1a-4f73-be96-676a0e95f66b",
   "metadata": {},
   "outputs": [],
   "source": [
    "# Q3. Write a Python program that generates random samples from two normal distributions with known\n",
    "# variances and uses an F-test to determine if the variances are equal. The program should output the F-\n",
    "# value, degrees of freedom, and p-value for the test."
   ]
  },
  {
   "cell_type": "code",
   "execution_count": 78,
   "id": "f2ba1822-2d09-4037-b7eb-ea8cd86f2d50",
   "metadata": {},
   "outputs": [],
   "source": [
    "def f_test_variances(sample1, sample2):\n",
    "    var1 = np.var(sample1, ddof=1)\n",
    "    var2 = np.var(sample2, ddof=1)\n",
    "    f_value = var1 / var2 if var1 > var2 else var2 / var1\n",
    "    df1 = len(sample1) - 1\n",
    "    df2 = len(sample2) - 1\n",
    "    p_value = 1 - f.cdf(f_value, df1, df2)\n",
    "\n",
    "    return f_value, df1, df2, p_value"
   ]
  },
  {
   "cell_type": "code",
   "execution_count": 79,
   "id": "af7abcd2-efb7-45b5-a790-aa6e44f2dae1",
   "metadata": {},
   "outputs": [],
   "source": [
    "np.random.seed(0)\n",
    "n1 = 50\n",
    "n2 = 50\n",
    "mean1, mean2 = 0, 0  \n",
    "var1, var2 = 1, 2"
   ]
  },
  {
   "cell_type": "code",
   "execution_count": 80,
   "id": "c53f199b-e6dd-4303-9545-6528fda54608",
   "metadata": {},
   "outputs": [],
   "source": [
    "sample1 = np.random.normal(loc=mean1, scale=np.sqrt(var1), size=n1)\n",
    "sample2 = np.random.normal(loc=mean2, scale=np.sqrt(var2), size=n2)"
   ]
  },
  {
   "cell_type": "code",
   "execution_count": 81,
   "id": "a6f00565-543c-42ce-b419-e7253f7fba8e",
   "metadata": {},
   "outputs": [],
   "source": [
    "f_value, df1, df2, p_value = f_test_variances(sample1, sample2)"
   ]
  },
  {
   "cell_type": "code",
   "execution_count": 82,
   "id": "a0cab3c2-aabf-40a2-b609-59a2127846b4",
   "metadata": {},
   "outputs": [
    {
     "data": {
      "text/plain": [
       "(1.1869415346080736, 49, 49, 0.275449186933693)"
      ]
     },
     "execution_count": 82,
     "metadata": {},
     "output_type": "execute_result"
    }
   ],
   "source": [
    "f_value, df1, df2, p_value"
   ]
  },
  {
   "cell_type": "code",
   "execution_count": 83,
   "id": "e80f7e77-c78d-4ec5-9bc3-3912cfa8fc91",
   "metadata": {},
   "outputs": [],
   "source": [
    "# Q4.The variances of two populations are known to be 10 and 15. A sample of 12 observations is taken from\n",
    "# each population. Conduct an F-test at the 5% significance level to determine if the variances are\n",
    "# significantly different."
   ]
  },
  {
   "cell_type": "code",
   "execution_count": 84,
   "id": "7e7b969d-84d2-4323-9871-1613a293cfba",
   "metadata": {},
   "outputs": [],
   "source": [
    "def perform_f_test(var1, var2, n1, n2, alpha=0.05):\n",
    "    f_value = var1 / var2 if var1 > var2 else var2 / var1\n",
    "    df1 = n1 - 1\n",
    "    df2 = n2 - 1\n",
    "    p_value = 1 - stats.f.cdf(f_value, df1, df2)\n",
    "    critical_value = stats.f.ppf(1 - alpha, df1, df2)\n",
    "    return f_value, df1, df2, p_value, critical_value"
   ]
  },
  {
   "cell_type": "code",
   "execution_count": 85,
   "id": "b2086abb-f8e3-4133-a19b-630a13345ee8",
   "metadata": {},
   "outputs": [],
   "source": [
    "var1 = 10 \n",
    "var2 = 15 \n",
    "n1 = 12   \n",
    "n2 = 12   \n",
    "alpha = 0.05"
   ]
  },
  {
   "cell_type": "code",
   "execution_count": 86,
   "id": "48668885-d8aa-45c5-8870-1769536ccb0a",
   "metadata": {},
   "outputs": [],
   "source": [
    "f_value, df1, df2, p_value, critical_value = perform_f_test(var1, var2, n1, n2, alpha)"
   ]
  },
  {
   "cell_type": "code",
   "execution_count": 87,
   "id": "b15bedc8-3001-4728-aa4f-8ad4fa968180",
   "metadata": {},
   "outputs": [
    {
     "name": "stdout",
     "output_type": "stream",
     "text": [
      "Fail to reject the null hypothesis: The variances are not significantly different.\n"
     ]
    }
   ],
   "source": [
    "if f_value > critical_value:\n",
    "    print(\"Reject the null hypothesis: The variances are significantly different.\")\n",
    "else:\n",
    "    print(\"Fail to reject the null hypothesis: The variances are not significantly different.\")"
   ]
  },
  {
   "cell_type": "code",
   "execution_count": 88,
   "id": "1225d88d-831c-4846-8a7d-7a2602a13c17",
   "metadata": {},
   "outputs": [],
   "source": [
    "# Q5. A manufacturer claims that the variance of the diameter of a certain product is 0.005. A sample of 25\n",
    "# products is taken, and the sample variance is found to be 0.006. Conduct an F-test at the 1% significance\n",
    "# level to determine if the claim is justified."
   ]
  },
  {
   "cell_type": "code",
   "execution_count": 89,
   "id": "5f81cd25-dc50-4dab-abd9-6c0c8543292a",
   "metadata": {},
   "outputs": [],
   "source": [
    "def perform_f_test(sample_var, claimed_var, n, alpha=0.01):\n",
    "    f_value = sample_var / claimed_var\n",
    "    df = n - 1\n",
    "    p_value = 2 * (1 - stats.f.cdf(f_value, df, df))\n",
    "    critical_value = stats.f.ppf(1 - alpha / 2, df, df)\n",
    "\n",
    "    return f_value, df, df, p_value, critical_value"
   ]
  },
  {
   "cell_type": "code",
   "execution_count": 90,
   "id": "5455b603-e4cd-4831-a1fe-4a07d28e012e",
   "metadata": {},
   "outputs": [],
   "source": [
    "sample_var = 0.006 \n",
    "claimed_var = 0.005  \n",
    "n = 25  \n",
    "alpha = 0.01"
   ]
  },
  {
   "cell_type": "code",
   "execution_count": 91,
   "id": "b9ea67a2-4907-43ae-9655-3c842a22d0c6",
   "metadata": {},
   "outputs": [],
   "source": [
    "f_value, df, _, p_value, critical_value = perform_f_test(sample_var, claimed_var, n, alpha)"
   ]
  },
  {
   "cell_type": "code",
   "execution_count": 92,
   "id": "7d701e21-e41e-4237-9a66-2448f8c0b0ef",
   "metadata": {},
   "outputs": [
    {
     "name": "stdout",
     "output_type": "stream",
     "text": [
      "Fail to reject the null hypothesis: There is no significant difference between the sample variance and the claimed variance.\n"
     ]
    }
   ],
   "source": [
    "if f_value > critical_value:\n",
    "    print(\"Reject the null hypothesis: The sample variance is significantly different from the claimed variance.\")\n",
    "else:\n",
    "    print(\"Fail to reject the null hypothesis: There is no significant difference between the sample variance and the claimed variance.\")"
   ]
  },
  {
   "cell_type": "code",
   "execution_count": 93,
   "id": "43ea7540-f1dd-4942-8e53-fbb7dcd23e6c",
   "metadata": {},
   "outputs": [],
   "source": [
    "# Q6. Write a Python function that takes in the degrees of freedom for the numerator and denominator of an\n",
    "# F-distribution and calculates the mean and variance of the distribution. The function should return the\n",
    "# mean and variance as a tuple."
   ]
  },
  {
   "cell_type": "code",
   "execution_count": 94,
   "id": "d3291b80-7adb-4c13-b6c5-4f6d6e734cde",
   "metadata": {},
   "outputs": [],
   "source": [
    "def f_distribution_mean_variance(df_numerator, df_denominator):\n",
    "    if df_denominator > 2:\n",
    "        mean = df_denominator / (df_denominator - 2)\n",
    "    else:\n",
    "        mean = None \n",
    "\n",
    "    if df_denominator > 4:\n",
    "        variance = (2 * df_denominator**2 * (df_numerator + df_denominator - 2)) / \\\n",
    "                   (df_numerator * (df_denominator - 2)**2 * (df_denominator - 4))\n",
    "    else:\n",
    "        variance = None \n",
    "\n",
    "    return mean, variance"
   ]
  },
  {
   "cell_type": "code",
   "execution_count": 95,
   "id": "4f910b92-3a48-4a68-be04-282758659e4f",
   "metadata": {},
   "outputs": [],
   "source": [
    "df_numerator = 5\n",
    "df_denominator = 10"
   ]
  },
  {
   "cell_type": "code",
   "execution_count": 96,
   "id": "7c848e0b-8217-4b95-bf54-ccdba7735645",
   "metadata": {},
   "outputs": [],
   "source": [
    "mean, variance = f_distribution_mean_variance(df_numerator, df_denominator)"
   ]
  },
  {
   "cell_type": "code",
   "execution_count": 97,
   "id": "b5cf73c7-d73d-43c0-aa6f-c2c7e10fc6a8",
   "metadata": {},
   "outputs": [
    {
     "data": {
      "text/plain": [
       "(1.25, 1.3541666666666667)"
      ]
     },
     "execution_count": 97,
     "metadata": {},
     "output_type": "execute_result"
    }
   ],
   "source": [
    "mean, variance"
   ]
  },
  {
   "cell_type": "code",
   "execution_count": 98,
   "id": "84590b97-4001-4ecf-bc1a-d5eb8474c2c5",
   "metadata": {},
   "outputs": [],
   "source": [
    "# Q7. A random sample of 10 measurements is taken from a normal population with unknown variance. The\n",
    "# sample variance is found to be 25. Another random sample of 15 measurements is taken from another\n",
    "# normal population with unknown variance, and the sample variance is found to be 20. Conduct an F-test\n",
    "# at the 10% significance level to determine if the variances are significantly different."
   ]
  },
  {
   "cell_type": "code",
   "execution_count": 99,
   "id": "99be9ea2-c9fd-4d56-834d-b57061d63cc4",
   "metadata": {},
   "outputs": [],
   "source": [
    "def perform_f_test(sample_var1, sample_var2, n1, n2, alpha=0.10):\n",
    "    f_value = sample_var1 / sample_var2 if sample_var1 > sample_var2 else sample_var2 / sample_var1\n",
    "    df1 = n1 - 1\n",
    "    df2 = n2 - 1\n",
    "    p_value = 1 - stats.f.cdf(f_value, df1, df2)\n",
    "    critical_value = stats.f.ppf(1 - alpha, df1, df2)\n",
    "\n",
    "    return f_value, df1, df2, p_value, critical_value"
   ]
  },
  {
   "cell_type": "code",
   "execution_count": 100,
   "id": "35a558b0-7217-4f4b-a62d-1d13ac02f240",
   "metadata": {},
   "outputs": [],
   "source": [
    "sample_var1 = 25  \n",
    "sample_var2 = 20  \n",
    "n1 = 10          \n",
    "n2 = 15           \n",
    "alpha = 0.10"
   ]
  },
  {
   "cell_type": "code",
   "execution_count": 101,
   "id": "636e6fad-f128-4e51-bd00-cb03a4a8ed31",
   "metadata": {},
   "outputs": [],
   "source": [
    "f_value, df1, df2, p_value, critical_value = perform_f_test(sample_var1, sample_var2, n1, n2, alpha)"
   ]
  },
  {
   "cell_type": "code",
   "execution_count": 102,
   "id": "1bcf80a3-54e9-4989-9919-9ad6e1f17afe",
   "metadata": {},
   "outputs": [
    {
     "name": "stdout",
     "output_type": "stream",
     "text": [
      "Fail to reject the null hypothesis: There is no significant difference between the variances.\n"
     ]
    }
   ],
   "source": [
    "if f_value > critical_value:\n",
    "    print(\"Reject the null hypothesis: The variances are significantly different.\")\n",
    "else:\n",
    "    print(\"Fail to reject the null hypothesis: There is no significant difference between the variances.\")"
   ]
  },
  {
   "cell_type": "code",
   "execution_count": 103,
   "id": "1da3b130-d564-47d8-a2ef-6dae653320a7",
   "metadata": {},
   "outputs": [],
   "source": [
    "# Q8. The following data represent the waiting times in minutes at two different restaurants on a Saturday\n",
    "# night: Restaurant A: 24, 25, 28, 23, 22, 20, 27; Restaurant B: 31, 33, 35, 30, 32, 36. Conduct an F-test at the 5%\n",
    "# significance level to determine if the variances are significantly different."
   ]
  },
  {
   "cell_type": "code",
   "execution_count": 104,
   "id": "748da2cc-28a0-4af4-b865-0780af106203",
   "metadata": {},
   "outputs": [],
   "source": [
    "def perform_f_test(data1, data2, alpha=0.05):\n",
    "    var1 = np.var(data1, ddof=1)\n",
    "    var2 = np.var(data2, ddof=1)\n",
    "    if var1 > var2:\n",
    "        f_value = var1 / var2\n",
    "        df1, df2 = len(data1) - 1, len(data2) - 1\n",
    "    else:\n",
    "        f_value = var2 / var1\n",
    "        df1, df2 = len(data2) - 1, len(data1) - 1\n",
    "    p_value = 1 - stats.f.cdf(f_value, df1, df2)\n",
    "\n",
    "    critical_value = stats.f.ppf(1 - alpha, df1, df2)\n",
    "\n",
    "    return f_value, df1, df2, p_value, critical_value"
   ]
  },
  {
   "cell_type": "code",
   "execution_count": 105,
   "id": "418770f9-27a5-4af8-9886-ab37b97240dd",
   "metadata": {},
   "outputs": [],
   "source": [
    "data_a = [24, 25, 28, 23, 22, 20, 27]  \n",
    "data_b = [31, 33, 35, 30, 32, 36]     \n",
    "alpha = 0.05"
   ]
  },
  {
   "cell_type": "code",
   "execution_count": 106,
   "id": "8ac711c2-a45d-4204-91a3-ba29689efde6",
   "metadata": {},
   "outputs": [],
   "source": [
    "f_value, df1, df2, p_value, critical_value = perform_f_test(data_a, data_b, alpha)"
   ]
  },
  {
   "cell_type": "code",
   "execution_count": 107,
   "id": "284b1b23-7598-4cec-9b47-c43383dab104",
   "metadata": {},
   "outputs": [
    {
     "data": {
      "text/plain": [
       "(1.4551907719609583, 6, 5, 0.3487407873968742, 4.950288068694318)"
      ]
     },
     "execution_count": 107,
     "metadata": {},
     "output_type": "execute_result"
    }
   ],
   "source": [
    "f_value, df1, df2, p_value, critical_value"
   ]
  },
  {
   "cell_type": "code",
   "execution_count": 108,
   "id": "37c15d06-ee4e-40b3-bfd6-74a2b1d046e0",
   "metadata": {},
   "outputs": [
    {
     "name": "stdout",
     "output_type": "stream",
     "text": [
      "Fail to reject the null hypothesis: There is no significant difference between the variances.\n"
     ]
    }
   ],
   "source": [
    "if f_value > critical_value:\n",
    "    print(\"Reject the null hypothesis: The variances are significantly different.\")\n",
    "else:\n",
    "    print(\"Fail to reject the null hypothesis: There is no significant difference between the variances.\")"
   ]
  },
  {
   "cell_type": "code",
   "execution_count": 109,
   "id": "2893c439-d128-49d4-b328-123e03c3f060",
   "metadata": {},
   "outputs": [],
   "source": [
    "# Q9. The following data represent the test scores of two groups of students: Group A: 80, 85, 90, 92, 87, 83;\n",
    "# Group B: 75, 78, 82, 79, 81, 84. Conduct an F-test at the 1% significance level to determine if the variances\n",
    "# are significantly different."
   ]
  },
  {
   "cell_type": "code",
   "execution_count": 110,
   "id": "17bff3a1-8bbb-4531-acde-9b8167f0347d",
   "metadata": {},
   "outputs": [],
   "source": [
    "def perform_f_test(data1, data2, alpha=0.01):\n",
    "    var1 = np.var(data1, ddof=1)\n",
    "    var2 = np.var(data2, ddof=1)\n",
    "    if var1 > var2:\n",
    "        f_value = var1 / var2\n",
    "        df1, df2 = len(data1) - 1, len(data2) - 1\n",
    "    else:\n",
    "        f_value = var2 / var1\n",
    "        df1, df2 = len(data2) - 1, len(data1) - 1\n",
    "    p_value = 1 - stats.f.cdf(f_value, df1, df2)\n",
    "\n",
    "    critical_value = stats.f.ppf(1 - alpha, df1, df2)\n",
    "\n",
    "    return f_value, df1, df2, p_value, critical_value"
   ]
  },
  {
   "cell_type": "code",
   "execution_count": 111,
   "id": "f033e4b4-790e-42b0-96c0-3f1083ec2dc2",
   "metadata": {},
   "outputs": [],
   "source": [
    "data_a = [80, 85, 90, 92, 87, 83]  \n",
    "data_b = [75, 78, 82, 79, 81, 84]  \n",
    "alpha = 0.01"
   ]
  },
  {
   "cell_type": "code",
   "execution_count": 112,
   "id": "871106a7-1502-4531-b80f-eb559af6066a",
   "metadata": {},
   "outputs": [],
   "source": [
    "f_value, df1, df2, p_value, critical_value = perform_f_test(data_a, data_b, alpha)"
   ]
  },
  {
   "cell_type": "code",
   "execution_count": 113,
   "id": "faa65d6b-14b8-4851-9168-23125f548e14",
   "metadata": {},
   "outputs": [
    {
     "name": "stdout",
     "output_type": "stream",
     "text": [
      "Fail to reject the null hypothesis: There is no significant difference between the variances.\n"
     ]
    }
   ],
   "source": [
    "if f_value > critical_value:\n",
    "    print(\"Reject the null hypothesis: The variances are significantly different.\")\n",
    "else:\n",
    "    print(\"Fail to reject the null hypothesis: There is no significant difference between the variances.\")"
   ]
  },
  {
   "cell_type": "code",
   "execution_count": null,
   "id": "290aee7a-0851-4aa1-81a2-0ea9f040a557",
   "metadata": {},
   "outputs": [],
   "source": []
  },
  {
   "cell_type": "code",
   "execution_count": null,
   "id": "16422b05-eab9-4fda-b19c-b9abc088dbbd",
   "metadata": {},
   "outputs": [],
   "source": []
  },
  {
   "cell_type": "code",
   "execution_count": null,
   "id": "454964a4-4edd-428f-8515-aaede90e0353",
   "metadata": {},
   "outputs": [],
   "source": []
  },
  {
   "cell_type": "code",
   "execution_count": null,
   "id": "351730e6-10a3-4ba9-b598-7dbc51ed2282",
   "metadata": {},
   "outputs": [],
   "source": []
  },
  {
   "cell_type": "code",
   "execution_count": null,
   "id": "418c88af-ca12-4c39-9bc1-9ef22ff55b21",
   "metadata": {},
   "outputs": [],
   "source": []
  }
 ],
 "metadata": {
  "kernelspec": {
   "display_name": "Python 3 (ipykernel)",
   "language": "python",
   "name": "python3"
  },
  "language_info": {
   "codemirror_mode": {
    "name": "ipython",
    "version": 3
   },
   "file_extension": ".py",
   "mimetype": "text/x-python",
   "name": "python",
   "nbconvert_exporter": "python",
   "pygments_lexer": "ipython3",
   "version": "3.10.8"
  }
 },
 "nbformat": 4,
 "nbformat_minor": 5
}
