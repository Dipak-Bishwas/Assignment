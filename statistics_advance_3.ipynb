{
 "cells": [
  {
   "cell_type": "code",
   "execution_count": 57,
   "id": "670a42fb-77ed-48b2-9288-cc144563efcd",
   "metadata": {},
   "outputs": [],
   "source": [
    "# Q1: What is Estimation Statistics? Explain point estimate and interval estimate."
   ]
  },
  {
   "cell_type": "code",
   "execution_count": 58,
   "id": "ea48a008-22fc-4f52-9b1e-1341245e0180",
   "metadata": {},
   "outputs": [],
   "source": [
    "# Estimation Statistics\n",
    "# Estimation statistics is a branch of statistics that deals with making inferences about a population parameter based on a\n",
    "# sample of data. It involves using sample data to estimate the value of a population parameter, such as a population mean \n",
    "# or proportion.\n",
    "\n",
    "# Point Estimate:\n",
    "# A point estimate is a single value that is used to estimate a population parameter. It is a specific value that is\n",
    "# calculated from the sample data and is used to approximate the true value of the population parameter. For example, the\n",
    "# sample mean is a point estimate of the population mean.\n",
    "\n",
    "# Interval Estimate:\n",
    "# An interval estimate, also known as a confidence interval, is a range of values within which the true value of the population\n",
    "# parameter is likely to lie. It provides a margin of error around the point estimate, indicating the amount of uncertainty \n",
    "# associated with the estimate. For example, a 95% confidence interval for the population mean might be (10.2, 12.5), \n",
    "# indicating that the true population mean is likely to be between 10.2 and 12.5."
   ]
  },
  {
   "cell_type": "code",
   "execution_count": 59,
   "id": "90c4c9c9-836d-40fc-b214-d8e92832cb4f",
   "metadata": {},
   "outputs": [],
   "source": [
    "# Q2. Write a Python function to estimate the population mean using a sample mean and standard\n",
    "# deviation."
   ]
  },
  {
   "cell_type": "code",
   "execution_count": 60,
   "id": "3f2fa2ae-f0f6-4465-be4a-a0abd7a18f2c",
   "metadata": {},
   "outputs": [],
   "source": [
    "import numpy as np\n",
    "import scipy.stats as stats"
   ]
  },
  {
   "cell_type": "code",
   "execution_count": 61,
   "id": "4bcc1d9c-9a7a-4f78-a8e4-d23264225cb6",
   "metadata": {},
   "outputs": [],
   "source": [
    "def estimate_population_mean(sample_mean, sample_std_dev, sample_size, confidence_level=0.95):\n",
    "    estimated_mean = sample_mean\n",
    "    standard_error = sample_std_dev / np.sqrt(sample_size)\n",
    "    z_score = stats.norm.ppf((1 + confidence_level) / 2)\n",
    "    margin_of_error = z_score * standard_error\n",
    "    confidence_interval = (estimated_mean - margin_of_error, estimated_mean + margin_of_error)\n",
    "    return estimated_mean, confidence_interval"
   ]
  },
  {
   "cell_type": "code",
   "execution_count": 62,
   "id": "0bd8cf10-117c-440a-9c8b-8488f4c17127",
   "metadata": {},
   "outputs": [
    {
     "data": {
      "text/plain": [
       "(50.0, (48.210805856282846, 51.789194143717154))"
      ]
     },
     "execution_count": 62,
     "metadata": {},
     "output_type": "execute_result"
    }
   ],
   "source": [
    "estimate_population_mean(50.0, 5.0, 30)"
   ]
  },
  {
   "cell_type": "code",
   "execution_count": 63,
   "id": "d0c07266-80dd-4ee1-96dc-d2961265a74c",
   "metadata": {},
   "outputs": [],
   "source": [
    "# Q3: What is Hypothesis testing? Why is it used? State the importance of Hypothesis testing."
   ]
  },
  {
   "cell_type": "code",
   "execution_count": 64,
   "id": "9022dc8f-095c-445c-bf50-31af10ad2a3b",
   "metadata": {},
   "outputs": [],
   "source": [
    "# What is Hypothesis Testing? Hypothesis testing is a statistical technique used to determine whether a hypothesis about \n",
    "# a population parameter is true or not, based on a sample of data.\n",
    "\n",
    "# Why is it used? Hypothesis testing is used to make informed decisions, test theories, identify relationships, and evaluate\n",
    "# the effectiveness of interventions.\n",
    "\n",
    "# Importance of Hypothesis Testing: It provides an objective framework for decision-making, reduces errors, increases\n",
    "# confidence, and improves understanding of the phenomenon being studied."
   ]
  },
  {
   "cell_type": "code",
   "execution_count": 65,
   "id": "a6cda82d-847e-4d62-89fa-6f696b0a0f58",
   "metadata": {},
   "outputs": [],
   "source": [
    "# Q4. Create a hypothesis that states whether the average weight of male college students is greater than\n",
    "# the average weight of female college students."
   ]
  },
  {
   "cell_type": "code",
   "execution_count": 66,
   "id": "1cc3287b-b630-4f7d-996f-69db07a5a268",
   "metadata": {},
   "outputs": [],
   "source": [
    "# Null Hypothesis (H0): The average weight of male college students is equal to the average weight of female college students.\n",
    "\n",
    "# Alternative Hypothesis (H1): The average weight of male college students is greater than the average weight of female \n",
    "# college students.\n",
    "\n",
    "# Mathematically, this can be represented as:\n",
    "\n",
    "# H0: μ_male = μ_female H1: μ_male > μ_female\n",
    "\n",
    "# Where μ_male is the average weight of male college students and μ_female is the average weight of female college students.\n",
    "\n",
    "# This hypothesis can be tested using a two-sample t-test or a similar statistical method to determine whether the data\n",
    "# supports or rejects the null hypothesis."
   ]
  },
  {
   "cell_type": "code",
   "execution_count": 67,
   "id": "b2ead41e-cb61-47c8-8fbe-132fc9751709",
   "metadata": {},
   "outputs": [],
   "source": [
    "# Q5. Write a Python script to conduct a hypothesis test on the difference between two population means,\n",
    "# given a sample from each population."
   ]
  },
  {
   "cell_type": "code",
   "execution_count": 68,
   "id": "3126f38e-1e46-4d27-b9cf-35a667d34698",
   "metadata": {},
   "outputs": [],
   "source": [
    "def calculate_mean(data):\n",
    "    return sum(data) / len(data)"
   ]
  },
  {
   "cell_type": "code",
   "execution_count": 69,
   "id": "f8ed036c-4fd0-4570-a3ec-7a72e871f558",
   "metadata": {},
   "outputs": [],
   "source": [
    "def calculate_std(data):\n",
    "    mean = calculate_mean(data)\n",
    "    variance = sum((x - mean) ** 2 for x in data) / len(data)\n",
    "    return variance ** 0.5"
   ]
  },
  {
   "cell_type": "code",
   "execution_count": 70,
   "id": "7e19a0bc-eb0b-4117-bb9e-a50bd0077748",
   "metadata": {},
   "outputs": [],
   "source": [
    "def t_test(sample1, sample2):\n",
    "    mean1 = calculate_mean(sample1)\n",
    "    mean2 = calculate_mean(sample2)\n",
    "    std1 = calculate_std(sample1)\n",
    "    std2 = calculate_std(sample2)\n",
    "    n1 = len(sample1)\n",
    "    n2 = len(sample2)\n",
    "    t_stat = (mean1 - mean2) / (((std1 ** 2) / n1) + ((std2 ** 2) / n2)) ** 0.5\n",
    "    return t_stat"
   ]
  },
  {
   "cell_type": "code",
   "execution_count": 71,
   "id": "a3396a0e-6ca3-4767-a393-a4d4a9463d01",
   "metadata": {},
   "outputs": [],
   "source": [
    "sample_male = [170, 165, 180, 175, 172, 168, 182, 178, 170, 165]\n",
    "sample_female = [155, 158, 152, 160, 159, 157, 153, 161, 156, 154]"
   ]
  },
  {
   "cell_type": "code",
   "execution_count": 72,
   "id": "54beecf6-cc65-4c0e-9b4b-50eeb7ec96d8",
   "metadata": {},
   "outputs": [
    {
     "data": {
      "text/plain": [
       "7.892217978671841"
      ]
     },
     "execution_count": 72,
     "metadata": {},
     "output_type": "execute_result"
    }
   ],
   "source": [
    "t_test(sample_male, sample_female)"
   ]
  },
  {
   "cell_type": "code",
   "execution_count": 73,
   "id": "930130d4-4c65-4563-ad98-89af20944131",
   "metadata": {},
   "outputs": [],
   "source": [
    "# Q6: What is a null and alternative hypothesis? Give some examples."
   ]
  },
  {
   "cell_type": "code",
   "execution_count": 74,
   "id": "1c372bde-8867-49c5-9cfe-2a0589046c1a",
   "metadata": {},
   "outputs": [],
   "source": [
    "# Null Hypothesis (H0): A statement of no effect or no difference.\n",
    "\n",
    "# Alternative Hypothesis (H1): A statement of an effect or a difference.\n",
    "\n",
    "# Examples:\n",
    "#     H0: Average height is 175 cm, H1: Average height is not 175 cm.\n",
    "#     H0: No difference in scores, H1: Difference in scores.\n",
    "#     H0: 5% defective products, H1: Not 5% defective products.\n",
    "#     H0: No correlation, H1: Correlation exists."
   ]
  },
  {
   "cell_type": "code",
   "execution_count": 75,
   "id": "30a3188f-47e5-4f68-b4ad-db8e8dbd6300",
   "metadata": {},
   "outputs": [],
   "source": [
    "# Q7: Write down the steps involved in hypothesis testing."
   ]
  },
  {
   "cell_type": "code",
   "execution_count": 76,
   "id": "fff489d8-0b22-428f-b452-ae9fcb0c1087",
   "metadata": {},
   "outputs": [],
   "source": [
    "# State H0 and H1\n",
    "# Select α\n",
    "# Select a test statistic\n",
    "# Calculate the test statistic\n",
    "# Determine the critical region\n",
    "# Calculate the p-value\n",
    "# Compare p-value with α\n",
    "# Make a decision\n",
    "# Interpret the results"
   ]
  },
  {
   "cell_type": "code",
   "execution_count": 77,
   "id": "9753a9b1-b4b2-4151-a2be-66bf0b2f7ee1",
   "metadata": {},
   "outputs": [],
   "source": [
    "# Q8. Define p-value and explain its significance in hypothesis testing."
   ]
  },
  {
   "cell_type": "code",
   "execution_count": 78,
   "id": "a9bcd54d-f02c-4406-9afc-5b8e0caaf111",
   "metadata": {},
   "outputs": [],
   "source": [
    "# Definition of p-value:\n",
    "#     The p-value is the probability of obtaining a result as extreme or more extreme than the one observed, assuming that the null hypothesis (H0) is true.\n",
    "\n",
    "# Significance of p-value:\n",
    "#     Measures evidence against H0\n",
    "#     Determines rejection or failure to reject H0 (compare p-value with α)\n",
    "#     Provides a measure of uncertainty"
   ]
  },
  {
   "cell_type": "code",
   "execution_count": 79,
   "id": "a0bf8df3-7c14-4e81-a85e-c565940b6610",
   "metadata": {},
   "outputs": [],
   "source": [
    "# Q9. Generate a Student's t-distribution plot using Python's matplotlib library, with the degrees of freedom\n",
    "# parameter set to 10."
   ]
  },
  {
   "cell_type": "code",
   "execution_count": 80,
   "id": "3bb5013a-e34b-4c09-b844-3ba7406c88f3",
   "metadata": {},
   "outputs": [],
   "source": [
    "import numpy as np\n",
    "import matplotlib.pyplot as plt\n",
    "from scipy.stats import t"
   ]
  },
  {
   "cell_type": "code",
   "execution_count": 81,
   "id": "7421b186-4f89-4709-b3b5-9845bb0ed86f",
   "metadata": {},
   "outputs": [],
   "source": [
    "df = 10\n",
    "x = np.linspace(-4, 4, 400)\n",
    "y = t.pdf(x, df)"
   ]
  },
  {
   "cell_type": "code",
   "execution_count": 82,
   "id": "54484d77-341e-455b-80a0-e9fe2d956740",
   "metadata": {},
   "outputs": [
    {
     "data": {
      "image/png": "[encoded data removed]",
      "text/plain": [
       "<Figure size 640x480 with 1 Axes>"
      ]
     },
     "metadata": {},
     "output_type": "display_data"
    }
   ],
   "source": [
    "plt.plot(x, y)\n",
    "plt.title(\"Student's t-Distribution (df=10)\")\n",
    "plt.xlabel(\"x\")\n",
    "plt.ylabel(\"Probability Density\")\n",
    "plt.show()"
   ]
  },
  {
   "cell_type": "code",
   "execution_count": 83,
   "id": "7f6a9eeb-fb0f-4cab-8409-c8d91c1f7f11",
   "metadata": {},
   "outputs": [],
   "source": [
    "# Q10. Write a Python program to calculate the two-sample t-test for independent samples, given two\n",
    "# random samples of equal size and a null hypothesis that the population means are equal."
   ]
  },
  {
   "cell_type": "code",
   "execution_count": 84,
   "id": "67c7cf9d-97d3-4c5e-bbdb-a2381b793bb5",
   "metadata": {},
   "outputs": [],
   "source": [
    "from scipy.stats import ttest_ind"
   ]
  },
  {
   "cell_type": "code",
   "execution_count": 85,
   "id": "31ece153-36ac-4e88-a948-9472f5afc886",
   "metadata": {},
   "outputs": [],
   "source": [
    "sample1 = np.array([23, 11, 18, 25, 9, 26, 17, 20, 16, 21])\n",
    "sample2 = np.array([18, 12, 22, 15, 20, 18, 28, 19, 24, 16])"
   ]
  },
  {
   "cell_type": "code",
   "execution_count": 86,
   "id": "5c224058-f590-4435-bfd5-9e54bbf12dbf",
   "metadata": {},
   "outputs": [],
   "source": [
    "t_stat, p_val = ttest_ind(sample1, sample2)"
   ]
  },
  {
   "cell_type": "code",
   "execution_count": 87,
   "id": "f79fd798-410d-465e-98f0-78ce6d4b8118",
   "metadata": {},
   "outputs": [
    {
     "data": {
      "text/plain": [
       "(-0.26144680219835614, 0.7967160869585528)"
      ]
     },
     "execution_count": 87,
     "metadata": {},
     "output_type": "execute_result"
    }
   ],
   "source": [
    "t_stat, p_val"
   ]
  },
  {
   "cell_type": "code",
   "execution_count": 88,
   "id": "6d141758-4c0e-4279-b81c-1a3f4369c6d7",
   "metadata": {},
   "outputs": [],
   "source": [
    "alpha = 0.05"
   ]
  },
  {
   "cell_type": "code",
   "execution_count": 89,
   "id": "628c3a9e-13d6-433f-9141-e75ab91e9acc",
   "metadata": {},
   "outputs": [
    {
     "name": "stdout",
     "output_type": "stream",
     "text": [
      "Fail to reject the null hypothesis. The population means are likely equal.\n"
     ]
    }
   ],
   "source": [
    "if p_val < alpha:\n",
    "    print(\"Reject the null hypothesis. The population means are likely different.\")\n",
    "else:\n",
    "    print(\"Fail to reject the null hypothesis. The population means are likely equal.\")"
   ]
  },
  {
   "cell_type": "code",
   "execution_count": 90,
   "id": "f8a3d932-543a-4809-bc2f-81204ad7a496",
   "metadata": {},
   "outputs": [],
   "source": [
    "# Q11: What is Student’s t distribution? When to use the t-Distribution."
   ]
  },
  {
   "cell_type": "code",
   "execution_count": 91,
   "id": "2f6e6840-fac7-47e0-bb85-cdb293266d20",
   "metadata": {},
   "outputs": [],
   "source": [
    "# Student's t distribution is a continuous probability distribution used to estimate the mean of a normally distributed\n",
    "# population when the sample size is small and the population standard deviation is unknown.\n",
    "\n",
    "# When to use the t-Distribution: Use the t distribution when:\n",
    "#     Sample size is small (less than 30)\n",
    "#     Population standard deviation is unknown\n",
    "#     Conducting hypothesis testing (t-tests)\n",
    "#     Constructing confidence intervals for the population mean\n",
    "#     Comparing means of two independent samples"
   ]
  },
  {
   "cell_type": "code",
   "execution_count": 92,
   "id": "a70441e1-707d-406f-98d3-a48dd63197f1",
   "metadata": {},
   "outputs": [],
   "source": [
    "# Q12: What is t-statistic? State the formula for t-statistic."
   ]
  },
  {
   "cell_type": "code",
   "execution_count": 93,
   "id": "11305cdb-9eaf-441e-8815-fee65fcb451a",
   "metadata": {},
   "outputs": [],
   "source": [
    "# The t-statistic is a statistical measure that is used to determine whether there is a significant difference between the\n",
    "# means of two groups. It is a ratio of the difference between the sample mean and the known population mean to the standard\n",
    "# error of the sample mean.\n",
    "\n",
    "# t = (x̄ - μ) / (s / √n)\n",
    "\n",
    "# Where:\n",
    "#     t is the t-statistic\n",
    "#     x̄ is the sample mean\n",
    "#     μ is the known population mean\n",
    "#     s is the sample standard deviation\n",
    "#     n is the sample size"
   ]
  },
  {
   "cell_type": "code",
   "execution_count": 94,
   "id": "9c8b8178-97fc-4722-8eca-3a8a008b8160",
   "metadata": {},
   "outputs": [],
   "source": [
    "# Q13. A coffee shop owner wants to estimate the average daily revenue for their shop. They take a random\n",
    "# sample of 50 days and find the sample mean revenue to be $500 with a standard deviation of $50.\n",
    "# Estimate the population mean revenue with a 95% confidence interval."
   ]
  },
  {
   "cell_type": "code",
   "execution_count": 95,
   "id": "a0cc9ee7-41fd-49f5-93af-0bf8765c6b1d",
   "metadata": {},
   "outputs": [],
   "source": [
    "# CI = x̄ ± (t \\* (s / √n))\n",
    "\n",
    "# For a 95% confidence interval, the t-score is approximately 2.009 (using a t-distribution table or calculator).\n",
    "\n",
    "# Plugging in the values, we get:\n",
    "\n",
    "# CI = 500 ± (2.009 \\* (50 / √50)) CI = 500 ± (2.009 \\* (50 / 7.071)) CI = 500 ± 14.14 CI = (485.86, 514.14)\n",
    "\n",
    "# Therefore, the 95% confidence interval for the population mean revenue is approximately $485.86 to $514.14."
   ]
  },
  {
   "cell_type": "code",
   "execution_count": 96,
   "id": "3fdd01e5-ba59-4c67-b764-2b8df7ea19c5",
   "metadata": {},
   "outputs": [],
   "source": [
    "# Q14. A researcher hypothesizes that a new drug will decrease blood pressure by 10 mmHg. They conduct a\n",
    "# clinical trial with 100 patients and find that the sample mean decrease in blood pressure is 8 mmHg with a\n",
    "# standard deviation of 3 mmHg. Test the hypothesis with a significance level of 0.05."
   ]
  },
  {
   "cell_type": "code",
   "execution_count": 97,
   "id": "0fbc65d8-b9a2-4e0a-a861-b5991c04db12",
   "metadata": {},
   "outputs": [],
   "source": [
    "# Hypothesis Test:\n",
    "#     H0: μ ≤ 10 mmHg (null hypothesis: the mean decrease in blood pressure is 10 mmHg or more) H1: μ < 10 mmHg \n",
    "#     (alternative hypothesis: the mean decrease in blood pressure is less than 10 mmHg)\n",
    "\n",
    "# Test Statistic:\n",
    "#     t = (x̄ - μ) / (s / √n) = (8 - 10) / (3 / √100) = -2 / 0.3 = -6.67\n",
    "\n",
    "# P-value:\n",
    "#     Using a t-distribution table or calculator, the p-value is approximately 0.000.\n",
    "\n",
    "# Conclusion:\n",
    "#     Since the p-value (0.000) is less than the significance level (0.05), we reject the null hypothesis. The data suggest\n",
    "#     that the new drug decreases blood pressure by less than 10 mmHg"
   ]
  },
  {
   "cell_type": "code",
   "execution_count": 98,
   "id": "807bd5bd-b4ad-4bbc-a900-6d9e9960f631",
   "metadata": {},
   "outputs": [],
   "source": [
    "# Q15. An electronics company produces a certain type of product with a mean weight of 5 pounds and a\n",
    "# standard deviation of 0.5 pounds. A random sample of 25 products is taken, and the sample mean weight\n",
    "# is found to be 4.8 pounds. Test the hypothesis that the true mean weight of the products is less than 5\n",
    "# pounds with a significance level of 0.01."
   ]
  },
  {
   "cell_type": "code",
   "execution_count": 99,
   "id": "53ae48ba-f2f9-41c1-a84c-4de775ae90a7",
   "metadata": {},
   "outputs": [],
   "source": [
    "# Test Statistic:\n",
    "#     t = (x̄ - μ) / (s / √n) = (4.8 - 5) / (0.5 / √25) = -0.2 / 0.1 = -2\n",
    "\n",
    "# P-value:\n",
    "#     Using a t-distribution table or calculator, the p-value is approximately 0.023.\n",
    "\n",
    "# Conclusion:\n",
    "#     Since the p-value (0.023) is less than the significance level (0.01), we reject the null hypothesis. The data suggest\n",
    "#     that the true mean weight of the products is less than 5 pounds."
   ]
  },
  {
   "cell_type": "code",
   "execution_count": 100,
   "id": "7b35c138-ab1d-41c9-aade-6bfdfab82178",
   "metadata": {},
   "outputs": [],
   "source": [
    "# Q16. Two groups of students are given different study materials to prepare for a test. The first group (n1 =\n",
    "# 30) has a mean score of 80 with a standard deviation of 10, and the second group (n2 = 40) has a mean\n",
    "# score of 75 with a standard deviation of 8. Test the hypothesis that the population means for the two\n",
    "# groups are equal with a significance level of 0.01."
   ]
  },
  {
   "cell_type": "code",
   "execution_count": 101,
   "id": "d2184c29-dd16-410a-afc9-79152fa2fd36",
   "metadata": {},
   "outputs": [],
   "source": [
    "# H0: μ1 = μ2 H1: μ1 ≠ μ2\n",
    "\n",
    "# Test Statistic:\n",
    "\n",
    "# t = (80 - 75) / √(10^2/30 + 8^2/40) ≈ 2.25\n",
    "\n",
    "# P-value:\n",
    "\n",
    "# p ≈ 0.026\n",
    "\n",
    "# Conclusion:\n",
    "\n",
    "# Fail to reject H0. The data do not provide sufficient evidence to conclude that the population means for the two groups \n",
    "# are not equal."
   ]
  },
  {
   "cell_type": "code",
   "execution_count": 102,
   "id": "e0457b42-d3e8-42db-b473-c8368ca06316",
   "metadata": {},
   "outputs": [],
   "source": [
    "# Q17. A marketing company wants to estimate the average number of ads watched by viewers during a TV\n",
    "# program. They take a random sample of 50 viewers and find that the sample mean is 4 with a standard\n",
    "# deviation of 1.5. Estimate the population mean with a 99% confidence interval."
   ]
  },
  {
   "cell_type": "code",
   "execution_count": 103,
   "id": "ccf7cd28-804c-49ed-b525-3bba5ee691d1",
   "metadata": {},
   "outputs": [],
   "source": [
    "# CI = x̄ ± (Z * (σ / √n))\n",
    "\n",
    "# where x̄ is the sample mean, σ is the sample standard deviation, n is the sample size, and Z is the Z-score corresponding to\n",
    "# the desired confidence level.\n",
    "\n",
    "# Given: x̄ = 4 σ = 1.5 n = 50 Confidence level = 99% => Z = 2.576 (from Z-table)\n",
    "\n",
    "# CI = 4 ± (2.576 * (1.5 / √50)) = 4 ± (2.576 * 0.212) = 4 ± 0.546 = (3.454, 4.546)\n",
    "\n",
    "# Interpretation:\n",
    "#     We are 99% confident that the true population mean number of ads watched by viewers during a TV program is\n",
    "#     between 3.454 and 4.546."
   ]
  },
  {
   "cell_type": "code",
   "execution_count": null,
   "id": "7bcbe9b3-d8a5-4782-b96c-31958045897f",
   "metadata": {},
   "outputs": [],
   "source": []
  },
  {
   "cell_type": "code",
   "execution_count": null,
   "id": "b658d714-79aa-444d-8c9b-2e93d633afb5",
   "metadata": {},
   "outputs": [],
   "source": []
  },
  {
   "cell_type": "code",
   "execution_count": null,
   "id": "3b1d0f61-75c0-46cf-969b-bc4d77d42a01",
   "metadata": {},
   "outputs": [],
   "source": []
  }
 ],
 "metadata": {
  "kernelspec": {
   "display_name": "Python 3 (ipykernel)",
   "language": "python",
   "name": "python3"
  },
  "language_info": {
   "codemirror_mode": {
    "name": "ipython",
    "version": 3
   },
   "file_extension": ".py",
   "mimetype": "text/x-python",
   "name": "python",
   "nbconvert_exporter": "python",
   "pygments_lexer": "ipython3",
   "version": "3.10.8"
  }
 },
 "nbformat": 4,
 "nbformat_minor": 5
}
