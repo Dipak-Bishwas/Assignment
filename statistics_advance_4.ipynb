{
 "cells": [
  {
   "cell_type": "code",
   "execution_count": 2,
   "id": "283d1eab-9e53-469d-80af-bf103111e683",
   "metadata": {},
   "outputs": [],
   "source": [
    "# Q1: What is the difference between a t-test and a z-test? Provide an example scenario where you would\n",
    "# use each type of test."
   ]
  },
  {
   "cell_type": "code",
   "execution_count": 3,
   "id": "472e5635-d885-4d80-8d57-f885b6f95c1d",
   "metadata": {},
   "outputs": [],
   "source": [
    "# Difference between t-test and z-test:\n",
    "#     z-test: Used when population standard deviation (σ) is known.\n",
    "#     t-test: Used when population standard deviation (σ) is unknown.\n",
    "    \n",
    "# Example Scenarios:\n",
    "#     z-test: Testing light bulb lifespan when population standard deviation is known.\n",
    "#     t-test: Comparing average scores of two student groups when population standard deviation is unknown."
   ]
  },
  {
   "cell_type": "code",
   "execution_count": 4,
   "id": "4c6ff78c-f787-4933-a215-95c4e7b33ea3",
   "metadata": {},
   "outputs": [],
   "source": [
    "# Q2: Differentiate between one-tailed and two-tailed tests."
   ]
  },
  {
   "cell_type": "code",
   "execution_count": 5,
   "id": "c0fd6e29-2b10-445c-a8e2-ac05ed06436f",
   "metadata": {},
   "outputs": [],
   "source": [
    "# One-Tailed Test:\n",
    "#     Directional hypothesis (e.g., > or <)\n",
    "#     Rejects null hypothesis if sample mean is significantly greater or less than population mean\n",
    "#     Critical region on one side of distribution\n",
    "    \n",
    "# Two-Tailed Test:\n",
    "#     Non-directional hypothesis (e.g., ≠)\n",
    "#     Rejects null hypothesis if sample mean is significantly different from population mean in either direction\n",
    "#     Critical regions on both sides of distribution"
   ]
  },
  {
   "cell_type": "code",
   "execution_count": 6,
   "id": "7110da62-8e21-4130-a16b-c31c611e1af8",
   "metadata": {},
   "outputs": [],
   "source": [
    "# Q3: Explain the concept of Type 1 and Type 2 errors in hypothesis testing. Provide an example scenario for\n",
    "# each type of error."
   ]
  },
  {
   "cell_type": "code",
   "execution_count": 7,
   "id": "fd60de00-2142-464c-aadf-a1617ecd11f8",
   "metadata": {},
   "outputs": [],
   "source": [
    "# Type 1 Error:\n",
    "#     Also known as a \"false positive\"\n",
    "#     Occurs when you reject a true null hypothesis (H₀)\n",
    "#     Probability of Type 1 error is denoted by α (alpha) and is usually set to 0.05\n",
    "#     Example: A medical test shows that a patient has a disease when they actually don't. The test has given a false positive \n",
    "#     result.\n",
    "\n",
    "# Type 2 Error:\n",
    "#     Also known as a \"false negative\"\n",
    "#     Occurs when you fail to reject a false null hypothesis (H₀)\n",
    "#     Probability of Type 2 error is denoted by β (beta)\n",
    "#     Example: A medical test shows that a patient does not have a disease when they actually do. The test has given a false \n",
    "#     negative result."
   ]
  },
  {
   "cell_type": "code",
   "execution_count": 8,
   "id": "d34ca9fe-c798-401e-a3a3-83a8f41dc5c9",
   "metadata": {},
   "outputs": [],
   "source": [
    "# Q4: Explain Bayes's theorem with an example."
   ]
  },
  {
   "cell_type": "code",
   "execution_count": 9,
   "id": "07e176ce-0918-424c-9a46-f1b9bc8091dd",
   "metadata": {},
   "outputs": [],
   "source": [
    "# Bayes's theorem is a formula to update the probability of a hypothesis (H) based on new evidence (E).\n",
    "\n",
    "# Formula:\n",
    "#     P(H|E) = P(E|H) \\* P(H) / P(E)\n",
    "\n",
    "# Example:\n",
    "#     A test for a rare disease is 95% accurate for people with the disease. If 1% of the population has the disease, \n",
    "#     what's the probability of having the disease if you test positive?\n",
    "\n",
    "# P(H) = 0.01 (prior probability of disease)\n",
    "# P(E|H) = 0.95 (test accuracy for people with disease)\n",
    "# P(E) = 0.055 (probability of positive test result)\n",
    "# Using Bayes's theorem:\n",
    "\n",
    "# P(H|E) = 0.95 \\* 0.01 / 0.055 ≈ 0.172\n",
    "\n",
    "# So, the probability of having the disease if you test positive is approximately 17.2%."
   ]
  },
  {
   "cell_type": "code",
   "execution_count": 10,
   "id": "6d832cd7-b5b4-4ba4-aa69-bce42c57e535",
   "metadata": {},
   "outputs": [],
   "source": [
    "# Q5: What is a confidence interval? How to calculate the confidence interval, explain with an example."
   ]
  },
  {
   "cell_type": "code",
   "execution_count": 11,
   "id": "7b8f47db-31c6-43c8-b7e7-f3cc38801c96",
   "metadata": {},
   "outputs": [],
   "source": [
    "# Confidence Interval:\n",
    "#     A confidence interval is a range of values within which a population parameter is likely to lie.\n",
    "\n",
    "# Formula:\n",
    "#     CI = x̄ ± (Z-score \\* (σ / √n))\n",
    "\n",
    "# Example:\n",
    "#     A sample of 36 adults has a mean height of 175.2 cm with a standard deviation of 8.5 cm. Calculate a 95% confidence\n",
    "#     interval for the population mean height.\n",
    "#     CI = 175.2 ± (1.96 \\* (8.5 / √36)) = (172.39, 178.01)\n",
    "#     So, with 95% confidence, the true population mean height lies between 172.39 cm and 178.01 cm."
   ]
  },
  {
   "cell_type": "code",
   "execution_count": 12,
   "id": "7bc1011c-0dba-41fe-b581-197faa922dfe",
   "metadata": {},
   "outputs": [],
   "source": [
    "# Q6. Use Bayes' Theorem to calculate the probability of an event occurring given prior knowledge of the\n",
    "# event's probability and new evidence. Provide a sample problem and solution."
   ]
  },
  {
   "cell_type": "code",
   "execution_count": 13,
   "id": "9805608e-63f9-4c11-93b4-78c4d5f0ca24",
   "metadata": {},
   "outputs": [],
   "source": [
    "# Sample Problem:\n",
    "#     A doctor wants to determine the probability that a patient has a disease (D) given a positive test result (T).\n",
    "#     The prior probability of the disease is 0.01 (1%). The test is 95% accurate for people with the disease and 90% \n",
    "#     accurate for people without the disease.\n",
    "    \n",
    "# Solution:\n",
    "\n",
    "#     Let's break down the problem:\n",
    "#     P(D) = 0.01 (prior probability of the disease)\n",
    "#     P(T|D) = 0.95 (likelihood of a positive test result given the disease)\n",
    "#     P(T|¬D) = 0.10 (likelihood of a positive test result given no disease)\n",
    "#     P(¬D) = 0.99 (prior probability of no disease)\n",
    "#     We need to find P(D|T), the posterior probability of the disease given a positive test result.\n",
    "\n",
    "# First, we need to find P(T), the prior probability of a positive test result:\n",
    "\n",
    "# P(T) = P(T|D) \\* P(D) + P(T|¬D) \\* P(¬D) = 0.95 \\* 0.01 + 0.10 \\* 0.99 ≈ 0.1045\n",
    "\n",
    "# Now, we can apply Bayes' Theorem:\n",
    "\n",
    "# P(D|T) = P(T|D) \\* P(D) / P(T) = 0.95 \\* 0.01 / 0.1045 ≈ 0.091\n",
    "\n",
    "# So, the probability that the patient has the disease given a positive test result is approximately 9.1%.    "
   ]
  },
  {
   "cell_type": "code",
   "execution_count": 15,
   "id": "a958f5fe-9de7-457f-90d1-0a2f50f58c99",
   "metadata": {},
   "outputs": [],
   "source": [
    "# For a 95% confidence interval, the Z-score is approximately 1.96.\n",
    "\n",
    "# CI = 50 ± (1.96 \\* (5 / √36)) = 50 ± (1.96 \\* (5 / 6)) = 50 ± 2.58\n",
    "\n",
    "# So, the 95% confidence interval is:\n",
    "\n",
    "# CI = (47.42, 52.58)\n",
    "\n",
    "# Interpretation:\n",
    "#     With 95% confidence, we can say that the true population mean is likely to lie between 47.42 and 52.58. This means that\n",
    "#     if we were to repeat the sampling process many times, about 95% of the time the true population mean would fall within this range.\n",
    "\n",
    "#     In other words, we are 95% confident that the true population mean is not less than 47.42 or greater than 52.58."
   ]
  },
  {
   "cell_type": "code",
   "execution_count": 16,
   "id": "e2fa6ec5-f09a-4d1d-9df4-d72c4edbe14f",
   "metadata": {},
   "outputs": [],
   "source": [
    "# Q8. What is the margin of error in a confidence interval? How does sample size affect the margin of error?\n",
    "# Provide an example of a scenario where a larger sample size would result in a smaller margin of error."
   ]
  },
  {
   "cell_type": "code",
   "execution_count": 17,
   "id": "e7154aba-acbb-4d10-9f4e-fe8f223b6c4c",
   "metadata": {},
   "outputs": [],
   "source": [
    "# Margin of Error:\n",
    "#     The maximum amount by which the sample statistic may differ from the true population parameter.\n",
    "\n",
    "# Effect of Sample Size:\n",
    "#     As sample size increases, margin of error decreases, providing a more precise estimate of the population parameter.\n",
    "\n",
    "# Example:\n",
    "#     Larger sample size (n = 100) → smaller margin of error (0.98 cm) vs. smaller sample size (n = 25) → larger margin of \n",
    "#     error (1.96 cm) when estimating average height."
   ]
  },
  {
   "cell_type": "code",
   "execution_count": 18,
   "id": "e1a4477e-24a8-4fef-a17e-54b87c4c7797",
   "metadata": {},
   "outputs": [],
   "source": [
    "# Q9. Calculate the z-score for a data point with a value of 75, a population mean of 70, and a population\n",
    "# standard deviation of 5. Interpret the results."
   ]
  },
  {
   "cell_type": "code",
   "execution_count": 19,
   "id": "f8f89a9e-f701-4a35-bf80-9ede76869192",
   "metadata": {},
   "outputs": [],
   "source": [
    "# Z-score calculation:\n",
    "#     z = (x - μ) / σ\n",
    "\n",
    "# Where:\n",
    "#     x is the data point value (75)\n",
    "#     μ is the population mean (70)\n",
    "#     σ is the population standard deviation (5)\n",
    "#     z = (75 - 70) / 5 z = 5 / 5 z = 1\n",
    "\n",
    "# Interpretation:\n",
    "\n",
    "# The z-score is 1, which means the data point (75) is 1 standard deviation above the population mean (70).\n",
    "\n",
    "# In other words, the value 75 is slightly above average, and about 84.1% of the data points in the population are below 75\n",
    "# (since the area to the left of z = 1 is approximately 0.841).\n",
    "\n",
    "# This suggests that the data point 75 is a relatively high value compared to the population mean, but not extremely high."
   ]
  },
  {
   "cell_type": "code",
   "execution_count": 20,
   "id": "156f37e7-c9bd-42b3-b916-b61b6d6b2608",
   "metadata": {},
   "outputs": [],
   "source": [
    "# Q10. In a study of the effectiveness of a new weight loss drug, a sample of 50 participants lost an average\n",
    "# of 6 pounds with a standard deviation of 2.5 pounds. Conduct a hypothesis test to determine if the drug is\n",
    "# significantly effective at a 95% confidence level using a t-test."
   ]
  },
  {
   "cell_type": "code",
   "execution_count": 21,
   "id": "c4a261bd-751f-4f25-a70d-dfe27189e34b",
   "metadata": {},
   "outputs": [],
   "source": [
    "# The weight loss drug is significantly effective at a 95% confidence level, with an average weight loss of 6 pounds.\n",
    "# The t-test rejects the null hypothesis, indicating that the drug has a statistically significant effect on weight loss."
   ]
  },
  {
   "cell_type": "code",
   "execution_count": 22,
   "id": "58f03007-a4d0-4c5f-b729-73dd5515b244",
   "metadata": {},
   "outputs": [],
   "source": [
    "# Q11. In a survey of 500 people, 65% reported being satisfied with their current job. Calculate the 95%\n",
    "# confidence interval for the true proportion of people who are satisfied with their job."
   ]
  },
  {
   "cell_type": "code",
   "execution_count": 23,
   "id": "1cbf62a6-a73d-460a-988b-5a15d44bad27",
   "metadata": {},
   "outputs": [],
   "source": [
    "# alculating the 95% Confidence Interval for the True Proportion\n",
    "\n",
    "# Given:\n",
    "#     Sample size (n) = 500\n",
    "#     Number of people satisfied with their job (x) = 0.65 * 500 = 325\n",
    "#     Confidence level = 95%\n",
    "    \n",
    "# Step 1: Calculate the sample proportion (p̂)\n",
    "#     p̂ = x / n = 325 / 500 = 0.65\n",
    "\n",
    "# Step 2: Calculate the standard error (SE)\n",
    "#     SE = √(p̂ * (1 - p̂) / n) = √(0.65 * 0.35 / 500) = 0.021\n",
    "\n",
    "# Step 3: Calculate the margin of error (ME)\n",
    "#     ME = Z * SE, where Z is the Z-score corresponding to the desired confidence level (95%). For a 95% confidence level, \n",
    "#     Z = 1.96. ME = 1.96 * 0.021 = 0.041\n",
    "\n",
    "# Step 4: Calculate the 95% confidence interval\n",
    "#     CI = (p̂ - ME, p̂ + ME) = (0.65 - 0.041, 0.65 + 0.041) = (0.609, 0.691)\n",
    "\n",
    "# Result:\n",
    "#     The 95% confidence interval for the true proportion of people who are satisfied with their job is (0.609, 0.691). \n",
    "#     This means that we are 95% confident that the true proportion of people satisfied with their job lies between 60.9% and 69.1%."
   ]
  },
  {
   "cell_type": "code",
   "execution_count": 24,
   "id": "ed25939e-4116-4e96-9892-3eb55aa9e762",
   "metadata": {},
   "outputs": [],
   "source": [
    "# Q12. A researcher is testing the effectiveness of two different teaching methods on student performance.\n",
    "# Sample A has a mean score of 85 with a standard deviation of 6, while sample B has a mean score of 82\n",
    "# with a standard deviation of 5. Conduct a hypothesis test to determine if the two teaching methods have a\n",
    "# significant difference in student performance using a t-test with a significance level of 0.01."
   ]
  },
  {
   "cell_type": "code",
   "execution_count": 25,
   "id": "b362bea0-a457-4581-a6b2-c687aacc7da7",
   "metadata": {},
   "outputs": [],
   "source": [
    "# Step 1: State the null and alternative hypotheses\n",
    "#     H0: μ1 = μ2 (The two teaching methods have the same mean student performance) H1: μ1 ≠ μ2 (The two teaching methods\n",
    "#     have different mean student performances)\n",
    "\n",
    "# Step 2: Calculate the pooled standard deviation (sp)\n",
    "#     sp = √(((n1 - 1) * σ1^2 + (n2 - 1) * σ2^2) / (n1 + n2 - 2))\n",
    "\n",
    "# Since the sample sizes are not provided, we'll assume they are equal (n1 = n2 = n). Let's use n = 30 for this example.\n",
    "#     sp = √(((30 - 1) * 6^2 + (30 - 1) * 5^2) / (30 + 30 - 2)) = 5.57\n",
    "\n",
    "# Step 3: Calculate the t-statistic (t)\n",
    "#     t = (μ1 - μ2) / (sp * √(2 / n)) = (85 - 82) / (5.57 * √(2 / 30)) = 2.53\n",
    "\n",
    "# Step 4: Determine the degrees of freedom (df)\n",
    "#     df = n1 + n2 - 2 = 30 + 30 - 2 = 58\n",
    "\n",
    "# Step 5: Find the critical t-value or p-value\n",
    "#     Using a t-table or calculator, we find that the critical t-value for a two-tailed test with df = 58 and α = 0.01 is approximately ±2.79.\n",
    "\n",
    "# Alternatively, we can calculate the p-value using a t-distribution calculator or software. The p-value is approximately 0.012.\n",
    "\n",
    "# Step 6: Make a decision\n",
    "#     Since the calculated t-statistic (2.53) is less than the critical t-value (2.79), we fail to reject the null hypothesis. However, the p-value (0.012) is less than the significance level (0.01), so we reject the null hypothesis.\n",
    "\n",
    "# Conclusion:\n",
    "#     There is sufficient evidence to suggest that the two teaching methods have a significant difference in student\n",
    "#     performance at a 1% significance level. The mean score of 85 for Sample A is significantly higher than the mean\n",
    "#     score of 82 for Sample B."
   ]
  },
  {
   "cell_type": "code",
   "execution_count": 26,
   "id": "1f33995b-03ab-4331-ae53-acb22ce619ab",
   "metadata": {},
   "outputs": [],
   "source": [
    "# Q13. A population has a mean of 60 and a standard deviation of 8. A sample of 50 observations has a mean\n",
    "# of 65. Calculate the 90% confidence interval for the true population mean."
   ]
  },
  {
   "cell_type": "code",
   "execution_count": 27,
   "id": "c14b20f7-d79d-46ad-bce5-c070b0e76df7",
   "metadata": {},
   "outputs": [],
   "source": [
    "# Step 1: Calculate the standard error (SE)\n",
    "#     SE = σ / √n = 8 / √50 = 1.13\n",
    "\n",
    "# Step 2: Calculate the margin of error (ME)\n",
    "#     ME = Z * SE, where Z is the Z-score corresponding to the desired confidence level (90%). For a 90% confidence level,\n",
    "#     Z = 1.645. ME = 1.645 * 1.13 = 1.86\n",
    "\n",
    "# Step 3: Calculate the 90% confidence interval\n",
    "#     CI = (x̄ - ME, x̄ + ME) = (65 - 1.86, 65 + 1.86) = (63.14, 66.86)\n",
    "\n",
    "# Result:\n",
    "#     The 90% confidence interval for the true population mean is (63.14, 66.86). This means that we are 90% confident that\n",
    "#     the true population mean lies between 63.14 and 66.86."
   ]
  },
  {
   "cell_type": "code",
   "execution_count": 28,
   "id": "846d0b7c-0a0f-43e0-bc9f-9a2dabcb38fb",
   "metadata": {},
   "outputs": [],
   "source": [
    "# Q14. In a study of the effects of caffeine on reaction time, a sample of 30 participants had an average\n",
    "# reaction time of 0.25 seconds with a standard deviation of 0.05 seconds. Conduct a hypothesis test to\n",
    "# determine if the caffeine has a significant effect on reaction time at a 90% confidence level using a t-test."
   ]
  },
  {
   "cell_type": "code",
   "execution_count": null,
   "id": "9dc1d972-0bf2-4b00-8a7b-5caf8d17bd30",
   "metadata": {},
   "outputs": [],
   "source": [
    "Step 1: State the null and alternative hypotheses\n",
    "    H0: μ = 0.20 seconds (No significant effect of caffeine on reaction time) H1: μ ≠ 0.20 seconds \n",
    "    (Caffeine has a significant effect on reaction time)\n",
    "\n",
    "Step 2: Calculate the t-statistic (t)\n",
    "    t = (x̄ - μ) / (s / √n) = (0.25 - 0.20) / (0.05 / √30) = 3.46\n",
    "\n",
    "Step 3: Determine the degrees of freedom (df)\n",
    "    df = n - 1 = 30 - 1 = 29\n",
    "\n",
    "Step 4: Find the critical t-value or p-value\n",
    "    Using a t-table or calculator, we find that the critical t-value for a two-tailed test with df = 29 and α = 0.10 \n",
    "    (90% confidence level) is approximately ±1.70.\n",
    "\n",
    "Alternatively, we can calculate the p-value using a t-distribution calculator or software. The p-value is approximately \n",
    "0.001.\n",
    "\n",
    "Step 5: Make a decision\n",
    "    Since the calculated t-statistic (3.46) is greater than the critical t-value (1.70), we reject the null hypothesis.\n",
    "    The p-value (0.001) is also less than the significance level (0.10), so we reject the null hypothesis.\n",
    "\n",
    "Conclusion:\n",
    "    There is sufficient evidence to suggest that caffeine has a significant effect on reaction time at a 90% confidence level. The average reaction time of 0.25 seconds is significantly different from the hypothesized mean of 0.20 seconds."
   ]
  }
 ],
 "metadata": {
  "kernelspec": {
   "display_name": "Python 3 (ipykernel)",
   "language": "python",
   "name": "python3"
  },
  "language_info": {
   "codemirror_mode": {
    "name": "ipython",
    "version": 3
   },
   "file_extension": ".py",
   "mimetype": "text/x-python",
   "name": "python",
   "nbconvert_exporter": "python",
   "pygments_lexer": "ipython3",
   "version": "3.10.8"
  }
 },
 "nbformat": 4,
 "nbformat_minor": 5
}
