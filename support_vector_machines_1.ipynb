{
 "cells": [
  {
   "cell_type": "code",
   "execution_count": 33,
   "id": "2759ef09-216e-4da9-9921-ba35cfe71155",
   "metadata": {},
   "outputs": [],
   "source": [
    "# Q1. What is the mathematical formula for a linear SVM?"
   ]
  },
  {
   "cell_type": "code",
   "execution_count": 34,
   "id": "e8cf67df-1c83-4eb9-a3c6-e94e0a7e3d45",
   "metadata": {},
   "outputs": [],
   "source": [
    "# f(x) = sign(w^T x + b)"
   ]
  },
  {
   "cell_type": "code",
   "execution_count": 35,
   "id": "3aaf5a77-1aae-40b3-9366-5a278533de15",
   "metadata": {},
   "outputs": [],
   "source": [
    "# Q2. What is the objective function of a linear SVM?"
   ]
  },
  {
   "cell_type": "code",
   "execution_count": 36,
   "id": "3f7bac15-449e-4e17-bcc7-63f9b82eb28c",
   "metadata": {},
   "outputs": [],
   "source": [
    "# The objective function of a linear SVM has two forms:\n",
    "\n",
    "# Primal Form: Minimizes the sum of the margin and slack variables.\n",
    "\n",
    "# Dual Form: Maximizes the Lagrange multipliers, which represents the margin and classification errors.\n",
    "\n",
    "# Both forms aim to find the optimal hyperplane that separates the classes with the maximum margin."
   ]
  },
  {
   "cell_type": "code",
   "execution_count": 37,
   "id": "9bdfd1e0-008f-4bd8-8581-0e8afc13d3ea",
   "metadata": {},
   "outputs": [],
   "source": [
    "# Q3. What is the kernel trick in SVM?"
   ]
  },
  {
   "cell_type": "code",
   "execution_count": 38,
   "id": "3caa4b37-90c2-4793-b143-8423e43ef87c",
   "metadata": {},
   "outputs": [],
   "source": [
    "# The kernel trick in SVM is a method to handle non-linearly separable data by transforming it into a higher-dimensional \n",
    "# space where it becomes linearly separable. Instead of explicitly mapping data to this higher-dimensional space, the\n",
    "# kernel trick uses a function (the kernel) to compute the inner product of data points directly in the original space. \n",
    "# Common kernels include:\n",
    "\n",
    "# Linear Kernel: No transformation, used for linearly separable data.\n",
    "# Polynomial Kernel: Adds polynomial features.\n",
    "# RBF Kernel: Uses a Gaussian function to handle complex boundaries.\n",
    "# Sigmoid Kernel: Mimics neural network behavior.\n",
    "\n",
    "# This trick allows SVM to efficiently find separating hyperplanes in complex data distributions"
   ]
  },
  {
   "cell_type": "code",
   "execution_count": 39,
   "id": "cadab36b-e157-4438-8925-0df29bcbbd6f",
   "metadata": {},
   "outputs": [],
   "source": [
    "# Q5. Illustrate with examples and graphs of Hyperplane, Marginal plane, Soft margin and Hard margin in\n",
    "# SVM?"
   ]
  },
  {
   "cell_type": "code",
   "execution_count": 40,
   "id": "7656bc26-505c-4fbb-a357-e6f20fbc7125",
   "metadata": {},
   "outputs": [],
   "source": [
    "# 1. Hyperplane\n",
    "\n",
    "# Definition: A hyperplane is a decision boundary that separates different classes in the feature space. For a 2D case, it\n",
    "# is a line; for 3D, it is a plane; and for higher dimensions, it is a hyperplane.\n",
    "\n",
    "# Example: In a 2D space, if you have two classes of points, the hyperplane would be a line that separates these classes.\n",
    "\n",
    "# 2. Margin\n",
    "# Definition: The margin is the distance between the hyperplane and the nearest data points from either class. SVM aims to\n",
    "# maximize this margin to improve the classifier’s generalization.\n",
    "\n",
    "# Example: For a line separating two classes, the margin is the distance from this line to the nearest data points (support vectors).\n",
    "\n",
    "# 3. Hard Margin\n",
    "# Definition: Hard margin SVM is used when the data is linearly separable, meaning there is a clear boundary with no \n",
    "# misclassification. It requires that all data points be correctly classified with no margin violations.\n",
    "\n",
    "# Example: If your data is perfectly separable, a hard margin SVM would create a boundary with no errors.\n",
    "\n",
    "# 4. Soft Margin\n",
    "# Definition: Soft margin SVM allows some misclassifications to handle non-linearly separable or noisy data. It introduces \n",
    "# slack variables to tolerate some violations of the margin constraints.\n",
    "\n",
    "# Example: When data is noisy or not perfectly separable, the soft margin allows the boundary to accommodate some errors \n",
    "# for better generalization"
   ]
  },
  {
   "cell_type": "code",
   "execution_count": 41,
   "id": "ac6343f2-3a54-40f6-8073-d3f21e1fedc7",
   "metadata": {},
   "outputs": [],
   "source": [
    "# Q6. SVM Implementation through Iris dataset.\n",
    "\n",
    "# ~ Load the iris dataset from the scikit-learn library and split it into a training set and a testing setl\n",
    "# ~ Train a linear SVM classifier on the training set and predict the labels for the testing setl\n",
    "# ~ Compute the accuracy of the model on the testing setl\n",
    "# ~ Plot the decision boundaries of the trained model using two of the featuresl\n",
    "# ~ Try different values of the regularisation parameter C and see how it affects the performance of\n",
    "# the model.\n",
    "\n",
    "# Bonus task: Implement a linear SVM classifier from scratch using Python and compare its\n",
    "# performance with the scikit-learn implementation."
   ]
  },
  {
   "cell_type": "code",
   "execution_count": 42,
   "id": "dccf5244-bde1-4f6a-858f-91ec0569e913",
   "metadata": {},
   "outputs": [],
   "source": [
    "# 1.Load the Iris Dataset and Split It"
   ]
  },
  {
   "cell_type": "code",
   "execution_count": 43,
   "id": "33f30960-8b01-4743-9746-3e0b59dd8da6",
   "metadata": {},
   "outputs": [],
   "source": [
    "from sklearn.datasets import load_iris\n",
    "from sklearn.model_selection import train_test_split\n",
    "from sklearn.preprocessing import StandardScaler"
   ]
  },
  {
   "cell_type": "code",
   "execution_count": 44,
   "id": "1f58e36d-2a5c-4f84-ad50-a6d71c702bc3",
   "metadata": {},
   "outputs": [],
   "source": [
    "iris = load_iris()\n",
    "X, y = iris.data, iris.target"
   ]
  },
  {
   "cell_type": "code",
   "execution_count": 45,
   "id": "a549352e-2d05-4f1e-8f28-33ea772ae3cb",
   "metadata": {},
   "outputs": [],
   "source": [
    "X_train, X_test, y_train, y_test = train_test_split(X, y, test_size=0.3, random_state=42)"
   ]
  },
  {
   "cell_type": "code",
   "execution_count": 46,
   "id": "d4b71c45-a817-4bd2-82f9-95d2f645a534",
   "metadata": {},
   "outputs": [],
   "source": [
    "scaler = StandardScaler()\n",
    "X_train = scaler.fit_transform(X_train)\n",
    "X_test = scaler.transform(X_test)"
   ]
  },
  {
   "cell_type": "code",
   "execution_count": 47,
   "id": "072fdb26-ccce-4f53-89dd-98e68f24aa70",
   "metadata": {},
   "outputs": [],
   "source": [
    "# 2.Train a Linear SVM Classifier and Predict Labels"
   ]
  },
  {
   "cell_type": "code",
   "execution_count": 48,
   "id": "b4b3a919-0815-4caf-b8aa-fde9c5fb6c8f",
   "metadata": {},
   "outputs": [],
   "source": [
    "from sklearn.svm import SVC\n",
    "from sklearn.metrics import accuracy_score"
   ]
  },
  {
   "cell_type": "code",
   "execution_count": 49,
   "id": "6b118bb9-4914-46b8-872f-602544430010",
   "metadata": {},
   "outputs": [
    {
     "data": {
      "text/html": [
       "<style>#sk-container-id-3 {color: black;background-color: white;}#sk-container-id-3 pre{padding: 0;}#sk-container-id-3 div.sk-toggleable {background-color: white;}#sk-container-id-3 label.sk-toggleable__label {cursor: pointer;display: block;width: 100%;margin-bottom: 0;padding: 0.3em;box-sizing: border-box;text-align: center;}#sk-container-id-3 label.sk-toggleable__label-arrow:before {content: \"▸\";float: left;margin-right: 0.25em;color: #696969;}#sk-container-id-3 label.sk-toggleable__label-arrow:hover:before {color: black;}#sk-container-id-3 div.sk-estimator:hover label.sk-toggleable__label-arrow:before {color: black;}#sk-container-id-3 div.sk-toggleable__content {max-height: 0;max-width: 0;overflow: hidden;text-align: left;background-color: #f0f8ff;}#sk-container-id-3 div.sk-toggleable__content pre {margin: 0.2em;color: black;border-radius: 0.25em;background-color: #f0f8ff;}#sk-container-id-3 input.sk-toggleable__control:checked~div.sk-toggleable__content {max-height: 200px;max-width: 100%;overflow: auto;}#sk-container-id-3 input.sk-toggleable__control:checked~label.sk-toggleable__label-arrow:before {content: \"▾\";}#sk-container-id-3 div.sk-estimator input.sk-toggleable__control:checked~label.sk-toggleable__label {background-color: #d4ebff;}#sk-container-id-3 div.sk-label input.sk-toggleable__control:checked~label.sk-toggleable__label {background-color: #d4ebff;}#sk-container-id-3 input.sk-hidden--visually {border: 0;clip: rect(1px 1px 1px 1px);clip: rect(1px, 1px, 1px, 1px);height: 1px;margin: -1px;overflow: hidden;padding: 0;position: absolute;width: 1px;}#sk-container-id-3 div.sk-estimator {font-family: monospace;background-color: #f0f8ff;border: 1px dotted black;border-radius: 0.25em;box-sizing: border-box;margin-bottom: 0.5em;}#sk-container-id-3 div.sk-estimator:hover {background-color: #d4ebff;}#sk-container-id-3 div.sk-parallel-item::after {content: \"\";width: 100%;border-bottom: 1px solid gray;flex-grow: 1;}#sk-container-id-3 div.sk-label:hover label.sk-toggleable__label {background-color: #d4ebff;}#sk-container-id-3 div.sk-serial::before {content: \"\";position: absolute;border-left: 1px solid gray;box-sizing: border-box;top: 0;bottom: 0;left: 50%;z-index: 0;}#sk-container-id-3 div.sk-serial {display: flex;flex-direction: column;align-items: center;background-color: white;padding-right: 0.2em;padding-left: 0.2em;position: relative;}#sk-container-id-3 div.sk-item {position: relative;z-index: 1;}#sk-container-id-3 div.sk-parallel {display: flex;align-items: stretch;justify-content: center;background-color: white;position: relative;}#sk-container-id-3 div.sk-item::before, #sk-container-id-3 div.sk-parallel-item::before {content: \"\";position: absolute;border-left: 1px solid gray;box-sizing: border-box;top: 0;bottom: 0;left: 50%;z-index: -1;}#sk-container-id-3 div.sk-parallel-item {display: flex;flex-direction: column;z-index: 1;position: relative;background-color: white;}#sk-container-id-3 div.sk-parallel-item:first-child::after {align-self: flex-end;width: 50%;}#sk-container-id-3 div.sk-parallel-item:last-child::after {align-self: flex-start;width: 50%;}#sk-container-id-3 div.sk-parallel-item:only-child::after {width: 0;}#sk-container-id-3 div.sk-dashed-wrapped {border: 1px dashed gray;margin: 0 0.4em 0.5em 0.4em;box-sizing: border-box;padding-bottom: 0.4em;background-color: white;}#sk-container-id-3 div.sk-label label {font-family: monospace;font-weight: bold;display: inline-block;line-height: 1.2em;}#sk-container-id-3 div.sk-label-container {text-align: center;}#sk-container-id-3 div.sk-container {/* jupyter's `normalize.less` sets `[hidden] { display: none; }` but bootstrap.min.css set `[hidden] { display: none !important; }` so we also need the `!important` here to be able to override the default hidden behavior on the sphinx rendered scikit-learn.org. See: https://github.com/scikit-learn/scikit-learn/issues/21755 */display: inline-block !important;position: relative;}#sk-container-id-3 div.sk-text-repr-fallback {display: none;}</style><div id=\"sk-container-id-3\" class=\"sk-top-container\"><div class=\"sk-text-repr-fallback\"><pre>SVC(kernel=&#x27;linear&#x27;)</pre><b>In a Jupyter environment, please rerun this cell to show the HTML representation or trust the notebook. <br />On GitHub, the HTML representation is unable to render, please try loading this page with nbviewer.org.</b></div><div class=\"sk-container\" hidden><div class=\"sk-item\"><div class=\"sk-estimator sk-toggleable\"><input class=\"sk-toggleable__control sk-hidden--visually\" id=\"sk-estimator-id-3\" type=\"checkbox\" checked><label for=\"sk-estimator-id-3\" class=\"sk-toggleable__label sk-toggleable__label-arrow\">SVC</label><div class=\"sk-toggleable__content\"><pre>SVC(kernel=&#x27;linear&#x27;)</pre></div></div></div></div></div>"
      ],
      "text/plain": [
       "SVC(kernel='linear')"
      ]
     },
     "execution_count": 49,
     "metadata": {},
     "output_type": "execute_result"
    }
   ],
   "source": [
    "model = SVC(kernel='linear', C=1.0)  \n",
    "model.fit(X_train, y_train)"
   ]
  },
  {
   "cell_type": "code",
   "execution_count": 50,
   "id": "ac263060-9f29-46a6-a594-4fd1e47e1f9f",
   "metadata": {},
   "outputs": [],
   "source": [
    "y_pred = model.predict(X_test)"
   ]
  },
  {
   "cell_type": "code",
   "execution_count": 51,
   "id": "d1e3024a-ac21-4a61-a8ba-90161e76835c",
   "metadata": {},
   "outputs": [],
   "source": [
    "accuracy = accuracy_score(y_test, y_pred)"
   ]
  },
  {
   "cell_type": "code",
   "execution_count": 52,
   "id": "0ee5173a-49ff-4c02-8f55-f07d251c8397",
   "metadata": {},
   "outputs": [
    {
     "data": {
      "text/plain": [
       "0.9777777777777777"
      ]
     },
     "execution_count": 52,
     "metadata": {},
     "output_type": "execute_result"
    }
   ],
   "source": [
    "accuracy "
   ]
  },
  {
   "cell_type": "code",
   "execution_count": 53,
   "id": "becfa719-8cb0-4ac6-8c8f-828922f6fdb8",
   "metadata": {},
   "outputs": [],
   "source": [
    "# 3.Plot Decision Boundaries Using Two Features"
   ]
  },
  {
   "cell_type": "code",
   "execution_count": 54,
   "id": "b4c030a6-f07e-49f6-8723-c16b4b797167",
   "metadata": {},
   "outputs": [],
   "source": [
    "import numpy as np\n",
    "import matplotlib.pyplot as plt"
   ]
  },
  {
   "cell_type": "code",
   "execution_count": 55,
   "id": "0d3066a0-066b-4fc1-be3e-7352fe2272e5",
   "metadata": {},
   "outputs": [],
   "source": [
    "feature1, feature2 = 0, 1 \n",
    "X_train_2d = X_train[:, [feature1, feature2]]\n",
    "X_test_2d = X_test[:, [feature1, feature2]]"
   ]
  },
  {
   "cell_type": "code",
   "execution_count": 56,
   "id": "d516a631-5f7f-4f0e-8a12-6c57b20e9a4a",
   "metadata": {},
   "outputs": [
    {
     "data": {
      "text/html": [
       "<style>#sk-container-id-4 {color: black;background-color: white;}#sk-container-id-4 pre{padding: 0;}#sk-container-id-4 div.sk-toggleable {background-color: white;}#sk-container-id-4 label.sk-toggleable__label {cursor: pointer;display: block;width: 100%;margin-bottom: 0;padding: 0.3em;box-sizing: border-box;text-align: center;}#sk-container-id-4 label.sk-toggleable__label-arrow:before {content: \"▸\";float: left;margin-right: 0.25em;color: #696969;}#sk-container-id-4 label.sk-toggleable__label-arrow:hover:before {color: black;}#sk-container-id-4 div.sk-estimator:hover label.sk-toggleable__label-arrow:before {color: black;}#sk-container-id-4 div.sk-toggleable__content {max-height: 0;max-width: 0;overflow: hidden;text-align: left;background-color: #f0f8ff;}#sk-container-id-4 div.sk-toggleable__content pre {margin: 0.2em;color: black;border-radius: 0.25em;background-color: #f0f8ff;}#sk-container-id-4 input.sk-toggleable__control:checked~div.sk-toggleable__content {max-height: 200px;max-width: 100%;overflow: auto;}#sk-container-id-4 input.sk-toggleable__control:checked~label.sk-toggleable__label-arrow:before {content: \"▾\";}#sk-container-id-4 div.sk-estimator input.sk-toggleable__control:checked~label.sk-toggleable__label {background-color: #d4ebff;}#sk-container-id-4 div.sk-label input.sk-toggleable__control:checked~label.sk-toggleable__label {background-color: #d4ebff;}#sk-container-id-4 input.sk-hidden--visually {border: 0;clip: rect(1px 1px 1px 1px);clip: rect(1px, 1px, 1px, 1px);height: 1px;margin: -1px;overflow: hidden;padding: 0;position: absolute;width: 1px;}#sk-container-id-4 div.sk-estimator {font-family: monospace;background-color: #f0f8ff;border: 1px dotted black;border-radius: 0.25em;box-sizing: border-box;margin-bottom: 0.5em;}#sk-container-id-4 div.sk-estimator:hover {background-color: #d4ebff;}#sk-container-id-4 div.sk-parallel-item::after {content: \"\";width: 100%;border-bottom: 1px solid gray;flex-grow: 1;}#sk-container-id-4 div.sk-label:hover label.sk-toggleable__label {background-color: #d4ebff;}#sk-container-id-4 div.sk-serial::before {content: \"\";position: absolute;border-left: 1px solid gray;box-sizing: border-box;top: 0;bottom: 0;left: 50%;z-index: 0;}#sk-container-id-4 div.sk-serial {display: flex;flex-direction: column;align-items: center;background-color: white;padding-right: 0.2em;padding-left: 0.2em;position: relative;}#sk-container-id-4 div.sk-item {position: relative;z-index: 1;}#sk-container-id-4 div.sk-parallel {display: flex;align-items: stretch;justify-content: center;background-color: white;position: relative;}#sk-container-id-4 div.sk-item::before, #sk-container-id-4 div.sk-parallel-item::before {content: \"\";position: absolute;border-left: 1px solid gray;box-sizing: border-box;top: 0;bottom: 0;left: 50%;z-index: -1;}#sk-container-id-4 div.sk-parallel-item {display: flex;flex-direction: column;z-index: 1;position: relative;background-color: white;}#sk-container-id-4 div.sk-parallel-item:first-child::after {align-self: flex-end;width: 50%;}#sk-container-id-4 div.sk-parallel-item:last-child::after {align-self: flex-start;width: 50%;}#sk-container-id-4 div.sk-parallel-item:only-child::after {width: 0;}#sk-container-id-4 div.sk-dashed-wrapped {border: 1px dashed gray;margin: 0 0.4em 0.5em 0.4em;box-sizing: border-box;padding-bottom: 0.4em;background-color: white;}#sk-container-id-4 div.sk-label label {font-family: monospace;font-weight: bold;display: inline-block;line-height: 1.2em;}#sk-container-id-4 div.sk-label-container {text-align: center;}#sk-container-id-4 div.sk-container {/* jupyter's `normalize.less` sets `[hidden] { display: none; }` but bootstrap.min.css set `[hidden] { display: none !important; }` so we also need the `!important` here to be able to override the default hidden behavior on the sphinx rendered scikit-learn.org. See: https://github.com/scikit-learn/scikit-learn/issues/21755 */display: inline-block !important;position: relative;}#sk-container-id-4 div.sk-text-repr-fallback {display: none;}</style><div id=\"sk-container-id-4\" class=\"sk-top-container\"><div class=\"sk-text-repr-fallback\"><pre>SVC(kernel=&#x27;linear&#x27;)</pre><b>In a Jupyter environment, please rerun this cell to show the HTML representation or trust the notebook. <br />On GitHub, the HTML representation is unable to render, please try loading this page with nbviewer.org.</b></div><div class=\"sk-container\" hidden><div class=\"sk-item\"><div class=\"sk-estimator sk-toggleable\"><input class=\"sk-toggleable__control sk-hidden--visually\" id=\"sk-estimator-id-4\" type=\"checkbox\" checked><label for=\"sk-estimator-id-4\" class=\"sk-toggleable__label sk-toggleable__label-arrow\">SVC</label><div class=\"sk-toggleable__content\"><pre>SVC(kernel=&#x27;linear&#x27;)</pre></div></div></div></div></div>"
      ],
      "text/plain": [
       "SVC(kernel='linear')"
      ]
     },
     "execution_count": 56,
     "metadata": {},
     "output_type": "execute_result"
    }
   ],
   "source": [
    "model_2d = SVC(kernel='linear', C=1.0)\n",
    "model_2d.fit(X_train_2d, y_train)"
   ]
  },
  {
   "cell_type": "code",
   "execution_count": 57,
   "id": "181f1c35-8606-4f01-8c68-a0f98fce0ee8",
   "metadata": {},
   "outputs": [],
   "source": [
    "xx, yy = np.meshgrid(np.linspace(X_train_2d[:, 0].min() - 1, X_train_2d[:, 0].max() + 1, 100),\n",
    "                     np.linspace(X_train_2d[:, 1].min() - 1, X_train_2d[:, 1].max() + 1, 100))\n",
    "Z = model_2d.predict(np.c_[xx.ravel(), yy.ravel()])\n",
    "Z = Z.reshape(xx.shape)"
   ]
  },
  {
   "cell_type": "code",
   "execution_count": 58,
   "id": "90aa44ad-e762-443c-a826-45119bc89564",
   "metadata": {},
   "outputs": [
    {
     "data": {
      "image/png": "[encoded data removed]",
      "text/plain": [
       "<Figure size 640x480 with 1 Axes>"
      ]
     },
     "metadata": {},
     "output_type": "display_data"
    }
   ],
   "source": [
    "plt.contourf(xx, yy, Z, alpha=0.3, cmap=plt.cm.Paired)\n",
    "plt.scatter(X_train_2d[:, 0], X_train_2d[:, 1], c=y_train, edgecolors='k', marker='o', cmap=plt.cm.Paired)\n",
    "plt.title(\"Decision Boundaries with Linear SVM\")\n",
    "plt.xlabel(\"Feature 1\")\n",
    "plt.ylabel(\"Feature 2\")\n",
    "plt.show()"
   ]
  },
  {
   "cell_type": "code",
   "execution_count": 59,
   "id": "393846f7-26d1-49bc-9b7a-0ced2e600deb",
   "metadata": {},
   "outputs": [],
   "source": [
    "# 4.Try Different Values of the Regularization Parameter C"
   ]
  },
  {
   "cell_type": "code",
   "execution_count": 60,
   "id": "46c94842-645e-4f1c-9fe4-19adf6781b23",
   "metadata": {},
   "outputs": [],
   "source": [
    "C_values = [0.1, 1.0, 10.0]\n",
    "for C in C_values:\n",
    "    model = SVC(kernel='linear', C=C)\n",
    "    model.fit(X_train, y_train)\n",
    "    y_pred = model.predict(X_test)\n",
    "    accuracy = accuracy_score(y_test, y_pred)"
   ]
  },
  {
   "cell_type": "code",
   "execution_count": 61,
   "id": "87f2701a-89fa-4379-98ba-b7b3f256549b",
   "metadata": {},
   "outputs": [
    {
     "data": {
      "text/plain": [
       "0.9777777777777777"
      ]
     },
     "execution_count": 61,
     "metadata": {},
     "output_type": "execute_result"
    }
   ],
   "source": [
    "accuracy"
   ]
  },
  {
   "cell_type": "code",
   "execution_count": null,
   "id": "ec7a7a39-c6f1-4c67-95f1-ac91568d846d",
   "metadata": {},
   "outputs": [],
   "source": []
  },
  {
   "cell_type": "code",
   "execution_count": null,
   "id": "80edb460-ff25-4b76-a8cb-7bb426009efa",
   "metadata": {},
   "outputs": [],
   "source": []
  },
  {
   "cell_type": "code",
   "execution_count": null,
   "id": "180647f7-efe2-409e-979a-2e3a4f715340",
   "metadata": {},
   "outputs": [],
   "source": []
  },
  {
   "cell_type": "code",
   "execution_count": null,
   "id": "85d565d9-f520-4fd4-8a20-b6eaa057cf79",
   "metadata": {},
   "outputs": [],
   "source": []
  },
  {
   "cell_type": "code",
   "execution_count": null,
   "id": "27710039-f5b9-420a-a066-4f4ee026011d",
   "metadata": {},
   "outputs": [],
   "source": []
  },
  {
   "cell_type": "code",
   "execution_count": null,
   "id": "828e3f17-f812-4a52-8bd3-fd2f4b29d95f",
   "metadata": {},
   "outputs": [],
   "source": []
  },
  {
   "cell_type": "code",
   "execution_count": null,
   "id": "4a95060b-e012-40b5-bfbc-379f9bbc59a0",
   "metadata": {},
   "outputs": [],
   "source": []
  }
 ],
 "metadata": {
  "kernelspec": {
   "display_name": "Python 3 (ipykernel)",
   "language": "python",
   "name": "python3"
  },
  "language_info": {
   "codemirror_mode": {
    "name": "ipython",
    "version": 3
   },
   "file_extension": ".py",
   "mimetype": "text/x-python",
   "name": "python",
   "nbconvert_exporter": "python",
   "pygments_lexer": "ipython3",
   "version": "3.10.8"
  }
 },
 "nbformat": 4,
 "nbformat_minor": 5
}
