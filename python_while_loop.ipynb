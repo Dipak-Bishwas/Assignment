{
 "cells": [
  {
   "cell_type": "code",
   "execution_count": 5,
   "id": "9e76f647-5779-4890-a980-54bffa385fdb",
   "metadata": {},
   "outputs": [],
   "source": [
    "# 1.write a program to accept percentage from the user and display the grade according to the following criteria"
   ]
  },
  {
   "cell_type": "code",
   "execution_count": 6,
   "id": "288e3432-7f64-4e3f-bc16-742b78f0aa75",
   "metadata": {},
   "outputs": [
    {
     "name": "stdin",
     "output_type": "stream",
     "text": [
      "Enter the percentage:  56\n"
     ]
    },
    {
     "name": "stdout",
     "output_type": "stream",
     "text": [
      "Grade is D\n"
     ]
    }
   ],
   "source": [
    "percentage = float(input(\"Enter the percentage: \"))\n",
    "\n",
    "if percentage > 90:\n",
    "    print(\"Grade is A\")\n",
    "elif percentage <= 90 and percentage > 80:\n",
    "    print(\"Grade is B\")\n",
    "elif percentage >= 60 and percentage <= 80:\n",
    "    print(\"Grade is C\")\n",
    "else:\n",
    "    print(\"Grade is D\")\n"
   ]
  },
  {
   "cell_type": "code",
   "execution_count": 8,
   "id": "236f357a-1409-41dc-864e-69d42bb03a25",
   "metadata": {},
   "outputs": [],
   "source": [
    "# 2. Write a program to accept the cost price of a bike and display the road tax to be paid according to the following criteria:"
   ]
  },
  {
   "cell_type": "code",
   "execution_count": 9,
   "id": "569a0bf8-5811-4f7c-a7bd-0aee65120fce",
   "metadata": {},
   "outputs": [
    {
     "name": "stdin",
     "output_type": "stream",
     "text": [
      "Enter the cost price of the bike (in Rs):  234556\n"
     ]
    },
    {
     "name": "stdout",
     "output_type": "stream",
     "text": [
      "Road tax to be paid: Rs 35183.4\n"
     ]
    }
   ],
   "source": [
    "cost_price = float(input(\"Enter the cost price of the bike (in Rs): \"))\n",
    "\n",
    "if cost_price > 100000:\n",
    "    tax = 0.15 * cost_price\n",
    "elif cost_price > 50000 and cost_price <= 100000:\n",
    "    tax = 0.10 * cost_price\n",
    "else:\n",
    "    tax = 0.05 * cost_price\n",
    "\n",
    "print(\"Road tax to be paid: Rs\", tax)\n"
   ]
  },
  {
   "cell_type": "code",
   "execution_count": 10,
   "id": "df42a81b-f4df-4c7f-9c96-c352a227da1d",
   "metadata": {},
   "outputs": [],
   "source": [
    "# 3. Accept any city from the user and display monuments of that city."
   ]
  },
  {
   "cell_type": "code",
   "execution_count": 12,
   "id": "423ab65d-4953-4350-bbe7-0827960d3121",
   "metadata": {},
   "outputs": [
    {
     "name": "stdin",
     "output_type": "stream",
     "text": [
      "Enter a city:  Delhi\n"
     ]
    },
    {
     "name": "stdout",
     "output_type": "stream",
     "text": [
      "Monument: Red Fort\n"
     ]
    }
   ],
   "source": [
    "city = input(\"Enter a city: \")\n",
    "\n",
    "if city == \"Delhi\":\n",
    "    print(\"Monument: Red Fort\")\n",
    "elif city == \"Agra\":\n",
    "    print(\"Monument: Taj Mahal\")\n",
    "elif city == \"jaipur\":\n",
    "    print(\"Monument: Jal Mahal\")\n",
    "else:\n",
    "    print(\"No monuments found for the entered city.\")\n"
   ]
  },
  {
   "cell_type": "code",
   "execution_count": 13,
   "id": "29e8bfab-2510-4447-9371-b0a090cefffe",
   "metadata": {},
   "outputs": [],
   "source": [
    "# 4. Check how many times a given numher can be divided by 3 before it is less than or equal to 10."
   ]
  },
  {
   "cell_type": "code",
   "execution_count": 3,
   "id": "ec1b4734-1c3d-47e9-87e8-9a7c6d22fbda",
   "metadata": {},
   "outputs": [
    {
     "name": "stdin",
     "output_type": "stream",
     "text": [
      "Enter a number:  38\n"
     ]
    },
    {
     "name": "stdout",
     "output_type": "stream",
     "text": [
      "2\n"
     ]
    }
   ],
   "source": [
    "num = int(input(\"Enter a number: \"))\n",
    "count = 0\n",
    "\n",
    "while num > 10:\n",
    "    num = num / 3\n",
    "    count = count + 1\n",
    "\n",
    "print(count)"
   ]
  },
  {
   "cell_type": "code",
   "execution_count": 4,
   "id": "79df9dad-8d4c-41c9-bbe8-da2cb25f3bc2",
   "metadata": {},
   "outputs": [],
   "source": [
    "# 5. why and when to use while loop in python give a detailed description with example."
   ]
  },
  {
   "cell_type": "code",
   "execution_count": 5,
   "id": "25af824d-7360-41e4-a93a-405b389745ab",
   "metadata": {},
   "outputs": [],
   "source": [
    "# Ans:\n",
    "# ->The while loop in Python is used when you want to repeatedly execute a block of code as long as a certain condition is true. It provides a way to create a loop that continues until the condition becomes false.\n",
    "# ->Use a while loop when the number of iterations is unknown:\n",
    "# ->Unlike a for loop, which is typically used when the number of iterations is known, a while loop is useful when you don't know in advance how many times the loop needs to be executed. You can set up the loop to continue until a specific condition is met\n",
    "# The while loop starts with the while keyword, followed by a condition.The code block inside the loop is indented and will be executed as long as the condition is true.\n"
   ]
  },
  {
   "cell_type": "code",
   "execution_count": 8,
   "id": "0725374d-d6c8-4b1c-a551-e744322fc47a",
   "metadata": {},
   "outputs": [
    {
     "name": "stdout",
     "output_type": "stream",
     "text": [
      "1\n",
      "2\n",
      "3\n",
      "4\n",
      "5\n",
      "6\n",
      "7\n",
      "8\n",
      "9\n",
      "10\n"
     ]
    }
   ],
   "source": [
    "number = 1\n",
    "while number <=10:\n",
    "    print(number)\n",
    "    number = number + 1"
   ]
  },
  {
   "cell_type": "code",
   "execution_count": 9,
   "id": "8d008867-3a1e-4364-a7ef-22817f2449c0",
   "metadata": {},
   "outputs": [],
   "source": [
    "# 6.Use nestead while loop to print 3 different pattern."
   ]
  },
  {
   "cell_type": "code",
   "execution_count": 10,
   "id": "a2626c2f-168f-426d-aa87-443eb80973ff",
   "metadata": {},
   "outputs": [],
   "source": [
    "# 1.square pattern "
   ]
  },
  {
   "cell_type": "code",
   "execution_count": 12,
   "id": "652a0854-ee54-44cd-8306-c4606ad14b22",
   "metadata": {},
   "outputs": [
    {
     "name": "stdout",
     "output_type": "stream",
     "text": [
      "* * * * \n",
      "* * * * \n",
      "* * * * \n",
      "* * * * \n"
     ]
    }
   ],
   "source": [
    "size = 4\n",
    "\n",
    "row = 1\n",
    "while row <= size:\n",
    "    col = 1\n",
    "    while col <= size:\n",
    "        print(\"*\", end=\" \")\n",
    "        col += 1\n",
    "    print()\n",
    "    row += 1\n"
   ]
  },
  {
   "cell_type": "code",
   "execution_count": 13,
   "id": "c643ed16-1cf8-4f46-958c-aa4be1a7b50c",
   "metadata": {},
   "outputs": [],
   "source": [
    "# 2.Left-aligned Triangle"
   ]
  },
  {
   "cell_type": "code",
   "execution_count": 15,
   "id": "30991503-6e98-40a5-9657-90ad147a80a2",
   "metadata": {},
   "outputs": [
    {
     "name": "stdout",
     "output_type": "stream",
     "text": [
      "* \n",
      "* * \n",
      "* * * \n",
      "* * * * \n"
     ]
    }
   ],
   "source": [
    "row = 1\n",
    "while row <= 4:\n",
    "    col = 1\n",
    "    while col <= row:\n",
    "        print(\"*\", end=\" \")\n",
    "        col += 1\n",
    "    print()\n",
    "    row += 1\n"
   ]
  },
  {
   "cell_type": "code",
   "execution_count": 16,
   "id": "29c2b45f-3684-40f6-b056-0eb660925fb7",
   "metadata": {},
   "outputs": [],
   "source": [
    "# 3.Right-aligned Triangle"
   ]
  },
  {
   "cell_type": "code",
   "execution_count": 18,
   "id": "d0533e83-b3a5-4f8c-80d3-24e69a8a68ba",
   "metadata": {},
   "outputs": [
    {
     "name": "stdout",
     "output_type": "stream",
     "text": [
      "      * \n",
      "    * * \n",
      "  * * * \n",
      "* * * * \n"
     ]
    }
   ],
   "source": [
    "row = 1\n",
    "while row <= 4:\n",
    "    col = 1\n",
    "    while col <= 4:\n",
    "        if col <= 4 - row:\n",
    "            print(\" \", end=\" \")\n",
    "        else:\n",
    "            print(\"*\", end=\" \")\n",
    "        col += 1\n",
    "    print()\n",
    "    row += 1\n"
   ]
  },
  {
   "cell_type": "code",
   "execution_count": 19,
   "id": "072309d2-7eee-4c89-99af-99fe5b29d9ac",
   "metadata": {},
   "outputs": [],
   "source": [
    "# 7.Reverse a while loop to display numbers from 10 to 1"
   ]
  },
  {
   "cell_type": "code",
   "execution_count": 26,
   "id": "8260cfeb-a117-4b0a-acb7-affe28ee4a6a",
   "metadata": {},
   "outputs": [
    {
     "name": "stdout",
     "output_type": "stream",
     "text": [
      "10\n",
      "9\n",
      "8\n",
      "7\n",
      "6\n",
      "5\n",
      "4\n",
      "3\n",
      "2\n",
      "1\n"
     ]
    }
   ],
   "source": [
    "number = 10\n",
    "while number >= 1:\n",
    "    print(number)\n",
    "    number = number - 1"
   ]
  },
  {
   "cell_type": "code",
   "execution_count": null,
   "id": "27947800-1628-4052-83da-afffefb4fcb1",
   "metadata": {},
   "outputs": [],
   "source": []
  }
 ],
 "metadata": {
  "kernelspec": {
   "display_name": "Python 3 (ipykernel)",
   "language": "python",
   "name": "python3"
  },
  "language_info": {
   "codemirror_mode": {
    "name": "ipython",
    "version": 3
   },
   "file_extension": ".py",
   "mimetype": "text/x-python",
   "name": "python",
   "nbconvert_exporter": "python",
   "pygments_lexer": "ipython3",
   "version": "3.10.8"
  }
 },
 "nbformat": 4,
 "nbformat_minor": 5
}
