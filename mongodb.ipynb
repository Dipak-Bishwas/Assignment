{
 "cells": [
  {
   "cell_type": "code",
   "execution_count": 1,
   "id": "cddcd231-e0dc-4b90-95fa-db5231e5811c",
   "metadata": {},
   "outputs": [],
   "source": [
    "# Q1. What is MongoDB? Explain non-relational databases in short. In which scenarios it is preferred to use\n",
    "# MongoDB over SQL databases?"
   ]
  },
  {
   "cell_type": "code",
   "execution_count": 3,
   "id": "f166bebf-6853-48d5-9eee-985170c9b1d4",
   "metadata": {},
   "outputs": [],
   "source": [
    "# MongoDB is a NoSQL, document-based, non-relational database that stores data in JSON-like documents. It is designed for\n",
    "# high performance, scalability, and ease of use.\n",
    "\n",
    "# NoSQL databases handle large amounts of unstructured or semi-structured data, are schema-less, non-tabular,\n",
    "# and designed for horizontal scaling.\n",
    "\n",
    "# Scenarios where MongoDB is preferred over SQL databases:\n",
    "# Handling large amounts of unstructured data\n",
    "# High scalability and performance\n",
    "# Flexible data modeling\n",
    "# Real-time data processing\n",
    "# Big data and analytics\n",
    "# Content management and blogging platforms\n",
    "# Mobile and web applications"
   ]
  },
  {
   "cell_type": "code",
   "execution_count": 4,
   "id": "45d63343-1dbb-483b-81a8-7bde2c99681b",
   "metadata": {},
   "outputs": [],
   "source": [
    "# Q2. State and Explain the features of MongoDB."
   ]
  },
  {
   "cell_type": "code",
   "execution_count": 5,
   "id": "1627aeec-0b50-42a2-a9d4-d70ca13ebf82",
   "metadata": {},
   "outputs": [],
   "source": [
    "# 1. Document-Oriented: MongoDB stores data in JSON-like documents, which allows for flexible and dynamic schema design.\n",
    "\n",
    "# 2. NoSQL: MongoDB is a NoSQL database, meaning it doesn't use the traditional table-based relational model.\n",
    "\n",
    "# 3. Scalability: MongoDB is designed for horizontal scaling, allowing it to handle high traffic and large amounts of data.\n",
    "\n",
    "# 4. High Performance: MongoDB provides high performance due to its in-memory data storage and caching capabilities.\n",
    "\n",
    "# 5. Flexible Data Model: MongoDB's schema-less design allows for easy adaptation to changing data structures and rapid prototyping.\n",
    "\n",
    "# 6. Rich Query Language: MongoDB provides a rich query language that allows for complex queries and data retrieval.\n",
    "\n",
    "# 7. Indexing: MongoDB supports indexing, which improves query performance and data retrieval.\n",
    "\n",
    "# 8. Replication: MongoDB provides replication, which ensures high availability and redundancy of data.\n",
    "\n",
    "# 9. MapReduce: MongoDB supports MapReduce, a data processing paradigm that allows for batch processing and data aggregation.\n",
    "\n",
    "# 10. GridFS: MongoDB provides GridFS, a mechanism for storing and retrieving large files, such as images and videos.\n",
    "\n",
    "# 11. Security: MongoDB provides robust security features, including authentication, authorization, and encryption.\n",
    "\n",
    "# 12. Support for Multiple Programming Languages: MongoDB has drivers for multiple programming languages, including Java, Python, Node.js, and Ruby."
   ]
  },
  {
   "cell_type": "code",
   "execution_count": 6,
   "id": "44e01ca3-8ba3-4032-82da-78f85e85bb48",
   "metadata": {},
   "outputs": [],
   "source": [
    "# Q3. Write a code to connect MongoDB to Python. Also, create a database and a collection in MongoDB."
   ]
  },
  {
   "cell_type": "code",
   "execution_count": 9,
   "id": "1f2435ee-a55c-4a1e-814b-c024857069ca",
   "metadata": {},
   "outputs": [
    {
     "name": "stdout",
     "output_type": "stream",
     "text": [
      "Database created: mydatabase\n",
      "Collection created: mycollection\n"
     ]
    }
   ],
   "source": [
    "import pymongo\n",
    "\n",
    "# Connect to MongoDB\n",
    "client = pymongo.MongoClient(\"mongodb://localhost:27017/\")\n",
    "\n",
    "# Create a database\n",
    "db = client[\"mydatabase\"]\n",
    "\n",
    "# Create a collection\n",
    "collection = db[\"mycollection\"]\n",
    "\n",
    "# Verify the creation\n",
    "print(\"Database created:\", db.name)\n",
    "print(\"Collection created:\", collection.name)\n",
    "\n",
    "# Close the client\n",
    "client.close()"
   ]
  },
  {
   "cell_type": "code",
   "execution_count": 10,
   "id": "f6ac45f1-3ebd-42a2-8104-4a8c95bdfc0e",
   "metadata": {},
   "outputs": [],
   "source": [
    "# Q4. Using the database and the collection created in question number 3, write a code to insert one record,\n",
    "# and insert many records. Use the find() and find_one() methods to print the inserted record."
   ]
  },
  {
   "cell_type": "code",
   "execution_count": null,
   "id": "ddcfe9b4-ce1f-4894-ab6c-3a2c56bd7655",
   "metadata": {},
   "outputs": [],
   "source": [
    "# import pymongo\n",
    "\n",
    "\n",
    "# client = pymongo.MongoClient(\"mongodb://localhost:27017/\")\n",
    "\n",
    "\n",
    "# db = client[\"mydatabase\"]\n",
    "\n",
    "\n",
    "# collection = db[\"mycollection\"]\n",
    "\n",
    "\n",
    "# one_record = {\"name\": \"John\", \"age\": 30, \"city\": \"New York\"}\n",
    "# collection.insert_one(one_record)\n",
    "\n",
    "\n",
    "# many_records = [\n",
    "#     {\"name\": \"Alice\", \"age\": 25, \"city\": \"San Francisco\"},\n",
    "#     {\"name\": \"Bob\", \"age\": 35, \"city\": \"Chicago\"},\n",
    "#     {\"name\": \"Charlie\", \"age\": 20, \"city\": \"Los Angeles\"}\n",
    "# ]\n",
    "# collection.insert_many(many_records)\n",
    "\n",
    "\n",
    "# all_records = collection.find()\n",
    "# print(\"All records:\")\n",
    "# for record in all_records:\n",
    "#     print(record)\n",
    "\n",
    "\n",
    "# one_record_found = collection.find_one({\"name\": \"John\"})\n",
    "# print(\"\\nOne record found:\")\n",
    "# print(one_record_found)\n",
    "\n",
    "\n",
    "# client.close()"
   ]
  },
  {
   "cell_type": "code",
   "execution_count": null,
   "id": "4d3c5e2c-7c0f-4d86-9f3c-e594c9c6cfa9",
   "metadata": {},
   "outputs": [],
   "source": [
    "# Q5. Explain how you can use the find() method to query the MongoDB database. Write a simple code to\n",
    "# demonstrate this."
   ]
  },
  {
   "cell_type": "code",
   "execution_count": null,
   "id": "70e5cf09-5cec-4ec7-b7e6-2247ddc634c8",
   "metadata": {},
   "outputs": [],
   "source": [
    "# The find() method in MongoDB is used to retrieve data from a collection. It returns a cursor object that points to the\n",
    "# results of the query.\n",
    "\n",
    "# import pymongo\n",
    "\n",
    "# # Connect to MongoDB\n",
    "# client = pymongo.MongoClient(\"mongodb://localhost:27017/\")\n",
    "\n",
    "# # Create a database and collection\n",
    "# db = client[\"mydatabase\"]\n",
    "# collection = db[\"mycollection\"]\n",
    "\n",
    "# # Insert some sample data\n",
    "# collection.insert_one({\"name\": \"John\", \"age\": 30, \"city\": \"New York\"})\n",
    "\n",
    "# # Query the database using find()\n",
    "# print(\"Records where age is 30:\")\n",
    "# for record in collection.find({\"age\": 30}):\n",
    "#     print(record)\n",
    "\n",
    "# # Close the client\n",
    "# client.close()"
   ]
  },
  {
   "cell_type": "code",
   "execution_count": 13,
   "id": "79a55a72-467b-49ee-b1c4-7555dbb5642d",
   "metadata": {},
   "outputs": [],
   "source": [
    "# Q6. Explain the sort() method. Give an example to demonstrate sorting in MongoDB."
   ]
  },
  {
   "cell_type": "code",
   "execution_count": 14,
   "id": "4e8105d1-2aa1-4864-86b5-84f819a108de",
   "metadata": {},
   "outputs": [],
   "source": [
    "# The sort() method in MongoDB is used to sort the result of a query in either ascending or descending order.\n",
    "# It takes a document as an argument, where the keys are the field names and the values are the direction of the \n",
    "# sort (1 for ascending, -1 for descending)."
   ]
  },
  {
   "cell_type": "code",
   "execution_count": null,
   "id": "982cc2c3-dab0-4700-8fb6-e35c5d42454e",
   "metadata": {},
   "outputs": [],
   "source": [
    "# import pymongo\n",
    "\n",
    "# client = pymongo.MongoClient(\"mongodb://localhost:27017/\")\n",
    "# db = client[\"mydatabase\"]\n",
    "# collection = db[\"mycollection\"]\n",
    "\n",
    "# collection.insert_many([\n",
    "#     {\"name\": \"John\", \"age\": 30},\n",
    "#     {\"name\": \"Alice\", \"age\": 25},\n",
    "#     {\"name\": \"Bob\", \"age\": 35}\n",
    "# ])\n",
    "\n",
    "# for record in collection.find().sort(\"age\", 1):\n",
    "#     print(record)\n"
   ]
  },
  {
   "cell_type": "code",
   "execution_count": 17,
   "id": "37b7c006-539e-47b4-9f24-71180fdc542b",
   "metadata": {},
   "outputs": [],
   "source": [
    "# Q7. Explain why delete_one(), delete_many(), and drop() is used."
   ]
  },
  {
   "cell_type": "code",
   "execution_count": 18,
   "id": "cb46212c-0b27-45a9-95f9-c767dc11fe4c",
   "metadata": {},
   "outputs": [],
   "source": [
    "# delete_one(): The delete_one() method is used to delete a single document from a collection. It takes a \n",
    "# filter as an argument, which specifies the document to be deleted.\n",
    "\n",
    "delete_many(): The delete_many() method is used to delete multiple documents from a collection. It takes a filter as an argument, which specifies the documents to be deleted."
   ]
  },
  {
   "cell_type": "code",
   "execution_count": null,
   "id": "56e5b4cd-bf36-41f9-8b4e-471ac763a9f0",
   "metadata": {},
   "outputs": [],
   "source": []
  }
 ],
 "metadata": {
  "kernelspec": {
   "display_name": "Python 3 (ipykernel)",
   "language": "python",
   "name": "python3"
  },
  "language_info": {
   "codemirror_mode": {
    "name": "ipython",
    "version": 3
   },
   "file_extension": ".py",
   "mimetype": "text/x-python",
   "name": "python",
   "nbconvert_exporter": "python",
   "pygments_lexer": "ipython3",
   "version": "3.10.8"
  }
 },
 "nbformat": 4,
 "nbformat_minor": 5
}
