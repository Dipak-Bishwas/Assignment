{
 "cells": [
  {
   "cell_type": "code",
   "execution_count": 1,
   "id": "3a43cb2e-afc2-4a8c-953d-4bd60ec4232e",
   "metadata": {},
   "outputs": [],
   "source": [
    "# 1. who developed python programming language?"
   ]
  },
  {
   "cell_type": "code",
   "execution_count": 2,
   "id": "52c34d53-4905-4133-815d-a806c974e303",
   "metadata": {},
   "outputs": [],
   "source": [
    "# Ans:Guido van Rossum"
   ]
  },
  {
   "cell_type": "code",
   "execution_count": 3,
   "id": "d4cc0dc3-7e89-43f6-afbb-09ca3503f1da",
   "metadata": {},
   "outputs": [],
   "source": [
    "# 2.Which type of Programming does python support?"
   ]
  },
  {
   "cell_type": "code",
   "execution_count": 4,
   "id": "5d1db109-4a5d-44f5-9a20-70b6aaa971fe",
   "metadata": {},
   "outputs": [],
   "source": [
    "# Ans: 1.Procedural Programming\n",
    "#      2.Functional Programming\n",
    "#      3.Object-Oriented Programming (OOP)\n",
    "#      4.Modular Programming\n",
    "#      5.Imperative Programming"
   ]
  },
  {
   "cell_type": "code",
   "execution_count": 5,
   "id": "4ee91145-f1c6-40e3-8b1e-b258f6190b69",
   "metadata": {},
   "outputs": [],
   "source": [
    "# 3.Is Python case sensitive when dealing with identifiers?"
   ]
  },
  {
   "cell_type": "code",
   "execution_count": null,
   "id": "b4e8f877-ffa3-4ce2-b94e-462a130aeec2",
   "metadata": {},
   "outputs": [],
   "source": [
    "# Ans: Yes"
   ]
  },
  {
   "cell_type": "code",
   "execution_count": 6,
   "id": "69f17f7b-5c42-4021-8064-08447d7a6ceb",
   "metadata": {},
   "outputs": [],
   "source": [
    "# 4.What is the correct extension of the Python file?"
   ]
  },
  {
   "cell_type": "code",
   "execution_count": null,
   "id": "1fef93ca-d8f3-4015-89ea-9a1912cd4f28",
   "metadata": {},
   "outputs": [],
   "source": [
    "# Ans: .py"
   ]
  },
  {
   "cell_type": "code",
   "execution_count": null,
   "id": "9d11e105-a309-416b-9bfe-a25c6a161227",
   "metadata": {},
   "outputs": [],
   "source": [
    "# 5. Is Python code compiled or interpreted?"
   ]
  },
  {
   "cell_type": "code",
   "execution_count": 7,
   "id": "ae61561a-8a12-459f-8f21-e7159ee3c8a7",
   "metadata": {},
   "outputs": [],
   "source": [
    "# Ans: interpreted"
   ]
  },
  {
   "cell_type": "code",
   "execution_count": null,
   "id": "30307300-3a07-488b-bbbb-195adc7ad961",
   "metadata": {},
   "outputs": [],
   "source": [
    "# 6.Name a few block of code used to define in Python language?"
   ]
  },
  {
   "cell_type": "code",
   "execution_count": null,
   "id": "7491b8ac-633d-495c-8227-0f16ddbe2ac3",
   "metadata": {},
   "outputs": [],
   "source": [
    "#   Ans: 1.A module\n",
    "#        2.A function body\n",
    "#        3.cass definition"
   ]
  },
  {
   "cell_type": "code",
   "execution_count": null,
   "id": "b963b32a-b068-4e46-a642-ffb44a9fe002",
   "metadata": {},
   "outputs": [],
   "source": [
    "# 7.State a character used to given single-line comments in Python?"
   ]
  },
  {
   "cell_type": "code",
   "execution_count": null,
   "id": "311d7631-7877-4684-bbc4-e3f959f49d15",
   "metadata": {},
   "outputs": [],
   "source": [
    "# Ans:Use the hash symbol (#) to create single-line comments"
   ]
  },
  {
   "cell_type": "code",
   "execution_count": 8,
   "id": "45cd04c8-761f-4d43-b946-4d4d3592db8c",
   "metadata": {},
   "outputs": [],
   "source": [
    "# 8.Mention function which can help us to find the version of Python that we are currently working on?"
   ]
  },
  {
   "cell_type": "code",
   "execution_count": 9,
   "id": "70ccb735-17a7-448e-b178-4ff125a791a4",
   "metadata": {},
   "outputs": [],
   "source": [
    "# Ans:"
   ]
  },
  {
   "cell_type": "code",
   "execution_count": 10,
   "id": "072afd27-277c-4887-b8cf-11ee281b2633",
   "metadata": {},
   "outputs": [],
   "source": [
    "import sys"
   ]
  },
  {
   "cell_type": "code",
   "execution_count": 11,
   "id": "8aee921a-906c-4364-b928-5142a6ba250d",
   "metadata": {},
   "outputs": [
    {
     "name": "stdout",
     "output_type": "stream",
     "text": [
      "3.10.8 | packaged by conda-forge | (main, Nov 22 2022, 08:26:04) [GCC 10.4.0]\n"
     ]
    }
   ],
   "source": [
    "print(sys.version)"
   ]
  },
  {
   "cell_type": "code",
   "execution_count": 26,
   "id": "be917e37-e4e8-4c89-8bb7-36075aef13d6",
   "metadata": {},
   "outputs": [],
   "source": [
    "# 9. Python supports the creation of anonymous function at runtime,using a construct called?"
   ]
  },
  {
   "cell_type": "code",
   "execution_count": 13,
   "id": "4e1995c5-3352-4949-8ff0-572fdcd084fc",
   "metadata": {},
   "outputs": [],
   "source": [
    "# Ans:  Lambda functions "
   ]
  },
  {
   "cell_type": "code",
   "execution_count": 14,
   "id": "1c04301c-e032-41bd-9f62-da60564349e6",
   "metadata": {},
   "outputs": [],
   "source": [
    "# 10.What does pip stand for Python?"
   ]
  },
  {
   "cell_type": "code",
   "execution_count": 15,
   "id": "7095b8be-f0af-4903-bf58-2e376ed5c9d9",
   "metadata": {},
   "outputs": [],
   "source": [
    "# Ans:Pip Installs Packages"
   ]
  },
  {
   "cell_type": "code",
   "execution_count": 16,
   "id": "098e540a-6ea5-4266-9bf9-3c159c5148b6",
   "metadata": {},
   "outputs": [],
   "source": [
    "# 11.Mention a few build-in function in Python?"
   ]
  },
  {
   "cell_type": "code",
   "execution_count": 18,
   "id": "44d2fc9a-8935-419e-829c-107916e94098",
   "metadata": {},
   "outputs": [],
   "source": [
    "# Ans: 1.print()\n",
    "#      2.sum()\n",
    "#      3.range()\n",
    "#      4.input()\n",
    "#      5.type()"
   ]
  },
  {
   "cell_type": "code",
   "execution_count": 19,
   "id": "f4d29f5f-b603-4515-9e64-214b541cc799",
   "metadata": {},
   "outputs": [],
   "source": [
    "# 12.What is Maximum possible length of an identifier in Python"
   ]
  },
  {
   "cell_type": "code",
   "execution_count": 20,
   "id": "9a3c437d-e274-4b74-b05a-4437627b72bc",
   "metadata": {},
   "outputs": [],
   "source": [
    "# Ans: 79"
   ]
  },
  {
   "cell_type": "code",
   "execution_count": 21,
   "id": "a3dfe196-17b2-44aa-8b8c-0e0bda3dc539",
   "metadata": {},
   "outputs": [],
   "source": [
    "# 13.What are the benefits of using Python?"
   ]
  },
  {
   "cell_type": "code",
   "execution_count": 22,
   "id": "a923ac1c-3d2d-4ee7-b33e-4f473234f3e0",
   "metadata": {},
   "outputs": [],
   "source": [
    "# Ans: 1.Extensive standard library\n",
    "#      2.Readability and simplicity\n",
    "#      3.Cross-platform compatibility\n",
    "#      4.Integration capabilities\n",
    "#      5.Strong support for scientific and numerical computing"
   ]
  },
  {
   "cell_type": "code",
   "execution_count": 23,
   "id": "817e3dd5-f266-48c6-a141-f3b97ad1f3b4",
   "metadata": {},
   "outputs": [],
   "source": [
    "# 14.How is memory managed in Python?"
   ]
  },
  {
   "cell_type": "code",
   "execution_count": 24,
   "id": "4a8d9490-0909-4b26-b0a1-60ea5dc691f0",
   "metadata": {},
   "outputs": [],
   "source": [
    "# Ans: Python uses the dynamic memory allocation which is managed by the Heap data structure"
   ]
  },
  {
   "cell_type": "code",
   "execution_count": 25,
   "id": "3138df44-542f-44e9-8bdb-627a97ce63ce",
   "metadata": {},
   "outputs": [],
   "source": [
    "# 15.Is indentation required in python?"
   ]
  },
  {
   "cell_type": "code",
   "execution_count": null,
   "id": "1d006e39-0de2-40d9-84e3-30ca89f920c0",
   "metadata": {},
   "outputs": [],
   "source": [
    "# Ans: Yes"
   ]
  }
 ],
 "metadata": {
  "kernelspec": {
   "display_name": "Python 3 (ipykernel)",
   "language": "python",
   "name": "python3"
  },
  "language_info": {
   "codemirror_mode": {
    "name": "ipython",
    "version": 3
   },
   "file_extension": ".py",
   "mimetype": "text/x-python",
   "name": "python",
   "nbconvert_exporter": "python",
   "pygments_lexer": "ipython3",
   "version": "3.10.8"
  }
 },
 "nbformat": 4,
 "nbformat_minor": 5
}
