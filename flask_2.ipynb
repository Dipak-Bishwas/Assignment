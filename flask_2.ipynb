{
 "cells": [
  {
   "cell_type": "markdown",
   "id": "447f560e-8e7a-4f9c-9097-7ae263c7a247",
   "metadata": {},
   "source": [
    "# i am not able ot insert screenshort in juypter notebook"
   ]
  },
  {
   "cell_type": "code",
   "execution_count": 13,
   "id": "c1d88805-57ba-4a64-bfac-948c2c4a52c6",
   "metadata": {},
   "outputs": [],
   "source": [
    "# Q1. Explain GET and POST methods."
   ]
  },
  {
   "cell_type": "code",
   "execution_count": 14,
   "id": "3057b199-45f9-4920-894b-ce99ae397fc5",
   "metadata": {},
   "outputs": [],
   "source": [
    "# GET Method:\n",
    "# Used to retrieve data from a server\n",
    "# Sends data in the URL (e.g. example.com?name=John&age=30)\n",
    "# Data is visible in the URL\n",
    "# Limited data size (usually 2048 characters)\n",
    "\n",
    "# POST Method:\n",
    "# Used to send data to a server to create or update a resource\n",
    "# Sends data in the request body (not in the URL)\n",
    "# Data is not visible in the URL\n",
    "# Can send larger amounts of data (no character limit)"
   ]
  },
  {
   "cell_type": "code",
   "execution_count": 15,
   "id": "9cfc9e6c-c275-42ba-b21e-1b2030bb4c13",
   "metadata": {},
   "outputs": [],
   "source": [
    "# Q2. Why is request used in Flask?"
   ]
  },
  {
   "cell_type": "code",
   "execution_count": 16,
   "id": "e6e6ea72-998b-4b69-aba4-2da59a7be06d",
   "metadata": {},
   "outputs": [],
   "source": [
    "# In Flask, request is an object that represents the HTTP request sent by the client. It's used to access data from the request, such as:\n",
    "\n",
    "# Form data (e.g. request.form['username'])\n",
    "# Query string data (e.g. request.args.get('name'))\n",
    "# JSON data (e.g. request.get_json())\n",
    "# Headers (e.g. request.headers['Content-Type'])\n",
    "# Method (e.g. request.method)\n",
    "\n",
    "# By using request, you can handle different types of requests (e.g. GET, POST, PUT, DELETE) and access the data sent by the client in a convenient way."
   ]
  },
  {
   "cell_type": "code",
   "execution_count": 17,
   "id": "ce13f6a6-d305-434f-9d4b-3b66eea90d50",
   "metadata": {},
   "outputs": [],
   "source": [
    "# Q3. Why is redirect() used in Flask?"
   ]
  },
  {
   "cell_type": "code",
   "execution_count": 18,
   "id": "542fcef0-2142-4714-9bd4-a174ff2d9d1a",
   "metadata": {},
   "outputs": [],
   "source": [
    "# In Flask, redirect() is a function that redirects the user to a different URL. It's used to:\n",
    "\n",
    "# Send the user to a different page after a form submission\n",
    "# Send the user to a login page if they're not authenticated\n",
    "# Send the user to a different route after a certain action is completed\n",
    "\n",
    "# When you call redirect(), Flask sends a 302 status code to the client, which tells the client to make a new request to the specified UR"
   ]
  },
  {
   "cell_type": "code",
   "execution_count": 19,
   "id": "644b4d0e-3122-4409-b422-aa57389efdcd",
   "metadata": {},
   "outputs": [],
   "source": [
    "# Q4. What are templates in Flask? Why is the render_template() function used?"
   ]
  },
  {
   "cell_type": "code",
   "execution_count": 20,
   "id": "2777f661-5ba4-4789-8b4d-64c9183440e7",
   "metadata": {},
   "outputs": [],
   "source": [
    "# Templates in Flask:\n",
    "#     Separate presentation layer from application logic\n",
    "#     Store HTML files in a templates directory\n",
    "#     Use a templating engine like Jinja2 to render dynamic data\n",
    "    \n",
    "# render_template() function:\n",
    "#     Renders a template with the given context\n",
    "#     Takes the template name and variables as keyword arguments\n",
    "#     Allows for dynamic data rendering in templates\n",
    "    \n",
    "# Benefits:\n",
    "#     Separation of concerns\n",
    "#     Reusability\n",
    "#     Flexibility in design and layout changes"
   ]
  },
  {
   "cell_type": "code",
   "execution_count": 21,
   "id": "14c61c0d-1222-403a-95ad-81f51cce81b5",
   "metadata": {},
   "outputs": [],
   "source": [
    "# Q5. Create a simple API. Use Postman to test it. Attach the screenshot of the output in the Jupyter Notebook."
   ]
  },
  {
   "cell_type": "code",
   "execution_count": 22,
   "id": "7af4d346-3c96-48b1-9687-49b8d4759cdd",
   "metadata": {},
   "outputs": [],
   "source": [
    "# from flask import Flask, jsonify\n",
    "\n",
    "# app = Flask(__name__)\n",
    "\n",
    "# @app.route('/api/data', methods=['GET'])\n",
    "# def get_data():\n",
    "#     data = {'name': 'John', 'age': 30}\n",
    "#     return jsonify(data)\n",
    "\n",
    "# if __name__ == '__main__':\n",
    "#     app.run(host=\"0.0.0.0\")"
   ]
  },
  {
   "cell_type": "code",
   "execution_count": null,
   "id": "34f6e39e-6e2d-4e6a-a165-94d3753b2dad",
   "metadata": {},
   "outputs": [],
   "source": []
  },
  {
   "cell_type": "code",
   "execution_count": null,
   "id": "36783cd9-1c90-4442-b354-8fe29dd70bda",
   "metadata": {},
   "outputs": [],
   "source": []
  },
  {
   "cell_type": "code",
   "execution_count": null,
   "id": "972d327f-3b8e-466c-9d73-1f5fd4a9819b",
   "metadata": {},
   "outputs": [],
   "source": []
  },
  {
   "cell_type": "code",
   "execution_count": null,
   "id": "7edbaac8-0a25-40b1-975a-044156d92f32",
   "metadata": {},
   "outputs": [],
   "source": []
  },
  {
   "cell_type": "code",
   "execution_count": null,
   "id": "bf3d12e6-7c2c-46db-9ac9-1600e95162f4",
   "metadata": {},
   "outputs": [],
   "source": []
  },
  {
   "cell_type": "code",
   "execution_count": null,
   "id": "ad31d0ff-1e08-461f-adc4-a3af2d386384",
   "metadata": {},
   "outputs": [],
   "source": []
  },
  {
   "cell_type": "code",
   "execution_count": null,
   "id": "bfc2057d-21a9-4f33-9c56-1bb39ef11617",
   "metadata": {},
   "outputs": [],
   "source": []
  },
  {
   "cell_type": "code",
   "execution_count": null,
   "id": "5b01972a-8baa-4241-89ac-620f23505b74",
   "metadata": {},
   "outputs": [],
   "source": []
  },
  {
   "cell_type": "code",
   "execution_count": null,
   "id": "50be576c-25ea-407c-a7ba-c45d0a9cd571",
   "metadata": {},
   "outputs": [],
   "source": []
  },
  {
   "cell_type": "code",
   "execution_count": null,
   "id": "d135f624-1e13-43bd-ba6a-d44a7786b5d4",
   "metadata": {},
   "outputs": [],
   "source": []
  },
  {
   "cell_type": "code",
   "execution_count": null,
   "id": "41f93404-2926-4d17-a169-49d4cbfe13a9",
   "metadata": {},
   "outputs": [],
   "source": []
  },
  {
   "cell_type": "code",
   "execution_count": null,
   "id": "4744be2a-6bc8-4066-8e70-8a942dbef266",
   "metadata": {},
   "outputs": [],
   "source": []
  },
  {
   "cell_type": "code",
   "execution_count": null,
   "id": "ba0f1372-d01d-40ad-8e44-239363bfd333",
   "metadata": {},
   "outputs": [],
   "source": []
  }
 ],
 "metadata": {
  "kernelspec": {
   "display_name": "Python 3 (ipykernel)",
   "language": "python",
   "name": "python3"
  },
  "language_info": {
   "codemirror_mode": {
    "name": "ipython",
    "version": 3
   },
   "file_extension": ".py",
   "mimetype": "text/x-python",
   "name": "python",
   "nbconvert_exporter": "python",
   "pygments_lexer": "ipython3",
   "version": "3.10.8"
  }
 },
 "nbformat": 4,
 "nbformat_minor": 5
}
