{
 "cells": [
  {
   "cell_type": "code",
   "execution_count": 1,
   "id": "64296dab-c2f9-424c-8794-64c47ea1e897",
   "metadata": {},
   "outputs": [],
   "source": [
    "# Q1. What is Statistics?"
   ]
  },
  {
   "cell_type": "code",
   "execution_count": 2,
   "id": "e5abb2af-8ad0-45f9-91da-fefc87aa0648",
   "metadata": {},
   "outputs": [],
   "source": [
    "# Statistics is a field of mathematics focused on data analysis. It includes:\n",
    "\n",
    "# Descriptive Statistics: Summarizes data using measures like mean, median, mode, and standard deviation, and visualizations \n",
    "# like histograms and bar charts.\n",
    "\n",
    "# Inferential Statistics: Makes predictions about a population based on sample data, using techniques such as hypothesis\n",
    "# testing, confidence intervals, and regression analysis.\n",
    "\n",
    "# Probability: The study of likelihood and uncertainty, including probability distributions and Bayesian statistics.\n",
    "\n",
    "# Statistical Methods: Techniques for analyzing relationships and variations within data, such as correlation and ANOVA."
   ]
  },
  {
   "cell_type": "code",
   "execution_count": 3,
   "id": "7abda77e-23f6-4a20-8f0c-ce7336565369",
   "metadata": {},
   "outputs": [],
   "source": [
    "# Q2. Define the different types of statistics and give an example of when each type might be used."
   ]
  },
  {
   "cell_type": "code",
   "execution_count": 4,
   "id": "05d104cf-6398-4498-8fc8-9048e64a06f7",
   "metadata": {},
   "outputs": [],
   "source": [
    "# escriptive Statistics: Describe and summarize data (e.g., average test scores, age distribution).\n",
    "# Inferential Statistics: Make predictions and test hypotheses based on data samples (e.g., comparing means, predicting outcomes)."
   ]
  },
  {
   "cell_type": "code",
   "execution_count": 5,
   "id": "b0a91de0-6842-4bce-9155-f793d24b21cc",
   "metadata": {},
   "outputs": [],
   "source": [
    "# Q3. What are the different types of data and how do they differ from each other? Provide an example of\n",
    "# each type of data."
   ]
  },
  {
   "cell_type": "code",
   "execution_count": 6,
   "id": "5e62f1b0-3ba3-465c-9bbc-884eb0b38f6f",
   "metadata": {},
   "outputs": [],
   "source": [
    "# Quantitative Data: Numerical (Discrete and Continuous).\n",
    "# Qualitative Data: Descriptive (Nominal and Ordinal).\n",
    "# Categorical Data: Divided into Nominal and Ordinal.\n",
    "# Interval Data: Numerical with meaningful differences, no true zero.\n",
    "# Ratio Data: Numerical with meaningful differences and a true zero."
   ]
  },
  {
   "cell_type": "code",
   "execution_count": 7,
   "id": "9686e4b3-2707-4039-8760-8b255d7b61d5",
   "metadata": {},
   "outputs": [],
   "source": [
    "# Q4. Categorise the following datasets with respect to quantitative and qualitative data types:\n",
    "# (i) Grading in exam: A+, A, B+, B, C+, C, D, E\n",
    "# (ii) Colour of mangoes: yellow, green, orange, red\n",
    "# (iii) Height data of a class: [178.9, 179, 179.5, 176, 177.2, 178.3, 175.8,...]\n",
    "# (iv) Number of mangoes exported by a farm: [500, 600, 478, 672, ...]"
   ]
  },
  {
   "cell_type": "code",
   "execution_count": 8,
   "id": "daf4fe59-f19d-4336-96e0-80f1b263434b",
   "metadata": {},
   "outputs": [],
   "source": [
    "# (i) Grading in exam: A+, A, B+, B, C+, C, D, E\n",
    "# Type: Qualitative\n",
    "# Sub-Type: Ordinal\n",
    "# Explanation: This dataset represents categories with a meaningful order or ranking (grades). Although the grades can be\n",
    "# ordered, the differences between the grades are not necessarily uniform or quantifiable."
   ]
  },
  {
   "cell_type": "code",
   "execution_count": 9,
   "id": "78c23b3d-5f48-46f3-8396-961c963e7dfd",
   "metadata": {},
   "outputs": [],
   "source": [
    "# (ii) Colour of mangoes: yellow, green, orange, red\n",
    "# Type: Qualitative\n",
    "# Sub-Type: Nominal\n",
    "# Explanation: This dataset represents categories without any inherent order. The colors are distinct categories that do\n",
    "# not have a natural ranking."
   ]
  },
  {
   "cell_type": "code",
   "execution_count": 10,
   "id": "d1919de6-a61d-4604-9db7-25a2484c4f68",
   "metadata": {},
   "outputs": [],
   "source": [
    "# (iii) Height data of a class: [178.9, 179, 179.5, 176, 177.2, 178.3, 175.8,...]\n",
    "# Type: Quantitative\n",
    "# Sub-Type: Continuous\n",
    "# Explanation: This dataset consists of numerical values representing height, which can take any value within a range and \n",
    "# can be measured with precision."
   ]
  },
  {
   "cell_type": "code",
   "execution_count": 11,
   "id": "359ea366-b809-4b92-8497-575443018087",
   "metadata": {},
   "outputs": [],
   "source": [
    "# (iv) Number of mangoes exported by a farm: [500, 600, 478, 672, ...]\n",
    "# Type: Quantitative\n",
    "# Sub-Type: Discrete\n",
    "# Explanation: This dataset represents countable numerical values indicating the number of mangoes exported. The values are \n",
    "# distinct and finite."
   ]
  },
  {
   "cell_type": "code",
   "execution_count": 12,
   "id": "91e7a4f2-457b-4c7c-a565-bf61d6d946c9",
   "metadata": {},
   "outputs": [],
   "source": [
    "# Q5. Explain the concept of levels of measurement and give an example of a variable for each level."
   ]
  },
  {
   "cell_type": "code",
   "execution_count": 13,
   "id": "64ce22db-5568-4203-a66f-a8b3176fc308",
   "metadata": {},
   "outputs": [],
   "source": [
    "# Nominal Level: Categories with no inherent order. Example: Gender (Male, Female).\n",
    "\n",
    "# Ordinal Level: Ordered categories with meaningful ranks but unequal intervals. Example: Customer Satisfaction Ratings\n",
    "# (Very Unsatisfied to Very Satisfied).\n",
    "\n",
    "# Interval Level: Numeric values with consistent intervals but no true zero. Example: Temperature in Celsius.\n",
    "\n",
    "# Ratio Level: Numeric values with consistent intervals and a true zero. Example: Height in centimeters."
   ]
  },
  {
   "cell_type": "code",
   "execution_count": 14,
   "id": "716d638a-b252-49eb-9fb9-24de1af535e4",
   "metadata": {},
   "outputs": [],
   "source": [
    "# Q6. Why is it important to understand the level of measurement when analyzing data? Provide an\n",
    "# example to illustrate your answer."
   ]
  },
  {
   "cell_type": "code",
   "execution_count": 15,
   "id": "51c96cd0-00e3-43a1-bc98-a2aa7879e6a8",
   "metadata": {},
   "outputs": [],
   "source": [
    "# Levels of Measurement:\n",
    "#     Nominal: Categorical data without a specific order (e.g., job titles).\n",
    "#     Ordinal: Categorical data with a meaningful order but no consistent difference between ranks (e.g., satisfaction levels).\n",
    "#     Interval: Numerical data with consistent intervals but no true zero point (e.g., temperature in Celsius).\n",
    "#     Ratio: Numerical data with consistent intervals and a true zero point (e.g., years of experience).\n",
    "    \n",
    "# Importance:\n",
    "\n",
    "#     Appropriate Methods: Determines which statistical techniques are valid (e.g., mean for interval/ratio data but not for nominal/ordinal).\n",
    "#     Accurate Interpretation: Helps in correctly interpreting results and avoiding misuse of data.\n",
    "#     Valid Analysis: Ensures correct analysis and conclusions based on the type of data.\n",
    "#     Example: Analyzing job satisfaction using ordinal ratings requires rank-based methods, while numerical data like years \n",
    "#     of experience allows for more arithmetic operations and detailed analysis."
   ]
  },
  {
   "cell_type": "code",
   "execution_count": 16,
   "id": "1f9dbd1d-51a1-4a26-93c9-71cefcbbd45b",
   "metadata": {},
   "outputs": [],
   "source": [
    "# Q7. How nominal data type is different from ordinal data type."
   ]
  },
  {
   "cell_type": "code",
   "execution_count": 17,
   "id": "d0fb1319-fc46-4fac-a2dd-0ccaae9fb65b",
   "metadata": {},
   "outputs": [],
   "source": [
    "# Nominal Data:\n",
    "#     Definition: Categories without any inherent order or ranking.\n",
    "#     Examples: Types of fruits (apple, banana, orange), colors (red, blue, green).\n",
    "#     Analysis: Uses frequency counts and mode; cannot calculate mean or median.\n",
    "    \n",
    "# Ordinal Data:\n",
    "#     Definition: Categories with a meaningful order or ranking, but intervals between ranks are not necessarily uniform.\n",
    "#     Examples: Educational levels (high school, bachelor's, master's), satisfaction ratings (very dissatisfied to very satisfied).\n",
    "#     Analysis: Uses median, mode, and rank-based tests; mean calculation is not meaningful.\n",
    "#     Key Difference: Nominal data lacks order, while ordinal data has a ranked order."
   ]
  },
  {
   "cell_type": "code",
   "execution_count": 18,
   "id": "acb623e8-f50c-4ca3-8e2c-e8433ae51ee7",
   "metadata": {},
   "outputs": [],
   "source": [
    "# Q8. Which type of plot can be used to display data in terms of range?"
   ]
  },
  {
   "cell_type": "code",
   "execution_count": 19,
   "id": "4a1b6db0-8408-4703-8fa7-5875e48f42b2",
   "metadata": {},
   "outputs": [],
   "source": [
    "# Boxplot (Box-and-Whisker Plot):\n",
    "#     Purpose: Shows the distribution of data based on quartiles, highlighting the range (from the minimum to the maximum),\n",
    "#     median, and potential outliers.\n",
    "#     Features: Displays the interquartile range (IQR), whiskers extending to the smallest and largest values within 1.5 \n",
    "#     times the IQR, and any outliers.\n",
    "#     Range Plot:\n",
    "\n",
    "# Purpose: Specifically designed to show the range of data points in a dataset.\n",
    "# Features: Typically plots a range as vertical bars or shaded areas to indicate the span between the minimum and maximum values."
   ]
  },
  {
   "cell_type": "code",
   "execution_count": null,
   "id": "9bf837b7-f594-4e4f-8cdf-2b75a92666ce",
   "metadata": {},
   "outputs": [],
   "source": [
    "Q9. Describe the difference between descriptive and inferential statistics. Give an example of each\n",
    "type of statistics and explain how they are used."
   ]
  }
 ],
 "metadata": {
  "kernelspec": {
   "display_name": "Python 3 (ipykernel)",
   "language": "python",
   "name": "python3"
  },
  "language_info": {
   "codemirror_mode": {
    "name": "ipython",
    "version": 3
   },
   "file_extension": ".py",
   "mimetype": "text/x-python",
   "name": "python",
   "nbconvert_exporter": "python",
   "pygments_lexer": "ipython3",
   "version": "3.10.8"
  }
 },
 "nbformat": 4,
 "nbformat_minor": 5
}
