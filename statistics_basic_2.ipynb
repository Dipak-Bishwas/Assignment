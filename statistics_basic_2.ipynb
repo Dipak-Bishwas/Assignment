{
 "cells": [
  {
   "cell_type": "code",
   "execution_count": 1,
   "id": "887fb672-e2c2-4e90-8ac3-90949a86378c",
   "metadata": {},
   "outputs": [],
   "source": [
    "# Q1. What are the three measures of central tendency?"
   ]
  },
  {
   "cell_type": "code",
   "execution_count": 2,
   "id": "aff24d0d-3898-40dc-9b39-d52681df85f3",
   "metadata": {},
   "outputs": [],
   "source": [
    "# 1.Mean\n",
    "# 2,Median\n",
    "# 3.mode"
   ]
  },
  {
   "cell_type": "code",
   "execution_count": 3,
   "id": "a3282b7f-4ba2-453f-a409-787dbaba4979",
   "metadata": {},
   "outputs": [],
   "source": [
    "# Q2. What is the difference between the mean, median, and mode? How are they used to measure the\n",
    "# central tendency of a dataset?"
   ]
  },
  {
   "cell_type": "code",
   "execution_count": 4,
   "id": "ae88364e-0e71-40f6-b502-b5623f2521bd",
   "metadata": {},
   "outputs": [],
   "source": [
    "# Mean: The average of all values in a dataset, calculated by summing the values and dividing by their count. It’s useful\n",
    "# for datasets without extreme outliers.\n",
    "\n",
    "# Median: The middle value when data is ordered. It’s less affected by outliers and skewed data, making it useful for skewed\n",
    "# distributions.\n",
    "\n",
    "# Mode: The most frequently occurring value in a dataset. It’s particularly useful for categorical data and identifying the\n",
    "# most common value."
   ]
  },
  {
   "cell_type": "code",
   "execution_count": 5,
   "id": "5908a0d2-42c4-451b-8e8d-d58d5c8275c1",
   "metadata": {},
   "outputs": [],
   "source": [
    "# Q3. Measure the three measures of central tendency for the given height data:"
   ]
  },
  {
   "cell_type": "code",
   "execution_count": 6,
   "id": "b2e5c672-ca14-4475-a366-d78842545fbd",
   "metadata": {},
   "outputs": [],
   "source": [
    "import numpy as np"
   ]
  },
  {
   "cell_type": "code",
   "execution_count": 18,
   "id": "05023106-e6e8-40a7-aef1-1e7b4cba37ab",
   "metadata": {},
   "outputs": [],
   "source": [
    "height_data = [178, 177, 176, 177, 178.2, 178, 175, 179, 180, 175, 178.9, 176.2, 177, 172.5, 178, 176.5]"
   ]
  },
  {
   "cell_type": "code",
   "execution_count": 19,
   "id": "e7413f72-1b1a-4015-bb2c-1e8d65f8c148",
   "metadata": {},
   "outputs": [],
   "source": [
    "# Mean\n",
    "mean_height = np.mean(height_data)"
   ]
  },
  {
   "cell_type": "code",
   "execution_count": 20,
   "id": "8501e12e-f3a8-40ba-849e-343599471045",
   "metadata": {},
   "outputs": [
    {
     "data": {
      "text/plain": [
       "177.01875"
      ]
     },
     "execution_count": 20,
     "metadata": {},
     "output_type": "execute_result"
    }
   ],
   "source": [
    "mean_height"
   ]
  },
  {
   "cell_type": "code",
   "execution_count": 21,
   "id": "ba2ea82a-56d6-47ce-9145-8c261be93bac",
   "metadata": {},
   "outputs": [],
   "source": [
    "# Median\n",
    "median_height = np.median(height_data)"
   ]
  },
  {
   "cell_type": "code",
   "execution_count": 22,
   "id": "f6b00a32-8aa3-4461-8f7c-a2233d4c28da",
   "metadata": {},
   "outputs": [
    {
     "data": {
      "text/plain": [
       "177.0"
      ]
     },
     "execution_count": 22,
     "metadata": {},
     "output_type": "execute_result"
    }
   ],
   "source": [
    "median_height"
   ]
  },
  {
   "cell_type": "code",
   "execution_count": 23,
   "id": "acbb1980-5f63-4fa9-896f-53bedfa69b3b",
   "metadata": {},
   "outputs": [
    {
     "ename": "AttributeError",
     "evalue": "module 'numpy' has no attribute 'mode'",
     "output_type": "error",
     "traceback": [
      "\u001b[0;31m---------------------------------------------------------------------------\u001b[0m",
      "\u001b[0;31mAttributeError\u001b[0m                            Traceback (most recent call last)",
      "Cell \u001b[0;32mIn[23], line 2\u001b[0m\n\u001b[1;32m      1\u001b[0m \u001b[38;5;66;03m# Mode\u001b[39;00m\n\u001b[0;32m----> 2\u001b[0m mode_height \u001b[38;5;241m=\u001b[39m \u001b[43mnp\u001b[49m\u001b[38;5;241;43m.\u001b[39;49m\u001b[43mmode\u001b[49m(height_data)\n",
      "File \u001b[0;32m/opt/conda/lib/python3.10/site-packages/numpy/__init__.py:311\u001b[0m, in \u001b[0;36m__getattr__\u001b[0;34m(attr)\u001b[0m\n\u001b[1;32m    308\u001b[0m     \u001b[38;5;28;01mfrom\u001b[39;00m \u001b[38;5;21;01m.\u001b[39;00m\u001b[38;5;21;01mtesting\u001b[39;00m \u001b[38;5;28;01mimport\u001b[39;00m Tester\n\u001b[1;32m    309\u001b[0m     \u001b[38;5;28;01mreturn\u001b[39;00m Tester\n\u001b[0;32m--> 311\u001b[0m \u001b[38;5;28;01mraise\u001b[39;00m \u001b[38;5;167;01mAttributeError\u001b[39;00m(\u001b[38;5;124m\"\u001b[39m\u001b[38;5;124mmodule \u001b[39m\u001b[38;5;132;01m{!r}\u001b[39;00m\u001b[38;5;124m has no attribute \u001b[39m\u001b[38;5;124m\"\u001b[39m\n\u001b[1;32m    312\u001b[0m                      \u001b[38;5;124m\"\u001b[39m\u001b[38;5;132;01m{!r}\u001b[39;00m\u001b[38;5;124m\"\u001b[39m\u001b[38;5;241m.\u001b[39mformat(\u001b[38;5;18m__name__\u001b[39m, attr))\n",
      "\u001b[0;31mAttributeError\u001b[0m: module 'numpy' has no attribute 'mode'"
     ]
    }
   ],
   "source": [
    "# Mode\n",
    "mode_height = np.mode(height_data)"
   ]
  },
  {
   "cell_type": "code",
   "execution_count": 24,
   "id": "df1106fd-7ff5-499d-8979-b2cc7567e178",
   "metadata": {},
   "outputs": [],
   "source": [
    "# The error occurs because numpy does not have a mode function; instead, the scipy.stats module provides the mode \n",
    "# function to compute the mode of a dataset."
   ]
  },
  {
   "cell_type": "code",
   "execution_count": 25,
   "id": "038605b3-51df-41f6-a8fa-51805ee1cf46",
   "metadata": {},
   "outputs": [],
   "source": [
    "from scipy import stats"
   ]
  },
  {
   "cell_type": "code",
   "execution_count": 26,
   "id": "df255d53-2f52-407f-87bf-d60e9a07e3ad",
   "metadata": {},
   "outputs": [
    {
     "name": "stderr",
     "output_type": "stream",
     "text": [
      "/tmp/ipykernel_98/830385672.py:1: FutureWarning: Unlike other reduction functions (e.g. `skew`, `kurtosis`), the default behavior of `mode` typically preserves the axis it acts along. In SciPy 1.11.0, this behavior will change: the default value of `keepdims` will become False, the `axis` over which the statistic is taken will be eliminated, and the value None will no longer be accepted. Set `keepdims` to True or False to avoid this warning.\n",
      "  mode_result = stats.mode(height_data)\n"
     ]
    }
   ],
   "source": [
    "mode_result = stats.mode(height_data)\n",
    "mode_height = mode_result.mode[0]"
   ]
  },
  {
   "cell_type": "code",
   "execution_count": 27,
   "id": "e986fcfd-ddc8-4be4-85c1-c9caee94c971",
   "metadata": {},
   "outputs": [
    {
     "data": {
      "text/plain": [
       "177.0"
      ]
     },
     "execution_count": 27,
     "metadata": {},
     "output_type": "execute_result"
    }
   ],
   "source": [
    "mode_height"
   ]
  },
  {
   "cell_type": "code",
   "execution_count": 28,
   "id": "de644b72-ce73-48e2-adf6-b0f7c1cf97cf",
   "metadata": {},
   "outputs": [],
   "source": [
    "# Q4. Find the standard deviation for the given data:\n",
    "# [178,177,176,177,178.2,178,175,179,180,175,178.9,176.2,177,172.5,178,176.5]"
   ]
  },
  {
   "cell_type": "code",
   "execution_count": 29,
   "id": "d20bd10f-f6e4-4825-b8fc-bc34e6307658",
   "metadata": {},
   "outputs": [],
   "source": [
    "height_data = [178, 177, 176, 177, 178.2, 178, 175, 179, 180, 175, 178.9, 176.2, 177, 172.5, 178, 176.5]"
   ]
  },
  {
   "cell_type": "code",
   "execution_count": 30,
   "id": "00be2801-832e-426f-b94d-ebb5de2a5138",
   "metadata": {},
   "outputs": [],
   "source": [
    "std_dev = np.std(height_data)  "
   ]
  },
  {
   "cell_type": "code",
   "execution_count": 31,
   "id": "11b2bb45-624a-4702-bcb6-8eebb14b9b43",
   "metadata": {},
   "outputs": [
    {
     "data": {
      "text/plain": [
       "1.7885814036548633"
      ]
     },
     "execution_count": 31,
     "metadata": {},
     "output_type": "execute_result"
    }
   ],
   "source": [
    "std_dev"
   ]
  },
  {
   "cell_type": "code",
   "execution_count": 32,
   "id": "42499c11-3446-4f8d-ab15-2c7725a031ae",
   "metadata": {},
   "outputs": [],
   "source": [
    "# Q5. How are measures of dispersion such as range, variance, and standard deviation used to describe\n",
    "# the spread of a dataset? Provide an example."
   ]
  },
  {
   "cell_type": "code",
   "execution_count": 33,
   "id": "51e7c691-59e5-4db9-bd26-dad01899a430",
   "metadata": {},
   "outputs": [],
   "source": [
    "# 1. Range: The range is the simplest measure of dispersion, which is calculated by subtracting the\n",
    "# minimum value from the maximum value in a dataset. It gives an idea of the total spread of the data.\n",
    "\n",
    "# Example: For the data [10, 15, 20, 25, 30], the range is 30 - 10 = 20.\n",
    "\n",
    "# 2. Variance: The variance is a measure of how much the values deviate from the mean. It's calculated by finding the \n",
    "# average of the squared differences between each data point and the mean of the dataset.\n",
    "\n",
    "# Example: For the data [10, 15, 20, 25, 30], the variance is calculated by: * Finding the mean (20) * Calculating the \n",
    "# squared differences: [(10-20)^2, (15-20)^2, (20-20)^2, (25-20)^2, (30-20)^2] * Averaging these squared differences,\n",
    "# which results in a variance value of 62.5\n",
    "\n",
    "# 3. Standard Deviation: The standard deviation is the square root of the variance. It provides a measure of spread\n",
    "# in the same units as the data and is more interpretable than variance.\n",
    "\n",
    "# Example: For the data [10, 15, 20, 25, 30], if the variance is 62.5, the standard deviation is the square root of 62.5, \n",
    "# which is approximately 7.91. This tells us that, on average, data points are about 7.91 units away from the mean."
   ]
  },
  {
   "cell_type": "code",
   "execution_count": 34,
   "id": "e41700c9-f997-413c-9bbe-248c6f25e893",
   "metadata": {},
   "outputs": [],
   "source": [
    "# Q6. What is a Venn diagram?"
   ]
  },
  {
   "cell_type": "code",
   "execution_count": 35,
   "id": "15fe2276-627d-4970-b409-a295828b6fdc",
   "metadata": {},
   "outputs": [],
   "source": [
    "# A Venn diagram is a visual tool used to show the relationships between different sets. It uses overlapping circles to illustrate how sets share common elements or are distinct\n",
    "# from each other"
   ]
  },
  {
   "cell_type": "code",
   "execution_count": 36,
   "id": "e56d75a8-0ffb-48dd-9270-7894599cafdd",
   "metadata": {},
   "outputs": [],
   "source": [
    "# Q7. For the two given sets A = (2,3,4,5,6,7) & B = (0,2,6,8,10). Find:\n",
    "# (i) A B\n",
    "# (ii) A ⋃ B"
   ]
  },
  {
   "cell_type": "code",
   "execution_count": 37,
   "id": "73488df8-d590-4335-8104-6e5491d6ad68",
   "metadata": {},
   "outputs": [],
   "source": [
    "# Intersection 𝐴 ∩ 𝐵 A∩B: { 2 , 6 }\n",
    "# Union 𝐴 ∪ 𝐵 A∪B: { 0 , 2 , 3 , 4 , 5 , 6 , 7 , 8 , 10 }"
   ]
  },
  {
   "cell_type": "code",
   "execution_count": 38,
   "id": "86800cdf-51df-471e-90d7-381c024bdfe8",
   "metadata": {},
   "outputs": [],
   "source": [
    "# Q8. What do you understand about skewness in data?"
   ]
  },
  {
   "cell_type": "code",
   "execution_count": 39,
   "id": "928e079b-6f5e-4fc1-aeff-cfa34945fae2",
   "metadata": {},
   "outputs": [],
   "source": [
    "# Skewness measures the asymmetry of the distribution of data around its mean. It indicates whether the data is skewed to\n",
    "# the left or right.\n",
    "\n",
    "# Positive Skew (Right Skew): Tail on the right side is longer or fatter. \n",
    "# Example: Income distribution where most people earn\n",
    "# less, but a few earn much more.\n",
    "\n",
    "# Negative Skew (Left Skew): Tail on the left side is longer or fatter. \n",
    "# Example: Age at retirement where most people retire \n",
    "# around 65, but a few retire much earlier.\n",
    "\n",
    "# Zero Skew: Symmetrical distribution, like a normal distribution."
   ]
  },
  {
   "cell_type": "code",
   "execution_count": 40,
   "id": "bca44165-2cf2-4cca-9a28-8740a51f44ce",
   "metadata": {},
   "outputs": [],
   "source": [
    "# Q9. If a data is right skewed then what will be the position of median with respect to mean?"
   ]
  },
  {
   "cell_type": "code",
   "execution_count": 41,
   "id": "b2519e67-66fa-496c-bf70-f2416fcba9f0",
   "metadata": {},
   "outputs": [],
   "source": [
    "# Mean is positioned to the right of the Median."
   ]
  },
  {
   "cell_type": "code",
   "execution_count": 42,
   "id": "0e2625f9-a915-4f56-87aa-ba03a077c55e",
   "metadata": {},
   "outputs": [],
   "source": [
    "# Q10. Explain the difference between covariance and correlation. How are these measures used in\n",
    "# statistical analysis?"
   ]
  },
  {
   "cell_type": "code",
   "execution_count": 43,
   "id": "132be612-59f6-42f9-a0e9-b43ddce012f8",
   "metadata": {},
   "outputs": [],
   "source": [
    "# Covariance: Imagine you have data on hours studied and exam scores. If both increase together (more study hours lead to higher scores), \n",
    "# the covariance will be positive. However, the actual number is hard to interpret on its own because it's affected by the scale of the data.\n",
    "\n",
    "# Correlation: To make it easier to interpret, you calculate the correlation. If the correlation is +0.8,\n",
    "# it means there's a strong positive relationship between hours studied and exam scores. This is easier to\n",
    "# understand because it’s on a standardized scale from -1 to 1."
   ]
  },
  {
   "cell_type": "code",
   "execution_count": 44,
   "id": "1f847729-fcad-474a-abb2-22c7628229a2",
   "metadata": {},
   "outputs": [],
   "source": [
    "# Q11. What is the formula for calculating the sample mean? Provide an example calculation for a\n",
    "# dataset."
   ]
  },
  {
   "cell_type": "code",
   "execution_count": 54,
   "id": "4d68cdb9-5ff7-49ab-a50a-1250f9d038e6",
   "metadata": {},
   "outputs": [],
   "source": [
    "data = [12, 15, 18, 20, 22]"
   ]
  },
  {
   "cell_type": "code",
   "execution_count": 55,
   "id": "ff5501d6-4db6-4d80-b54a-7f2e68746d86",
   "metadata": {},
   "outputs": [],
   "source": [
    "n = len(data)"
   ]
  },
  {
   "cell_type": "code",
   "execution_count": 56,
   "id": "44966ebb-3043-453a-918f-31f4972bb040",
   "metadata": {},
   "outputs": [],
   "source": [
    "sum_x = sum(data)"
   ]
  },
  {
   "cell_type": "code",
   "execution_count": 57,
   "id": "d1c9f04f-ca75-4df3-b9a2-c7321b0dbb1c",
   "metadata": {},
   "outputs": [],
   "source": [
    "sample_mean = sum_x / n"
   ]
  },
  {
   "cell_type": "code",
   "execution_count": 58,
   "id": "c40213fa-8c5d-4970-bc83-cd639599e305",
   "metadata": {},
   "outputs": [
    {
     "data": {
      "text/plain": [
       "17.4"
      ]
     },
     "execution_count": 58,
     "metadata": {},
     "output_type": "execute_result"
    }
   ],
   "source": [
    "sample_mean "
   ]
  },
  {
   "cell_type": "code",
   "execution_count": 59,
   "id": "7fa23655-f3c7-4e19-96d7-010debe4c3a0",
   "metadata": {},
   "outputs": [],
   "source": [
    "# Q12. For a normal distribution data what is the relationship between its measure of central tendency?"
   ]
  },
  {
   "cell_type": "code",
   "execution_count": 60,
   "id": "58397a09-b6c0-4cfc-9acf-87634b88f286",
   "metadata": {},
   "outputs": [],
   "source": [
    "# Mean = Median = Mode"
   ]
  },
  {
   "cell_type": "code",
   "execution_count": 61,
   "id": "8e9f0937-f088-4496-9bc8-495d11ece04f",
   "metadata": {},
   "outputs": [],
   "source": [
    "# Covariance:\n",
    "#     Measures the linear relationship between two variables\n",
    "#     Does not provide a standardized measure of the strength of the relationship\n",
    "\n",
    "# Correlation:\n",
    "#     A standardized measure of the strength and direction of the linear relationship between two variables\n",
    "#     Values range from -1 (perfect negative correlation) to 1 (perfect positive correlation)"
   ]
  },
  {
   "cell_type": "code",
   "execution_count": 62,
   "id": "fa3acefd-f978-4062-a688-a5182792e793",
   "metadata": {},
   "outputs": [],
   "source": [
    "# Q14. How do outliers affect measures of central tendency and dispersion? Provide an example."
   ]
  },
  {
   "cell_type": "code",
   "execution_count": null,
   "id": "640981e5-c00a-49da-8760-d55eb051df1d",
   "metadata": {},
   "outputs": [],
   "source": []
  }
 ],
 "metadata": {
  "kernelspec": {
   "display_name": "Python 3 (ipykernel)",
   "language": "python",
   "name": "python3"
  },
  "language_info": {
   "codemirror_mode": {
    "name": "ipython",
    "version": 3
   },
   "file_extension": ".py",
   "mimetype": "text/x-python",
   "name": "python",
   "nbconvert_exporter": "python",
   "pygments_lexer": "ipython3",
   "version": "3.10.8"
  }
 },
 "nbformat": 4,
 "nbformat_minor": 5
}
