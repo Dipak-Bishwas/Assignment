{
 "cells": [
  {
   "cell_type": "code",
   "execution_count": 21,
   "id": "b339e3a2-80d2-43df-a8d1-da7e362af396",
   "metadata": {},
   "outputs": [],
   "source": [
    "# Q1: What are the Probability Mass Function (PMF) and Probability Density Function (PDF)? Explain with\n",
    "# an example."
   ]
  },
  {
   "cell_type": "code",
   "execution_count": 22,
   "id": "d9289571-0de8-4ca3-a3ac-73fbe86f113a",
   "metadata": {},
   "outputs": [],
   "source": [
    "# PMF:\n",
    "#     Used for discrete random variables\n",
    "#     Assigns probabilities to specific outcomes\n",
    "#     Example: Fair six-sided die, PMF assigns 1/6 probability to each outcome {1, 2, 3, 4, 5, 6}\n",
    "    \n",
    "# PDF:\n",
    "#     Used for continuous random variables\n",
    "#     Describes probability density of each point in a continuous range\n",
    "#     Example: Height of a person, PDF describes probability density of each height value, and area under curve represents\n",
    "#     probability of a person having a height within a range."
   ]
  },
  {
   "cell_type": "code",
   "execution_count": 23,
   "id": "0ef78862-518d-4399-b20c-7939831e2354",
   "metadata": {},
   "outputs": [],
   "source": [
    "# Q2: What is Cumulative Density Function (CDF)? Explain with an example. Why CDF is used?"
   ]
  },
  {
   "cell_type": "code",
   "execution_count": 24,
   "id": "436ee416-1f98-48be-a5e6-351343e8c374",
   "metadata": {},
   "outputs": [],
   "source": [
    "# Cumulative Density Function (CDF)\n",
    "\n",
    "#     Definition: A function that describes the cumulative probability of a random variable taking on a value less than or\n",
    "#     equal to a given value.\n",
    "#     Mathematically: F(x) = P(X ≤ x)\n",
    "# Example:\n",
    "#     Random variable X: Height of a person in meters\n",
    "#     CDF F(x): Probability that a person has a height less than or equal to x meters\n",
    "#     F(1.75) = 0.725: Approximately 72.5% of the population has a height less than or equal to 1.75 meters\n",
    "    \n",
    "# Why CDF is used:\n",
    "#     Calculate probabilities\n",
    "#     Model real-world phenomena\n",
    "#     Make predictions\n",
    "#     Compare distributions\n",
    "#     Estimate parameters"
   ]
  },
  {
   "cell_type": "code",
   "execution_count": 25,
   "id": "bde1ccaf-fd34-406c-8807-4f3104c26e6a",
   "metadata": {},
   "outputs": [],
   "source": [
    "# Q3: What are some examples of situations where the normal distribution might be used as a model?\n",
    "# Explain how the parameters of the normal distribution relate to the shape of the distribution."
   ]
  },
  {
   "cell_type": "code",
   "execution_count": 26,
   "id": "8d02d0f6-56c6-41e4-85c3-f3af343c18ab",
   "metadata": {},
   "outputs": [],
   "source": [
    "# Human characteristics: Height, weight, IQ scores, blood pressure, and other physical and mental attributes tend to follow\n",
    "# a normal distribution.\n",
    "\n",
    "# Measurement errors: Errors in measurement instruments, such as thermometers or scales, often follow a normal distribution.\n",
    "\n",
    "# Stock prices: Daily changes in stock prices can be modeled using a normal distribution.\n",
    "\n",
    "# IQ scores: Intelligence quotient (IQ) scores are designed to follow a normal distribution with a mean of 100 and a standard \n",
    "# deviation of 15.\n",
    "\n",
    "# Exam scores: Scores on standardized exams, such as the SAT or ACT, often follow a normal distribution.\n",
    "\n",
    "# Physical properties: Properties like the diameter of a sphere, the length of a rod, or the volume of a container can be \n",
    "# modeled using a normal distribution."
   ]
  },
  {
   "cell_type": "code",
   "execution_count": 27,
   "id": "fe5ef652-efe8-4016-b9ba-51a7ab7617ff",
   "metadata": {},
   "outputs": [],
   "source": [
    "# Mean (μ): Moves the distribution left or right.\n",
    "\n",
    "# Standard Deviation (σ): Stretches or shrinks the distribution.\n",
    "\n",
    "# Example:\n",
    "#     Imagine a bell-shaped curve (normal distribution) representing the heights of people in a population.\n",
    "\n",
    "#     Mean (μ) = 170 cm: The average height is 170 cm, so the curve is centered at 170 cm.\n",
    "#     Standard Deviation (σ) = 10 cm: The curve is relatively narrow, with most people having heights between 160 cm and\n",
    "#     180 cm.\n",
    "#     Now, let's change the parameters:\n",
    "\n",
    "#     Mean (μ) = 180 cm: The curve shifts to the right, and the average height is now 180 cm.\n",
    "#     Standard Deviation (σ) = 20 cm: The curve becomes wider, with more people having heights outside the 160-180 cm range."
   ]
  },
  {
   "cell_type": "code",
   "execution_count": 28,
   "id": "a840e957-a88a-4bb4-b1a2-b2d1354de560",
   "metadata": {},
   "outputs": [],
   "source": [
    "# Q4: Explain the importance of Normal Distribution. Give a few real-life examples of Normal\n",
    "# Distribution."
   ]
  },
  {
   "cell_type": "code",
   "execution_count": 29,
   "id": "42b76b13-285b-45f8-887b-23976e776939",
   "metadata": {},
   "outputs": [],
   "source": [
    "# Importance of Normal Distribution:\n",
    "#     Universal applicability in natural and social sciences\n",
    "#     Symmetry and continuity for easy probability calculations\n",
    "#     Central Limit Theorem (CLT) implications in statistics and data analysis\n",
    "    \n",
    "# Real-Life Examples:\n",
    "#     Human height and weight\n",
    "#     IQ scores\n",
    "#     Stock prices\n",
    "#     Error measurements\n",
    "#     Blood pressure\n",
    "#     Exam scores\n",
    "#     Weather patterns"
   ]
  },
  {
   "cell_type": "code",
   "execution_count": 30,
   "id": "faa02cee-6672-4664-b1cd-1efef2c5c6d5",
   "metadata": {},
   "outputs": [],
   "source": [
    "# Q5: What is Bernaulli Distribution? Give an Example. What is the difference between Bernoulli\n",
    "# Distribution and Binomial Distribution?"
   ]
  },
  {
   "cell_type": "code",
   "execution_count": 31,
   "id": "0c38c85b-c276-4bf1-b4ad-3a6fb47751db",
   "metadata": {},
   "outputs": [],
   "source": [
    "# Bernoulli Distribution: A discrete probability distribution that models a single trial with two possible outcomes \n",
    "# (success or failure) and a fixed probability of success.\n",
    "\n",
    "# Example: Flipping a coin: Heads (success) or Tails (failure) with a probability of success (Heads) = 0.5.\n",
    "\n",
    "# Difference between Bernoulli and Binomial Distributions:\n",
    "#     Bernoulli: Single trial with two outcomes\n",
    "#     Binomial: Multiple trials with two outcomes"
   ]
  },
  {
   "cell_type": "code",
   "execution_count": 32,
   "id": "9617c7a7-2946-414b-a170-17618799d158",
   "metadata": {},
   "outputs": [],
   "source": [
    "# Q6. Consider a dataset with a mean of 50 and a standard deviation of 10. If we assume that the dataset\n",
    "# is normally distributed, what is the probability that a randomly selected observation will be greater\n",
    "# than 60? Use the appropriate formula and show your calculations."
   ]
  },
  {
   "cell_type": "code",
   "execution_count": 33,
   "id": "30af4537-1544-44dd-8048-fd9f04bd7bb5",
   "metadata": {},
   "outputs": [],
   "source": [
    "# To find the probability that a randomly selected observation will be greater than 60, we can use the z-score formula and \n",
    "# the standard normal distribution (Z-distribution) table.\n",
    "\n",
    "# Given:\n",
    "#     Mean (μ) = 50\n",
    "#     Standard Deviation (σ) = 10\n",
    "#     We want to find P(X > 60)\n",
    "    \n",
    "# Step 1: Calculate the z-score\n",
    "# z = (X - μ) / σ = (60 - 50) / 10 = 10 / 10 = 1\n",
    "\n",
    "# Step 2: Find the probability using the Z-distribution table\n",
    "# We want to find P(Z > 1), which is equivalent to finding the area to the right of z = 1 in the standard normal distribution\n",
    "# curve.\n",
    "\n",
    "# Using a Z-distribution table, we find that:\n",
    "\n",
    "# P(Z > 1) ≈ 0.1587\n",
    "\n",
    "# Answer:\n",
    "\n",
    "# The probability that a randomly selected observation will be greater than 60 is approximately 0.1587 or 15.87%."
   ]
  },
  {
   "cell_type": "code",
   "execution_count": 34,
   "id": "f1b2254d-10be-4ae8-b957-b14eeb779ef8",
   "metadata": {},
   "outputs": [],
   "source": [
    "# Uniform Distribution:\n",
    "#     A uniform distribution, also known as a rectangular distribution, is a continuous probability distribution where every\n",
    "#     possible value within a given interval has an equal probability of being selected.\n",
    "    \n",
    "# Characteristics:\n",
    "#     The probability density function (PDF) is constant across the entire interval.\n",
    "#     The interval is defined by a lower bound (a) and an upper bound (b).\n",
    "#     Every value within the interval has an equal probability of being selected.\n",
    "    \n",
    "# Rolling a Fair Six-Sided Die\n",
    "\n",
    "# Imagine rolling a fair six-sided die. The possible outcomes are {1, 2, 3, 4, 5, 6}. In a uniform distribution, each outcome has an equal probability of being selected.\n",
    "#     Lower bound (a) = 1\n",
    "#     Upper bound (b) = 6\n",
    "#     Probability of each outcome = 1/6 (since there are 6 possible outcomes)\n",
    "# The probability density function (PDF) would be a flat line across the interval [1, 6], indicating that each outcome has an\n",
    "# equal probability of being selected"
   ]
  },
  {
   "cell_type": "code",
   "execution_count": 35,
   "id": "dcf02989-7db2-4d34-af81-b264690bf229",
   "metadata": {},
   "outputs": [],
   "source": [
    "# Q8: What is the z score? State the importance of the z score."
   ]
  },
  {
   "cell_type": "code",
   "execution_count": 36,
   "id": "2d892279-22d8-4f80-90c6-c5781a95b19e",
   "metadata": {},
   "outputs": [],
   "source": [
    "# What is the z-score?\n",
    "\n",
    "# The z-score is a measure of how many standard deviations an observation is away from the mean of a normal distribution.\n",
    "\n",
    "# Importance of the z-score:\n",
    "\n",
    "# Standardizes values for comparison\n",
    "# Measures distance from the mean\n",
    "# Identifies outliers\n",
    "# Enables comparison of datasets\n",
    "# Used in hypothesis testing and confidence intervals\n",
    "# Essential in data analysis and real-world applications"
   ]
  },
  {
   "cell_type": "code",
   "execution_count": 37,
   "id": "dfee2aaf-cd7a-4cb7-a689-f399d4cab447",
   "metadata": {},
   "outputs": [],
   "source": [
    "# Q9: What is Central Limit Theorem? State the significance of the Central Limit Theorem."
   ]
  },
  {
   "cell_type": "code",
   "execution_count": 38,
   "id": "a6bc72c4-e1a6-4866-9522-ffdaceb8fb4a",
   "metadata": {},
   "outputs": [],
   "source": [
    "# What is the Central Limit Theorem (CLT)?\n",
    "#     The Central Limit Theorem states that the distribution of the mean of a large sample of independent and identically \n",
    "#     distributed random variables will be approximately normal, even if the underlying distribution is not normal.\n",
    "\n",
    "# Significance of the CLT:\n",
    "\n",
    "#     Ensures normality of sample means\n",
    "#     Approximates complex distributions with a normal distribution\n",
    "#     Enables large sample sizes for estimation and inference\n",
    "#     Crucial for confidence intervals and hypothesis testing\n",
    "#     Simplifies complex problems\n",
    "#     Has wide applicability in various fields"
   ]
  },
  {
   "cell_type": "code",
   "execution_count": 39,
   "id": "e4a23990-bf30-4a70-9858-aed9f8a40f08",
   "metadata": {},
   "outputs": [],
   "source": [
    "# Q10: State the assumptions of the Central Limit Theorem."
   ]
  },
  {
   "cell_type": "code",
   "execution_count": 40,
   "id": "248234c8-2361-4a36-af17-12988fb30710",
   "metadata": {},
   "outputs": [],
   "source": [
    "# Assumptions of the Central Limit Theorem (CLT):\n",
    "#     Independence: The random variables in the sample must be independent of each other.\n",
    "    \n",
    "#     Identical Distribution: The random variables in the sample must be identically distributed, meaning they have the same\n",
    "#     probability distribution.\n",
    "    \n",
    "#     Finite Variance: The random variables in the sample must have a finite variance, meaning the variance is not infinite.\n",
    "    \n",
    "#     Large Sample Size: The sample size must be sufficiently large, typically greater than 30, for the CLT to hold.\n",
    "    \n",
    "#     Note: These assumptions are necessary for the CLT to hold, but they are not always strictly required in practice. \n",
    "#     In many cases, the CLT can still provide a good approximation even if these assumptions are not fully met."
   ]
  },
  {
   "cell_type": "code",
   "execution_count": null,
   "id": "6f439e57-06c6-4dda-95e4-ff2fdc673d4c",
   "metadata": {},
   "outputs": [],
   "source": []
  },
  {
   "cell_type": "code",
   "execution_count": null,
   "id": "747fbfbd-3c84-4525-995b-49d0132112d7",
   "metadata": {},
   "outputs": [],
   "source": []
  },
  {
   "cell_type": "code",
   "execution_count": null,
   "id": "4da27496-84fc-4e30-9845-8cb659ce22db",
   "metadata": {},
   "outputs": [],
   "source": []
  }
 ],
 "metadata": {
  "kernelspec": {
   "display_name": "Python 3 (ipykernel)",
   "language": "python",
   "name": "python3"
  },
  "language_info": {
   "codemirror_mode": {
    "name": "ipython",
    "version": 3
   },
   "file_extension": ".py",
   "mimetype": "text/x-python",
   "name": "python",
   "nbconvert_exporter": "python",
   "pygments_lexer": "ipython3",
   "version": "3.10.8"
  }
 },
 "nbformat": 4,
 "nbformat_minor": 5
}
