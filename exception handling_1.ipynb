{
 "cells": [
  {
   "cell_type": "code",
   "execution_count": 1,
   "id": "d228a7aa-1a74-40da-9071-f131668bcd94",
   "metadata": {},
   "outputs": [],
   "source": [
    "# Q1. What is an Eception in python? Write the difference bwtween Excptions and Syntax errors.\n",
    "\n",
    "# Ans: \n",
    "# An exception in Python is an error that occurs during the execution of a program, disrupting its normal flow. When a situation arises that the program cannot handle, it raises an exception. If this exception is not properly managed using try-except blocks, it will cause the program to terminate."
   ]
  },
  {
   "cell_type": "code",
   "execution_count": 2,
   "id": "8be2df58-c11d-4ae9-a1a5-d17f9cd7a194",
   "metadata": {},
   "outputs": [],
   "source": [
    "# Q2, Whata happens when an exception is not handled? Explain with an example\n",
    "# Ans: If an exception is not handled, the program will terminate and display a traceback with details of the exception and the code where it occurred. Proper exception handling using try and except blocks is essential to prevent such abrupt program terminations and to handle errors gracefull"
   ]
  },
  {
   "cell_type": "code",
   "execution_count": 3,
   "id": "5b98374f-56a8-4c6d-b80c-bb1ecaba2e38",
   "metadata": {},
   "outputs": [],
   "source": [
    "# Q3. Which Python statements are used to catch and handle exceptions? Explain with an example\n",
    "# Ans: Use try to wrap the code that might raise an exception.\n",
    "#     Use except to handle specific exceptions.\n",
    "#     Use else to run code if no exceptions are raised.\n",
    "#     Use finally for cleanup actions that must always run."
   ]
  },
  {
   "cell_type": "code",
   "execution_count": 4,
   "id": "5ab3ab81-26a5-4045-9b4a-831015b0cb80",
   "metadata": {},
   "outputs": [
    {
     "name": "stdout",
     "output_type": "stream",
     "text": [
      "Error: Cannot divide by zero.\n",
      "Exception details: division by zero\n",
      "Execution completed.\n"
     ]
    }
   ],
   "source": [
    "try:\n",
    "    numerator = 10\n",
    "    denominator = 0\n",
    "    result = numerator / denominator\n",
    "except ZeroDivisionError as e:\n",
    "    print(\"Error: Cannot divide by zero.\")\n",
    "    print(f\"Exception details: {e}\")\n",
    "else:\n",
    "    print(f\"The result is: {result}\")\n",
    "finally:\n",
    "    print(\"Execution completed.\")\n"
   ]
  },
  {
   "cell_type": "code",
   "execution_count": 6,
   "id": "26d2684d-ecce-4694-95c5-7669a2c9104d",
   "metadata": {},
   "outputs": [],
   "source": [
    "# Q1. Explain with an example:\n",
    "#     a. try and else\n",
    "     # ->The try block is used to execute code that may potentially raise an exception. If no exceptions occur within the try block, the else block is executed. The else block is useful for code that should only run if no exceptions were raised in the try block.\n",
    "#     b.finally\n",
    "     # -> The finally block is used for code that should always run, regardless of whether an exception was raised or not. It is typically used for cleanup actions like closing files or releasing resources\n",
    "#     c.raise\n",
    "    # -> The raise statement is used to manually trigger an exception. This can be useful for custom error handling or when you want to re-raise an exception after catching it."
   ]
  },
  {
   "cell_type": "code",
   "execution_count": 10,
   "id": "05daae68-d9ba-4c85-8bab-c8c247698817",
   "metadata": {},
   "outputs": [
    {
     "name": "stdin",
     "output_type": "stream",
     "text": [
      "Enter a number:  4\n"
     ]
    },
    {
     "name": "stdout",
     "output_type": "stream",
     "text": [
      "The result is: 25.0\n"
     ]
    }
   ],
   "source": [
    "# a. try and else\n",
    "try:\n",
    "    number = int(input(\"Enter a number: \"))\n",
    "    result = 100 / number\n",
    "except ValueError:\n",
    "    print(\"Invalid input! Please enter a valid number.\")\n",
    "except ZeroDivisionError:\n",
    "    print(\"Error: Cannot divide by zero.\")\n",
    "else:\n",
    "    print(f\"The result is: {result}\")\n"
   ]
  },
  {
   "cell_type": "code",
   "execution_count": 13,
   "id": "d4bc489a-ce6c-40aa-8719-0bb82fdbe098",
   "metadata": {},
   "outputs": [
    {
     "name": "stdout",
     "output_type": "stream",
     "text": [
      "File not found!\n"
     ]
    },
    {
     "ename": "NameError",
     "evalue": "name 'file' is not defined",
     "output_type": "error",
     "traceback": [
      "\u001b[0;31m---------------------------------------------------------------------------\u001b[0m",
      "\u001b[0;31mNameError\u001b[0m                                 Traceback (most recent call last)",
      "Cell \u001b[0;32mIn[13], line 11\u001b[0m\n\u001b[1;32m      8\u001b[0m     \u001b[38;5;28mprint\u001b[39m(\u001b[38;5;124m\"\u001b[39m\u001b[38;5;124mFile not found!\u001b[39m\u001b[38;5;124m\"\u001b[39m)\n\u001b[1;32m      9\u001b[0m \u001b[38;5;28;01mfinally\u001b[39;00m:\n\u001b[1;32m     10\u001b[0m     \u001b[38;5;66;03m# This block will always execute\u001b[39;00m\n\u001b[0;32m---> 11\u001b[0m     \u001b[43mfile\u001b[49m\u001b[38;5;241m.\u001b[39mclose()\n\u001b[1;32m     12\u001b[0m     \u001b[38;5;28mprint\u001b[39m(\u001b[38;5;124m\"\u001b[39m\u001b[38;5;124mFile closed.\u001b[39m\u001b[38;5;124m\"\u001b[39m)\n",
      "\u001b[0;31mNameError\u001b[0m: name 'file' is not defined"
     ]
    }
   ],
   "source": [
    "try:\n",
    "    # Code that might raise an exception\n",
    "    file = open(\"example.txt\", \"r\")\n",
    "    content = file.read()\n",
    "    print(content)\n",
    "except FileNotFoundError:\n",
    "    # Handle the exception if the file is not found\n",
    "    print(\"File not found!\")\n",
    "finally:\n",
    "    # This block will always execute\n",
    "    file.close()\n",
    "    print(\"File closed.\")\n"
   ]
  },
  {
   "cell_type": "code",
   "execution_count": 14,
   "id": "ccf28411-872d-418e-827a-f56cddb34f33",
   "metadata": {},
   "outputs": [
    {
     "name": "stdout",
     "output_type": "stream",
     "text": [
      "Error occurred: Denominator cannot be zero!\n"
     ]
    }
   ],
   "source": [
    "# c.raise\n",
    "\n",
    "def divide_numbers(a, b):\n",
    "    if b == 0:\n",
    "        raise ValueError(\"Denominator cannot be zero!\")\n",
    "    return a / b\n",
    "\n",
    "try:\n",
    "    result = divide_numbers(10, 0)\n",
    "except ValueError as e:\n",
    "    print(f\"Error occurred: {e}\")\n"
   ]
  },
  {
   "cell_type": "code",
   "execution_count": 15,
   "id": "84ef07c2-6a27-48e2-800d-9d06fdc35418",
   "metadata": {},
   "outputs": [],
   "source": [
    "# Q5.What are Custom Exceptions in python?Why do we need custom Exceptions? Explain with an example\n",
    "# Ans: Custom exceptions in Python are user-defined error types that help in creating more specific, clear, and manageable error handling scenarios. They provide a way to handle errors more effectively and make your code easier to understand and maintain"
   ]
  },
  {
   "cell_type": "code",
   "execution_count": 16,
   "id": "0b24ec1a-8121-455c-bc01-88e5ce0d5584",
   "metadata": {},
   "outputs": [],
   "source": [
    "class MyCustomError(Exception):\n",
    "    def __init__(self, message=\"Something went wrong\"):\n",
    "        self.message = message\n",
    "        Exception.__init__(self, self.message) \n"
   ]
  },
  {
   "cell_type": "code",
   "execution_count": 17,
   "id": "8616745c-9667-4fe0-9ca5-8b6d4e98adfb",
   "metadata": {},
   "outputs": [],
   "source": [
    "def check_value(value):\n",
    "    if value < 0:\n",
    "        raise MyCustomError(\"Value cannot be negative!\")\n",
    "    return value\n"
   ]
  },
  {
   "cell_type": "code",
   "execution_count": 18,
   "id": "eb8f8c22-4d73-49a2-af5b-73eace86e387",
   "metadata": {},
   "outputs": [
    {
     "name": "stdout",
     "output_type": "stream",
     "text": [
      "Error: Value cannot be negative!\n"
     ]
    }
   ],
   "source": [
    "try:\n",
    "    result = check_value(-1)\n",
    "    print(f\"Value is: {result}\")\n",
    "except MyCustomError as e:\n",
    "    print(f\"Error: {e}\")\n"
   ]
  },
  {
   "cell_type": "code",
   "execution_count": null,
   "id": "a0810f24-d45e-4c62-a0fa-a1c3c7a4dc30",
   "metadata": {},
   "outputs": [],
   "source": [
    "# Q6. Create a custom expception class. Use this class to handle an exception.\n"
   ]
  }
 ],
 "metadata": {
  "kernelspec": {
   "display_name": "Python 3 (ipykernel)",
   "language": "python",
   "name": "python3"
  },
  "language_info": {
   "codemirror_mode": {
    "name": "ipython",
    "version": 3
   },
   "file_extension": ".py",
   "mimetype": "text/x-python",
   "name": "python",
   "nbconvert_exporter": "python",
   "pygments_lexer": "ipython3",
   "version": "3.10.8"
  }
 },
 "nbformat": 4,
 "nbformat_minor": 5
}
