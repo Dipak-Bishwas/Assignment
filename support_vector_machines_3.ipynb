{
 "cells": [
  {
   "cell_type": "code",
   "execution_count": 1,
   "id": "479d67c9-cfdc-4ad0-ba58-6c2d53013d59",
   "metadata": {},
   "outputs": [],
   "source": [
    "# Q1. In order to predict house price based on several characteristics, such as location, square footage,\n",
    "# number of bedrooms, etc., you are developing an SVM regression model. Which regression metric in this\n",
    "# situation would be the best to employ?\n",
    "# Dataset link:https://drive.google.com/file/d/1Z9oLpmt6IDRNw7IeNcHYTGeJRYypRSC0/view?usp=share_link"
   ]
  },
  {
   "cell_type": "code",
   "execution_count": null,
   "id": "f418dc55-efc8-451b-98a9-2f968a0471e0",
   "metadata": {},
   "outputs": [],
   "source": [
    "# Step 1: Import necessary libraries and load the dataset"
   ]
  },
  {
   "cell_type": "code",
   "execution_count": 10,
   "id": "8d7fd0fe-d3cf-45a1-b230-8c5b19eaec54",
   "metadata": {},
   "outputs": [],
   "source": [
    "import pandas as pd\n",
    "from sklearn.svm import SVR\n",
    "from sklearn.model_selection import train_test_split\n",
    "from sklearn.preprocessing import StandardScaler\n",
    "from sklearn.metrics import mean_squared_error, r2_score\n",
    "\n",
    "# df = pd.read_csv('Bengaluru_House_Data.csv')\n",
    "\n",
    "# i am not able to import file\n",
    "# it show Upload Error\n",
    "# Invalid response: 413 Request Entity Too Large"
   ]
  },
  {
   "cell_type": "code",
   "execution_count": null,
   "id": "72d903fe-014a-482f-9370-a081191e4875",
   "metadata": {},
   "outputs": [],
   "source": [
    "# Step 2: Preprocess the data using StandardScaler"
   ]
  },
  {
   "cell_type": "code",
   "execution_count": 11,
   "id": "f804b522-6ba3-4ecd-ba61-e9f25638e717",
   "metadata": {},
   "outputs": [],
   "source": [
    "# X = df.drop('price', axis=1)\n",
    "# y = df['price']\n",
    "\n",
    "# X_train, X_test, y_train, y_test = train_test_split(X, y, test_size=0.2, random_state=42)\n",
    "\n",
    "# scaler = StandardScaler()\n",
    "# X_train_scaled = scaler.fit_transform(X_train)\n",
    "# X_test_scaled = scaler.transform(X_test)"
   ]
  },
  {
   "cell_type": "code",
   "execution_count": 12,
   "id": "4ef5c849-a392-49f7-a4f3-4eaabb2bc025",
   "metadata": {},
   "outputs": [],
   "source": [
    "# Step 3: Create an instance of the SVR classifier and train it on the training data"
   ]
  },
  {
   "cell_type": "code",
   "execution_count": 13,
   "id": "163fbb89-3228-4772-9e77-ad8a33947296",
   "metadata": {},
   "outputs": [],
   "source": [
    "# svm = SVR()\n",
    "# svm.fit(X_train_scaled, y_train)"
   ]
  },
  {
   "cell_type": "code",
   "execution_count": 14,
   "id": "288ff6a0-be39-4380-91d9-587e4a7413a8",
   "metadata": {},
   "outputs": [],
   "source": [
    "# Step 4: Use the trained classifier to predict the labels of the testing data"
   ]
  },
  {
   "cell_type": "code",
   "execution_count": 15,
   "id": "477bd533-9258-4847-9d25-bf63837e908e",
   "metadata": {},
   "outputs": [],
   "source": [
    "# y_pred = svm.predict(X_test_scaled)"
   ]
  },
  {
   "cell_type": "code",
   "execution_count": 16,
   "id": "f9051877-c019-4b68-a82a-d1524116ef34",
   "metadata": {},
   "outputs": [],
   "source": [
    "# Step 5: Evaluate the performance of the classifier using RMSE and R-squared"
   ]
  },
  {
   "cell_type": "code",
   "execution_count": 17,
   "id": "032fdf29-191e-4807-962e-96d9f21bcbfe",
   "metadata": {},
   "outputs": [],
   "source": [
    "# rmse = mean_squared_error(y_test, y_pred, squared=False)\n",
    "# print(\"RMSE:\", rmse)\n",
    "\n",
    "# r2 = r2_score(y_test, y_pred)\n",
    "# print(\"R-squared:\", r2)"
   ]
  },
  {
   "cell_type": "code",
   "execution_count": 18,
   "id": "034d2979-6905-4227-abbc-9ec9888420cc",
   "metadata": {},
   "outputs": [],
   "source": [
    "# Q2. You have built an SVM regression model and are trying to decide between using MSE or R-squared as\n",
    "# your evaluation metric. Which metric would be more appropriate if your goal is to predict the actual price\n",
    "# of a house as accurately as possible?"
   ]
  },
  {
   "cell_type": "code",
   "execution_count": 19,
   "id": "0915a1a2-c9da-4cde-a41f-398537c3c24c",
   "metadata": {},
   "outputs": [],
   "source": [
    "# If your goal is to predict the actual price of a house as accurately as possible, use Mean Squared Error (MSE) as the\n",
    "# evaluation metric. MSE measures absolute error, is sensitive to outliers, and provides a direct measure of average error,\n",
    "# making it a more intuitive and suitable metric for this task."
   ]
  },
  {
   "cell_type": "code",
   "execution_count": 20,
   "id": "1bf04b2a-807c-45a7-a3b7-f24b287f7c43",
   "metadata": {},
   "outputs": [],
   "source": [
    "# Q3. You have a dataset with a significant number of outliers and are trying to select an appropriate\n",
    "# regression metric to use with your SVM model. Which metric would be the most appropriate in this\n",
    "# scenario?"
   ]
  },
  {
   "cell_type": "code",
   "execution_count": null,
   "id": "e431e045-2f90-44f0-9365-a072eb7b14e4",
   "metadata": {},
   "outputs": [],
   "source": [
    "When dealing with a dataset that has a significant number of outliers, the Mean Absolute Error (MAE) is the most appropriate\n",
    "regression metric to use with your SVM model. MAE is less sensitive to outliers compared to metrics like Mean Squared Error (MSE), which can disproportionately increase due to the square of large errors. MAE provides a clear and interpretable measure of the average error in your predictions, making it suitable for datasets with outliers."
   ]
  }
 ],
 "metadata": {
  "kernelspec": {
   "display_name": "Python 3 (ipykernel)",
   "language": "python",
   "name": "python3"
  },
  "language_info": {
   "codemirror_mode": {
    "name": "ipython",
    "version": 3
   },
   "file_extension": ".py",
   "mimetype": "text/x-python",
   "name": "python",
   "nbconvert_exporter": "python",
   "pygments_lexer": "ipython3",
   "version": "3.10.8"
  }
 },
 "nbformat": 4,
 "nbformat_minor": 5
}
