{
 "cells": [
  {
   "cell_type": "code",
   "execution_count": 26,
   "id": "479d67c9-cfdc-4ad0-ba58-6c2d53013d59",
   "metadata": {},
   "outputs": [],
   "source": [
    "# Q1. In order to predict house price based on several characteristics, such as location, square footage,\n",
    "# number of bedrooms, etc., you are developing an SVM regression model. Which regression metric in this\n",
    "# situation would be the best to employ?\n",
    "# Dataset link:https://drive.google.com/file/d/1Z9oLpmt6IDRNw7IeNcHYTGeJRYypRSC0/view?usp=share_link"
   ]
  },
  {
   "cell_type": "code",
   "execution_count": 27,
   "id": "f418dc55-efc8-451b-98a9-2f968a0471e0",
   "metadata": {},
   "outputs": [],
   "source": [
    "# Step 1: Import necessary libraries and load the dataset"
   ]
  },
  {
   "cell_type": "code",
   "execution_count": 28,
   "id": "8d7fd0fe-d3cf-45a1-b230-8c5b19eaec54",
   "metadata": {},
   "outputs": [],
   "source": [
    "import pandas as pd\n",
    "from sklearn.svm import SVR\n",
    "from sklearn.model_selection import train_test_split\n",
    "from sklearn.preprocessing import StandardScaler\n",
    "from sklearn.metrics import mean_squared_error, r2_score\n",
    "\n",
    "# df = pd.read_csv('Bengaluru_House_Data.csv')\n",
    "\n",
    "# i am not able to import file\n",
    "# it show Upload Error\n",
    "# Invalid response: 413 Request Entity Too Large"
   ]
  },
  {
   "cell_type": "code",
   "execution_count": 29,
   "id": "72d903fe-014a-482f-9370-a081191e4875",
   "metadata": {},
   "outputs": [],
   "source": [
    "# Step 2: Preprocess the data using StandardScaler"
   ]
  },
  {
   "cell_type": "code",
   "execution_count": 30,
   "id": "f804b522-6ba3-4ecd-ba61-e9f25638e717",
   "metadata": {},
   "outputs": [],
   "source": [
    "# X = df.drop('price', axis=1)\n",
    "# y = df['price']\n",
    "\n",
    "# X_train, X_test, y_train, y_test = train_test_split(X, y, test_size=0.2, random_state=42)\n",
    "\n",
    "# scaler = StandardScaler()\n",
    "# X_train_scaled = scaler.fit_transform(X_train)\n",
    "# X_test_scaled = scaler.transform(X_test)"
   ]
  },
  {
   "cell_type": "code",
   "execution_count": 31,
   "id": "4ef5c849-a392-49f7-a4f3-4eaabb2bc025",
   "metadata": {},
   "outputs": [],
   "source": [
    "# Step 3: Create an instance of the SVR classifier and train it on the training data"
   ]
  },
  {
   "cell_type": "code",
   "execution_count": 32,
   "id": "163fbb89-3228-4772-9e77-ad8a33947296",
   "metadata": {},
   "outputs": [],
   "source": [
    "# svm = SVR()\n",
    "# svm.fit(X_train_scaled, y_train)"
   ]
  },
  {
   "cell_type": "code",
   "execution_count": 33,
   "id": "288ff6a0-be39-4380-91d9-587e4a7413a8",
   "metadata": {},
   "outputs": [],
   "source": [
    "# Step 4: Use the trained classifier to predict the labels of the testing data"
   ]
  },
  {
   "cell_type": "code",
   "execution_count": 34,
   "id": "477bd533-9258-4847-9d25-bf63837e908e",
   "metadata": {},
   "outputs": [],
   "source": [
    "# y_pred = svm.predict(X_test_scaled)"
   ]
  },
  {
   "cell_type": "code",
   "execution_count": 35,
   "id": "f9051877-c019-4b68-a82a-d1524116ef34",
   "metadata": {},
   "outputs": [],
   "source": [
    "# Step 5: Evaluate the performance of the classifier using RMSE and R-squared"
   ]
  },
  {
   "cell_type": "code",
   "execution_count": 36,
   "id": "032fdf29-191e-4807-962e-96d9f21bcbfe",
   "metadata": {},
   "outputs": [],
   "source": [
    "# rmse = mean_squared_error(y_test, y_pred, squared=False)\n",
    "# print(\"RMSE:\", rmse)\n",
    "\n",
    "# r2 = r2_score(y_test, y_pred)\n",
    "# print(\"R-squared:\", r2)"
   ]
  },
  {
   "cell_type": "code",
   "execution_count": 37,
   "id": "034d2979-6905-4227-abbc-9ec9888420cc",
   "metadata": {},
   "outputs": [],
   "source": [
    "# Q2. You have built an SVM regression model and are trying to decide between using MSE or R-squared as\n",
    "# your evaluation metric. Which metric would be more appropriate if your goal is to predict the actual price\n",
    "# of a house as accurately as possible?"
   ]
  },
  {
   "cell_type": "code",
   "execution_count": 38,
   "id": "0915a1a2-c9da-4cde-a41f-398537c3c24c",
   "metadata": {},
   "outputs": [],
   "source": [
    "# If your goal is to predict the actual price of a house as accurately as possible, use Mean Squared Error (MSE) as the\n",
    "# evaluation metric. MSE measures absolute error, is sensitive to outliers, and provides a direct measure of average error,\n",
    "# making it a more intuitive and suitable metric for this task."
   ]
  },
  {
   "cell_type": "code",
   "execution_count": 39,
   "id": "1bf04b2a-807c-45a7-a3b7-f24b287f7c43",
   "metadata": {},
   "outputs": [],
   "source": [
    "# Q3. You have a dataset with a significant number of outliers and are trying to select an appropriate\n",
    "# regression metric to use with your SVM model. Which metric would be the most appropriate in this\n",
    "# scenario?"
   ]
  },
  {
   "cell_type": "code",
   "execution_count": 40,
   "id": "e431e045-2f90-44f0-9365-a072eb7b14e4",
   "metadata": {},
   "outputs": [],
   "source": [
    "# When dealing with a dataset that has a significant number of outliers, the Mean Absolute Error (MAE) is the most appropriate\n",
    "# regression metric to use with your SVM model. MAE is less sensitive to outliers compared to metrics like Mean Squared Error\n",
    "# (MSE), which can disproportionately increase due to the square of large errors. MAE provides a clear and interpretable\n",
    "# measure of the average error in your predictions, making it suitable for datasets with outliers."
   ]
  },
  {
   "cell_type": "code",
   "execution_count": 41,
   "id": "287858be-5ae0-42f8-aeb2-3edec19ad8e5",
   "metadata": {},
   "outputs": [],
   "source": [
    "# Q4. You have built an SVM regression model using a polynomial kernel and are trying to select the best\n",
    "# metric to evaluate its performance. You have calculated both MSE and RMSE and found that both values\n",
    "# are very close. Which metric should you choose to use in this case?"
   ]
  },
  {
   "cell_type": "code",
   "execution_count": 42,
   "id": "b15a83ae-077c-4ca4-b61c-430a5ccd9e16",
   "metadata": {},
   "outputs": [],
   "source": [
    "# If you've calculated both MSE (Mean Squared Error) and RMSE (Root Mean Squared Error) and found that the values are very \n",
    "# close, you can choose either metric depending on your preference:\n",
    "\n",
    "# MSE is useful for understanding the average squared error, which gives more weight to larger errors.\n",
    "# RMSE is the square root of MSE and provides an error measure in the same units as the target variable, making it more\n",
    "# interpretable.\n",
    "\n",
    "# In this case, RMSE might be more intuitive for evaluating model performance."
   ]
  },
  {
   "cell_type": "code",
   "execution_count": 43,
   "id": "de8ce96d-5cf5-4d92-bd89-50bb413a0163",
   "metadata": {},
   "outputs": [],
   "source": [
    "# Q5. You are comparing the performance of different SVM regression models using different kernels (linear,\n",
    "# polynomial, and RBF) and are trying to select the best evaluation metric. Which metric would be most\n",
    "# appropriate if your goal is to measure how well the model explains the variance in the target variable?"
   ]
  },
  {
   "cell_type": "code",
   "execution_count": 44,
   "id": "fa0b3457-75b7-49ef-a073-9394cf71b7c4",
   "metadata": {},
   "outputs": [],
   "source": [
    "# If your goal is to measure how well the SVM regression model explains the variance in the target variable, the most \n",
    "# appropriate metric to use is R-squared (R²). R² indicates the proportion of the variance in the dependent variable that\n",
    "# is predictable from the independent variables. It provides a measure of how well the model's predictions match the actual\n",
    "# data, making it ideal for comparing different kernels in SVM regression models."
   ]
  },
  {
   "cell_type": "code",
   "execution_count": null,
   "id": "0b11f9b5-c8b1-4bf8-8fbe-9cce495944ce",
   "metadata": {},
   "outputs": [],
   "source": []
  },
  {
   "cell_type": "code",
   "execution_count": null,
   "id": "62ea882b-53fe-4538-a9f8-9a4e20fcaba7",
   "metadata": {},
   "outputs": [],
   "source": []
  },
  {
   "cell_type": "code",
   "execution_count": null,
   "id": "d41d467d-6695-4d78-ad99-75d477505902",
   "metadata": {},
   "outputs": [],
   "source": []
  },
  {
   "cell_type": "code",
   "execution_count": null,
   "id": "1c06005f-46f2-4164-9d3b-fba361c9c110",
   "metadata": {},
   "outputs": [],
   "source": []
  },
  {
   "cell_type": "code",
   "execution_count": null,
   "id": "f4ae2ae2-9443-47d5-9661-4e3a1184f319",
   "metadata": {},
   "outputs": [],
   "source": []
  }
 ],
 "metadata": {
  "kernelspec": {
   "display_name": "Python 3 (ipykernel)",
   "language": "python",
   "name": "python3"
  },
  "language_info": {
   "codemirror_mode": {
    "name": "ipython",
    "version": 3
   },
   "file_extension": ".py",
   "mimetype": "text/x-python",
   "name": "python",
   "nbconvert_exporter": "python",
   "pygments_lexer": "ipython3",
   "version": "3.10.8"
  }
 },
 "nbformat": 4,
 "nbformat_minor": 5
}
