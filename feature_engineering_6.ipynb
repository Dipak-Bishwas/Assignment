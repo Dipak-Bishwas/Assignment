{
 "cells": [
  {
   "cell_type": "code",
   "execution_count": 1,
   "id": "6ab39ddb-27d4-437a-af2a-f20c18eedc53",
   "metadata": {},
   "outputs": [],
   "source": [
    "# Q1. Pearson correlation coefficient is a measure of the linear relationship between two variables. Suppose\n",
    "# you have collected data on the amount of time students spend studying for an exam and their final exam\n",
    "# scores. Calculate the Pearson correlation coefficient between these two variables and interpret the result."
   ]
  },
  {
   "cell_type": "code",
   "execution_count": 2,
   "id": "0569a2be-b646-4e9e-b4a6-a371933b0229",
   "metadata": {},
   "outputs": [],
   "source": [
    "# To calculate the Pearson correlation coefficient (denoted as r) between two variables, you need data for both variables. \n",
    "# The formula for the Pearson correlation coefficient is:\n",
    "#     r = Σ[(xi - x̄)(yi - ȳ)] / sqrt[Σ(xi - x̄)² * Σ(yi - ȳ)²]\n",
    "    \n",
    "#     emaple:\n",
    "#         Time spend studing(Hours)(X)->2,3,4,5,6\n",
    "#         Exame Score(Y)->50,60,70,80,90\n",
    "#         The Pearson correlation coefficient calculated for the given data is r=1.0.\n",
    "        \n",
    "#         Interpretation: An r value of 1.0 indicates a perfect positive linear relationship between the amount of time \n",
    "#         students spend studying and their final exam scores. This means that as the time spent studying increases, the\n",
    "#         exam scores increase in a perfectly linear manner."
   ]
  },
  {
   "cell_type": "code",
   "execution_count": 3,
   "id": "81af2446-0f44-4ed5-b7d2-5c76b31e36ee",
   "metadata": {},
   "outputs": [],
   "source": [
    " import numpy as np"
   ]
  },
  {
   "cell_type": "code",
   "execution_count": 4,
   "id": "51fc053d-59e9-4348-b74c-5361ea6a4ee1",
   "metadata": {},
   "outputs": [],
   "source": [
    "time_spent_studying = np.array([2, 3, 4, 5, 6])\n",
    "exam_scores = np.array([50, 60, 70, 80, 90])"
   ]
  },
  {
   "cell_type": "code",
   "execution_count": 5,
   "id": "ea5abd00-04a7-4bb8-868b-149576f6678e",
   "metadata": {},
   "outputs": [
    {
     "data": {
      "text/plain": [
       "1.0"
      ]
     },
     "execution_count": 5,
     "metadata": {},
     "output_type": "execute_result"
    }
   ],
   "source": [
    "correlation_coefficient = np.corrcoef(time_spent_studying, exam_scores)[0, 1]\n",
    "correlation_coefficient"
   ]
  },
  {
   "cell_type": "code",
   "execution_count": 6,
   "id": "7b155d41-260c-47d1-87f8-f2abfff69baa",
   "metadata": {},
   "outputs": [],
   "source": [
    "# Q3. Suppose you are conducting a study to examine the relationship between the number of hours of\n",
    "# exercise per week and body mass index (BMI) in a sample of adults. You collected data on both variables\n",
    "# for 50 participants. Calculate the Pearson correlation coefficient and the Spearman's rank correlation\n",
    "# between these two variables and compare the results."
   ]
  },
  {
   "cell_type": "code",
   "execution_count": 7,
   "id": "66f898e5-f61b-4c27-ad14-33e03f7ee521",
   "metadata": {},
   "outputs": [],
   "source": [
    "# To calculate the Pearson correlation coefficient and Spearman's rank correlation, we need to first prepare the data.\n",
    "\n",
    "# Let's assume we have the following data\n",
    "\n",
    "# Excercise(hours/week) -> 2,4,6,8 \n",
    "# BMI -> 25,22,20,18\n",
    "\n",
    "# r = Σ[(xi - x̄)(yi - ȳ)] / sqrt[Σ(xi - x̄)² * Σ(yi - ȳ)²]\n",
    "#     x̄ = (2 + 4 + 6 + 8) / 4 = 5\n",
    "#     ȳ = (25 + 22 + 20 + 18) / 4 = 21.25\n",
    "#     (xi - x̄) = (-3, -1, 1, 3)\n",
    "#     (yi - ȳ) = (3.75, 0.75, -1.25, -3.25)\n",
    "#     Σ[(xi - x̄)(yi - ȳ)] = (-3)(3.75) + (-1)(0.75) + (1)(-1.25) + (3)(-3.25) = -11.25\n",
    "#     Σ(xi - x̄)² = (-3)² + (-1)² + (1)² + (3)² = 20\n",
    "#     Σ(yi - ȳ)² = (3.75)² + (0.75)² + (-1.25)² + (-3.25)² = 20.75\n",
    "#     r = -11.25 / sqrt(20 * 20.75) = -0.968\n",
    "    \n",
    "\n",
    "# Exercise (hours/week)\tRank\tBMI\tRank\n",
    "# 2\t1\t25\t4\n",
    "# 4\t2\t22\t3\n",
    "# 6\t3\t20\t2\n",
    "# 8\t4\t18\t1\n",
    "\n",
    "# di = Rank(Exercise) - Rank(BMI)\n",
    "# Σdi² = (1-4)² + (2-3)² + (3-2)² + (4-1)² = 9 + 1 + 1 + 9 = 20\n",
    "# ρ = 1 - (6 * Σdi²) / (n³ - n)\n",
    "# = 1 - (6 * 20) / (4³ - 4)\n",
    "# = 1 - 120 / 60\n",
    "# = 1 - 2\n",
    "# = -1\n",
    "\n",
    "# The Spearman's rank correlation is approximately -1, which indicates a perfect negative monotonic relationship between \n",
    "# the number of hours of exercise per week and BMI."
   ]
  },
  {
   "cell_type": "code",
   "execution_count": 8,
   "id": "a9fe101a-7e9b-4a51-a6bb-8f156a4ca7dc",
   "metadata": {},
   "outputs": [],
   "source": [
    "# Q4. A researcher is interested in examining the relationship between the number of hours individuals\n",
    "# spend watching television per day and their level of physical activity. The researcher collected data on\n",
    "# both variables from a sample of 50 participants. Calculate the Pearson correlation coefficient between\n",
    "# these two variables."
   ]
  },
  {
   "cell_type": "code",
   "execution_count": 9,
   "id": "aa5725c6-4126-4cd8-bea1-a6fb35b4f286",
   "metadata": {},
   "outputs": [],
   "source": [
    "\n",
    "# Hours Watching TV (hours/day)\tPhysical Activity Level (scale 1-10)\n",
    "                                            \n",
    "# 2\t                                      8\n",
    "# 4\t                                      6\n",
    "# 6\t                                      4\n",
    "# 8\t                                      2\n",
    "\n",
    "\n",
    "# r = Σ[(xi - x̄)(yi - ȳ)] / sqrt[Σ(xi - x̄)² * Σ(yi - ȳ)²]\n",
    "# x̄ = (2 + 4 + 6 + 8) / 4 = 5\n",
    "# ȳ = (8 + 6 + 4 + 2) / 4 = 5\n",
    "# (xi - x̄) = (-3, -1, 1, 3)\n",
    "# (yi - ȳ) = (3, 1, -1, -3)\n",
    "# Σ[(xi - x̄)(yi - ȳ)] = (-3)(3) + (-1)(1) + (1)(-1) + (3)(-3) = -9 - 1 - 1 - 9 = -20\n",
    "# Σ(xi - x̄)² = (-3)² + (-1)² + (1)² + (3)² = 9 + 1 + 1 + 9 = 20\n",
    "# Σ(yi - ȳ)² = (3)² + (1)² + (-1)² + (-3)² = 9 + 1 + 1 + 9 = 20\n",
    "# r = -20 / sqrt(20 * 20) = -20 / 20 = -1\n",
    "\n",
    "# The Pearson correlation coefficient is -1, which indicates a perfect negative linear relationship between the number\n",
    "# of hours watching TV and physical activity level."
   ]
  },
  {
   "cell_type": "code",
   "execution_count": 10,
   "id": "977f5dd8-265d-49f0-942f-6d95161ba889",
   "metadata": {},
   "outputs": [],
   "source": [
    "# Q5. A survey was conducted to examine the relationship between age and preference for a particular\n",
    "# brand of soft drink. The survey results are shown below:\n",
    "\n",
    "# Age(Years)\n",
    "# 25\n",
    "# 42 \n",
    "# 37\n",
    "# 19\n",
    "# 31\n",
    "# 28\n",
    "\n",
    "# Soft drink Preference\n",
    "# coke\n",
    "# Pepsi\n",
    "# Mountain dew\n",
    "# Coke\n",
    "# Pepsi\n",
    "# Coke"
   ]
  },
  {
   "cell_type": "code",
   "execution_count": 11,
   "id": "6b028ae5-692d-4c31-9b12-74a9358b683e",
   "metadata": {},
   "outputs": [],
   "source": [
    "# The survey data provided includes ages and soft drink preferences but is incomplete. To analyze the relationship between\n",
    "# age and soft drink preference, we need the missing preferences for some ages. If the data is complete, we could potentially\n",
    "# encode the preferences numerically and calculate a correlation, but the appropriateness of this method depends on how the \n",
    "# preferences are measured. Further clarification or completion of the data is needed to proceed with the analysis."
   ]
  },
  {
   "cell_type": "code",
   "execution_count": 12,
   "id": "4d9c94c2-1b85-4017-8895-e0ffffdca69b",
   "metadata": {},
   "outputs": [],
   "source": [
    "# Q6. A company is interested in examining the relationship between the number of sales calls made per day\n",
    "# and the number of sales made per week. The company collected data on both variables from a sample of\n",
    "# 30 sales representatives. Calculate the Pearson correlation coefficient between these two variables."
   ]
  },
  {
   "cell_type": "code",
   "execution_count": 17,
   "id": "191afe6c-3fc5-48fc-a119-6de444d727ba",
   "metadata": {},
   "outputs": [],
   "source": [
    "import numpy as np\n",
    "\n",
    "sales_calls = np.array([10, 15, 20, 12, 18, 22, 11, 16, 19, 13, 21, 14, 17, 23, 10, 12, 15, 18, 20, 22, 11, 13, 16, 19, 21, 14, 17])\n",
    "sales_per_week = np.array([5, 8, 12, 6, 10, 14, 7, 9, 11, 8, 13, 9, 10, 15, 6, 7, 9, 11, 12, 14, 8, 9, 10, 12, 13, 9, 11])\n",
    "\n",
    "mean_sales_calls = np.mean(sales_calls)\n",
    "mean_sales_per_week = np.mean(sales_per_week)"
   ]
  },
  {
   "cell_type": "code",
   "execution_count": 18,
   "id": "d53c261a-d0e8-4e68-a169-6c4cade43407",
   "metadata": {},
   "outputs": [],
   "source": [
    "deviations_calls = sales_calls - mean_sales_calls\n",
    "deviations_week = sales_per_week - mean_sales_per_week"
   ]
  },
  {
   "cell_type": "code",
   "execution_count": 20,
   "id": "687b683e-a49d-4246-b319-c004378c9a33",
   "metadata": {},
   "outputs": [],
   "source": [
    "covariance = np.sum(deviations_calls * deviations_week) / (len(sales_calls) - 1)"
   ]
  },
  {
   "cell_type": "code",
   "execution_count": 21,
   "id": "992a4355-9ee1-4144-bda7-ee3f1c166af5",
   "metadata": {},
   "outputs": [],
   "source": [
    "variance_calls = np.sum(deviations_calls ** 2) / (len(sales_calls) - 1)\n",
    "variance_week = np.sum(deviations_week ** 2) / (len(sales_per_week) - 1)\n"
   ]
  },
  {
   "cell_type": "code",
   "execution_count": 22,
   "id": "8b3ef18d-0e7c-4de9-8c5d-4604c890fe44",
   "metadata": {},
   "outputs": [],
   "source": [
    "pearson_r = covariance / np.sqrt(variance_calls * variance_week)"
   ]
  },
  {
   "cell_type": "code",
   "execution_count": null,
   "id": "cc0d6daa-c67f-4f52-b298-f99a02ba51c4",
   "metadata": {},
   "outputs": [],
   "source": []
  }
 ],
 "metadata": {
  "kernelspec": {
   "display_name": "Python 3 (ipykernel)",
   "language": "python",
   "name": "python3"
  },
  "language_info": {
   "codemirror_mode": {
    "name": "ipython",
    "version": 3
   },
   "file_extension": ".py",
   "mimetype": "text/x-python",
   "name": "python",
   "nbconvert_exporter": "python",
   "pygments_lexer": "ipython3",
   "version": "3.10.8"
  }
 },
 "nbformat": 4,
 "nbformat_minor": 5
}
