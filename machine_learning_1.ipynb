{
 "cells": [
  {
   "cell_type": "raw",
   "id": "d18460b4-d09a-49b1-b00f-a99077320fc8",
   "metadata": {},
   "source": [
    "QD- E=plain thK followin* with an K=amplK-F\n",
    "C) Artificial IntKlli*KncJ\n",
    "2) MachinK LKarnin,\n",
    "3) DKKp LKarning"
   ]
  },
  {
   "cell_type": "raw",
   "id": "7e567a52-dcd8-4ad7-a793-3746e545c818",
   "metadata": {},
   "source": [
    "Artificial Intelligence (AI)\n",
    "    Broad field focused on creating systems that perform tasks requiring human intelligence.\n",
    "    example\n",
    "    Virtual assistants (e.g., Siri, Alexa)\n",
    "    \n",
    "    \n",
    "Machine Learning (ML)\n",
    "    Subset of AI involving algorithms that learn from data to make predictions or decisions.\n",
    "    example:\n",
    "    Spam filtering in email services\n",
    "    \n",
    "Deep Learning (DL)\n",
    "      Specialized subset of ML using deep neural networks to model complex patterns in large datasets\n",
    "      expample:\n",
    "      Image recognition (e.g., Google Photos)"
   ]
  },
  {
   "cell_type": "raw",
   "id": "000bafc1-b36b-49de-ace9-8be632af66de",
   "metadata": {},
   "source": [
    "Q2- What is supervised learning? List some example of supervised learning."
   ]
  },
  {
   "cell_type": "raw",
   "id": "24af0dd4-5ffd-4b89-857b-3c3c20e0b23b",
   "metadata": {},
   "source": [
    "Supervised learning is a machine learning approach where the model is trained on a labeled dataset. Each example in the dataset includes inputs and the corresponding correct output. The goal is for the model to learn the mapping from inputs to outputs to make accurate predictions on new data.\n",
    "\n",
    "    Types and Examples:\n",
    "\n",
    "    Regression:\n",
    "\n",
    "    Predicts continuous values.\n",
    "    Examples:\n",
    "    Predicting house prices based on features like size and location.\n",
    "    Stock price prediction based on historical data.\n",
    "    Classification:\n",
    "\n",
    "    Assigns inputs to predefined categories.\n",
    "    Examples:\n",
    "    Spam detection: Classifying emails as spam or not spam.\n",
    "    Sentiment analysis: Determining if a review is positive, negative, or neutral.\n",
    "    Handwritten digit recognition: Classifying images of digits (0-9)."
   ]
  },
  {
   "cell_type": "raw",
   "id": "a19ad8fd-c3e9-4b18-a512-06affaa3ef89",
   "metadata": {},
   "source": [
    "Q3- GWhat is unsupervised learning? List some example of unsupervised learning."
   ]
  },
  {
   "cell_type": "raw",
   "id": "844f477e-d37b-41bb-9d90-f7a6bdd6032c",
   "metadata": {},
   "source": [
    "Unsupervised learning involves training models on data without labeled responses. The goal is to discover hidden \n",
    "patterns or structures in the data.\n",
    "\n",
    "    Types and Examples:\n",
    "\n",
    "    Clustering:\n",
    "\n",
    "    Groups data points based on similarity.\n",
    "    Examples:\n",
    "    Customer segmentation: Grouping customers by purchasing behavior.\n",
    "    Document clustering: Categorizing documents by content similarity.\n",
    "    Dimensionality Reduction:\n",
    "\n",
    "    Reduces the number of features while retaining most variability.\n",
    "    Examples:\n",
    "    Principal Component Analysis (PCA).\n",
    "    t-Distributed Stochastic Neighbor Embedding (t-SNE).\n",
    "    Anomaly Detection:\n",
    "\n",
    "    Identifies unusual data points.\n",
    "    Examples:\n",
    "    Fraud detection: Detecting unusual transaction patterns.\n",
    "    Network security: Identifying unusual network traffic behavior."
   ]
  },
  {
   "cell_type": "raw",
   "id": "83a23b79-8e34-4102-9786-3515aa44ce38",
   "metadata": {},
   "source": [
    "Q4 What is the difference between AI, ML, DL, and DS?"
   ]
  },
  {
   "cell_type": "raw",
   "id": "6ac3c531-ec99-46ed-a3a9-54a3c7075606",
   "metadata": {},
   "source": [
    "Artificial Intelligence (AI):\n",
    "Definition: The broad field of creating systems that can perform tasks requiring human intelligence.\n",
    "Example: Virtual assistants like Siri or Alexa.\n",
    "\n",
    "Machine Learning (ML):\n",
    "Definition: A subset of AI that involves algorithms learning from data to make predictions or decisions.\n",
    "Example: Spam filters in email systems.\n",
    "\n",
    "Deep Learning (DL):\n",
    "Definition: A specialized subset of ML that uses neural networks with many layers to model complex patterns in large datasets.\n",
    "Example: Image recognition systems.\n",
    "\n",
    "Data Science (DS):\n",
    "Definition: An interdisciplinary field that uses scientific methods, processes, algorithms, and systems to extract insights from data.\n",
    "Example: Analyzing customer data to improve business strategies."
   ]
  },
  {
   "cell_type": "raw",
   "id": "cc623c69-7374-411a-84c2-bee4b44bde11",
   "metadata": {},
   "source": [
    "Q5: What are the main difference between supervised, unsupervised, and semi-supervised learning?"
   ]
  },
  {
   "cell_type": "raw",
   "id": "b3665853-6f8f-4282-80ea-4f8d7ed128d8",
   "metadata": {},
   "source": [
    "Supervised Learning:\n",
    "Definition: The model is trained on a labeled dataset, meaning each training example is paired with an output label.\n",
    "Example: Spam detection in emails (emails labeled as spam or not spam).\n",
    "\n",
    "Unsupervised Learning:\n",
    "Definition: The model is trained on data without labels, and it tries to find hidden patterns or structures in the data.\n",
    "Example: Customer segmentation (grouping customers based on purchasing behavior).\n",
    "\n",
    "Semi-Supervised Learning:\n",
    "Definition: The model is trained on a dataset that has a small amount of labeled data and a large amount of unlabeled data.\n",
    "Example: Improving image recognition by using a small set of labeled images and a large set of unlabeled images."
   ]
  },
  {
   "cell_type": "raw",
   "id": "450c70de-44bc-4741-9b31-a99bde2750b2",
   "metadata": {},
   "source": [
    "Q6. What is train, test and validation split? Explain the importance of each term."
   ]
  },
  {
   "cell_type": "raw",
   "id": "39830ef9-dba4-451e-8174-2b8d2e2d1e7c",
   "metadata": {},
   "source": [
    "Training Set:\n",
    "\n",
    "    Definition: The data used to train the model.\n",
    "    Importance: Helps the model learn patterns and relationships in the data.\n",
    "    Validation Set:\n",
    "\n",
    "    Definition: The data used to tune hyperparameters and validate the model during training.\n",
    "    Importance: Ensures the model's performance is generalizing well during the training process.\n",
    "    Test Set:\n",
    "\n",
    "    Definition: The data used to evaluate the final model's performance.\n",
    "    Importance: Provides an unbiased evaluation of the model's performance on unseen data."
   ]
  },
  {
   "cell_type": "raw",
   "id": "a125783f-a9aa-4fb1-ad6f-b5ae309b8557",
   "metadata": {},
   "source": [
    "Q7 How can unsupervised learning be used in anomaly detections?"
   ]
  },
  {
   "cell_type": "raw",
   "id": "b6479035-39d6-46ae-8e11-11691de47af5",
   "metadata": {},
   "source": [
    "Unsupervised learning can be used in anomaly detection by identifying patterns in data without predefined labels and then spotting deviations from these patterns. Techniques like clustering and dimensionality reduction can help detect unusual or outlier data points that differ significantly \n",
    "from the norm."
   ]
  },
  {
   "cell_type": "code",
   "execution_count": null,
   "id": "3afdfe0a-4636-49dc-90fc-c566e8ccb338",
   "metadata": {},
   "outputs": [],
   "source": [
    "Q8- List down some commonly used supervised learning algorithm and unsupervised  learning\n",
    "algorithms."
   ]
  }
 ],
 "metadata": {
  "kernelspec": {
   "display_name": "Python 3 (ipykernel)",
   "language": "python",
   "name": "python3"
  },
  "language_info": {
   "codemirror_mode": {
    "name": "ipython",
    "version": 3
   },
   "file_extension": ".py",
   "mimetype": "text/x-python",
   "name": "python",
   "nbconvert_exporter": "python",
   "pygments_lexer": "ipython3",
   "version": "3.10.8"
  }
 },
 "nbformat": 4,
 "nbformat_minor": 5
}
