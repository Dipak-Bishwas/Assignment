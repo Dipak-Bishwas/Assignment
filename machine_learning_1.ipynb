{
 "cells": [
  {
   "cell_type": "code",
   "execution_count": 5,
   "id": "1f45c1c7-b2eb-45e8-8ae8-65610fe8ceda",
   "metadata": {},
   "outputs": [],
   "source": [
    "# QD- E=plain thK followin* with an K=amplK-F\n",
    "# C) Artificial IntKlli*KncJ\n",
    "# 2) MachinK LKarnin,\n",
    "# 3) DKKp LKarning"
   ]
  },
  {
   "cell_type": "code",
   "execution_count": null,
   "id": "5fd27fb8-e8c7-4dea-a334-7de4ee7fb69a",
   "metadata": {},
   "outputs": [],
   "source": [
    "# Artificial Intelligence (AI)\n",
    "#     Broad field focused on creating systems that perform tasks requiring human intelligence.\n",
    "#     example\n",
    "#     Virtual assistants (e.g., Siri, Alexa)\n",
    "    \n",
    "    \n",
    "# Machine Learning (ML)\n",
    "#     Subset of AI involving algorithms that learn from data to make predictions or decisions.\n",
    "#     example:\n",
    "#     Spam filtering in email services\n",
    "    \n",
    "# Deep Learning (DL)\n",
    "#       Specialized subset of ML using deep neural networks to model complex patterns in large datasets\n",
    "#       expample:\n",
    "#       Image recognition (e.g., Google Photos)"
   ]
  },
  {
   "cell_type": "code",
   "execution_count": null,
   "id": "1a86c7de-7908-4c35-bcfd-2a95a952485a",
   "metadata": {},
   "outputs": [],
   "source": [
    "# Q2- What is supervised learning? List some example of supervised learning."
   ]
  },
  {
   "cell_type": "code",
   "execution_count": null,
   "id": "9276ad24-f45b-46c8-a200-204da4effeab",
   "metadata": {},
   "outputs": [],
   "source": [
    "# Supervised learning is a machine learning approach where the model is trained on a labeled dataset. Each example in the dataset includes inputs and the corresponding correct output. The goal is for the model to learn the mapping from inputs to outputs to make accurate predictions on new data.\n",
    "\n",
    "#     Types and Examples:\n",
    "\n",
    "#     Regression:\n",
    "\n",
    "#     Predicts continuous values.\n",
    "#     Examples:\n",
    "#     Predicting house prices based on features like size and location.\n",
    "#     Stock price prediction based on historical data.\n",
    "#     Classification:\n",
    "\n",
    "#     Assigns inputs to predefined categories.\n",
    "#     Examples:\n",
    "#     Spam detection: Classifying emails as spam or not spam.\n",
    "#     Sentiment analysis: Determining if a review is positive, negative, or neutral.\n",
    "#     Handwritten digit recognition: Classifying images of digits (0-9)."
   ]
  },
  {
   "cell_type": "code",
   "execution_count": null,
   "id": "ec1d6fde-59d4-4185-b40f-48de74140859",
   "metadata": {},
   "outputs": [],
   "source": [
    "# Q3- GWhat is unsupervised learning? List some example of unsupervised learning."
   ]
  },
  {
   "cell_type": "code",
   "execution_count": null,
   "id": "8c7c3856-e18d-43ad-bab3-b0ab10034633",
   "metadata": {},
   "outputs": [],
   "source": [
    "# Unsupervised learning involves training models on data without labeled responses. The goal is to discover hidden \n",
    "# patterns or structures in the data.\n",
    "\n",
    "#     Types and Examples:\n",
    "\n",
    "#     Clustering:\n",
    "\n",
    "#     Groups data points based on similarity.\n",
    "#     Examples:\n",
    "#     Customer segmentation: Grouping customers by purchasing behavior.\n",
    "#     Document clustering: Categorizing documents by content similarity.\n",
    "#     Dimensionality Reduction:\n",
    "\n",
    "#     Reduces the number of features while retaining most variability.\n",
    "#     Examples:\n",
    "#     Principal Component Analysis (PCA).\n",
    "#     t-Distributed Stochastic Neighbor Embedding (t-SNE).\n",
    "#     Anomaly Detection:\n",
    "\n",
    "#     Identifies unusual data points.\n",
    "#     Examples:\n",
    "#     Fraud detection: Detecting unusual transaction patterns.\n",
    "#     Network security: Identifying unusual network traffic behavior."
   ]
  },
  {
   "cell_type": "code",
   "execution_count": null,
   "id": "4130f3e6-35aa-4eab-82e3-71d1482e9d1c",
   "metadata": {},
   "outputs": [],
   "source": [
    "# Q4 What is the difference between AI, ML, DL, and DS?"
   ]
  },
  {
   "cell_type": "code",
   "execution_count": null,
   "id": "b1d6df83-2428-43ac-81ed-d4fb05f57f17",
   "metadata": {},
   "outputs": [],
   "source": [
    "# Artificial Intelligence (AI):\n",
    "# Definition: The broad field of creating systems that can perform tasks requiring human intelligence.\n",
    "# Example: Virtual assistants like Siri or Alexa.\n",
    "\n",
    "# Machine Learning (ML):\n",
    "# Definition: A subset of AI that involves algorithms learning from data to make predictions or decisions.\n",
    "# Example: Spam filters in email systems.\n",
    "\n",
    "# Deep Learning (DL):\n",
    "# Definition: A specialized subset of ML that uses neural networks with many layers to model complex patterns in large datasets.\n",
    "# Example: Image recognition systems.\n",
    "\n",
    "# Data Science (DS):\n",
    "# Definition: An interdisciplinary field that uses scientific methods, processes, algorithms, and systems to extract insights from data.\n",
    "# Example: Analyzing customer data to improve business strategies."
   ]
  },
  {
   "cell_type": "code",
   "execution_count": null,
   "id": "b2b7da32-977d-465c-be33-5cccc9931c0d",
   "metadata": {},
   "outputs": [],
   "source": [
    "# Q5: What are the main difference between supervised, unsupervised, and semi-supervised learning?"
   ]
  },
  {
   "cell_type": "code",
   "execution_count": null,
   "id": "2553997d-9e0a-4722-b6c3-1121de073c82",
   "metadata": {},
   "outputs": [],
   "source": [
    "# Supervised Learning:\n",
    "# Definition: The model is trained on a labeled dataset, meaning each training example is paired with an output label.\n",
    "# Example: Spam detection in emails (emails labeled as spam or not spam).\n",
    "\n",
    "# Unsupervised Learning:\n",
    "# Definition: The model is trained on data without labels, and it tries to find hidden patterns or structures in the data.\n",
    "# Example: Customer segmentation (grouping customers based on purchasing behavior).\n",
    "\n",
    "# Semi-Supervised Learning:\n",
    "# Definition: The model is trained on a dataset that has a small amount of labeled data and a large amount of unlabeled data.\n",
    "# Example: Improving image recognition by using a small set of labeled images and a large set of unlabeled images."
   ]
  },
  {
   "cell_type": "code",
   "execution_count": null,
   "id": "73c60da9-3663-4db2-9b8f-4d1ec85cda19",
   "metadata": {},
   "outputs": [],
   "source": [
    "# Q6. What is train, test and validation split? Explain the importance of each term."
   ]
  },
  {
   "cell_type": "code",
   "execution_count": null,
   "id": "e6d3070e-d243-4866-a4ac-0a1cce15f095",
   "metadata": {},
   "outputs": [],
   "source": [
    "# Training Set:\n",
    "\n",
    "#     Definition: The data used to train the model.\n",
    "#     Importance: Helps the model learn patterns and relationships in the data.\n",
    "#     Validation Set:\n",
    "\n",
    "#     Definition: The data used to tune hyperparameters and validate the model during training.\n",
    "#     Importance: Ensures the model's performance is generalizing well during the training process.\n",
    "#     Test Set:\n",
    "\n",
    "#     Definition: The data used to evaluate the final model's performance.\n",
    "#     Importance: Provides an unbiased evaluation of the model's performance on unseen data."
   ]
  },
  {
   "cell_type": "code",
   "execution_count": null,
   "id": "5c957395-6d7f-4c02-b1bc-a07e2bc6d759",
   "metadata": {},
   "outputs": [],
   "source": [
    "# Q7 How can unsupervised learning be used in anomaly detections?"
   ]
  },
  {
   "cell_type": "code",
   "execution_count": null,
   "id": "1012612e-f1dd-4d28-9339-6e1903d754a9",
   "metadata": {},
   "outputs": [],
   "source": [
    "# Unsupervised learning can be used in anomaly detection by identifying patterns in data without predefined labels and then spotting deviations from these patterns. Techniques like clustering and dimensionality reduction can help detect unusual or outlier data points that differ significantly \n",
    "# from the norm."
   ]
  },
  {
   "cell_type": "code",
   "execution_count": null,
   "id": "aa957d44-22fa-4d24-9498-972ecdc7a88e",
   "metadata": {},
   "outputs": [],
   "source": [
    "Q8- List down some commonly used supervised learning algorithm and unsupervised  learning\n",
    "algorithms."
   ]
  },
  {
   "cell_type": "raw",
   "id": "0342acb8-c4be-4787-ab01-8cee960ba6bb",
   "metadata": {},
   "source": [
    "Supervised Learning Algorithms:\n",
    "    Linear Regression\n",
    "    Logistic Regression\n",
    "    Decision Trees\n",
    "    Random Forests\n",
    "    Support Vector Machines (SVM)\n",
    "    k-Nearest Neighbors (k-NN)\n",
    "    Neural Networks\n",
    "\n",
    "\n",
    "Unsupervised Learning Algorithms:\n",
    "    k-Means Clustering\n",
    "    Hierarchical Clustering\n",
    "    Principal Component Analysis (PCA)\n",
    "    t-Distributed Stochastic Neighbor Embedding (t-SNE)\n",
    "    Gaussian Mixture Models (GMM)\n",
    "    Autoencoders"
   ]
  },
  {
   "cell_type": "code",
   "execution_count": null,
   "id": "9ea9478a-bf0a-451b-9ef7-b7d96642788e",
   "metadata": {},
   "outputs": [],
   "source": []
  },
  {
   "cell_type": "code",
   "execution_count": null,
   "id": "1f37334e-cc17-4e1c-941a-82055d6f3288",
   "metadata": {},
   "outputs": [],
   "source": []
  },
  {
   "cell_type": "code",
   "execution_count": null,
   "id": "86d2cdfd-ebc2-4ecf-a0a1-3d68f77114f4",
   "metadata": {},
   "outputs": [],
   "source": []
  },
  {
   "cell_type": "code",
   "execution_count": null,
   "id": "4ff8f573-3436-44a1-a1d5-c6744c303c3f",
   "metadata": {},
   "outputs": [],
   "source": []
  }
 ],
 "metadata": {
  "kernelspec": {
   "display_name": "Python 3 (ipykernel)",
   "language": "python",
   "name": "python3"
  },
  "language_info": {
   "codemirror_mode": {
    "name": "ipython",
    "version": 3
   },
   "file_extension": ".py",
   "mimetype": "text/x-python",
   "name": "python",
   "nbconvert_exporter": "python",
   "pygments_lexer": "ipython3",
   "version": "3.10.8"
  }
 },
 "nbformat": 4,
 "nbformat_minor": 5
}
