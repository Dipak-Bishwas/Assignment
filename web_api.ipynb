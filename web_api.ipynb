{
 "cells": [
  {
   "cell_type": "code",
   "execution_count": 12,
   "id": "f58b9267-73c6-4475-aca1-d294f00261fa",
   "metadata": {},
   "outputs": [],
   "source": [
    "# Q1. What is an API? Give an example, where an API is used in real life."
   ]
  },
  {
   "cell_type": "code",
   "execution_count": 13,
   "id": "bbb84760-7e8a-48e5-8026-2def5df75400",
   "metadata": {},
   "outputs": [],
   "source": [
    "# An API (Application Programming Interface) is a set of rules that enables different systems to communicate with each\n",
    "# other, allowing one system to request access to data, functionality, or services from another system.\n",
    "\n",
    "# Real-life example:\n",
    "# Expedia uses an API to request flight data from airlines like American Airlines, Delta, or United. The API acts as an \n",
    "# intermediary, allowing Expedia to access the airline's flight data and services, and providing a seamless experience for \n",
    "# the user."
   ]
  },
  {
   "cell_type": "code",
   "execution_count": 14,
   "id": "431c1335-d1be-4557-8b04-924c6b80a7c5",
   "metadata": {},
   "outputs": [],
   "source": [
    "# Q2. Give advantages and disadvantages of using API."
   ]
  },
  {
   "cell_type": "code",
   "execution_count": 15,
   "id": "75bc9345-38e6-44d0-8fc9-de40fec1a403",
   "metadata": {},
   "outputs": [],
   "source": [
    "# Advantages of using API:\n",
    "\n",
    "# Time-Saving: Third-party APIs allow developers to leverage pre-built functionalities, saving time in development.\n",
    "\n",
    "# Cost-Effective: Building and maintaining certain functionalities in-house can be expensive. Third-party APIs often offer\n",
    "# affordable pricing models.\n",
    "\n",
    "# Scalability: Many third-party APIs are designed to handle large volumes of requests and scale effortlessly as demand \n",
    "# increases.\n",
    "\n",
    "# Expertise: Third-party APIs are often developed and maintained by experts in their respective domains, resulting in more\n",
    "# robust and reliable solutions.\n",
    "\n",
    "# Feature-Rich: Third-party APIs typically offer a wide range of features and functionalities that may not be feasible to \n",
    "# develop in-house."
   ]
  },
  {
   "cell_type": "code",
   "execution_count": 16,
   "id": "b82a5c03-7b8c-403c-915e-b4330bf15fdb",
   "metadata": {},
   "outputs": [],
   "source": [
    "# Disadvantages of using API:\n",
    "# Dependence on Third-Party: Relying on third-party APIs means that your application’s functionality is dependent on the\n",
    "# availability and reliability of the API provider.\n",
    "\n",
    "# Limited Customisation: While third-party APIs offer pre-built functionalities, they may only sometimes align perfectly \n",
    "# with your specific requirements, limiting customisation options.\n",
    "\n",
    "# Security Concerns: Integrating third-party APIs introduces potential security risks, especially if sensitive data is\n",
    "# transmitted or the API has vulnerabilities.\n",
    "\n",
    "# Potential for Changes: API providers can change or update their APIs, which can break your application if not properly \n",
    "# handled."
   ]
  },
  {
   "cell_type": "code",
   "execution_count": 17,
   "id": "d9f2f129-4ee9-41ec-836b-5d2a1a6742be",
   "metadata": {},
   "outputs": [],
   "source": [
    "# Q3. What is a Web API? Differentiate between API and Web API."
   ]
  },
  {
   "cell_type": "code",
   "execution_count": 18,
   "id": "4cb03165-624d-4121-af22-2ac8c676c62d",
   "metadata": {},
   "outputs": [],
   "source": [
    "# A Web API (Web Application Programming Interface) is a set of rules and protocols that allows different software\n",
    "# applications to communicate over the web. It enables interactions between a web server and client applications\n",
    "# using standard HTTP methods.\n",
    "\n",
    "# API vs. Web API\n",
    "# API (Application Programming Interface): A broad term for a set of protocols and tools for building and interacting with\n",
    "# software applications. APIs can be used locally or over a network, and they can provide functionality or data from\n",
    "# libraries, operating systems, or applications.\n",
    "\n",
    "# Web API: A specific type of API that is accessed over the web using HTTP/HTTPS. It is designed to interact with web\n",
    "# servers and can be used to retrieve or send data to web-based services"
   ]
  },
  {
   "cell_type": "code",
   "execution_count": 19,
   "id": "6ea3c3bf-b57b-45b1-887f-8f4ecd19ba1f",
   "metadata": {},
   "outputs": [],
   "source": [
    "# Q4. Explain REST and SOAP Architecture. Mention shortcomings of SOAP."
   ]
  },
  {
   "cell_type": "code",
   "execution_count": 20,
   "id": "6931c29d-e01b-4758-8ded-8b77d74af5b8",
   "metadata": {},
   "outputs": [],
   "source": [
    "#  REST (Representational State Transfer):\n",
    "#     Uses standard HTTP methods (GET, POST, PUT, DELETE).\n",
    "#     Data is often in JSON or XML format.\n",
    "#     Stateless and lightweight.\n",
    "    \n",
    "# SOAP (Simple Object Access Protocol):\n",
    "#     Uses XML for messaging and often operates over HTTP or SMTP.\n",
    "#     Includes built-in error handling and security.\n",
    "#     More complex and heavyweight.\n",
    "    \n",
    "# Shortcomings of SOAP:\n",
    "#     Complexity: More complicated than REST.\n",
    "#     Performance: Slower due to XML overhead.\n",
    "#     Flexibility: Less flexible compared to REST."
   ]
  },
  {
   "cell_type": "code",
   "execution_count": 21,
   "id": "326c26d4-05fc-479e-b6de-935c179c65d2",
   "metadata": {},
   "outputs": [],
   "source": [
    "# Q5. Differentiate between REST and SOAP."
   ]
  },
  {
   "cell_type": "code",
   "execution_count": 23,
   "id": "7e7f305d-c94e-41ce-ad22-85d0de6cb9e0",
   "metadata": {},
   "outputs": [],
   "source": [
    "# REST (Representational State Transfer):\n",
    "#     Protocol: Uses HTTP/HTTPS.\n",
    "#     Data Format: Primarily JSON, but also XML, HTML, and plain text.\n",
    "#     Architecture: Stateless, relies on standard HTTP methods (GET, POST, PUT, DELETE).\n",
    "#     Flexibility: More flexible and lightweight.\n",
    "#     Performance: Typically faster due to less overhead.\n",
    "#     Usage: Commonly used in web services and mobile applications.\n",
    "#     Caching: Supports caching to improve performance.\n",
    "    \n",
    "# SOAP (Simple Object Access Protocol):\n",
    "#     Protocol: Operates over various protocols like HTTP, SMTP, TCP.\n",
    "#     Data Format: XML exclusively.\n",
    "#     Architecture: Stateful or stateless, uses a strict messaging pattern.\n",
    "#     Flexibility: More rigid and complex.\n",
    "#     Performance: Can be slower due to XML overhead and additional layers.\n",
    "#     Usage: Often used in enterprise-level services where security and transaction compliance are critical.\n",
    "#     Security: Built-in security features (WS-Security)."
   ]
  },
  {
   "cell_type": "code",
   "execution_count": null,
   "id": "6c77c966-2fd4-4c35-9d99-f6e3d7d43e5e",
   "metadata": {},
   "outputs": [],
   "source": []
  },
  {
   "cell_type": "code",
   "execution_count": null,
   "id": "16e977d6-e7a3-48b5-be5e-df7c35ffb703",
   "metadata": {},
   "outputs": [],
   "source": []
  },
  {
   "cell_type": "code",
   "execution_count": null,
   "id": "2040be5d-c575-4468-9d7d-72ab379c5dc3",
   "metadata": {},
   "outputs": [],
   "source": []
  },
  {
   "cell_type": "code",
   "execution_count": null,
   "id": "c1bbb965-56b6-40b9-b3b9-28976ee6b0de",
   "metadata": {},
   "outputs": [],
   "source": []
  },
  {
   "cell_type": "code",
   "execution_count": null,
   "id": "ea419a01-30f0-424f-af2e-64367f4ca293",
   "metadata": {},
   "outputs": [],
   "source": []
  },
  {
   "cell_type": "code",
   "execution_count": null,
   "id": "a630a0e5-f714-43b0-96fc-5d4e7dbfdb51",
   "metadata": {},
   "outputs": [],
   "source": []
  },
  {
   "cell_type": "code",
   "execution_count": null,
   "id": "6b37c5ba-1188-45c9-8556-6301a037914f",
   "metadata": {},
   "outputs": [],
   "source": []
  }
 ],
 "metadata": {
  "kernelspec": {
   "display_name": "Python 3 (ipykernel)",
   "language": "python",
   "name": "python3"
  },
  "language_info": {
   "codemirror_mode": {
    "name": "ipython",
    "version": 3
   },
   "file_extension": ".py",
   "mimetype": "text/x-python",
   "name": "python",
   "nbconvert_exporter": "python",
   "pygments_lexer": "ipython3",
   "version": "3.10.8"
  }
 },
 "nbformat": 4,
 "nbformat_minor": 5
}
