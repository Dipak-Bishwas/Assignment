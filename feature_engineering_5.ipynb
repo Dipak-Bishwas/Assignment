{
 "cells": [
  {
   "cell_type": "code",
   "execution_count": 1,
   "id": "aacd1e7a-9d1e-4c26-8f7d-f8e7ac5ff4c2",
   "metadata": {},
   "outputs": [],
   "source": [
    "# Q1. What is the difference between Ordinal Encoding and Label Encoding? Provide an example of when you\n",
    "# might choose one over the other."
   ]
  },
  {
   "cell_type": "code",
   "execution_count": 2,
   "id": "950467e0-a97b-4f08-80ac-6eaeb52138b8",
   "metadata": {},
   "outputs": [],
   "source": [
    "# Label Encoding assigns unique integers to each category without assuming any order. It's used when there is no natural\n",
    "# order among the categories.\n",
    "\n",
    "# Ordinal Encoding assigns integers based on the natural order of categories. It's used when the categories have a meaningful \n",
    "# sequence (e.g., education lev"
   ]
  },
  {
   "cell_type": "code",
   "execution_count": 3,
   "id": "5cbc4d56-504f-4232-bc53-e7d4c683a367",
   "metadata": {},
   "outputs": [],
   "source": [
    "from sklearn.preprocessing import LabelEncoder"
   ]
  },
  {
   "cell_type": "code",
   "execution_count": 4,
   "id": "e40937b7-977e-46f4-8528-b975b4e5f3be",
   "metadata": {},
   "outputs": [],
   "source": [
    "colors = ['red', 'blue', 'green']\n",
    "label_encoder = LabelEncoder()\n",
    "encoded_colors = label_encoder.fit_transform(colors)"
   ]
  },
  {
   "cell_type": "code",
   "execution_count": 5,
   "id": "ca652111-c1e4-4040-9164-bbf0cee9b90c",
   "metadata": {},
   "outputs": [
    {
     "data": {
      "text/plain": [
       "array([2, 0, 1])"
      ]
     },
     "execution_count": 5,
     "metadata": {},
     "output_type": "execute_result"
    }
   ],
   "source": [
    "encoded_colors"
   ]
  },
  {
   "cell_type": "code",
   "execution_count": 6,
   "id": "512a540d-58c1-4937-8efd-2577060e378f",
   "metadata": {},
   "outputs": [],
   "source": [
    "import pandas as pd\n",
    "from sklearn.preprocessing import OrdinalEncoder"
   ]
  },
  {
   "cell_type": "code",
   "execution_count": 7,
   "id": "df57818d-4f3b-4fe5-bc6d-85547546ede6",
   "metadata": {},
   "outputs": [],
   "source": [
    "education = ['high school', 'bachelor', 'master', 'PhD']\n",
    "education_levels = pd.DataFrame({'education': education})\n",
    "ordinal_encoder = OrdinalEncoder(categories=[['high school', 'bachelor', 'master', 'PhD']])\n",
    "encoded_education = ordinal_encoder.fit_transform(education_levels)"
   ]
  },
  {
   "cell_type": "code",
   "execution_count": 8,
   "id": "9dd8c1f6-29c9-43c5-a74d-9f5cc1197a6e",
   "metadata": {},
   "outputs": [
    {
     "data": {
      "text/plain": [
       "array([[0.],\n",
       "       [1.],\n",
       "       [2.],\n",
       "       [3.]])"
      ]
     },
     "execution_count": 8,
     "metadata": {},
     "output_type": "execute_result"
    }
   ],
   "source": [
    "encoded_education"
   ]
  },
  {
   "cell_type": "code",
   "execution_count": 9,
   "id": "d5ec04ed-5d86-4aa6-b6c6-75ded12c9650",
   "metadata": {},
   "outputs": [],
   "source": [
    "# When to Use:\n",
    "# Label Encoding: Use for unordered categories (e.g., colors).\n",
    "# Ordinal Encoding: Use for ordered categories (e.g., education level)."
   ]
  },
  {
   "cell_type": "code",
   "execution_count": 10,
   "id": "e2920798-b3ef-44ec-a27f-e2e58edeb644",
   "metadata": {},
   "outputs": [],
   "source": [
    "# Q2. Explain how Target Guided Ordinal Encoding works and provide an example of when you might use it in\n",
    "# a machine learning project."
   ]
  },
  {
   "cell_type": "code",
   "execution_count": 11,
   "id": "f1835bc2-18b8-42f4-9f9a-4b1a380c1a7e",
   "metadata": {},
   "outputs": [],
   "source": [
    "data = {'city': ['A', 'B', 'C', 'A', 'B', 'C', 'A', 'B', 'C'],\n",
    "        'house_price': [300, 200, 250, 320, 210, 240, 310, 220, 260]}\n",
    "df = pd.DataFrame(data)"
   ]
  },
  {
   "cell_type": "code",
   "execution_count": 16,
   "id": "afd66e49-681d-4c8e-a6b3-83f3f65b78fa",
   "metadata": {},
   "outputs": [],
   "source": [
    "city_means = df.groupby('city')['house_price'].mean()"
   ]
  },
  {
   "cell_type": "code",
   "execution_count": 17,
   "id": "891aac12-7ab1-41ac-abbe-e00460d73786",
   "metadata": {},
   "outputs": [],
   "source": [
    "city_ordinal = city_means.rank().astype(int).to_dict()"
   ]
  },
  {
   "cell_type": "code",
   "execution_count": 18,
   "id": "09f17035-961c-42a4-b876-80634796b653",
   "metadata": {},
   "outputs": [],
   "source": [
    "df['city_encoded'] = df['city'].map(city_ordinal)"
   ]
  },
  {
   "cell_type": "code",
   "execution_count": 19,
   "id": "8740b762-24f7-458b-95a7-56f669a7275a",
   "metadata": {},
   "outputs": [
    {
     "data": {
      "text/html": [
       "<div>\n",
       "<style scoped>\n",
       "    .dataframe tbody tr th:only-of-type {\n",
       "        vertical-align: middle;\n",
       "    }\n",
       "\n",
       "    .dataframe tbody tr th {\n",
       "        vertical-align: top;\n",
       "    }\n",
       "\n",
       "    .dataframe thead th {\n",
       "        text-align: right;\n",
       "    }\n",
       "</style>\n",
       "<table border=\"1\" class=\"dataframe\">\n",
       "  <thead>\n",
       "    <tr style=\"text-align: right;\">\n",
       "      <th></th>\n",
       "      <th>city</th>\n",
       "      <th>house_price</th>\n",
       "      <th>city_encoded</th>\n",
       "    </tr>\n",
       "  </thead>\n",
       "  <tbody>\n",
       "    <tr>\n",
       "      <th>0</th>\n",
       "      <td>A</td>\n",
       "      <td>300</td>\n",
       "      <td>3</td>\n",
       "    </tr>\n",
       "    <tr>\n",
       "      <th>1</th>\n",
       "      <td>B</td>\n",
       "      <td>200</td>\n",
       "      <td>1</td>\n",
       "    </tr>\n",
       "    <tr>\n",
       "      <th>2</th>\n",
       "      <td>C</td>\n",
       "      <td>250</td>\n",
       "      <td>2</td>\n",
       "    </tr>\n",
       "    <tr>\n",
       "      <th>3</th>\n",
       "      <td>A</td>\n",
       "      <td>320</td>\n",
       "      <td>3</td>\n",
       "    </tr>\n",
       "    <tr>\n",
       "      <th>4</th>\n",
       "      <td>B</td>\n",
       "      <td>210</td>\n",
       "      <td>1</td>\n",
       "    </tr>\n",
       "    <tr>\n",
       "      <th>5</th>\n",
       "      <td>C</td>\n",
       "      <td>240</td>\n",
       "      <td>2</td>\n",
       "    </tr>\n",
       "    <tr>\n",
       "      <th>6</th>\n",
       "      <td>A</td>\n",
       "      <td>310</td>\n",
       "      <td>3</td>\n",
       "    </tr>\n",
       "    <tr>\n",
       "      <th>7</th>\n",
       "      <td>B</td>\n",
       "      <td>220</td>\n",
       "      <td>1</td>\n",
       "    </tr>\n",
       "    <tr>\n",
       "      <th>8</th>\n",
       "      <td>C</td>\n",
       "      <td>260</td>\n",
       "      <td>2</td>\n",
       "    </tr>\n",
       "  </tbody>\n",
       "</table>\n",
       "</div>"
      ],
      "text/plain": [
       "  city  house_price  city_encoded\n",
       "0    A          300             3\n",
       "1    B          200             1\n",
       "2    C          250             2\n",
       "3    A          320             3\n",
       "4    B          210             1\n",
       "5    C          240             2\n",
       "6    A          310             3\n",
       "7    B          220             1\n",
       "8    C          260             2"
      ]
     },
     "execution_count": 19,
     "metadata": {},
     "output_type": "execute_result"
    }
   ],
   "source": [
    "df"
   ]
  },
  {
   "cell_type": "code",
   "execution_count": 20,
   "id": "560d1e6d-624a-437c-9e3d-3924f26fa62a",
   "metadata": {},
   "outputs": [],
   "source": [
    "# Target Guided Ordinal Encoding assigns ranks to categories based on their average value of the target variable.\n",
    "\n",
    "# Use this method when the categorical feature's relationship with the target is important for your model."
   ]
  },
  {
   "cell_type": "code",
   "execution_count": 26,
   "id": "84f31c68-b9e9-478a-8a46-31a84ea8ec33",
   "metadata": {},
   "outputs": [],
   "source": [
    "# Q3. Define covariance and explain why it is important in statistical analysis. How is covariance calculated?"
   ]
  },
  {
   "cell_type": "code",
   "execution_count": 27,
   "id": "317bfce6-d49f-4c51-8086-78ab24b69514",
   "metadata": {},
   "outputs": [],
   "source": [
    "# Covariance:\n",
    "# Covariance measures the degree to which two variables change together. If the variables tend to increase or decrease \n",
    "# simultaneously, the covariance is positive; if one increases while the other decreases, the covariance is negative. A\n",
    "# value close to zero indicates no linear relationship."
   ]
  },
  {
   "cell_type": "code",
   "execution_count": 28,
   "id": "795a8f9a-a5f0-4731-aad1-97cb95368c88",
   "metadata": {},
   "outputs": [],
   "source": [
    "# Importance:\n",
    "    \n",
    "# Covariance helps in understanding the relationship between two variables.\n",
    "# It's used in statistics and data analysis to identify how changes in one variable might predict changes in another.\n",
    "# Covariance is the basis for other statistical measures, such as correlation and Principal Component Analysis (PCA)."
   ]
  },
  {
   "cell_type": "code",
   "execution_count": 29,
   "id": "9ce5b676-747d-4eae-90ac-4f3e6aa85446",
   "metadata": {},
   "outputs": [],
   "source": [
    "# Calculation:\n",
    "# Covariance between two variables X and Y is calculated as:\n",
    "#      cov(X,Y)=n−11∑i=1n(Xi−Xˉ)(Yi−Yˉ)\n",
    "#     n is the number of data point\n",
    "#     Xi adn Yi are individual data points\n",
    "#     X bar and y bar the means X and Y respectively\n",
    "    "
   ]
  },
  {
   "cell_type": "code",
   "execution_count": 30,
   "id": "c7145840-ea3f-41d1-8139-04a2962a93dc",
   "metadata": {},
   "outputs": [],
   "source": [
    "# Q4. For a dataset with the following categorical variables: Color (red, green, blue), Size (small, medium,\n",
    "# large), and Material (wood, metal, plastic), perform label encoding using Python's scikit-learn library.\n",
    "# Show your code and explain the output."
   ]
  },
  {
   "cell_type": "code",
   "execution_count": 31,
   "id": "792e47f5-b874-48e6-8ddc-c831ff472003",
   "metadata": {},
   "outputs": [],
   "source": [
    "from sklearn.preprocessing import LabelEncoder"
   ]
  },
  {
   "cell_type": "code",
   "execution_count": 32,
   "id": "375e12ef-cdae-45ba-bd2e-f5e158fe8ad0",
   "metadata": {},
   "outputs": [],
   "source": [
    "data = {\n",
    "    'Color': ['red', 'green', 'blue', 'green', 'red', 'blue'],\n",
    "    'Size': ['small', 'medium', 'large', 'small', 'large', 'medium'],\n",
    "    'Material': ['wood', 'metal', 'plastic', 'wood', 'metal', 'plastic']\n",
    "}"
   ]
  },
  {
   "cell_type": "code",
   "execution_count": 33,
   "id": "995b5296-74d3-47d8-b8b8-31aa1fef4112",
   "metadata": {},
   "outputs": [],
   "source": [
    "df = pd.DataFrame(data)"
   ]
  },
  {
   "cell_type": "code",
   "execution_count": 34,
   "id": "9cdc911a-b3a6-4e74-9b8e-4c087ea89933",
   "metadata": {},
   "outputs": [],
   "source": [
    "label_encoder = LabelEncoder()"
   ]
  },
  {
   "cell_type": "code",
   "execution_count": 35,
   "id": "2ca1aadc-c448-482d-b189-d88effe9b59b",
   "metadata": {},
   "outputs": [],
   "source": [
    "df['Color_encoded'] = label_encoder.fit_transform(df['Color'])\n",
    "df['Size_encoded'] = label_encoder.fit_transform(df['Size'])\n",
    "df['Material_encoded'] = label_encoder.fit_transform(df['Material'])"
   ]
  },
  {
   "cell_type": "code",
   "execution_count": 36,
   "id": "1488ec2b-6f7a-48ea-96f9-b25881098eb0",
   "metadata": {},
   "outputs": [
    {
     "data": {
      "text/html": [
       "<div>\n",
       "<style scoped>\n",
       "    .dataframe tbody tr th:only-of-type {\n",
       "        vertical-align: middle;\n",
       "    }\n",
       "\n",
       "    .dataframe tbody tr th {\n",
       "        vertical-align: top;\n",
       "    }\n",
       "\n",
       "    .dataframe thead th {\n",
       "        text-align: right;\n",
       "    }\n",
       "</style>\n",
       "<table border=\"1\" class=\"dataframe\">\n",
       "  <thead>\n",
       "    <tr style=\"text-align: right;\">\n",
       "      <th></th>\n",
       "      <th>Color</th>\n",
       "      <th>Size</th>\n",
       "      <th>Material</th>\n",
       "      <th>Color_encoded</th>\n",
       "      <th>Size_encoded</th>\n",
       "      <th>Material_encoded</th>\n",
       "    </tr>\n",
       "  </thead>\n",
       "  <tbody>\n",
       "    <tr>\n",
       "      <th>0</th>\n",
       "      <td>red</td>\n",
       "      <td>small</td>\n",
       "      <td>wood</td>\n",
       "      <td>2</td>\n",
       "      <td>2</td>\n",
       "      <td>2</td>\n",
       "    </tr>\n",
       "    <tr>\n",
       "      <th>1</th>\n",
       "      <td>green</td>\n",
       "      <td>medium</td>\n",
       "      <td>metal</td>\n",
       "      <td>1</td>\n",
       "      <td>1</td>\n",
       "      <td>0</td>\n",
       "    </tr>\n",
       "    <tr>\n",
       "      <th>2</th>\n",
       "      <td>blue</td>\n",
       "      <td>large</td>\n",
       "      <td>plastic</td>\n",
       "      <td>0</td>\n",
       "      <td>0</td>\n",
       "      <td>1</td>\n",
       "    </tr>\n",
       "    <tr>\n",
       "      <th>3</th>\n",
       "      <td>green</td>\n",
       "      <td>small</td>\n",
       "      <td>wood</td>\n",
       "      <td>1</td>\n",
       "      <td>2</td>\n",
       "      <td>2</td>\n",
       "    </tr>\n",
       "    <tr>\n",
       "      <th>4</th>\n",
       "      <td>red</td>\n",
       "      <td>large</td>\n",
       "      <td>metal</td>\n",
       "      <td>2</td>\n",
       "      <td>0</td>\n",
       "      <td>0</td>\n",
       "    </tr>\n",
       "    <tr>\n",
       "      <th>5</th>\n",
       "      <td>blue</td>\n",
       "      <td>medium</td>\n",
       "      <td>plastic</td>\n",
       "      <td>0</td>\n",
       "      <td>1</td>\n",
       "      <td>1</td>\n",
       "    </tr>\n",
       "  </tbody>\n",
       "</table>\n",
       "</div>"
      ],
      "text/plain": [
       "   Color    Size Material  Color_encoded  Size_encoded  Material_encoded\n",
       "0    red   small     wood              2             2                 2\n",
       "1  green  medium    metal              1             1                 0\n",
       "2   blue   large  plastic              0             0                 1\n",
       "3  green   small     wood              1             2                 2\n",
       "4    red   large    metal              2             0                 0\n",
       "5   blue  medium  plastic              0             1                 1"
      ]
     },
     "execution_count": 36,
     "metadata": {},
     "output_type": "execute_result"
    }
   ],
   "source": [
    "df"
   ]
  },
  {
   "cell_type": "code",
   "execution_count": 37,
   "id": "d041e403-fdd7-4622-b773-a8317eed8876",
   "metadata": {},
   "outputs": [],
   "source": [
    "# Label Encoding transforms categorical data into numerical labels, which can be used as input for machine learning models.\n",
    "# However, be cautious when using Label Encoding with categorical variables that do not have an ordinal relationship, as this\n",
    "# may introduce unintended order to the model."
   ]
  },
  {
   "cell_type": "code",
   "execution_count": 44,
   "id": "ef312f24-3954-4ad0-9322-78bf47b61c43",
   "metadata": {},
   "outputs": [],
   "source": [
    "# Q5. Calculate the covariance matrix for the following variables in a dataset: Age, Income, and Education\n",
    "# level. Interpret the results."
   ]
  },
  {
   "cell_type": "code",
   "execution_count": 38,
   "id": "ecd0dc88-84b2-42a8-90dc-ac255ef52042",
   "metadata": {},
   "outputs": [],
   "source": [
    "import numpy as np"
   ]
  },
  {
   "cell_type": "code",
   "execution_count": 39,
   "id": "46d24d7e-ff8f-4c4b-802c-fe96d703fba4",
   "metadata": {},
   "outputs": [],
   "source": [
    "data = {\n",
    "    'Age': [25, 32, 47, 51, 62],\n",
    "    'Income': [50000, 60000, 80000, 85000, 90000],\n",
    "    'Education_Level': [12, 14, 16, 16, 18]\n",
    "}"
   ]
  },
  {
   "cell_type": "code",
   "execution_count": 40,
   "id": "19ea724c-821e-4ae7-81a9-cb0e6ac46b41",
   "metadata": {},
   "outputs": [],
   "source": [
    "df = pd.DataFrame(data)"
   ]
  },
  {
   "cell_type": "code",
   "execution_count": 41,
   "id": "fc5118d5-b50f-4fc1-803c-571e51b144de",
   "metadata": {},
   "outputs": [],
   "source": [
    "cov_matrix = df.cov()"
   ]
  },
  {
   "cell_type": "code",
   "execution_count": 42,
   "id": "d9ad0732-5cc6-41b2-baa1-af1d860e67fd",
   "metadata": {},
   "outputs": [
    {
     "data": {
      "text/html": [
       "<div>\n",
       "<style scoped>\n",
       "    .dataframe tbody tr th:only-of-type {\n",
       "        vertical-align: middle;\n",
       "    }\n",
       "\n",
       "    .dataframe tbody tr th {\n",
       "        vertical-align: top;\n",
       "    }\n",
       "\n",
       "    .dataframe thead th {\n",
       "        text-align: right;\n",
       "    }\n",
       "</style>\n",
       "<table border=\"1\" class=\"dataframe\">\n",
       "  <thead>\n",
       "    <tr style=\"text-align: right;\">\n",
       "      <th></th>\n",
       "      <th>Age</th>\n",
       "      <th>Income</th>\n",
       "      <th>Education_Level</th>\n",
       "    </tr>\n",
       "  </thead>\n",
       "  <tbody>\n",
       "    <tr>\n",
       "      <th>Age</th>\n",
       "      <td>221.3</td>\n",
       "      <td>251000.0</td>\n",
       "      <td>33.4</td>\n",
       "    </tr>\n",
       "    <tr>\n",
       "      <th>Income</th>\n",
       "      <td>251000.0</td>\n",
       "      <td>295000000.0</td>\n",
       "      <td>38000.0</td>\n",
       "    </tr>\n",
       "    <tr>\n",
       "      <th>Education_Level</th>\n",
       "      <td>33.4</td>\n",
       "      <td>38000.0</td>\n",
       "      <td>5.2</td>\n",
       "    </tr>\n",
       "  </tbody>\n",
       "</table>\n",
       "</div>"
      ],
      "text/plain": [
       "                      Age       Income  Education_Level\n",
       "Age                 221.3     251000.0             33.4\n",
       "Income           251000.0  295000000.0          38000.0\n",
       "Education_Level      33.4      38000.0              5.2"
      ]
     },
     "execution_count": 42,
     "metadata": {},
     "output_type": "execute_result"
    }
   ],
   "source": [
    "cov_matrix"
   ]
  },
  {
   "cell_type": "code",
   "execution_count": 45,
   "id": "ebff964e-c7be-4008-b98d-43f2c4f3945d",
   "metadata": {},
   "outputs": [],
   "source": [
    "# The covariance matrix helps to understand the relationships between different variables in your dataset. Positive values\n",
    "# indicate that the variables tend to increase together, while negative values indicate that one variable tends to decrease\n",
    "# when the other increases. The magnitude of the covariance gives an idea of the strength of the relationship."
   ]
  },
  {
   "cell_type": "code",
   "execution_count": 46,
   "id": "6b4722a8-1ffa-4b3f-acc6-aca5212cf115",
   "metadata": {},
   "outputs": [],
   "source": [
    "# Q6. You are working on a machine learning project with a dataset containing several categorical\n",
    "# variables, including \"Gender\" (Male/Female), \"Education Level\" (High School/Bachelor's/Master's/PhD),\n",
    "# and \"Employment Status\" (Unemployed/Part-Time/Full-Time). Which encoding method would you use for\n",
    "# each variable, and why?"
   ]
  },
  {
   "cell_type": "code",
   "execution_count": 47,
   "id": "0b254109-bbde-49d1-8967-1c62ed8d4b59",
   "metadata": {},
   "outputs": [],
   "source": [
    "from sklearn.preprocessing import LabelEncoder, OrdinalEncoder, OneHotEncoder"
   ]
  },
  {
   "cell_type": "code",
   "execution_count": 48,
   "id": "825d5a8d-3f5f-432d-b7e2-c7e45beccc51",
   "metadata": {},
   "outputs": [],
   "source": [
    "data = {\n",
    "    'Gender': ['Male', 'Female', 'Female', 'Male'],\n",
    "    'Education_Level': ['High School', 'Bachelor\\'s', 'Master\\'s', 'PhD'],\n",
    "    'Employment_Status': ['Unemployed', 'Part-Time', 'Full-Time', 'Unemployed']\n",
    "}"
   ]
  },
  {
   "cell_type": "code",
   "execution_count": 49,
   "id": "952698f1-c3b9-47f0-ab14-6fb3f156601d",
   "metadata": {},
   "outputs": [],
   "source": [
    "df = pd.DataFrame(data)"
   ]
  },
  {
   "cell_type": "code",
   "execution_count": 50,
   "id": "23c6077c-7869-4af5-9e32-e77ceab702f7",
   "metadata": {},
   "outputs": [],
   "source": [
    "label_encoder = LabelEncoder()\n",
    "df['Gender_encoded'] = label_encoder.fit_transform(df['Gender'])"
   ]
  },
  {
   "cell_type": "code",
   "execution_count": 52,
   "id": "db8b307f-be31-4645-86f4-5beea537e216",
   "metadata": {},
   "outputs": [],
   "source": [
    "education_order = ['High School', 'Bachelor\\'s', 'Master\\'s', 'PhD']\n",
    "ordinal_encoder = OrdinalEncoder(categories=[education_order])\n",
    "df['Education_Level_encoded'] = ordinal_encoder.fit_transform(df[['Education_Level']])"
   ]
  },
  {
   "cell_type": "code",
   "execution_count": 54,
   "id": "ff39d40e-c674-410f-a0f7-132df5243267",
   "metadata": {},
   "outputs": [
    {
     "name": "stderr",
     "output_type": "stream",
     "text": [
      "/opt/conda/lib/python3.10/site-packages/sklearn/preprocessing/_encoders.py:808: FutureWarning: `sparse` was renamed to `sparse_output` in version 1.2 and will be removed in 1.4. `sparse_output` is ignored unless you leave `sparse` to its default value.\n",
      "  warnings.warn(\n"
     ]
    }
   ],
   "source": [
    "onehot_encoder = OneHotEncoder(sparse=False)\n",
    "employment_encoded = onehot_encoder.fit_transform(df[['Employment_Status']])\n",
    "employment_encoded_df = pd.DataFrame(employment_encoded, columns=onehot_encoder.get_feature_names_out(['Employment_Status']))\n",
    "df = pd.concat([df, employment_encoded_df], axis=1)\n"
   ]
  },
  {
   "cell_type": "code",
   "execution_count": 55,
   "id": "fa1b5913-249f-4d95-a686-76f87b6677c3",
   "metadata": {},
   "outputs": [
    {
     "data": {
      "text/html": [
       "<div>\n",
       "<style scoped>\n",
       "    .dataframe tbody tr th:only-of-type {\n",
       "        vertical-align: middle;\n",
       "    }\n",
       "\n",
       "    .dataframe tbody tr th {\n",
       "        vertical-align: top;\n",
       "    }\n",
       "\n",
       "    .dataframe thead th {\n",
       "        text-align: right;\n",
       "    }\n",
       "</style>\n",
       "<table border=\"1\" class=\"dataframe\">\n",
       "  <thead>\n",
       "    <tr style=\"text-align: right;\">\n",
       "      <th></th>\n",
       "      <th>Gender</th>\n",
       "      <th>Education_Level</th>\n",
       "      <th>Employment_Status</th>\n",
       "      <th>Gender_encoded</th>\n",
       "      <th>Education_Level_encoded</th>\n",
       "      <th>Employment_Status_Full-Time</th>\n",
       "      <th>Employment_Status_Part-Time</th>\n",
       "      <th>Employment_Status_Unemployed</th>\n",
       "      <th>Employment_Status_Full-Time</th>\n",
       "      <th>Employment_Status_Part-Time</th>\n",
       "      <th>Employment_Status_Unemployed</th>\n",
       "    </tr>\n",
       "  </thead>\n",
       "  <tbody>\n",
       "    <tr>\n",
       "      <th>0</th>\n",
       "      <td>Male</td>\n",
       "      <td>High School</td>\n",
       "      <td>Unemployed</td>\n",
       "      <td>1</td>\n",
       "      <td>0.0</td>\n",
       "      <td>0.0</td>\n",
       "      <td>0.0</td>\n",
       "      <td>1.0</td>\n",
       "      <td>0.0</td>\n",
       "      <td>0.0</td>\n",
       "      <td>1.0</td>\n",
       "    </tr>\n",
       "    <tr>\n",
       "      <th>1</th>\n",
       "      <td>Female</td>\n",
       "      <td>Bachelor's</td>\n",
       "      <td>Part-Time</td>\n",
       "      <td>0</td>\n",
       "      <td>1.0</td>\n",
       "      <td>0.0</td>\n",
       "      <td>1.0</td>\n",
       "      <td>0.0</td>\n",
       "      <td>0.0</td>\n",
       "      <td>1.0</td>\n",
       "      <td>0.0</td>\n",
       "    </tr>\n",
       "    <tr>\n",
       "      <th>2</th>\n",
       "      <td>Female</td>\n",
       "      <td>Master's</td>\n",
       "      <td>Full-Time</td>\n",
       "      <td>0</td>\n",
       "      <td>2.0</td>\n",
       "      <td>1.0</td>\n",
       "      <td>0.0</td>\n",
       "      <td>0.0</td>\n",
       "      <td>1.0</td>\n",
       "      <td>0.0</td>\n",
       "      <td>0.0</td>\n",
       "    </tr>\n",
       "    <tr>\n",
       "      <th>3</th>\n",
       "      <td>Male</td>\n",
       "      <td>PhD</td>\n",
       "      <td>Unemployed</td>\n",
       "      <td>1</td>\n",
       "      <td>3.0</td>\n",
       "      <td>0.0</td>\n",
       "      <td>0.0</td>\n",
       "      <td>1.0</td>\n",
       "      <td>0.0</td>\n",
       "      <td>0.0</td>\n",
       "      <td>1.0</td>\n",
       "    </tr>\n",
       "  </tbody>\n",
       "</table>\n",
       "</div>"
      ],
      "text/plain": [
       "   Gender Education_Level Employment_Status  Gender_encoded  \\\n",
       "0    Male     High School        Unemployed               1   \n",
       "1  Female      Bachelor's         Part-Time               0   \n",
       "2  Female        Master's         Full-Time               0   \n",
       "3    Male             PhD        Unemployed               1   \n",
       "\n",
       "   Education_Level_encoded  Employment_Status_Full-Time  \\\n",
       "0                      0.0                          0.0   \n",
       "1                      1.0                          0.0   \n",
       "2                      2.0                          1.0   \n",
       "3                      3.0                          0.0   \n",
       "\n",
       "   Employment_Status_Part-Time  Employment_Status_Unemployed  \\\n",
       "0                          0.0                           1.0   \n",
       "1                          1.0                           0.0   \n",
       "2                          0.0                           0.0   \n",
       "3                          0.0                           1.0   \n",
       "\n",
       "   Employment_Status_Full-Time  Employment_Status_Part-Time  \\\n",
       "0                          0.0                          0.0   \n",
       "1                          0.0                          1.0   \n",
       "2                          1.0                          0.0   \n",
       "3                          0.0                          0.0   \n",
       "\n",
       "   Employment_Status_Unemployed  \n",
       "0                           1.0  \n",
       "1                           0.0  \n",
       "2                           0.0  \n",
       "3                           1.0  "
      ]
     },
     "execution_count": 55,
     "metadata": {},
     "output_type": "execute_result"
    }
   ],
   "source": [
    "df"
   ]
  },
  {
   "cell_type": "code",
   "execution_count": 56,
   "id": "cf60423b-a0f4-475e-b0ad-32bae4f3b6fb",
   "metadata": {},
   "outputs": [],
   "source": [
    "# Gender (Male/Female): Use Label Encoding or One-Hot Encoding because it's a binary categorical variable. Label Encoding\n",
    "# is simpler, but One-Hot Encoding avoids implying any order.\n",
    "\n",
    "# Education Level (High School/Bachelor's/Master's/PhD): Use Ordinal Encoding because the categories have a natural order \n",
    "# (e.g., High School < Bachelor's < Master's < PhD).\n",
    "\n",
    "# Employment Status (Unemployed/Part-Time/Full-Time): Use One-Hot Encoding because there is no inherent order among the \n",
    "# categories, and it allows the model to treat them as distinct and separate."
   ]
  },
  {
   "cell_type": "code",
   "execution_count": 57,
   "id": "435e248e-dc94-42a4-ba8c-7ced3fb7ec14",
   "metadata": {},
   "outputs": [],
   "source": [
    "# Q7. You are analyzing a dataset with two continuous variables, \"Temperature\" and \"Humidity\", and two\n",
    "# categorical variables, \"Weather Condition\" (Sunny/Cloudy/Rainy) and \"Wind Direction\" (North/South/\n",
    "# East/West). Calculate the covariance between each pair of variables and interpret the results."
   ]
  },
  {
   "cell_type": "code",
   "execution_count": 58,
   "id": "4aef8720-c31d-49ad-a091-a8f1d87b4d94",
   "metadata": {},
   "outputs": [],
   "source": [
    "from sklearn.preprocessing import OneHotEncoder"
   ]
  },
  {
   "cell_type": "code",
   "execution_count": 59,
   "id": "732b9b0d-0eb0-4846-b099-30e0e32ee1bc",
   "metadata": {},
   "outputs": [],
   "source": [
    "data = {\n",
    "    'Temperature': [30, 22, 25, 28, 32],\n",
    "    'Humidity': [80, 70, 75, 85, 90],\n",
    "    'Weather_Condition': ['Sunny', 'Cloudy', 'Rainy', 'Sunny', 'Cloudy'],\n",
    "    'Wind_Direction': ['North', 'South', 'East', 'West', 'North']\n",
    "}"
   ]
  },
  {
   "cell_type": "code",
   "execution_count": 62,
   "id": "6a070b19-3da0-47b3-911c-3e838719e750",
   "metadata": {},
   "outputs": [],
   "source": [
    "df = pd.DataFrame(data)"
   ]
  },
  {
   "cell_type": "code",
   "execution_count": 66,
   "id": "cef765e6-fa74-41c5-bd13-24ae972bd462",
   "metadata": {},
   "outputs": [],
   "source": [
    "encoder = OneHotEncoder(sparse=False)"
   ]
  },
  {
   "cell_type": "code",
   "execution_count": 67,
   "id": "720e1403-6c72-40b4-8981-19996ff5e0ae",
   "metadata": {},
   "outputs": [
    {
     "name": "stderr",
     "output_type": "stream",
     "text": [
      "/opt/conda/lib/python3.10/site-packages/sklearn/preprocessing/_encoders.py:808: FutureWarning: `sparse` was renamed to `sparse_output` in version 1.2 and will be removed in 1.4. `sparse_output` is ignored unless you leave `sparse` to its default value.\n",
      "  warnings.warn(\n"
     ]
    }
   ],
   "source": [
    "encoded_features = encoder.fit_transform(df[['Weather_Condition', 'Wind_Direction']])"
   ]
  },
  {
   "cell_type": "code",
   "execution_count": 68,
   "id": "843a338b-3654-4888-92dc-c1c0d44355f9",
   "metadata": {},
   "outputs": [],
   "source": [
    "encoded_df = pd.DataFrame(encoded_features, columns=encoder.get_feature_names_out(['Weather_Condition', 'Wind_Direction']))"
   ]
  },
  {
   "cell_type": "code",
   "execution_count": 70,
   "id": "318833da-cb73-4d4a-b5a6-68854e35cb65",
   "metadata": {},
   "outputs": [],
   "source": [
    "final_df = pd.concat([df[['Temperature', 'Humidity']], encoded_df], axis=1)"
   ]
  },
  {
   "cell_type": "code",
   "execution_count": 71,
   "id": "74e6fb4b-474e-46b0-919c-97fc73ff7df4",
   "metadata": {},
   "outputs": [],
   "source": [
    "cov_matrix = final_df.cov()"
   ]
  },
  {
   "cell_type": "code",
   "execution_count": 72,
   "id": "9ce33242-66b5-4512-b4c9-d6784b7c8302",
   "metadata": {},
   "outputs": [
    {
     "data": {
      "text/html": [
       "<div>\n",
       "<style scoped>\n",
       "    .dataframe tbody tr th:only-of-type {\n",
       "        vertical-align: middle;\n",
       "    }\n",
       "\n",
       "    .dataframe tbody tr th {\n",
       "        vertical-align: top;\n",
       "    }\n",
       "\n",
       "    .dataframe thead th {\n",
       "        text-align: right;\n",
       "    }\n",
       "</style>\n",
       "<table border=\"1\" class=\"dataframe\">\n",
       "  <thead>\n",
       "    <tr style=\"text-align: right;\">\n",
       "      <th></th>\n",
       "      <th>Temperature</th>\n",
       "      <th>Humidity</th>\n",
       "      <th>Weather_Condition_Cloudy</th>\n",
       "      <th>Weather_Condition_Rainy</th>\n",
       "      <th>Weather_Condition_Sunny</th>\n",
       "      <th>Wind_Direction_East</th>\n",
       "      <th>Wind_Direction_North</th>\n",
       "      <th>Wind_Direction_South</th>\n",
       "      <th>Wind_Direction_West</th>\n",
       "    </tr>\n",
       "  </thead>\n",
       "  <tbody>\n",
       "    <tr>\n",
       "      <th>Temperature</th>\n",
       "      <td>15.80</td>\n",
       "      <td>2.875000e+01</td>\n",
       "      <td>-2.000000e-01</td>\n",
       "      <td>-0.60</td>\n",
       "      <td>0.80</td>\n",
       "      <td>-0.60</td>\n",
       "      <td>1.80</td>\n",
       "      <td>-1.35</td>\n",
       "      <td>0.15</td>\n",
       "    </tr>\n",
       "    <tr>\n",
       "      <th>Humidity</th>\n",
       "      <td>28.75</td>\n",
       "      <td>6.250000e+01</td>\n",
       "      <td>-5.551115e-17</td>\n",
       "      <td>-1.25</td>\n",
       "      <td>1.25</td>\n",
       "      <td>-1.25</td>\n",
       "      <td>2.50</td>\n",
       "      <td>-2.50</td>\n",
       "      <td>1.25</td>\n",
       "    </tr>\n",
       "    <tr>\n",
       "      <th>Weather_Condition_Cloudy</th>\n",
       "      <td>-0.20</td>\n",
       "      <td>-5.551115e-17</td>\n",
       "      <td>3.000000e-01</td>\n",
       "      <td>-0.10</td>\n",
       "      <td>-0.20</td>\n",
       "      <td>-0.10</td>\n",
       "      <td>0.05</td>\n",
       "      <td>0.15</td>\n",
       "      <td>-0.10</td>\n",
       "    </tr>\n",
       "    <tr>\n",
       "      <th>Weather_Condition_Rainy</th>\n",
       "      <td>-0.60</td>\n",
       "      <td>-1.250000e+00</td>\n",
       "      <td>-1.000000e-01</td>\n",
       "      <td>0.20</td>\n",
       "      <td>-0.10</td>\n",
       "      <td>0.20</td>\n",
       "      <td>-0.10</td>\n",
       "      <td>-0.05</td>\n",
       "      <td>-0.05</td>\n",
       "    </tr>\n",
       "    <tr>\n",
       "      <th>Weather_Condition_Sunny</th>\n",
       "      <td>0.80</td>\n",
       "      <td>1.250000e+00</td>\n",
       "      <td>-2.000000e-01</td>\n",
       "      <td>-0.10</td>\n",
       "      <td>0.30</td>\n",
       "      <td>-0.10</td>\n",
       "      <td>0.05</td>\n",
       "      <td>-0.10</td>\n",
       "      <td>0.15</td>\n",
       "    </tr>\n",
       "    <tr>\n",
       "      <th>Wind_Direction_East</th>\n",
       "      <td>-0.60</td>\n",
       "      <td>-1.250000e+00</td>\n",
       "      <td>-1.000000e-01</td>\n",
       "      <td>0.20</td>\n",
       "      <td>-0.10</td>\n",
       "      <td>0.20</td>\n",
       "      <td>-0.10</td>\n",
       "      <td>-0.05</td>\n",
       "      <td>-0.05</td>\n",
       "    </tr>\n",
       "    <tr>\n",
       "      <th>Wind_Direction_North</th>\n",
       "      <td>1.80</td>\n",
       "      <td>2.500000e+00</td>\n",
       "      <td>5.000000e-02</td>\n",
       "      <td>-0.10</td>\n",
       "      <td>0.05</td>\n",
       "      <td>-0.10</td>\n",
       "      <td>0.30</td>\n",
       "      <td>-0.10</td>\n",
       "      <td>-0.10</td>\n",
       "    </tr>\n",
       "    <tr>\n",
       "      <th>Wind_Direction_South</th>\n",
       "      <td>-1.35</td>\n",
       "      <td>-2.500000e+00</td>\n",
       "      <td>1.500000e-01</td>\n",
       "      <td>-0.05</td>\n",
       "      <td>-0.10</td>\n",
       "      <td>-0.05</td>\n",
       "      <td>-0.10</td>\n",
       "      <td>0.20</td>\n",
       "      <td>-0.05</td>\n",
       "    </tr>\n",
       "    <tr>\n",
       "      <th>Wind_Direction_West</th>\n",
       "      <td>0.15</td>\n",
       "      <td>1.250000e+00</td>\n",
       "      <td>-1.000000e-01</td>\n",
       "      <td>-0.05</td>\n",
       "      <td>0.15</td>\n",
       "      <td>-0.05</td>\n",
       "      <td>-0.10</td>\n",
       "      <td>-0.05</td>\n",
       "      <td>0.20</td>\n",
       "    </tr>\n",
       "  </tbody>\n",
       "</table>\n",
       "</div>"
      ],
      "text/plain": [
       "                          Temperature      Humidity  Weather_Condition_Cloudy  \\\n",
       "Temperature                     15.80  2.875000e+01             -2.000000e-01   \n",
       "Humidity                        28.75  6.250000e+01             -5.551115e-17   \n",
       "Weather_Condition_Cloudy        -0.20 -5.551115e-17              3.000000e-01   \n",
       "Weather_Condition_Rainy         -0.60 -1.250000e+00             -1.000000e-01   \n",
       "Weather_Condition_Sunny          0.80  1.250000e+00             -2.000000e-01   \n",
       "Wind_Direction_East             -0.60 -1.250000e+00             -1.000000e-01   \n",
       "Wind_Direction_North             1.80  2.500000e+00              5.000000e-02   \n",
       "Wind_Direction_South            -1.35 -2.500000e+00              1.500000e-01   \n",
       "Wind_Direction_West              0.15  1.250000e+00             -1.000000e-01   \n",
       "\n",
       "                          Weather_Condition_Rainy  Weather_Condition_Sunny  \\\n",
       "Temperature                                 -0.60                     0.80   \n",
       "Humidity                                    -1.25                     1.25   \n",
       "Weather_Condition_Cloudy                    -0.10                    -0.20   \n",
       "Weather_Condition_Rainy                      0.20                    -0.10   \n",
       "Weather_Condition_Sunny                     -0.10                     0.30   \n",
       "Wind_Direction_East                          0.20                    -0.10   \n",
       "Wind_Direction_North                        -0.10                     0.05   \n",
       "Wind_Direction_South                        -0.05                    -0.10   \n",
       "Wind_Direction_West                         -0.05                     0.15   \n",
       "\n",
       "                          Wind_Direction_East  Wind_Direction_North  \\\n",
       "Temperature                             -0.60                  1.80   \n",
       "Humidity                                -1.25                  2.50   \n",
       "Weather_Condition_Cloudy                -0.10                  0.05   \n",
       "Weather_Condition_Rainy                  0.20                 -0.10   \n",
       "Weather_Condition_Sunny                 -0.10                  0.05   \n",
       "Wind_Direction_East                      0.20                 -0.10   \n",
       "Wind_Direction_North                    -0.10                  0.30   \n",
       "Wind_Direction_South                    -0.05                 -0.10   \n",
       "Wind_Direction_West                     -0.05                 -0.10   \n",
       "\n",
       "                          Wind_Direction_South  Wind_Direction_West  \n",
       "Temperature                              -1.35                 0.15  \n",
       "Humidity                                 -2.50                 1.25  \n",
       "Weather_Condition_Cloudy                  0.15                -0.10  \n",
       "Weather_Condition_Rainy                  -0.05                -0.05  \n",
       "Weather_Condition_Sunny                  -0.10                 0.15  \n",
       "Wind_Direction_East                      -0.05                -0.05  \n",
       "Wind_Direction_North                     -0.10                -0.10  \n",
       "Wind_Direction_South                      0.20                -0.05  \n",
       "Wind_Direction_West                      -0.05                 0.20  "
      ]
     },
     "execution_count": 72,
     "metadata": {},
     "output_type": "execute_result"
    }
   ],
   "source": [
    "cov_matrix"
   ]
  },
  {
   "cell_type": "code",
   "execution_count": null,
   "id": "87af1458-440b-4643-af75-feb02753a2e5",
   "metadata": {},
   "outputs": [],
   "source": []
  },
  {
   "cell_type": "code",
   "execution_count": null,
   "id": "8326a03c-a0e1-4f45-8510-2c02a62b505b",
   "metadata": {},
   "outputs": [],
   "source": []
  }
 ],
 "metadata": {
  "kernelspec": {
   "display_name": "Python 3 (ipykernel)",
   "language": "python",
   "name": "python3"
  },
  "language_info": {
   "codemirror_mode": {
    "name": "ipython",
    "version": 3
   },
   "file_extension": ".py",
   "mimetype": "text/x-python",
   "name": "python",
   "nbconvert_exporter": "python",
   "pygments_lexer": "ipython3",
   "version": "3.10.8"
  }
 },
 "nbformat": 4,
 "nbformat_minor": 5
}
