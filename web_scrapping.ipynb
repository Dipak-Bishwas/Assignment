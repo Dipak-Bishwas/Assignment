{
 "cells": [
  {
   "cell_type": "code",
   "execution_count": 15,
   "id": "b136b5f3-3d1c-44f8-9540-1c4930094196",
   "metadata": {},
   "outputs": [],
   "source": [
    "# Q1. What is Web Scraping? Why is it Used? Give three areas where Web Scraping is used to get data."
   ]
  },
  {
   "cell_type": "code",
   "execution_count": 16,
   "id": "84b66444-d528-4fb7-952c-5d0083add2b5",
   "metadata": {},
   "outputs": [],
   "source": [
    "# Web scraping, also known as web data extraction, is the process of automatically collecting and extracting data from \n",
    "# websites, web pages, and online documents. It involves using specialized software or algorithms to navigate a website, \n",
    "# locate and extract specific data, and store it in a structured format.\n",
    "\n",
    "# Why is it Used?\n",
    "# Web scraping is used to gather data from websites that do not provide an API or other means of accessing their data. It is a useful technique for:\n",
    "#     Gathering large amounts of data quickly and efficiently\n",
    "#     Extracting data from websites that do not provide a data export option\n",
    "#     Monitoring website changes and updates\n",
    "#     Conducting market research and competitor analysis\n",
    "    \n",
    "    \n",
    "# 1.E-commerce and Retail\n",
    "# 2.Finance and Banking\n",
    "# 3.Travel and Hospitality"
   ]
  },
  {
   "cell_type": "code",
   "execution_count": 17,
   "id": "f9c477f5-51f3-4465-b7e1-db7b82f9d6aa",
   "metadata": {},
   "outputs": [],
   "source": [
    "# Q2. What are the different methods used for Web Scraping?"
   ]
  },
  {
   "cell_type": "code",
   "execution_count": 18,
   "id": "94581969-7b4b-4d8b-a302-a64b0267248a",
   "metadata": {},
   "outputs": [],
   "source": [
    "# HTML Parsing: Parse HTML to extract data.\n",
    "# Regex: Use pattern matching to extract data.\n",
    "# XPath: Use XPath expressions to navigate and extract data.\n",
    "# CSS Selectors: Use CSS selectors to extract data.\n",
    "# Browser Automation: Automate a web browser to extract data.\n",
    "# API Scraping: Use APIs to extract data.\n",
    "# Headless Browsers: Use headless browsers to render and extract data.\n",
    "# Machine Learning/AI: Use machine learning/AI to extract data.\n",
    "# Visual Web Scraping: Use visual tools to "
   ]
  },
  {
   "cell_type": "code",
   "execution_count": 19,
   "id": "baa751ea-bd87-4f98-a719-2e029e7b56bd",
   "metadata": {},
   "outputs": [],
   "source": [
    "# Q3. What is Beautiful Soup? Why is it used?"
   ]
  },
  {
   "cell_type": "code",
   "execution_count": 20,
   "id": "2f981259-8523-4406-bf7e-007f29375c59",
   "metadata": {},
   "outputs": [],
   "source": [
    "# Beautiful Soup is a Python library used for web scraping purposes to pull the data out of HTML and XML files.\n",
    "# It creates a parse tree from page source code that can be used to extract data in a hierarchical and more readable manner.\n",
    "\n",
    "\n",
    "# Why is it used?\n",
    "\n",
    "# Beautiful Soup is used for several reasons:\n",
    "# Easy to use: Beautiful Soup is very easy to use and provides a simple way to navigate and search through the contents of web pages.\n",
    "# Flexible: It can handle broken or malformed HTML, which is common on the web.\n",
    "# Fast: Beautiful Soup is fast and can handle large documents.\n",
    "# Powerful: It provides a lot of functionality for searching and navigating through documents.\n",
    "# Pythonic: Beautiful Soup is a Python library, so it's easy to use for Python developers."
   ]
  },
  {
   "cell_type": "code",
   "execution_count": 21,
   "id": "1521ce2b-467a-4cd1-911f-914c129169fc",
   "metadata": {},
   "outputs": [],
   "source": [
    "# Q4. Why is flask used in this Web Scraping project?"
   ]
  },
  {
   "cell_type": "code",
   "execution_count": 22,
   "id": "f76cc7a7-3e2f-4d57-918e-33358260fcd6",
   "metadata": {},
   "outputs": [],
   "source": [
    "# Flask is used to:\n",
    "#     Create a web interface or API for web scraping functionality\n",
    "#     Expose web scraping functionality to other applications or services\n",
    "#     Create a scheduled task to run web scraping at regular intervals\n",
    "#     Visualize extracted data\n",
    "#     Store extracted data in a database or file system\n",
    "    \n",
    "# Flask is not necessary for web scraping itself, but it can be used to create a web interface or API to interact with \n",
    "# the web scraping functionality."
   ]
  },
  {
   "cell_type": "code",
   "execution_count": 23,
   "id": "70ecf14e-22f2-418d-8ddc-9ce4766d9bff",
   "metadata": {},
   "outputs": [],
   "source": [
    "# Q5. Write the names of AWS services used in this project. Also, explain the use of each service."
   ]
  },
  {
   "cell_type": "code",
   "execution_count": 24,
   "id": "431e44b0-0ad5-4ac5-a5b0-2e48314ef0b1",
   "metadata": {},
   "outputs": [],
   "source": [
    "# Elastic Beanstalk:\n",
    "# A managed platform for deploying web applications and services\n",
    "# Automates deployment, scaling, and management of infrastructure\n",
    "# Supports multiple platforms and environments\n",
    "\n",
    "# CodePipeline:\n",
    "# A continuous integration and continuous deployment (CI/CD) service\n",
    "# Automates build, test, and deployment of code changes\n",
    "# Integrates with source code management systems and provides artifact management"
   ]
  },
  {
   "cell_type": "code",
   "execution_count": null,
   "id": "8ee95edb-a238-413e-81f9-dc4ea8b13976",
   "metadata": {},
   "outputs": [],
   "source": []
  },
  {
   "cell_type": "code",
   "execution_count": null,
   "id": "27fa2dcf-16c0-4bc2-b13c-612826c7818e",
   "metadata": {},
   "outputs": [],
   "source": []
  },
  {
   "cell_type": "code",
   "execution_count": null,
   "id": "5e6fb1f7-d395-42ca-83d9-81d54dd0daf9",
   "metadata": {},
   "outputs": [],
   "source": []
  },
  {
   "cell_type": "code",
   "execution_count": null,
   "id": "cddd7638-dd6a-4752-9e77-47c9cc0db3e4",
   "metadata": {},
   "outputs": [],
   "source": []
  },
  {
   "cell_type": "code",
   "execution_count": null,
   "id": "11069efd-37ae-4432-afda-1eb67021bf71",
   "metadata": {},
   "outputs": [],
   "source": []
  },
  {
   "cell_type": "code",
   "execution_count": null,
   "id": "6308b4d5-8a07-48e3-a9b0-0d99ef85484d",
   "metadata": {},
   "outputs": [],
   "source": []
  }
 ],
 "metadata": {
  "kernelspec": {
   "display_name": "Python 3 (ipykernel)",
   "language": "python",
   "name": "python3"
  },
  "language_info": {
   "codemirror_mode": {
    "name": "ipython",
    "version": 3
   },
   "file_extension": ".py",
   "mimetype": "text/x-python",
   "name": "python",
   "nbconvert_exporter": "python",
   "pygments_lexer": "ipython3",
   "version": "3.10.8"
  }
 },
 "nbformat": 4,
 "nbformat_minor": 5
}
