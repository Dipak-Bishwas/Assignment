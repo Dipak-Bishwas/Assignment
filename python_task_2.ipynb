{
 "cells": [
  {
   "cell_type": "code",
   "execution_count": 7,
   "id": "6aeb186e-3f7c-422b-a15a-64be7cfc55c6",
   "metadata": {},
   "outputs": [],
   "source": [
    "# Q1.You are writing code for a company. The requirement of the company is that you create a pythonfunction that will check whether the password entered by the user is correct or not. The function should take the password as input and return the string “Valid Password” if the entered password follows the below-given password guidelines else it should return “Invalid Password”.\n",
    "\n",
    "# Note: 1. The Password should contain at least two uppercase letters and at least two lowercase letters.\n",
    "# 2. The Password should contain at least a number and three special characters.\n",
    "# 3. The length of the password should be 10 characters long."
   ]
  },
  {
   "cell_type": "code",
   "execution_count": 12,
   "id": "e146171d-a9cf-40dc-bfce-5fd291610964",
   "metadata": {},
   "outputs": [],
   "source": [
    "import re"
   ]
  },
  {
   "cell_type": "code",
   "execution_count": 17,
   "id": "1a78aec3-bd17-4ef8-b2f4-409b393bc29a",
   "metadata": {},
   "outputs": [],
   "source": [
    "def check_password(password):\n",
    "    if len(password) != 10:\n",
    "        return \"Invalid Password\"\n",
    "    \n",
    "    uppercase_count = sum(1 for char in password if char.isupper())\n",
    "    lowercase_count = sum(1 for char in password if char.islower())\n",
    "\n",
    "    if uppercase_count < 2 or lowercase_count < 2:\n",
    "        return \"Invalid Password\"\n",
    "\n",
    "    if not any(char.isdigit() for char in password):\n",
    "        return \"Invalid Password\"\n",
    "\n",
    "    special_char_count = len(re.findall(r'[^a-zA-Z0-9]', password))\n",
    "    if special_char_count < 3:\n",
    "        return \"Invalid Password\"\n",
    "    \n",
    "    return \"Valid Password\"\n"
   ]
  },
  {
   "cell_type": "code",
   "execution_count": 18,
   "id": "7f75de74-1ba9-44fb-b731-f35e2da3372c",
   "metadata": {},
   "outputs": [
    {
     "name": "stdin",
     "output_type": "stream",
     "text": [
      "Enter the password:  DIpk12@#$%\n"
     ]
    },
    {
     "name": "stdout",
     "output_type": "stream",
     "text": [
      "Valid Password\n"
     ]
    }
   ],
   "source": [
    "password = input(\"Enter the password: \")\n",
    "result = check_password(password)\n",
    "print(result)"
   ]
  },
  {
   "cell_type": "code",
   "execution_count": 19,
   "id": "0f3fa4af-f192-43ae-9715-a230e0acb83d",
   "metadata": {},
   "outputs": [],
   "source": [
    "# Q2. Solve the below-given questions using at least one of the following:\n",
    "# 1. Lambda function\n",
    "# 2. Filter function\n",
    "# 3. Zap function\n",
    "# 4. List ComprehensioI\n",
    "\n",
    "# 1. Check if the string starts with a particular letter.\n",
    "# 2. Check if the string is numeric.\n",
    "# 3. Sort a list of tuples having fruit names and their quantity. [(\"mango\",99),(\"orange\",80), (\"grapes\", 1000)]\n",
    "# 4. Find the squares of numbers from 1 to 10.\n",
    "# 5. Find the cube root of numbers from 1 to 10.\n",
    "# 6. Check if a given number is even.\n",
    "# 7. Filter odd numbers from the given list.\n",
    "# [1,2,3,4,5,6,7,8,9,10]\n",
    "# 8. Sort a list of integers into positive and negative integers lists.\n",
    "# [1,2,3,4,5,6,-1,-2,-3,-4,-5,0]"
   ]
  },
  {
   "cell_type": "code",
   "execution_count": null,
   "id": "2199e945-386a-46b4-abb8-29a158269311",
   "metadata": {},
   "outputs": [],
   "source": [
    "# 1. Check if the string starts with a particular letter."
   ]
  },
  {
   "cell_type": "code",
   "execution_count": 48,
   "id": "afccdb59-7449-4fb3-bb8b-d82096902754",
   "metadata": {},
   "outputs": [],
   "source": [
    "string = \"Dipak\""
   ]
  },
  {
   "cell_type": "code",
   "execution_count": 49,
   "id": "15d0ce07-3cc8-45e8-998b-6682127f621d",
   "metadata": {},
   "outputs": [
    {
     "name": "stdout",
     "output_type": "stream",
     "text": [
      "The string starts with 'D'.\n"
     ]
    }
   ],
   "source": [
    "starting_letter = lambda s, letter: s.startswith(letter)\n",
    "\n",
    "if starting_letter(string, 'D'):\n",
    "    print(\"The string starts with 'D'.\")\n",
    "else:\n",
    "    print(\"The string does not start with 'D'.\")"
   ]
  },
  {
   "cell_type": "code",
   "execution_count": null,
   "id": "3ef38fcb-89ce-4a6a-b82d-0a9a5fe43ae0",
   "metadata": {},
   "outputs": [],
   "source": [
    "# 2. Check if the string is numeric."
   ]
  },
  {
   "cell_type": "code",
   "execution_count": 42,
   "id": "5651455b-b00e-4fff-97bb-f636373bd864",
   "metadata": {},
   "outputs": [],
   "source": [
    "string = \"12345\""
   ]
  },
  {
   "cell_type": "code",
   "execution_count": 43,
   "id": "8f45f6f9-ee8e-42b5-b996-63492449b447",
   "metadata": {},
   "outputs": [
    {
     "name": "stdout",
     "output_type": "stream",
     "text": [
      "The string is numeric.\n"
     ]
    }
   ],
   "source": [
    "numeric = lambda s: s.isnumeric()\n",
    "\n",
    "if numeric(string):\n",
    "    print(\"The string is numeric.\")\n",
    "else:\n",
    "    print(\"string is not numeric\")"
   ]
  },
  {
   "cell_type": "code",
   "execution_count": 55,
   "id": "22a9a617-8482-492a-822d-c61856af668e",
   "metadata": {},
   "outputs": [],
   "source": [
    "# 3.Sort a list of tuples having fruit names and their quantity. [(\"mango\",99),(\"orange\",80), (\"grapes\", 1000)]"
   ]
  },
  {
   "cell_type": "code",
   "execution_count": 56,
   "id": "ac7d1a27-b391-4436-8971-37121c8775c2",
   "metadata": {},
   "outputs": [],
   "source": [
    "fruits = [(\"mango\", 99), (\"orange\", 80), (\"grapes\", 1000)]"
   ]
  },
  {
   "cell_type": "code",
   "execution_count": 57,
   "id": "de557a83-c3db-4fe8-882f-738fe83558db",
   "metadata": {},
   "outputs": [],
   "source": [
    "sorted_fruits = sorted(fruits, key=lambda x: x[1])"
   ]
  },
  {
   "cell_type": "code",
   "execution_count": 58,
   "id": "335419ec-5a7d-4ae7-8e68-197b031f8043",
   "metadata": {},
   "outputs": [
    {
     "name": "stdout",
     "output_type": "stream",
     "text": [
      "[('orange', 80), ('mango', 99), ('grapes', 1000)]\n"
     ]
    }
   ],
   "source": [
    "print(sorted_fruits)"
   ]
  },
  {
   "cell_type": "code",
   "execution_count": 59,
   "id": "0b82e8df-4a68-4534-95d1-715c9cb86351",
   "metadata": {},
   "outputs": [],
   "source": [
    "# 4. Find the squares of numbers from 1 to 10."
   ]
  },
  {
   "cell_type": "code",
   "execution_count": 60,
   "id": "682b4e47-e567-440b-a0f2-686f6fc7b919",
   "metadata": {},
   "outputs": [],
   "source": [
    "numbers = range(1, 11)"
   ]
  },
  {
   "cell_type": "code",
   "execution_count": 61,
   "id": "00b35f44-264c-4be8-8b30-90a547d0a026",
   "metadata": {},
   "outputs": [],
   "source": [
    "squares = list(map(lambda x: x ** 2, numbers))"
   ]
  },
  {
   "cell_type": "code",
   "execution_count": 62,
   "id": "64077263-28e1-4a89-907e-11688f9940ab",
   "metadata": {},
   "outputs": [
    {
     "name": "stdout",
     "output_type": "stream",
     "text": [
      "[1, 4, 9, 16, 25, 36, 49, 64, 81, 100]\n"
     ]
    }
   ],
   "source": [
    "print(squares)"
   ]
  },
  {
   "cell_type": "code",
   "execution_count": 63,
   "id": "5a590d13-664d-4981-b423-2de152771fd4",
   "metadata": {},
   "outputs": [],
   "source": [
    "# 5. Find the cube root of numbers from 1 to 10."
   ]
  },
  {
   "cell_type": "code",
   "execution_count": 64,
   "id": "a7bf4cde-3d2a-4ef7-8607-b9ef912c3598",
   "metadata": {},
   "outputs": [],
   "source": [
    "numbers = range(1, 11)"
   ]
  },
  {
   "cell_type": "code",
   "execution_count": 65,
   "id": "7fb0706b-a6a8-4361-a81e-bb95092ab214",
   "metadata": {},
   "outputs": [],
   "source": [
    "cube_roots = list(map(lambda x: x ** (1/3), numbers))"
   ]
  },
  {
   "cell_type": "code",
   "execution_count": 66,
   "id": "d4d38329-dc12-4f26-9dd9-f1c22e91e60f",
   "metadata": {},
   "outputs": [
    {
     "name": "stdout",
     "output_type": "stream",
     "text": [
      "[1.0, 1.2599210498948732, 1.4422495703074083, 1.5874010519681994, 1.7099759466766968, 1.8171205928321397, 1.912931182772389, 2.0, 2.080083823051904, 2.154434690031884]\n"
     ]
    }
   ],
   "source": [
    "print(cube_roots)"
   ]
  },
  {
   "cell_type": "code",
   "execution_count": 67,
   "id": "afb9c73f-bfb2-4695-ac92-c554f18381c7",
   "metadata": {},
   "outputs": [],
   "source": [
    "# 6. Check if a given number is even."
   ]
  },
  {
   "cell_type": "code",
   "execution_count": 71,
   "id": "b87cf029-09ed-4488-a730-1c012b168783",
   "metadata": {},
   "outputs": [],
   "source": [
    "number = 15"
   ]
  },
  {
   "cell_type": "code",
   "execution_count": 73,
   "id": "5753d652-5b7d-4f68-a843-a9a1c7d84b01",
   "metadata": {},
   "outputs": [
    {
     "name": "stdout",
     "output_type": "stream",
     "text": [
      "The number is not even.\n"
     ]
    }
   ],
   "source": [
    "even = lambda x: x % 2 == 0\n",
    "\n",
    "if even(number):\n",
    "    print(\"The number is even.\")\n",
    "else:\n",
    "    print(\"The number is not even.\")"
   ]
  },
  {
   "cell_type": "code",
   "execution_count": 74,
   "id": "a3c99cf1-db95-45a4-9a3d-912ddf6aa03c",
   "metadata": {},
   "outputs": [],
   "source": [
    "# 7.Filter odd numbers from the given list.\n",
    "# [1,2,3,4,5,6,7,8,9,10] using filter function "
   ]
  },
  {
   "cell_type": "code",
   "execution_count": 75,
   "id": "08b4a80b-e4bf-4f2b-bada-22dbd2517469",
   "metadata": {},
   "outputs": [],
   "source": [
    "numbers = [1, 2, 3, 4, 5, 6, 7, 8, 9, 10]"
   ]
  },
  {
   "cell_type": "code",
   "execution_count": 76,
   "id": "72b8a872-3c48-4b51-be87-0c96121833bd",
   "metadata": {},
   "outputs": [],
   "source": [
    "filtered_numbers = list(filter(lambda x: x % 2 != 0, numbers))"
   ]
  },
  {
   "cell_type": "code",
   "execution_count": 77,
   "id": "31241424-afd8-482a-9185-7e67c9d5d2cb",
   "metadata": {},
   "outputs": [
    {
     "data": {
      "text/plain": [
       "[1, 3, 5, 7, 9]"
      ]
     },
     "execution_count": 77,
     "metadata": {},
     "output_type": "execute_result"
    }
   ],
   "source": [
    "filtered_numbers"
   ]
  },
  {
   "cell_type": "code",
   "execution_count": 78,
   "id": "d6a0c01e-47f0-4190-9c38-9b0b0e560c73",
   "metadata": {},
   "outputs": [],
   "source": [
    "# 8.Sort a list of integers into positive and negative integers lists.\n",
    "# [1,2,3,4,5,6,-1,-2,-3,-4,-5,0] using filter method "
   ]
  },
  {
   "cell_type": "code",
   "execution_count": 80,
   "id": "9d9e5f18-a9d4-48dc-a6fa-34e352da4870",
   "metadata": {},
   "outputs": [],
   "source": [
    "numbers = [1, 2, 3, 4, 5, 6, -1, -2, -3, -4, -5, 0]"
   ]
  },
  {
   "cell_type": "code",
   "execution_count": 81,
   "id": "f83beb64-8039-4ad5-a3e2-9ef3738db7e1",
   "metadata": {},
   "outputs": [
    {
     "name": "stdout",
     "output_type": "stream",
     "text": [
      "Positive numbers: [1, 2, 3, 4, 5, 6]\n",
      "Negative numbers: [-1, -2, -3, -4, -5]\n"
     ]
    }
   ],
   "source": [
    "positive_numbers = list(filter(lambda x: x > 0, numbers))\n",
    "negative_numbers = list(filter(lambda x: x < 0, numbers))\n",
    "\n",
    "print(\"Positive numbers:\", positive_numbers)\n",
    "print(\"Negative numbers:\", negative_numbers)"
   ]
  },
  {
   "cell_type": "code",
   "execution_count": null,
   "id": "15489235-87ee-4ae9-abdc-c7587e0dfc6d",
   "metadata": {},
   "outputs": [],
   "source": []
  }
 ],
 "metadata": {
  "kernelspec": {
   "display_name": "Python 3 (ipykernel)",
   "language": "python",
   "name": "python3"
  },
  "language_info": {
   "codemirror_mode": {
    "name": "ipython",
    "version": 3
   },
   "file_extension": ".py",
   "mimetype": "text/x-python",
   "name": "python",
   "nbconvert_exporter": "python",
   "pygments_lexer": "ipython3",
   "version": "3.10.8"
  }
 },
 "nbformat": 4,
 "nbformat_minor": 5
}
