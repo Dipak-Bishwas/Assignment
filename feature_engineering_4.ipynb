{
 "cells": [
  {
   "cell_type": "code",
   "execution_count": 1,
   "id": "1963f504-d7a9-4ca9-94db-8c62a20f7dac",
   "metadata": {},
   "outputs": [],
   "source": [
    "# Q1. What is data encoding? How is it useful in data science?"
   ]
  },
  {
   "cell_type": "code",
   "execution_count": 2,
   "id": "23acda62-9d9f-47cb-adbd-379bff90544b",
   "metadata": {},
   "outputs": [],
   "source": [
    "# Data Encoding is the process of converting categorical data into a numerical format that can be used by machine learning algorithms. It is essential because most algorithms require numerical input.\n",
    "\n",
    "# Types of Data Encoding:\n",
    "#     Label Encoding: Converts categories into unique integers.\n",
    "#     One-Hot Encoding: Creates binary columns for each category.\n",
    "#     Binary Encoding: Converts categories to binary code and creates columns for each bit.\n",
    "#     Frequency Encoding: Encodes categories based on their frequency in the dataset.\n",
    "    \n",
    "# Usefulness in Data Science:\n",
    "#     Algorithm Compatibility: Makes categorical data usable for algorithms that require numerical input.\n",
    "#     Model Performance: Improves model accuracy by avoiding incorrect assumptions about category relationships.\n",
    "#     Feature Engineering: Helps in creating features that capture relationships between categorical data and target variables.\n",
    "#     Data Integration: Ensures consistency when integrating datasets from different sources.\n",
    "#     Handling Non-Numeric Data: Transforms non-numeric data into a format suitable for analysis and predictions."
   ]
  },
  {
   "cell_type": "code",
   "execution_count": 3,
   "id": "d1784f66-5c54-487d-b8a6-b22502776728",
   "metadata": {},
   "outputs": [],
   "source": [
    "# Q2. What is nominal encoding? Provide an example of how you would use it in a real-world scenario."
   ]
  },
  {
   "cell_type": "code",
   "execution_count": 4,
   "id": "b6c0531b-8dc5-43b1-8a96-c7035f054a36",
   "metadata": {},
   "outputs": [],
   "source": [
    "# Nominal Encoding transforms categorical data into numerical format for use in machine learning models. Using scikit-learn,\n",
    "# you can apply one-hot encoding to convert categorical variables into a suitable format."
   ]
  },
  {
   "cell_type": "code",
   "execution_count": 10,
   "id": "ad93ee99-2ca3-4efd-9090-fd6c8b42571e",
   "metadata": {},
   "outputs": [],
   "source": [
    "from sklearn.datasets import load_iris\n",
    "import pandas as pd\n",
    "from sklearn.preprocessing import OneHotEncoder"
   ]
  },
  {
   "cell_type": "code",
   "execution_count": 11,
   "id": "e67a20f8-bacd-4b70-a141-3335f3d72817",
   "metadata": {},
   "outputs": [],
   "source": [
    "data = load_iris()\n",
    "df = pd.DataFrame(data.data, columns=data.feature_names)\n",
    "df['species'] = data.target "
   ]
  },
  {
   "cell_type": "code",
   "execution_count": 13,
   "id": "aa1b7d4d-5f0d-40f7-b457-bd5b928ff642",
   "metadata": {},
   "outputs": [],
   "source": [
    "df['species'] = df['species'].map({0: 'setosa', 1: 'versicolor', 2: 'virginica'})"
   ]
  },
  {
   "cell_type": "code",
   "execution_count": 14,
   "id": "61bc1625-e324-4b8a-ad7f-db1b1f23904b",
   "metadata": {},
   "outputs": [
    {
     "data": {
      "text/html": [
       "<div>\n",
       "<style scoped>\n",
       "    .dataframe tbody tr th:only-of-type {\n",
       "        vertical-align: middle;\n",
       "    }\n",
       "\n",
       "    .dataframe tbody tr th {\n",
       "        vertical-align: top;\n",
       "    }\n",
       "\n",
       "    .dataframe thead th {\n",
       "        text-align: right;\n",
       "    }\n",
       "</style>\n",
       "<table border=\"1\" class=\"dataframe\">\n",
       "  <thead>\n",
       "    <tr style=\"text-align: right;\">\n",
       "      <th></th>\n",
       "      <th>sepal length (cm)</th>\n",
       "      <th>sepal width (cm)</th>\n",
       "      <th>petal length (cm)</th>\n",
       "      <th>petal width (cm)</th>\n",
       "      <th>species</th>\n",
       "    </tr>\n",
       "  </thead>\n",
       "  <tbody>\n",
       "    <tr>\n",
       "      <th>0</th>\n",
       "      <td>5.1</td>\n",
       "      <td>3.5</td>\n",
       "      <td>1.4</td>\n",
       "      <td>0.2</td>\n",
       "      <td>setosa</td>\n",
       "    </tr>\n",
       "    <tr>\n",
       "      <th>1</th>\n",
       "      <td>4.9</td>\n",
       "      <td>3.0</td>\n",
       "      <td>1.4</td>\n",
       "      <td>0.2</td>\n",
       "      <td>setosa</td>\n",
       "    </tr>\n",
       "    <tr>\n",
       "      <th>2</th>\n",
       "      <td>4.7</td>\n",
       "      <td>3.2</td>\n",
       "      <td>1.3</td>\n",
       "      <td>0.2</td>\n",
       "      <td>setosa</td>\n",
       "    </tr>\n",
       "    <tr>\n",
       "      <th>3</th>\n",
       "      <td>4.6</td>\n",
       "      <td>3.1</td>\n",
       "      <td>1.5</td>\n",
       "      <td>0.2</td>\n",
       "      <td>setosa</td>\n",
       "    </tr>\n",
       "    <tr>\n",
       "      <th>4</th>\n",
       "      <td>5.0</td>\n",
       "      <td>3.6</td>\n",
       "      <td>1.4</td>\n",
       "      <td>0.2</td>\n",
       "      <td>setosa</td>\n",
       "    </tr>\n",
       "  </tbody>\n",
       "</table>\n",
       "</div>"
      ],
      "text/plain": [
       "   sepal length (cm)  sepal width (cm)  petal length (cm)  petal width (cm)  \\\n",
       "0                5.1               3.5                1.4               0.2   \n",
       "1                4.9               3.0                1.4               0.2   \n",
       "2                4.7               3.2                1.3               0.2   \n",
       "3                4.6               3.1                1.5               0.2   \n",
       "4                5.0               3.6                1.4               0.2   \n",
       "\n",
       "  species  \n",
       "0  setosa  \n",
       "1  setosa  \n",
       "2  setosa  \n",
       "3  setosa  \n",
       "4  setosa  "
      ]
     },
     "execution_count": 14,
     "metadata": {},
     "output_type": "execute_result"
    }
   ],
   "source": [
    "df.head()"
   ]
  },
  {
   "cell_type": "code",
   "execution_count": 17,
   "id": "351a286f-a791-4c6f-a6e7-33b934d9aeb8",
   "metadata": {},
   "outputs": [],
   "source": [
    "encoder = OneHotEncoder(sparse=False, drop='first')"
   ]
  },
  {
   "cell_type": "code",
   "execution_count": 18,
   "id": "366451ec-ee85-4d56-8ddf-16f64a7a2742",
   "metadata": {},
   "outputs": [
    {
     "name": "stderr",
     "output_type": "stream",
     "text": [
      "/opt/conda/lib/python3.10/site-packages/sklearn/preprocessing/_encoders.py:808: FutureWarning: `sparse` was renamed to `sparse_output` in version 1.2 and will be removed in 1.4. `sparse_output` is ignored unless you leave `sparse` to its default value.\n",
      "  warnings.warn(\n"
     ]
    }
   ],
   "source": [
    "encoded_species = encoder.fit_transform(df[['species']])"
   ]
  },
  {
   "cell_type": "code",
   "execution_count": 21,
   "id": "1843d775-ee91-4e07-adf1-798e834fa960",
   "metadata": {},
   "outputs": [],
   "source": [
    "encoded_df = pd.DataFrame(encoded_species, columns=encoder.get_feature_names_out(['species']))"
   ]
  },
  {
   "cell_type": "code",
   "execution_count": 22,
   "id": "a8437c24-f00a-48f3-9f3f-5179eaab54cc",
   "metadata": {},
   "outputs": [],
   "source": [
    "final_df = pd.concat([df.drop('species', axis=1), encoded_df], axis=1)"
   ]
  },
  {
   "cell_type": "code",
   "execution_count": 25,
   "id": "60451d49-d179-4fe0-8059-7eb55e5bb91a",
   "metadata": {},
   "outputs": [],
   "source": [
    "final_df = pd.concat([df.drop('species', axis=1), encoded_df], axis=1)"
   ]
  },
  {
   "cell_type": "code",
   "execution_count": 26,
   "id": "a2fffe45-720d-4a64-bed1-82042592b781",
   "metadata": {},
   "outputs": [
    {
     "data": {
      "text/html": [
       "<div>\n",
       "<style scoped>\n",
       "    .dataframe tbody tr th:only-of-type {\n",
       "        vertical-align: middle;\n",
       "    }\n",
       "\n",
       "    .dataframe tbody tr th {\n",
       "        vertical-align: top;\n",
       "    }\n",
       "\n",
       "    .dataframe thead th {\n",
       "        text-align: right;\n",
       "    }\n",
       "</style>\n",
       "<table border=\"1\" class=\"dataframe\">\n",
       "  <thead>\n",
       "    <tr style=\"text-align: right;\">\n",
       "      <th></th>\n",
       "      <th>sepal length (cm)</th>\n",
       "      <th>sepal width (cm)</th>\n",
       "      <th>petal length (cm)</th>\n",
       "      <th>petal width (cm)</th>\n",
       "      <th>species_versicolor</th>\n",
       "      <th>species_virginica</th>\n",
       "    </tr>\n",
       "  </thead>\n",
       "  <tbody>\n",
       "    <tr>\n",
       "      <th>0</th>\n",
       "      <td>5.1</td>\n",
       "      <td>3.5</td>\n",
       "      <td>1.4</td>\n",
       "      <td>0.2</td>\n",
       "      <td>0.0</td>\n",
       "      <td>0.0</td>\n",
       "    </tr>\n",
       "    <tr>\n",
       "      <th>1</th>\n",
       "      <td>4.9</td>\n",
       "      <td>3.0</td>\n",
       "      <td>1.4</td>\n",
       "      <td>0.2</td>\n",
       "      <td>0.0</td>\n",
       "      <td>0.0</td>\n",
       "    </tr>\n",
       "    <tr>\n",
       "      <th>2</th>\n",
       "      <td>4.7</td>\n",
       "      <td>3.2</td>\n",
       "      <td>1.3</td>\n",
       "      <td>0.2</td>\n",
       "      <td>0.0</td>\n",
       "      <td>0.0</td>\n",
       "    </tr>\n",
       "    <tr>\n",
       "      <th>3</th>\n",
       "      <td>4.6</td>\n",
       "      <td>3.1</td>\n",
       "      <td>1.5</td>\n",
       "      <td>0.2</td>\n",
       "      <td>0.0</td>\n",
       "      <td>0.0</td>\n",
       "    </tr>\n",
       "    <tr>\n",
       "      <th>4</th>\n",
       "      <td>5.0</td>\n",
       "      <td>3.6</td>\n",
       "      <td>1.4</td>\n",
       "      <td>0.2</td>\n",
       "      <td>0.0</td>\n",
       "      <td>0.0</td>\n",
       "    </tr>\n",
       "    <tr>\n",
       "      <th>...</th>\n",
       "      <td>...</td>\n",
       "      <td>...</td>\n",
       "      <td>...</td>\n",
       "      <td>...</td>\n",
       "      <td>...</td>\n",
       "      <td>...</td>\n",
       "    </tr>\n",
       "    <tr>\n",
       "      <th>145</th>\n",
       "      <td>6.7</td>\n",
       "      <td>3.0</td>\n",
       "      <td>5.2</td>\n",
       "      <td>2.3</td>\n",
       "      <td>0.0</td>\n",
       "      <td>1.0</td>\n",
       "    </tr>\n",
       "    <tr>\n",
       "      <th>146</th>\n",
       "      <td>6.3</td>\n",
       "      <td>2.5</td>\n",
       "      <td>5.0</td>\n",
       "      <td>1.9</td>\n",
       "      <td>0.0</td>\n",
       "      <td>1.0</td>\n",
       "    </tr>\n",
       "    <tr>\n",
       "      <th>147</th>\n",
       "      <td>6.5</td>\n",
       "      <td>3.0</td>\n",
       "      <td>5.2</td>\n",
       "      <td>2.0</td>\n",
       "      <td>0.0</td>\n",
       "      <td>1.0</td>\n",
       "    </tr>\n",
       "    <tr>\n",
       "      <th>148</th>\n",
       "      <td>6.2</td>\n",
       "      <td>3.4</td>\n",
       "      <td>5.4</td>\n",
       "      <td>2.3</td>\n",
       "      <td>0.0</td>\n",
       "      <td>1.0</td>\n",
       "    </tr>\n",
       "    <tr>\n",
       "      <th>149</th>\n",
       "      <td>5.9</td>\n",
       "      <td>3.0</td>\n",
       "      <td>5.1</td>\n",
       "      <td>1.8</td>\n",
       "      <td>0.0</td>\n",
       "      <td>1.0</td>\n",
       "    </tr>\n",
       "  </tbody>\n",
       "</table>\n",
       "<p>150 rows × 6 columns</p>\n",
       "</div>"
      ],
      "text/plain": [
       "     sepal length (cm)  sepal width (cm)  petal length (cm)  petal width (cm)  \\\n",
       "0                  5.1               3.5                1.4               0.2   \n",
       "1                  4.9               3.0                1.4               0.2   \n",
       "2                  4.7               3.2                1.3               0.2   \n",
       "3                  4.6               3.1                1.5               0.2   \n",
       "4                  5.0               3.6                1.4               0.2   \n",
       "..                 ...               ...                ...               ...   \n",
       "145                6.7               3.0                5.2               2.3   \n",
       "146                6.3               2.5                5.0               1.9   \n",
       "147                6.5               3.0                5.2               2.0   \n",
       "148                6.2               3.4                5.4               2.3   \n",
       "149                5.9               3.0                5.1               1.8   \n",
       "\n",
       "     species_versicolor  species_virginica  \n",
       "0                   0.0                0.0  \n",
       "1                   0.0                0.0  \n",
       "2                   0.0                0.0  \n",
       "3                   0.0                0.0  \n",
       "4                   0.0                0.0  \n",
       "..                  ...                ...  \n",
       "145                 0.0                1.0  \n",
       "146                 0.0                1.0  \n",
       "147                 0.0                1.0  \n",
       "148                 0.0                1.0  \n",
       "149                 0.0                1.0  \n",
       "\n",
       "[150 rows x 6 columns]"
      ]
     },
     "execution_count": 26,
     "metadata": {},
     "output_type": "execute_result"
    }
   ],
   "source": [
    "final_df"
   ]
  },
  {
   "cell_type": "code",
   "execution_count": 27,
   "id": "0db2ef9f-4ddd-4053-bddd-3b50c3f6cd41",
   "metadata": {},
   "outputs": [],
   "source": [
    "# Q3. In what situations is nominal encoding preferred over one-hot encoding? Provide a practical example."
   ]
  },
  {
   "cell_type": "code",
   "execution_count": 28,
   "id": "6057c6af-7965-46b0-936d-0616365b6ed3",
   "metadata": {},
   "outputs": [],
   "source": [
    "from sklearn.preprocessing import LabelEncoder\n",
    "import pandas as pd"
   ]
  },
  {
   "cell_type": "code",
   "execution_count": 29,
   "id": "1eca8446-98db-4802-b828-33b8a51457ba",
   "metadata": {},
   "outputs": [],
   "source": [
    "data = {\n",
    "    'user_id': ['user1', 'user2', 'user3', 'user4', 'user5'],\n",
    "    'churn': [0, 1, 0, 1, 0] \n",
    "}"
   ]
  },
  {
   "cell_type": "code",
   "execution_count": 30,
   "id": "8a116309-03ba-4ca0-8521-3e14d1c2f4c8",
   "metadata": {},
   "outputs": [],
   "source": [
    "df = pd.DataFrame(data)"
   ]
  },
  {
   "cell_type": "code",
   "execution_count": 32,
   "id": "f78d7e50-702f-4217-8ea7-dc3948075a23",
   "metadata": {},
   "outputs": [],
   "source": [
    "label_encoder = LabelEncoder()"
   ]
  },
  {
   "cell_type": "code",
   "execution_count": 33,
   "id": "7813d9f3-c39f-497d-aa97-2011b5367b5d",
   "metadata": {},
   "outputs": [],
   "source": [
    "df['user_id_encoded'] = label_encoder.fit_transform(df['user_id'])"
   ]
  },
  {
   "cell_type": "code",
   "execution_count": 34,
   "id": "f3e848ff-10ad-4d83-bf36-4d075bd53d1e",
   "metadata": {},
   "outputs": [
    {
     "data": {
      "text/html": [
       "<div>\n",
       "<style scoped>\n",
       "    .dataframe tbody tr th:only-of-type {\n",
       "        vertical-align: middle;\n",
       "    }\n",
       "\n",
       "    .dataframe tbody tr th {\n",
       "        vertical-align: top;\n",
       "    }\n",
       "\n",
       "    .dataframe thead th {\n",
       "        text-align: right;\n",
       "    }\n",
       "</style>\n",
       "<table border=\"1\" class=\"dataframe\">\n",
       "  <thead>\n",
       "    <tr style=\"text-align: right;\">\n",
       "      <th></th>\n",
       "      <th>user_id</th>\n",
       "      <th>churn</th>\n",
       "      <th>user_id_encoded</th>\n",
       "    </tr>\n",
       "  </thead>\n",
       "  <tbody>\n",
       "    <tr>\n",
       "      <th>0</th>\n",
       "      <td>user1</td>\n",
       "      <td>0</td>\n",
       "      <td>0</td>\n",
       "    </tr>\n",
       "    <tr>\n",
       "      <th>1</th>\n",
       "      <td>user2</td>\n",
       "      <td>1</td>\n",
       "      <td>1</td>\n",
       "    </tr>\n",
       "    <tr>\n",
       "      <th>2</th>\n",
       "      <td>user3</td>\n",
       "      <td>0</td>\n",
       "      <td>2</td>\n",
       "    </tr>\n",
       "    <tr>\n",
       "      <th>3</th>\n",
       "      <td>user4</td>\n",
       "      <td>1</td>\n",
       "      <td>3</td>\n",
       "    </tr>\n",
       "    <tr>\n",
       "      <th>4</th>\n",
       "      <td>user5</td>\n",
       "      <td>0</td>\n",
       "      <td>4</td>\n",
       "    </tr>\n",
       "  </tbody>\n",
       "</table>\n",
       "</div>"
      ],
      "text/plain": [
       "  user_id  churn  user_id_encoded\n",
       "0   user1      0                0\n",
       "1   user2      1                1\n",
       "2   user3      0                2\n",
       "3   user4      1                3\n",
       "4   user5      0                4"
      ]
     },
     "execution_count": 34,
     "metadata": {},
     "output_type": "execute_result"
    }
   ],
   "source": [
    "df"
   ]
  },
  {
   "cell_type": "code",
   "execution_count": 35,
   "id": "9c233a4b-04bc-4110-a449-f4a6cd537a5c",
   "metadata": {},
   "outputs": [],
   "source": [
    "# Q4. Suppose you have a dataset containing categorical data with 5 unique values. Which encoding\n",
    "# technique would you use to transform this data into a format suitable for machine learning algorithms?\n",
    "# Explain why you made this choice."
   ]
  },
  {
   "cell_type": "code",
   "execution_count": 44,
   "id": "9b413b0f-2a9a-426f-b39f-c3a346c18038",
   "metadata": {},
   "outputs": [],
   "source": [
    "import pandas as pd\n",
    "from sklearn.preprocessing import OneHotEncoder"
   ]
  },
  {
   "cell_type": "code",
   "execution_count": 45,
   "id": "45de6f4b-ecd3-46d6-af95-31cc2129bfb8",
   "metadata": {},
   "outputs": [],
   "source": [
    "data = {'category': ['A', 'B', 'C', 'D', 'E']}\n",
    "df = pd.DataFrame(data)"
   ]
  },
  {
   "cell_type": "code",
   "execution_count": 48,
   "id": "b0fcdcf6-b854-420b-929a-be10a4b9bf5f",
   "metadata": {},
   "outputs": [
    {
     "name": "stderr",
     "output_type": "stream",
     "text": [
      "/opt/conda/lib/python3.10/site-packages/sklearn/preprocessing/_encoders.py:808: FutureWarning: `sparse` was renamed to `sparse_output` in version 1.2 and will be removed in 1.4. `sparse_output` is ignored unless you leave `sparse` to its default value.\n",
      "  warnings.warn(\n"
     ]
    }
   ],
   "source": [
    "encoded_data = encoder.fit_transform(df[['category']])"
   ]
  },
  {
   "cell_type": "code",
   "execution_count": 49,
   "id": "9f4c2afe-a75d-4e04-ae92-290813b079a9",
   "metadata": {},
   "outputs": [],
   "source": [
    "ncoded_df = pd.DataFrame(encoded_data, columns=encoder.get_feature_names_out(['category']))"
   ]
  },
  {
   "cell_type": "code",
   "execution_count": 51,
   "id": "6badd2c2-11fb-4af3-8c81-c760b3d25131",
   "metadata": {},
   "outputs": [
    {
     "data": {
      "text/html": [
       "<div>\n",
       "<style scoped>\n",
       "    .dataframe tbody tr th:only-of-type {\n",
       "        vertical-align: middle;\n",
       "    }\n",
       "\n",
       "    .dataframe tbody tr th {\n",
       "        vertical-align: top;\n",
       "    }\n",
       "\n",
       "    .dataframe thead th {\n",
       "        text-align: right;\n",
       "    }\n",
       "</style>\n",
       "<table border=\"1\" class=\"dataframe\">\n",
       "  <thead>\n",
       "    <tr style=\"text-align: right;\">\n",
       "      <th></th>\n",
       "      <th>species_versicolor</th>\n",
       "      <th>species_virginica</th>\n",
       "    </tr>\n",
       "  </thead>\n",
       "  <tbody>\n",
       "    <tr>\n",
       "      <th>0</th>\n",
       "      <td>0.0</td>\n",
       "      <td>0.0</td>\n",
       "    </tr>\n",
       "    <tr>\n",
       "      <th>1</th>\n",
       "      <td>0.0</td>\n",
       "      <td>0.0</td>\n",
       "    </tr>\n",
       "    <tr>\n",
       "      <th>2</th>\n",
       "      <td>0.0</td>\n",
       "      <td>0.0</td>\n",
       "    </tr>\n",
       "    <tr>\n",
       "      <th>3</th>\n",
       "      <td>0.0</td>\n",
       "      <td>0.0</td>\n",
       "    </tr>\n",
       "    <tr>\n",
       "      <th>4</th>\n",
       "      <td>0.0</td>\n",
       "      <td>0.0</td>\n",
       "    </tr>\n",
       "    <tr>\n",
       "      <th>...</th>\n",
       "      <td>...</td>\n",
       "      <td>...</td>\n",
       "    </tr>\n",
       "    <tr>\n",
       "      <th>145</th>\n",
       "      <td>0.0</td>\n",
       "      <td>1.0</td>\n",
       "    </tr>\n",
       "    <tr>\n",
       "      <th>146</th>\n",
       "      <td>0.0</td>\n",
       "      <td>1.0</td>\n",
       "    </tr>\n",
       "    <tr>\n",
       "      <th>147</th>\n",
       "      <td>0.0</td>\n",
       "      <td>1.0</td>\n",
       "    </tr>\n",
       "    <tr>\n",
       "      <th>148</th>\n",
       "      <td>0.0</td>\n",
       "      <td>1.0</td>\n",
       "    </tr>\n",
       "    <tr>\n",
       "      <th>149</th>\n",
       "      <td>0.0</td>\n",
       "      <td>1.0</td>\n",
       "    </tr>\n",
       "  </tbody>\n",
       "</table>\n",
       "<p>150 rows × 2 columns</p>\n",
       "</div>"
      ],
      "text/plain": [
       "     species_versicolor  species_virginica\n",
       "0                   0.0                0.0\n",
       "1                   0.0                0.0\n",
       "2                   0.0                0.0\n",
       "3                   0.0                0.0\n",
       "4                   0.0                0.0\n",
       "..                  ...                ...\n",
       "145                 0.0                1.0\n",
       "146                 0.0                1.0\n",
       "147                 0.0                1.0\n",
       "148                 0.0                1.0\n",
       "149                 0.0                1.0\n",
       "\n",
       "[150 rows x 2 columns]"
      ]
     },
     "execution_count": 51,
     "metadata": {},
     "output_type": "execute_result"
    }
   ],
   "source": [
    "encoded_df"
   ]
  },
  {
   "cell_type": "code",
   "execution_count": 52,
   "id": "d0674430-f444-49d3-b5c2-4f5bf4c5780e",
   "metadata": {},
   "outputs": [],
   "source": [
    "from sklearn.preprocessing import LabelEncoder"
   ]
  },
  {
   "cell_type": "code",
   "execution_count": 54,
   "id": "eba00bcc-7f57-485c-a0b4-6683b434145e",
   "metadata": {},
   "outputs": [],
   "source": [
    "label_encoder = LabelEncoder()\n",
    "df['category_encoded'] = label_encoder.fit_transform(df['category'])"
   ]
  },
  {
   "cell_type": "code",
   "execution_count": 55,
   "id": "c5cc8575-57ab-4a6e-ac28-053b997fe893",
   "metadata": {},
   "outputs": [
    {
     "data": {
      "text/html": [
       "<div>\n",
       "<style scoped>\n",
       "    .dataframe tbody tr th:only-of-type {\n",
       "        vertical-align: middle;\n",
       "    }\n",
       "\n",
       "    .dataframe tbody tr th {\n",
       "        vertical-align: top;\n",
       "    }\n",
       "\n",
       "    .dataframe thead th {\n",
       "        text-align: right;\n",
       "    }\n",
       "</style>\n",
       "<table border=\"1\" class=\"dataframe\">\n",
       "  <thead>\n",
       "    <tr style=\"text-align: right;\">\n",
       "      <th></th>\n",
       "      <th>category</th>\n",
       "      <th>category_encoded</th>\n",
       "    </tr>\n",
       "  </thead>\n",
       "  <tbody>\n",
       "    <tr>\n",
       "      <th>0</th>\n",
       "      <td>A</td>\n",
       "      <td>0</td>\n",
       "    </tr>\n",
       "    <tr>\n",
       "      <th>1</th>\n",
       "      <td>B</td>\n",
       "      <td>1</td>\n",
       "    </tr>\n",
       "    <tr>\n",
       "      <th>2</th>\n",
       "      <td>C</td>\n",
       "      <td>2</td>\n",
       "    </tr>\n",
       "    <tr>\n",
       "      <th>3</th>\n",
       "      <td>D</td>\n",
       "      <td>3</td>\n",
       "    </tr>\n",
       "    <tr>\n",
       "      <th>4</th>\n",
       "      <td>E</td>\n",
       "      <td>4</td>\n",
       "    </tr>\n",
       "  </tbody>\n",
       "</table>\n",
       "</div>"
      ],
      "text/plain": [
       "  category  category_encoded\n",
       "0        A                 0\n",
       "1        B                 1\n",
       "2        C                 2\n",
       "3        D                 3\n",
       "4        E                 4"
      ]
     },
     "execution_count": 55,
     "metadata": {},
     "output_type": "execute_result"
    }
   ],
   "source": [
    "df"
   ]
  },
  {
   "cell_type": "code",
   "execution_count": 56,
   "id": "c80ba2b5-e341-4501-8772-8ba08e6864cb",
   "metadata": {},
   "outputs": [],
   "source": [
    "# Use One-Hot Encoding when categories do not have an inherent order and you are working with algorithms that require \n",
    "# numerical inputs without assuming an ordinal relationship.\n",
    "\n",
    "# Use Label Encoding when dealing with tree-based models or when there is an ordinal relationship among categories."
   ]
  },
  {
   "cell_type": "code",
   "execution_count": 57,
   "id": "906cc0b1-d090-4b27-8f43-f1539de648aa",
   "metadata": {},
   "outputs": [],
   "source": [
    "# Q5. In a machine learning project, you have a dataset with 1000 rows and 5 columns. Two of the columns\n",
    "# are categorical, and the remaining three columns are numerical. If you were to use nominal encoding to\n",
    "# transform the categorical data, how many new columns would be created? Show your calculations."
   ]
  },
  {
   "cell_type": "code",
   "execution_count": 58,
   "id": "5041f303-d8d0-48f5-8a08-1cf4ec0ff464",
   "metadata": {},
   "outputs": [],
   "source": [
    "# Dataset Details: 1000 rows and 5 columns (2 categorical, 3 numerical).\n",
    "\n",
    "# Nominal Encoding (Label Encoding): Converts each categorical value into a unique integer but does not create additional \n",
    "# columns.\n",
    "\n",
    "# New Columns Created: 0 (The number of columns remains unchanged).\n",
    "\n",
    "# Label encoding replaces each categorical column with a single numerical column, preserving the original number of columns \n",
    "# in the dataset."
   ]
  },
  {
   "cell_type": "code",
   "execution_count": 59,
   "id": "55cf8017-c9f6-4a98-9f7b-cc8fbed1b8b8",
   "metadata": {},
   "outputs": [],
   "source": [
    "# Q6. You are working with a dataset containing information about different types of animals, including their\n",
    "# species, habitat, and diet. Which encoding technique would you use to transform the categorical data into\n",
    "# a format suitable for machine learning algorithms? Justify your answer."
   ]
  },
  {
   "cell_type": "code",
   "execution_count": 60,
   "id": "2e781969-b925-4a20-95cf-069b797ccff0",
   "metadata": {},
   "outputs": [],
   "source": [
    "# For transforming categorical data in a dataset about animals (including features like species, habitat, and diet), \n",
    "# one-hot encoding is generally the preferred technique. This method converts each category into a new binary column,\n",
    "# avoiding any assumptions about the order of categorie"
   ]
  },
  {
   "cell_type": "code",
   "execution_count": 61,
   "id": "5765ae75-7d85-47b6-b06c-3eb9527d4a3a",
   "metadata": {},
   "outputs": [],
   "source": [
    "import pandas as pd\n",
    "from sklearn.preprocessing import OneHotEncoder"
   ]
  },
  {
   "cell_type": "code",
   "execution_count": 62,
   "id": "1f745288-4796-4312-8557-a1a194716439",
   "metadata": {},
   "outputs": [],
   "source": [
    "data = {'species': ['lion', 'tiger', 'bear'],\n",
    "        'habitat': ['savanna', 'forest', 'forest'],\n",
    "        'diet': ['carnivore', 'carnivore', 'omnivore']}\n",
    "df = pd.DataFrame(data)"
   ]
  },
  {
   "cell_type": "code",
   "execution_count": 63,
   "id": "78369651-f2a6-414a-a57d-f954b8d57f4f",
   "metadata": {},
   "outputs": [],
   "source": [
    "encoder = OneHotEncoder(sparse=False, drop='first')"
   ]
  },
  {
   "cell_type": "code",
   "execution_count": 64,
   "id": "b02d729b-cc40-444c-9963-495689485f78",
   "metadata": {},
   "outputs": [
    {
     "name": "stderr",
     "output_type": "stream",
     "text": [
      "/opt/conda/lib/python3.10/site-packages/sklearn/preprocessing/_encoders.py:808: FutureWarning: `sparse` was renamed to `sparse_output` in version 1.2 and will be removed in 1.4. `sparse_output` is ignored unless you leave `sparse` to its default value.\n",
      "  warnings.warn(\n"
     ]
    }
   ],
   "source": [
    "encoded_data = encoder.fit_transform(df[['species', 'habitat', 'diet']])"
   ]
  },
  {
   "cell_type": "code",
   "execution_count": 65,
   "id": "5e64e34d-268d-4de9-a3ad-1e8743ae4315",
   "metadata": {},
   "outputs": [],
   "source": [
    "encoded_df = pd.DataFrame(encoded_data, columns=encoder.get_feature_names_out(['species', 'habitat', 'diet']))"
   ]
  },
  {
   "cell_type": "code",
   "execution_count": 66,
   "id": "f4cfa50c-6b22-43ca-89e1-199aedaa1a84",
   "metadata": {},
   "outputs": [
    {
     "data": {
      "text/html": [
       "<div>\n",
       "<style scoped>\n",
       "    .dataframe tbody tr th:only-of-type {\n",
       "        vertical-align: middle;\n",
       "    }\n",
       "\n",
       "    .dataframe tbody tr th {\n",
       "        vertical-align: top;\n",
       "    }\n",
       "\n",
       "    .dataframe thead th {\n",
       "        text-align: right;\n",
       "    }\n",
       "</style>\n",
       "<table border=\"1\" class=\"dataframe\">\n",
       "  <thead>\n",
       "    <tr style=\"text-align: right;\">\n",
       "      <th></th>\n",
       "      <th>species_lion</th>\n",
       "      <th>species_tiger</th>\n",
       "      <th>habitat_savanna</th>\n",
       "      <th>diet_omnivore</th>\n",
       "    </tr>\n",
       "  </thead>\n",
       "  <tbody>\n",
       "    <tr>\n",
       "      <th>0</th>\n",
       "      <td>1.0</td>\n",
       "      <td>0.0</td>\n",
       "      <td>1.0</td>\n",
       "      <td>0.0</td>\n",
       "    </tr>\n",
       "    <tr>\n",
       "      <th>1</th>\n",
       "      <td>0.0</td>\n",
       "      <td>1.0</td>\n",
       "      <td>0.0</td>\n",
       "      <td>0.0</td>\n",
       "    </tr>\n",
       "    <tr>\n",
       "      <th>2</th>\n",
       "      <td>0.0</td>\n",
       "      <td>0.0</td>\n",
       "      <td>0.0</td>\n",
       "      <td>1.0</td>\n",
       "    </tr>\n",
       "  </tbody>\n",
       "</table>\n",
       "</div>"
      ],
      "text/plain": [
       "   species_lion  species_tiger  habitat_savanna  diet_omnivore\n",
       "0           1.0            0.0              1.0            0.0\n",
       "1           0.0            1.0              0.0            0.0\n",
       "2           0.0            0.0              0.0            1.0"
      ]
     },
     "execution_count": 66,
     "metadata": {},
     "output_type": "execute_result"
    }
   ],
   "source": [
    "encoded_df"
   ]
  },
  {
   "cell_type": "code",
   "execution_count": 67,
   "id": "5be791f9-ced7-47b5-aa92-330a8e771a64",
   "metadata": {},
   "outputs": [],
   "source": [
    "# Q7.You are working on a project that involves predicting customer churn for a telecommunications\n",
    "# company. You have a dataset with 5 features, including the customer's gender, age, contract type,\n",
    "# monthly charges, and tenure. Which encoding technique(s) would you use to transform the categorical\n",
    "# data into numerical data? Provide a step-by-step explanation of how you would implement the encoding."
   ]
  },
  {
   "cell_type": "code",
   "execution_count": 68,
   "id": "d2545e63-ca36-4399-9e41-e3f905802429",
   "metadata": {},
   "outputs": [],
   "source": [
    "from sklearn.preprocessing import OneHotEncoder"
   ]
  },
  {
   "cell_type": "code",
   "execution_count": null,
   "id": "7bc7e234-d0f5-44c8-a74d-f7b11cf44ef1",
   "metadata": {},
   "outputs": [],
   "source": []
  }
 ],
 "metadata": {
  "kernelspec": {
   "display_name": "Python 3 (ipykernel)",
   "language": "python",
   "name": "python3"
  },
  "language_info": {
   "codemirror_mode": {
    "name": "ipython",
    "version": 3
   },
   "file_extension": ".py",
   "mimetype": "text/x-python",
   "name": "python",
   "nbconvert_exporter": "python",
   "pygments_lexer": "ipython3",
   "version": "3.10.8"
  }
 },
 "nbformat": 4,
 "nbformat_minor": 5
}
