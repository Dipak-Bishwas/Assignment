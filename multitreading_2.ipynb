{
 "cells": [
  {
   "cell_type": "code",
   "execution_count": 1,
   "id": "13466b52-6ad4-4a70-a746-2866b9cbc172",
   "metadata": {},
   "outputs": [],
   "source": [
    "# Q1. What is multithreading in python? Why is it used? Name the moudle used to handle threads in python,\n",
    "\n",
    "# Ans: Multithreading is a technique in Python that allows multiple threads (smaller units of a process) to run concurrently within a single process. This means that multiple operations can be performed at the same time, potentially improving the efficiency and performance of programs, especially when dealing with I/O-bound task\n",
    "\n",
    "# Improve Performance: Enables simultaneous task execution, ideal for I/O-bound operations like file handling and network communication.\n",
    "# Efficient Resource Utilization: Enhances system resource usage by overlapping I/O and computation.\n",
    "# Responsive Programs: Maintains application responsiveness by handling background operations, keeping the main (UI) thread active."
   ]
  },
  {
   "cell_type": "code",
   "execution_count": 2,
   "id": "f4a2b681-8e8f-4eeb-9dbf-50b7867a24bd",
   "metadata": {},
   "outputs": [],
   "source": [
    "# Q. why threading module used? Write the use fo following function:\n",
    "#     1. activeCount()\n",
    "#     2.currentThread()\n",
    "#     3. enumerate()\n",
    "    \n",
    "#  Ans: The threading module is used to create, control, and manage threads, allowing concurrent execution of code, which can improve performance and responsiveness, especially in I/O-bound and high-latency operations.\n",
    " \n",
    "#     1. activeCount()\n",
    "#      -> Use: Returns the number of Thread objects currently alive. This function is useful for monitoring the number of active threads in a program.\n",
    "        \n",
    "#     2.currentThread()\n",
    "#     -> Use: Returns the current Thread object corresponding to the caller's thread of control. This can be used to get details about the thread currently executing the code\n",
    "    \n",
    "#     3. enumerate()\n",
    "#     -> Use: Returns a list of all Thread objects currently alive. This can be used to inspect all active threads and gather information about them."
   ]
  },
  {
   "cell_type": "code",
   "execution_count": 3,
   "id": "b27028e9-dae6-426b-9c75-d6f45e5ab785",
   "metadata": {},
   "outputs": [],
   "source": [
    "# Q3. Explaing the following function\n",
    "\n",
    "# 1. run()\n",
    "# 2. start()\n",
    "# 3. join()\n",
    "# 4. inAlive()\n",
    "\n",
    "# Ans: 1. run()\n",
    "#     -> Use: The run() method defines the entry point for a thread's activity. When you create a subclass of Thread, you override this method to define the thread's behavior. However, you should not call run() directly; instead, call start() to properly start the thread.\n",
    "     \n",
    "#       2. start()\n",
    "#      -> Use: The start() method begins a thread's activity by invoking the run() method in a separate thread of control. This method must be called once per thread object to start the thread.\n",
    "        \n",
    "#      3. join()\n",
    "#     -> Use: The join() method waits for the thread to terminate. This blocks the calling thread until the thread whose join() method is called is terminated.\n",
    "    \n",
    "#     4. inAlive()\n",
    "#     -> Use: The isAlive() method checks whether the thread is still executing. It returns True if the thread is alive, otherwise False."
   ]
  },
  {
   "cell_type": "code",
   "execution_count": 4,
   "id": "e09b705f-84af-45ab-b1b3-2ac4b21b0724",
   "metadata": {},
   "outputs": [],
   "source": [
    "# Q4. Write a python program to create two threads. Thread one must print the list of squares and thread\n",
    "# two must print the list of cubes."
   ]
  },
  {
   "cell_type": "code",
   "execution_count": 5,
   "id": "1b4380e0-7d05-46a0-993d-990fae9ee841",
   "metadata": {},
   "outputs": [],
   "source": [
    "import threading\n",
    "import logging"
   ]
  },
  {
   "cell_type": "code",
   "execution_count": 6,
   "id": "669ca46e-8cd6-467a-91ca-c527e9b4a961",
   "metadata": {},
   "outputs": [],
   "source": [
    "logging.basicConfig(filename='thread_output.log', level=logging.INFO, format='%(asctime)s - %(message)s')"
   ]
  },
  {
   "cell_type": "code",
   "execution_count": 7,
   "id": "9cf67976-2fbc-4597-9e70-e2e7be3540c6",
   "metadata": {},
   "outputs": [],
   "source": [
    "def print_squares(numbers):\n",
    "    squares = [num ** 2 for num in numbers]\n",
    "    logging.info(f\"Squares: {squares}\")"
   ]
  },
  {
   "cell_type": "code",
   "execution_count": 8,
   "id": "70dfeb4c-dce0-4477-9e95-a6352cabe49f",
   "metadata": {},
   "outputs": [],
   "source": [
    "def print_cubes(numbers):\n",
    "    cubes = [num ** 3 for num in numbers]\n",
    "    logging.info(f\"Cubes: {cubes}\")"
   ]
  },
  {
   "cell_type": "code",
   "execution_count": 9,
   "id": "cbc1d5ff-bd7f-4768-b308-b6878ff44fd7",
   "metadata": {},
   "outputs": [],
   "source": [
    "if __name__ == \"__main__\":\n",
    "    numbers = range(1, 6)"
   ]
  },
  {
   "cell_type": "code",
   "execution_count": 11,
   "id": "4cd08cfe-54e3-4e63-afdd-02a3e5d672f3",
   "metadata": {},
   "outputs": [],
   "source": [
    "thread1 = threading.Thread(target=print_squares, args=(numbers,))\n",
    "thread2 = threading.Thread(target=print_cubes, args=(numbers,))"
   ]
  },
  {
   "cell_type": "code",
   "execution_count": 12,
   "id": "87d2102d-51b0-488c-b005-4a9a6471fb55",
   "metadata": {},
   "outputs": [],
   "source": [
    "thread1.start()\n",
    "thread2.start()"
   ]
  },
  {
   "cell_type": "code",
   "execution_count": 13,
   "id": "9708add0-9415-4cb4-8b91-860d5139e8c3",
   "metadata": {},
   "outputs": [],
   "source": [
    "thread1.join()\n",
    "thread2.join()"
   ]
  },
  {
   "cell_type": "code",
   "execution_count": 14,
   "id": "50fa5369-2f23-44c2-bcd5-6e45f7094f67",
   "metadata": {},
   "outputs": [],
   "source": [
    "logging.info(\"Both threads have finished execution.\")"
   ]
  },
  {
   "cell_type": "code",
   "execution_count": 15,
   "id": "544ec506-553e-4a02-815d-22e12511f7e6",
   "metadata": {},
   "outputs": [],
   "source": [
    "# Q5. State advantages and disadvantages of multithreading\n",
    "\n",
    "# Ams: Advantage\n",
    "#     -> Multithreading improves performance and responsiveness by allowing concurrent execution and efficient resource utilization, while also simplifying program structure and enabling background processing without interrupting the main thread.\n",
    "    \n",
    "#     Disadvantage \n",
    "#     -> \n",
    "# Multithreading can complicate debugging and increase the risk of concurrency issues like race conditions and deadlocks, and it may lead to higher memory usage due to multiple threads sharing resources.\n",
    "\n"
   ]
  },
  {
   "cell_type": "code",
   "execution_count": 17,
   "id": "43c87ee1-1075-459e-a1e3-d2b898b4d09d",
   "metadata": {},
   "outputs": [],
   "source": [
    "# Q6. Explain deadlocks and race conditions.\n",
    "\n",
    "# Ans: -> A deadlock occurs when two or more threads are blocked forever, each waiting for the other to release resources. This happens when threads hold resources that others need, leading to a cycle of dependencies with no resolution.\n",
    "\n",
    "#     -> A race condition happens when multiple threads access shared resources simultaneously and their outcomes depend on the sequence of their execution. This can lead to unpredictable and incorrect results if threads interfere with each other.\n"
   ]
  },
  {
   "cell_type": "code",
   "execution_count": null,
   "id": "d6f86491-db62-4371-9a2d-9d145c9baae4",
   "metadata": {},
   "outputs": [],
   "source": []
  },
  {
   "cell_type": "code",
   "execution_count": null,
   "id": "3f4ec3c7-915d-49ee-81df-fc8e6e321056",
   "metadata": {},
   "outputs": [],
   "source": []
  }
 ],
 "metadata": {
  "kernelspec": {
   "display_name": "Python 3 (ipykernel)",
   "language": "python",
   "name": "python3"
  },
  "language_info": {
   "codemirror_mode": {
    "name": "ipython",
    "version": 3
   },
   "file_extension": ".py",
   "mimetype": "text/x-python",
   "name": "python",
   "nbconvert_exporter": "python",
   "pygments_lexer": "ipython3",
   "version": "3.10.8"
  }
 },
 "nbformat": 4,
 "nbformat_minor": 5
}
