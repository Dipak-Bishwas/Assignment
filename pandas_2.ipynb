{
 "cells": [
  {
   "cell_type": "code",
   "execution_count": 1,
   "id": "9129ba66-477d-4d97-943e-fcc56e841b00",
   "metadata": {},
   "outputs": [],
   "source": [
    "# Q1. List any five functions of the pandas library with execution.\n",
    "# Ans:\n",
    "#     1. head()\n",
    "#     2. describe()\n",
    "#     3. dtypes\n",
    "#     4.iloc\n",
    "#     5.loc"
   ]
  },
  {
   "cell_type": "code",
   "execution_count": 2,
   "id": "a453ea2c-350a-4d8b-b9ff-8ffc2245a793",
   "metadata": {},
   "outputs": [],
   "source": [
    "# Q2. Given a Pandas DataFrame df with columns 'A', 'B', and 'C', write a Python function to re-index the\n",
    "# DataFrame with a new index that starts from 1 and increments by 2 for each row."
   ]
  },
  {
   "cell_type": "code",
   "execution_count": 3,
   "id": "d2c298c0-dd6e-4302-b097-161885d787e8",
   "metadata": {},
   "outputs": [],
   "source": [
    "import pandas as pd"
   ]
  },
  {
   "cell_type": "code",
   "execution_count": 4,
   "id": "14bc1fe2-e817-42b3-abb0-7c9d1996e9f2",
   "metadata": {},
   "outputs": [],
   "source": [
    "def reindex_dataframe(df):\n",
    "    new_index = list(range(1,2*len(df)+1,2))\n",
    "    df.index = new_index\n",
    "    return df"
   ]
  },
  {
   "cell_type": "code",
   "execution_count": 5,
   "id": "01809f86-7215-4787-b126-80192638e2b3",
   "metadata": {},
   "outputs": [],
   "source": [
    "data = {\n",
    "    'A': [1, 2, 3],\n",
    "    'B': [4, 5, 6],\n",
    "    'C': [7, 8, 9]\n",
    "}"
   ]
  },
  {
   "cell_type": "code",
   "execution_count": 8,
   "id": "79afd385-4a36-42f5-b442-e14b79ffc703",
   "metadata": {},
   "outputs": [],
   "source": [
    "df = pd.DataFrame(data)"
   ]
  },
  {
   "cell_type": "code",
   "execution_count": 9,
   "id": "29154b68-57be-4cd9-aa3f-bafb7bdd2ce5",
   "metadata": {},
   "outputs": [],
   "source": [
    "df_reindexed = reindex_dataframe(df)"
   ]
  },
  {
   "cell_type": "code",
   "execution_count": 10,
   "id": "31baa77e-44b4-48ed-ad1f-4a7a9e5910d3",
   "metadata": {},
   "outputs": [
    {
     "data": {
      "text/html": [
       "<div>\n",
       "<style scoped>\n",
       "    .dataframe tbody tr th:only-of-type {\n",
       "        vertical-align: middle;\n",
       "    }\n",
       "\n",
       "    .dataframe tbody tr th {\n",
       "        vertical-align: top;\n",
       "    }\n",
       "\n",
       "    .dataframe thead th {\n",
       "        text-align: right;\n",
       "    }\n",
       "</style>\n",
       "<table border=\"1\" class=\"dataframe\">\n",
       "  <thead>\n",
       "    <tr style=\"text-align: right;\">\n",
       "      <th></th>\n",
       "      <th>A</th>\n",
       "      <th>B</th>\n",
       "      <th>C</th>\n",
       "    </tr>\n",
       "  </thead>\n",
       "  <tbody>\n",
       "    <tr>\n",
       "      <th>1</th>\n",
       "      <td>1</td>\n",
       "      <td>4</td>\n",
       "      <td>7</td>\n",
       "    </tr>\n",
       "    <tr>\n",
       "      <th>3</th>\n",
       "      <td>2</td>\n",
       "      <td>5</td>\n",
       "      <td>8</td>\n",
       "    </tr>\n",
       "    <tr>\n",
       "      <th>5</th>\n",
       "      <td>3</td>\n",
       "      <td>6</td>\n",
       "      <td>9</td>\n",
       "    </tr>\n",
       "  </tbody>\n",
       "</table>\n",
       "</div>"
      ],
      "text/plain": [
       "   A  B  C\n",
       "1  1  4  7\n",
       "3  2  5  8\n",
       "5  3  6  9"
      ]
     },
     "execution_count": 10,
     "metadata": {},
     "output_type": "execute_result"
    }
   ],
   "source": [
    "df_reindexed"
   ]
  },
  {
   "cell_type": "code",
   "execution_count": 11,
   "id": "173982af-9c42-4398-a9a3-e312d193cac3",
   "metadata": {},
   "outputs": [],
   "source": [
    "# Q3. You have a Pandas DataFrame df with a column named 'Values'. Write a Python function that\n",
    "# iterates over the DataFrame and calculates the sum of the first three values in the 'Values' column. The\n",
    "# function should print the sum to the console.\n",
    "# For example, if the 'Values' column of df contains the values [10, 20, 30, 40, 50], your function should\n",
    "# calculate and print the sum of the first three values, which is 60."
   ]
  },
  {
   "cell_type": "code",
   "execution_count": 35,
   "id": "a704facc-260e-4882-86a9-74cd8d39e40a",
   "metadata": {},
   "outputs": [],
   "source": [
    "import logging\n",
    "logging.basicConfig(filename='result.log', level=logging.INFO, format='%(asctime)s - %(levelname)s - %(message)s')\n",
    "def sum(df2):\n",
    "    if len(df) < 3:\n",
    "        return\n",
    "    sum_values = df['values'].iloc[:3].sum()\n",
    "    logging.info(\"Sum of the first three values: %s\", sum_values)"
   ]
  },
  {
   "cell_type": "code",
   "execution_count": 36,
   "id": "ec642a36-c4b4-494f-9074-9fd64fc8ee1b",
   "metadata": {},
   "outputs": [],
   "source": [
    "data = {\n",
    "    'values': [10, 20, 30, 40, 50]\n",
    "}"
   ]
  },
  {
   "cell_type": "code",
   "execution_count": 37,
   "id": "74d6f837-bcc1-4b94-843c-82daf0725a83",
   "metadata": {},
   "outputs": [],
   "source": [
    "df = pd.DataFrame(data)\n",
    "sum(df)"
   ]
  },
  {
   "cell_type": "code",
   "execution_count": 34,
   "id": "6adba37d-fb98-4979-9309-0979c80d32e0",
   "metadata": {},
   "outputs": [],
   "source": [
    "# Q4. Given a Pandas DataFrame df with a column 'Text', write a Python function to create a new column\n",
    "# 'Word_Count' that contains the number of words in each row of the 'Text' column."
   ]
  },
  {
   "cell_type": "code",
   "execution_count": 47,
   "id": "24505fb8-6077-4bd4-91c8-664829d9b9de",
   "metadata": {},
   "outputs": [],
   "source": [
    "def count_word(df3):\n",
    "    df3['word_count'] = df3['Text'].apply(lambda x : len(str(x).split()))\n",
    "    logging.info(\"DataFrame with Word_Count column added:\\n%s\", df3)\n",
    "    return df3"
   ]
  },
  {
   "cell_type": "code",
   "execution_count": 48,
   "id": "409607c7-a158-4d22-bb04-39b255162606",
   "metadata": {},
   "outputs": [],
   "source": [
    "data = {\n",
    "    'Text': [\n",
    "        'Hello world',\n",
    "        'Pandas is a powerful data analysis library',\n",
    "        'Python is great for data science',\n",
    "        'This is an example'\n",
    "    ]\n",
    "}"
   ]
  },
  {
   "cell_type": "code",
   "execution_count": 49,
   "id": "86839eca-7fc0-436c-b488-3f8bbb3493d1",
   "metadata": {},
   "outputs": [],
   "source": [
    "df3 = pd.DataFrame(data)"
   ]
  },
  {
   "cell_type": "code",
   "execution_count": 50,
   "id": "e1f2ac38-346e-479c-9f4a-0ada6f46a1ff",
   "metadata": {},
   "outputs": [],
   "source": [
    "df3 = count_word(df3)"
   ]
  },
  {
   "cell_type": "code",
   "execution_count": 51,
   "id": "b14d8265-dca3-4c1a-a6b7-714516693cf7",
   "metadata": {},
   "outputs": [
    {
     "data": {
      "text/html": [
       "<div>\n",
       "<style scoped>\n",
       "    .dataframe tbody tr th:only-of-type {\n",
       "        vertical-align: middle;\n",
       "    }\n",
       "\n",
       "    .dataframe tbody tr th {\n",
       "        vertical-align: top;\n",
       "    }\n",
       "\n",
       "    .dataframe thead th {\n",
       "        text-align: right;\n",
       "    }\n",
       "</style>\n",
       "<table border=\"1\" class=\"dataframe\">\n",
       "  <thead>\n",
       "    <tr style=\"text-align: right;\">\n",
       "      <th></th>\n",
       "      <th>Text</th>\n",
       "      <th>word_count</th>\n",
       "    </tr>\n",
       "  </thead>\n",
       "  <tbody>\n",
       "    <tr>\n",
       "      <th>0</th>\n",
       "      <td>Hello world</td>\n",
       "      <td>2</td>\n",
       "    </tr>\n",
       "    <tr>\n",
       "      <th>1</th>\n",
       "      <td>Pandas is a powerful data analysis library</td>\n",
       "      <td>7</td>\n",
       "    </tr>\n",
       "    <tr>\n",
       "      <th>2</th>\n",
       "      <td>Python is great for data science</td>\n",
       "      <td>6</td>\n",
       "    </tr>\n",
       "    <tr>\n",
       "      <th>3</th>\n",
       "      <td>This is an example</td>\n",
       "      <td>4</td>\n",
       "    </tr>\n",
       "  </tbody>\n",
       "</table>\n",
       "</div>"
      ],
      "text/plain": [
       "                                         Text  word_count\n",
       "0                                 Hello world           2\n",
       "1  Pandas is a powerful data analysis library           7\n",
       "2            Python is great for data science           6\n",
       "3                          This is an example           4"
      ]
     },
     "execution_count": 51,
     "metadata": {},
     "output_type": "execute_result"
    }
   ],
   "source": [
    "df3"
   ]
  },
  {
   "cell_type": "code",
   "execution_count": 52,
   "id": "334a8f73-9492-4e6b-b068-d392daf41644",
   "metadata": {},
   "outputs": [],
   "source": [
    "# Q5. How are DataFrame.size() and DataFrame.shape() different?"
   ]
  },
  {
   "cell_type": "code",
   "execution_count": 53,
   "id": "63f3c8f3-1939-486b-8e00-3786bac379fb",
   "metadata": {},
   "outputs": [],
   "source": [
    "# Ans:\n",
    "#     size: Provides the total number of elements (cells) in the DataFrame.\n",
    "#     shape: Provides the dimensions of the DataFrame in the form of a tuple (rows, columns)."
   ]
  },
  {
   "cell_type": "code",
   "execution_count": 54,
   "id": "95931e38-9e99-4817-8794-71e68e5c2296",
   "metadata": {},
   "outputs": [],
   "source": [
    "df3 = pd.DataFrame({\n",
    "    'A': [1, 2, 3],\n",
    "    'B': [4, 5, 6]\n",
    "})"
   ]
  },
  {
   "cell_type": "code",
   "execution_count": 55,
   "id": "d15a6a44-fd43-4eb9-b58e-8d37882e9010",
   "metadata": {},
   "outputs": [],
   "source": [
    "logging.info(df3.size)"
   ]
  },
  {
   "cell_type": "code",
   "execution_count": 57,
   "id": "7741accc-e347-426f-865e-8cf21ebc5877",
   "metadata": {},
   "outputs": [],
   "source": [
    "df4 = pd.DataFrame({\n",
    "    'A': [1, 2, 3],\n",
    "    'B': [4, 5, 6]\n",
    "})"
   ]
  },
  {
   "cell_type": "code",
   "execution_count": 59,
   "id": "7638dfbb-21e6-4595-a3da-0236db5b17c8",
   "metadata": {},
   "outputs": [],
   "source": [
    "logging.info(df4.shape)"
   ]
  },
  {
   "cell_type": "code",
   "execution_count": 60,
   "id": "f7a24a57-3104-4723-a0f0-a48c2d4338b0",
   "metadata": {},
   "outputs": [],
   "source": [
    "# Q6. Which function of pandas do we use to read an excel file?\n",
    "# ans: read_excel()"
   ]
  },
  {
   "cell_type": "code",
   "execution_count": 61,
   "id": "3371355c-5d7a-4a9d-8ccd-4cf9387690f6",
   "metadata": {},
   "outputs": [],
   "source": [
    "# Q7. You have a Pandas DataFrame df that contains a column named 'Email' that contains email\n",
    "# addresses in the format 'username@domain.com'. Write a Python function that creates a new column\n",
    "# 'Username' in df that contains only the username part of each email address.\n",
    "# The username is the part of the email address that appears before the '@' symbol. For example, if the\n",
    "# email address is 'john.doe@example.com', the 'Username' column should contain 'john.doe'. Your\n",
    "# function should extract the username from each email address and store it in the new 'Username'\n",
    "# column."
   ]
  },
  {
   "cell_type": "code",
   "execution_count": 63,
   "id": "4faadf00-5ae7-4113-8508-abc56256e41d",
   "metadata": {},
   "outputs": [],
   "source": [
    "def exct_username(df5):\n",
    "    df5['Username'] = df5['Email'].str.split('@').str[0]\n",
    "    return df5"
   ]
  },
  {
   "cell_type": "code",
   "execution_count": 65,
   "id": "885d85e6-bbb9-42ca-b7b9-171a95b72fc2",
   "metadata": {},
   "outputs": [],
   "source": [
    "data = {\n",
    "    'Email': [\n",
    "        'john.doe@example.com',\n",
    "        'dipak.smith@example.org',\n",
    "        'kumaar3@example.net'\n",
    "    ]\n",
    "}"
   ]
  },
  {
   "cell_type": "code",
   "execution_count": 66,
   "id": "a03be140-9782-49be-81ab-dfa96228fbae",
   "metadata": {},
   "outputs": [],
   "source": [
    "df5 = pd.DataFrame(data)"
   ]
  },
  {
   "cell_type": "code",
   "execution_count": 68,
   "id": "e6415e93-d90b-4090-b353-1cfd6ad8a605",
   "metadata": {},
   "outputs": [],
   "source": [
    "df5 = exct_username(df5)"
   ]
  },
  {
   "cell_type": "code",
   "execution_count": 69,
   "id": "ce52a797-f695-4a62-983c-e73ac740e506",
   "metadata": {},
   "outputs": [],
   "source": [
    "logging.info(df5)"
   ]
  },
  {
   "cell_type": "code",
   "execution_count": 71,
   "id": "6991811d-7135-4038-affc-e259e4712fbe",
   "metadata": {},
   "outputs": [],
   "source": [
    "# Q8. You have a Pandas DataFrame df with columns 'A', 'B', and 'C'. Write a Python function that selects\n",
    "# all rows where the value in column 'A' is greater than 5 and the value in column 'B' is less than 10. The\n",
    "# function should return a new DataFrame that contains only the selected rows.\n",
    "# For example, if df contains the following values:\n",
    "# A B C\n",
    "# 0 3 5 1\n",
    "# 1 8 2 7\n",
    "# 2 6 9 4\n",
    "# 3 2 3 5\n",
    "# 4 9 1 2\n",
    "# Your function should select the following rows: A B C\n",
    "# 1 8 2 7\n",
    "# 4 9 1 2\n",
    "# The function should return a new DataFrame that contains only the selected rows."
   ]
  },
  {
   "cell_type": "code",
   "execution_count": 79,
   "id": "d43b1790-a5e7-45b9-88ad-1252b5970aa2",
   "metadata": {},
   "outputs": [],
   "source": [
    "def filter_rows(df6):\n",
    "    filtered_df = df6[(df6['A'] > 5) & (df6['B'] < 10)]\n",
    "    return filtered_df"
   ]
  },
  {
   "cell_type": "code",
   "execution_count": 80,
   "id": "8880af33-16ec-43ab-ab3d-b0de5f7ccff5",
   "metadata": {},
   "outputs": [],
   "source": [
    "data = {\n",
    "    'A': [3, 8, 6, 2, 9],\n",
    "    'B': [5, 2, 9, 3, 1],\n",
    "    'C': [1, 7, 4, 5, 2]\n",
    "}"
   ]
  },
  {
   "cell_type": "code",
   "execution_count": 83,
   "id": "8e989b6e-5afa-411a-81e2-8eb7d68e8152",
   "metadata": {},
   "outputs": [],
   "source": [
    "df6 = pd.DataFrame(data)"
   ]
  },
  {
   "cell_type": "code",
   "execution_count": 84,
   "id": "3975d383-32ae-421d-b761-ee552b8c7908",
   "metadata": {},
   "outputs": [],
   "source": [
    "filtered_df = filter_rows(df6)"
   ]
  },
  {
   "cell_type": "code",
   "execution_count": 85,
   "id": "10a85af4-5976-47be-935e-f04af1e548a9",
   "metadata": {},
   "outputs": [],
   "source": [
    "logging.info(filtered_df)"
   ]
  },
  {
   "cell_type": "code",
   "execution_count": 86,
   "id": "68f2a8ad-40cc-48c5-b694-38efd462fd82",
   "metadata": {},
   "outputs": [],
   "source": [
    "# Q9. Given a Pandas DataFrame df with a column 'Values', write a Python function to calculate the mean,\n",
    "# median, and standard deviation of the values in the 'Values' column."
   ]
  },
  {
   "cell_type": "code",
   "execution_count": 106,
   "id": "51847d6a-1928-43ad-866b-80e10782f87a",
   "metadata": {},
   "outputs": [],
   "source": [
    "import pandas as pd\n",
    "import logging\n",
    "\n",
    "logging.basicConfig(filename='data_analysis.log', level=logging.INFO, format='%(asctime)s - %(levelname)s - %(message)s')\n",
    "\n",
    "def calculate_statistics(df):\n",
    "    if 'Values' not in df.columns:\n",
    "        logging.error(\"Column 'Values' does not exist in the DataFrame.\")\n",
    "        return\n",
    "\n",
    "    mean_value = df['Values'].mean()\n",
    "    median_value = df['Values'].median()\n",
    "    std_dev_value = df['Values'].std()\n",
    "    \n",
    "    logging.info(f\"Mean of 'Values': {mean_value}\")\n",
    "    logging.info(f\"Median of 'Values': {median_value}\")\n",
    "    logging.info(f\"Standard Deviation of 'Values': {std_dev_value}\")\n",
    "    \n",
    "    return mean_value, median_value, std_dev_value\n",
    "\n",
    "data = {\n",
    "    'Values': [10, 20, 30, 40, 50]\n",
    "}\n",
    "df = pd.DataFrame(data)\n",
    "\n",
    "mean, median, std_dev = calculate_statistics(df)\n",
    "\n",
    "logging.info(f\"Mean: {mean}, Median: {median}, Standard Deviation: {std_dev}\")\n"
   ]
  },
  {
   "cell_type": "code",
   "execution_count": 107,
   "id": "9b3d4481-5f3c-4414-8889-1ec90cb16ef5",
   "metadata": {},
   "outputs": [],
   "source": [
    "# Q10. Given a Pandas DataFrame df with a column 'Sales' and a column 'Date', write a Python function to\n",
    "# create a new column 'MovingAverage' that contains the moving average of the sales for the past 7 days\n",
    "# for each row in the DataFrame. The moving average should be calculated using a window of size 7 and\n",
    "# should include the current day."
   ]
  },
  {
   "cell_type": "code",
   "execution_count": 108,
   "id": "2d595d69-7488-4fb1-8555-a09d18e34f3a",
   "metadata": {},
   "outputs": [],
   "source": [
    "def calculate_moving_average(df8):\n",
    "    df8['Date'] = pd.to_datetime(df8['Date'])  \n",
    "    df8 = df8.sort_values('Date')\n",
    "    df8['MovingAverage'] = df8['Sales'].rolling(window=7, min_periods=1).mean()\n",
    "    return df8"
   ]
  },
  {
   "cell_type": "code",
   "execution_count": 109,
   "id": "8f8dbae2-ff9f-4368-9cdf-318ca0b5d6eb",
   "metadata": {},
   "outputs": [],
   "source": [
    "data = {\n",
    "    'Date': [\n",
    "        '2024-07-01', '2024-07-02', '2024-07-03', '2024-07-04',\n",
    "        '2024-07-05', '2024-07-06', '2024-07-07', '2024-07-08',\n",
    "        '2024-07-09', '2024-07-10'\n",
    "    ],\n",
    "    'Sales': [200, 220, 250, 270, 300, 320, 350, 370, 390, 410]\n",
    "}"
   ]
  },
  {
   "cell_type": "code",
   "execution_count": 110,
   "id": "73a4f21d-e7f7-42a1-847e-57623218291b",
   "metadata": {},
   "outputs": [],
   "source": [
    "df8 = pd.DataFrame(data)"
   ]
  },
  {
   "cell_type": "code",
   "execution_count": 112,
   "id": "cbe1171a-2c34-4e7e-a3de-b6e1b51a1e51",
   "metadata": {},
   "outputs": [],
   "source": [
    "df8 = calculate_moving_average(df8)"
   ]
  },
  {
   "cell_type": "code",
   "execution_count": 113,
   "id": "f7f521b7-522a-4765-b528-457c8d5e8f3a",
   "metadata": {},
   "outputs": [],
   "source": [
    "logging.info(df8)"
   ]
  },
  {
   "cell_type": "code",
   "execution_count": 114,
   "id": "982e7189-f39b-49b5-8ae1-23fee051cea2",
   "metadata": {},
   "outputs": [],
   "source": [
    "# Q11. You have a Pandas DataFrame df with a column 'Date'. Write a Python function that creates a new\n",
    "# column 'Weekday' in the DataFrame. The 'Weekday' column should contain the weekday name (e.g.\n",
    "# Monday, Tuesday) corresponding to each date in the 'Date' column.\n",
    "# For example, if df contains the following values:\n",
    "# Date\n",
    "# 0 2023-01-01\n",
    "# 1 2023-01-02\n",
    "# 2 2023-01-03\n",
    "# 3 2023-01-04\n",
    "# 4 2023-01-05\n",
    "# Your function should create the following DataFrame:\n",
    "\n",
    "# Date Weekday\n",
    "# 0 2023-01-01 Sunday\n",
    "# 1 2023-01-02 Monday\n",
    "# 2 2023-01-03 Tuesday\n",
    "# 3 2023-01-04 Wednesday\n",
    "# 4 2023-01-05 Thursday\n",
    "# The function should return the modified DataFrame."
   ]
  },
  {
   "cell_type": "code",
   "execution_count": 115,
   "id": "a0377b64-dde8-48d4-8d5e-f79c541c0033",
   "metadata": {},
   "outputs": [],
   "source": [
    "def add_weekday_column(df9):\n",
    "    df9['Date'] = pd.to_datetime(df9['Date'])\n",
    "    df9['Weekday'] = df9['Date'].dt.day_name()\n",
    "    return df9"
   ]
  },
  {
   "cell_type": "code",
   "execution_count": 116,
   "id": "75fbca73-8a21-4991-8330-9b9ea84e6aaf",
   "metadata": {},
   "outputs": [],
   "source": [
    "data = {\n",
    "    'Date': [\n",
    "        '2023-01-01', '2023-01-02', '2023-01-03', '2023-01-04', '2023-01-05'\n",
    "    ]\n",
    "}"
   ]
  },
  {
   "cell_type": "code",
   "execution_count": 117,
   "id": "d9350bbb-698f-402e-b12b-93b6b2536e51",
   "metadata": {},
   "outputs": [],
   "source": [
    "df9 = pd.DataFrame(data)"
   ]
  },
  {
   "cell_type": "code",
   "execution_count": 118,
   "id": "a3ebdf54-0c78-4c1a-b117-3c7776b42781",
   "metadata": {},
   "outputs": [],
   "source": [
    "df9 = add_weekday_column(df9)"
   ]
  },
  {
   "cell_type": "code",
   "execution_count": 119,
   "id": "d2755d88-bfeb-4726-97cd-f88b56358183",
   "metadata": {},
   "outputs": [],
   "source": [
    "logging.info(df9)"
   ]
  },
  {
   "cell_type": "code",
   "execution_count": 120,
   "id": "7d1a56af-ac9c-4870-9618-2022c57e3594",
   "metadata": {},
   "outputs": [],
   "source": [
    "# Q12. Given a Pandas DataFrame df with a column 'Date' that contains timestamps, write a Python\n",
    "# function to select all rows where the date is between '2023-01-01' and '2023-01-31'."
   ]
  },
  {
   "cell_type": "code",
   "execution_count": 122,
   "id": "198df41a-b6bc-4f8e-8aa6-e3f8ae652678",
   "metadata": {},
   "outputs": [],
   "source": [
    "def filter_by_date_range(df10):\n",
    "    df10['Date'] = pd.to_datetime(df10['Date'])\n",
    "    \n",
    "    start_date = '2023-01-01'\n",
    "    end_date = '2023-01-31'\n",
    "    \n",
    "    filtered_df = df10[(df10['Date'] >= start_date) & (df10['Date'] <= end_date)]\n",
    "    \n",
    "    return filtered_df"
   ]
  },
  {
   "cell_type": "code",
   "execution_count": 123,
   "id": "59114162-7911-410c-9528-6aaf011fb225",
   "metadata": {},
   "outputs": [],
   "source": [
    "data = {\n",
    "    'Date': ['2023-01-05', '2023-02-10', '2023-01-15', '2023-03-01'],\n",
    "    'Value': [10, 20, 30, 40]\n",
    "}"
   ]
  },
  {
   "cell_type": "code",
   "execution_count": 124,
   "id": "dc2be786-ea71-4177-81fb-1c5498b6a71e",
   "metadata": {},
   "outputs": [],
   "source": [
    "df10 = pd.DataFrame(data)"
   ]
  },
  {
   "cell_type": "code",
   "execution_count": 125,
   "id": "1b247446-9c3d-449f-b18b-c84ade768285",
   "metadata": {},
   "outputs": [],
   "source": [
    "filtered_df = filter_by_date_range(df8)"
   ]
  },
  {
   "cell_type": "code",
   "execution_count": 126,
   "id": "c4d6a3dc-cb4f-4d5c-bd22-d29e9761dbb0",
   "metadata": {},
   "outputs": [],
   "source": [
    "logging.info(filtered_df)"
   ]
  },
  {
   "cell_type": "code",
   "execution_count": null,
   "id": "570f6b16-97dc-40ba-bd74-ad1b59c8165c",
   "metadata": {},
   "outputs": [],
   "source": []
  }
 ],
 "metadata": {
  "kernelspec": {
   "display_name": "Python 3 (ipykernel)",
   "language": "python",
   "name": "python3"
  },
  "language_info": {
   "codemirror_mode": {
    "name": "ipython",
    "version": 3
   },
   "file_extension": ".py",
   "mimetype": "text/x-python",
   "name": "python",
   "nbconvert_exporter": "python",
   "pygments_lexer": "ipython3",
   "version": "3.10.8"
  }
 },
 "nbformat": 4,
 "nbformat_minor": 5
}
