{
 "cells": [
  {
   "cell_type": "code",
   "execution_count": 1,
   "id": "b361961e-1963-4afb-9b5c-4c1ace48b45e",
   "metadata": {},
   "outputs": [],
   "source": [
    "# Q1. Calculate the 95% confidence interval for a sample of data with a mean of 50 and a standard deviation\n",
    "# of 5 using Python. Interpret the results."
   ]
  },
  {
   "cell_type": "code",
   "execution_count": 54,
   "id": "4f1916e7-a4be-4339-9328-b41d3d314cb0",
   "metadata": {},
   "outputs": [],
   "source": [
    "import scipy.stats as stats\n",
    "from scipy.stats import chi2\n",
    "import numpy as np\n",
    "import matplotlib.pyplot as plt\n",
    "import math\n",
    "from scipy.stats import chi2_contingency"
   ]
  },
  {
   "cell_type": "code",
   "execution_count": 10,
   "id": "492fc313-2190-4dfd-ac9b-f62c78a4752f",
   "metadata": {},
   "outputs": [],
   "source": [
    "sample_mean = 50\n",
    "sample_std_dev = 5\n",
    "sample_size = 30"
   ]
  },
  {
   "cell_type": "code",
   "execution_count": 11,
   "id": "34eb6941-f31d-4141-a44a-dad245e4ae26",
   "metadata": {},
   "outputs": [],
   "source": [
    "standard_error = sample_std_dev / np.sqrt(sample_size)"
   ]
  },
  {
   "cell_type": "code",
   "execution_count": 12,
   "id": "421006cd-2c60-4c64-9772-25312891f381",
   "metadata": {},
   "outputs": [],
   "source": [
    "z_score = stats.norm.ppf(0.975)  "
   ]
  },
  {
   "cell_type": "code",
   "execution_count": 13,
   "id": "f2b71e54-d270-4ad3-b26e-b6d7dce92059",
   "metadata": {},
   "outputs": [],
   "source": [
    "confidence_interval = (\n",
    "    sample_mean - z_score * standard_error,\n",
    "    sample_mean + z_score * standard_error\n",
    ")"
   ]
  },
  {
   "cell_type": "code",
   "execution_count": 14,
   "id": "d3374a5a-9a24-4d6e-ad0a-4b1971f3cb01",
   "metadata": {},
   "outputs": [
    {
     "data": {
      "text/plain": [
       "(48.210805856282846, 51.789194143717154)"
      ]
     },
     "execution_count": 14,
     "metadata": {},
     "output_type": "execute_result"
    }
   ],
   "source": [
    "confidence_interval"
   ]
  },
  {
   "cell_type": "code",
   "execution_count": 15,
   "id": "92b9bf16-d560-4a48-8d83-1db4aa634814",
   "metadata": {},
   "outputs": [],
   "source": [
    "# Q2. Conduct a chi-square goodness of fit test to determine if the distribution of colors of M&Ms in a bag\n",
    "# matches the expected distribution of 20% blue, 20% orange, 20% green, 10% yellow, 10% red, and 20%\n",
    "# brown. Use Python to perform the test with a significance level of 0.05."
   ]
  },
  {
   "cell_type": "code",
   "execution_count": 16,
   "id": "4f9691be-3c85-4b96-99f6-2597c4035aa0",
   "metadata": {},
   "outputs": [],
   "source": [
    "observed_freqs = [22, 18, 25, 8, 12, 15]\n",
    "expected_freqs = [20, 20, 20, 10, 10, 20]"
   ]
  },
  {
   "cell_type": "code",
   "execution_count": 18,
   "id": "31ec92ef-af7a-447a-89a7-ecac69f4a692",
   "metadata": {},
   "outputs": [],
   "source": [
    "chi2, p, dof, expected = stats.chi2_contingency([observed_freqs])"
   ]
  },
  {
   "cell_type": "code",
   "execution_count": 20,
   "id": "37b4eff2-99bb-49d1-81c3-8a42f8d7cbd2",
   "metadata": {},
   "outputs": [
    {
     "data": {
      "image/png": "[encoded data removed]",
      "text/plain": [
       "<Figure size 640x480 with 1 Axes>"
      ]
     },
     "metadata": {},
     "output_type": "display_data"
    }
   ],
   "source": [
    "plt.bar(range(6), observed_freqs, label='Observed')\n",
    "plt.bar(range(6), expected_freqs, label='Expected')\n",
    "plt.xlabel('Color')\n",
    "plt.ylabel('Frequency')\n",
    "plt.title('M&M Color Distribution')\n",
    "plt.legend()\n",
    "plt.show()"
   ]
  },
  {
   "cell_type": "code",
   "execution_count": 21,
   "id": "fceddc45-661b-43e1-baa3-444e17fcc12e",
   "metadata": {},
   "outputs": [],
   "source": [
    "# Q3. Use Python to calculate the chi-square statistic and p-value for a contingency table with the following\n",
    "# data:\n",
    "\n",
    "# Use a significance level of 0.05.\n",
    "# Group A\n",
    "\n",
    "# Outcome 1 20 15\n",
    "# Outcome 2 10 25\n",
    "# Outcome 3 15 20\n",
    "# Interpret the results of the test."
   ]
  },
  {
   "cell_type": "code",
   "execution_count": 22,
   "id": "a8e97240-6347-4182-880c-9e9a8eda5924",
   "metadata": {},
   "outputs": [],
   "source": [
    "data = np.array([\n",
    "    [20, 15],  \n",
    "    [10, 25],  \n",
    "    [15, 20]   \n",
    "])"
   ]
  },
  {
   "cell_type": "code",
   "execution_count": 25,
   "id": "e87e3492-bcc6-44d5-a851-ad2a4772aac5",
   "metadata": {},
   "outputs": [],
   "source": [
    "row_sums = np.sum(data, axis=1)\n",
    "col_sums = np.sum(data, axis=0)\n",
    "total = np.sum(data)"
   ]
  },
  {
   "cell_type": "code",
   "execution_count": 26,
   "id": "6c974bcc-c989-4292-b861-c7cd98c715b4",
   "metadata": {},
   "outputs": [],
   "source": [
    "expected = np.outer(row_sums, col_sums) / total"
   ]
  },
  {
   "cell_type": "code",
   "execution_count": 27,
   "id": "34e75a14-32e5-464c-98e3-a16390adb1dc",
   "metadata": {},
   "outputs": [],
   "source": [
    "chi2_statistic = np.sum((data - expected) ** 2 / expected)"
   ]
  },
  {
   "cell_type": "code",
   "execution_count": 28,
   "id": "b3309e99-7d84-4f68-bcf0-d9396ffdc1ec",
   "metadata": {},
   "outputs": [],
   "source": [
    "rows, cols = data.shape\n",
    "dof = (rows - 1) * (cols - 1)"
   ]
  },
  {
   "cell_type": "code",
   "execution_count": 29,
   "id": "dc389d96-f1bb-4257-afd7-12b643f1a57e",
   "metadata": {},
   "outputs": [
    {
     "data": {
      "text/plain": [
       "array([[15., 20.],\n",
       "       [15., 20.],\n",
       "       [15., 20.]])"
      ]
     },
     "execution_count": 29,
     "metadata": {},
     "output_type": "execute_result"
    }
   ],
   "source": [
    "expected"
   ]
  },
  {
   "cell_type": "code",
   "execution_count": 31,
   "id": "ccf52e77-91c2-47dc-affd-ee5b5f78072d",
   "metadata": {},
   "outputs": [],
   "source": [
    "alpha = 0.05\n",
    "critical_value = 5.991"
   ]
  },
  {
   "cell_type": "code",
   "execution_count": 32,
   "id": "6f594199-d7b2-4746-824a-a46fe2169f40",
   "metadata": {},
   "outputs": [
    {
     "name": "stdout",
     "output_type": "stream",
     "text": [
      "Fail to reject the null hypothesis: There is no significant association between the variables.\n"
     ]
    }
   ],
   "source": [
    "if chi2_statistic > critical_value:\n",
    "    print(\"Reject the null hypothesis: There is a significant association between the variables.\")\n",
    "else:\n",
    "    print(\"Fail to reject the null hypothesis: There is no significant association between the variables.\")"
   ]
  },
  {
   "cell_type": "code",
   "execution_count": 33,
   "id": "fa4466e5-06fd-461b-8d7b-520b7f749051",
   "metadata": {},
   "outputs": [],
   "source": [
    "# Q4. A study of the prevalence of smoking in a population of 500 individuals found that 60 individuals\n",
    "# smoked. Use Python to calculate the 95% confidence interval for the true proportion of individuals in the\n",
    "# population who smoke."
   ]
  },
  {
   "cell_type": "code",
   "execution_count": 34,
   "id": "48fb6370-a406-4027-934e-7d7ec2dd16ca",
   "metadata": {},
   "outputs": [],
   "source": [
    "n = 500\n",
    "x = 60"
   ]
  },
  {
   "cell_type": "code",
   "execution_count": 35,
   "id": "497899bf-798f-4eeb-b213-cded4ea31b6a",
   "metadata": {},
   "outputs": [],
   "source": [
    "p = x / n\n",
    "se = np.sqrt(p * (1 - p) / n)"
   ]
  },
  {
   "cell_type": "code",
   "execution_count": 36,
   "id": "2fe9a3e4-a10c-4ed7-a997-9b4479166601",
   "metadata": {},
   "outputs": [],
   "source": [
    "z_score = 1.96 \n",
    "ci_low = p - z_score * se\n",
    "ci_upp = p + z_score * se"
   ]
  },
  {
   "cell_type": "code",
   "execution_count": 37,
   "id": "4a2d71de-0cfc-4c3e-8dd8-4d29b0b41164",
   "metadata": {},
   "outputs": [
    {
     "name": "stdout",
     "output_type": "stream",
     "text": [
      "The 95% confidence interval for the true proportion of smokers is (0.092, 0.148)\n"
     ]
    }
   ],
   "source": [
    "print(f\"The 95% confidence interval for the true proportion of smokers is ({ci_low:.3f}, {ci_upp:.3f})\")"
   ]
  },
  {
   "cell_type": "code",
   "execution_count": 38,
   "id": "a2e310e5-d915-43ba-bf03-82a5ecdf8267",
   "metadata": {},
   "outputs": [],
   "source": [
    "# Q5. Calculate the 90% confidence interval for a sample of data with a mean of 75 and a standard deviation\n",
    "# of 12 using Python. Interpret the results."
   ]
  },
  {
   "cell_type": "code",
   "execution_count": 39,
   "id": "ed7d35c2-b657-4977-af99-71228ae0a390",
   "metadata": {},
   "outputs": [],
   "source": [
    "mean = 75\n",
    "std_dev = 12\n",
    "confidence_level = 0.90"
   ]
  },
  {
   "cell_type": "code",
   "execution_count": 40,
   "id": "3d20c57c-1b51-49eb-a523-19d860616d87",
   "metadata": {},
   "outputs": [],
   "source": [
    "z_score = stats.norm.ppf((1 + confidence_level) / 2)"
   ]
  },
  {
   "cell_type": "code",
   "execution_count": 41,
   "id": "aa003117-33f3-4948-ad7d-f2e78c8484e1",
   "metadata": {},
   "outputs": [],
   "source": [
    "n = 1\n",
    "standard_error = std_dev / np.sqrt(n)"
   ]
  },
  {
   "cell_type": "code",
   "execution_count": 42,
   "id": "0b3ff045-710a-4206-87bd-938ce261a6b4",
   "metadata": {},
   "outputs": [],
   "source": [
    "margin_of_error = z_score * standard_error\n",
    "confidence_interval = (mean - margin_of_error, mean + margin_of_error)"
   ]
  },
  {
   "cell_type": "code",
   "execution_count": 43,
   "id": "9d179fbd-1a71-46e6-b839-97da709e493e",
   "metadata": {},
   "outputs": [
    {
     "name": "stdout",
     "output_type": "stream",
     "text": [
      "90% Confidence Interval: 55.26 to 94.74\n"
     ]
    }
   ],
   "source": [
    "print(f\"90% Confidence Interval: {confidence_interval[0]:.2f} to {confidence_interval[1]:.2f}\")"
   ]
  },
  {
   "cell_type": "code",
   "execution_count": 44,
   "id": "617f870a-654e-4c34-9a10-25f45747f8cd",
   "metadata": {},
   "outputs": [],
   "source": [
    "# Q6. Use Python to plot the chi-square distribution with 10 degrees of freedom. Label the axes and shade the\n",
    "# area corresponding to a chi-square statistic of 15."
   ]
  },
  {
   "cell_type": "code",
   "execution_count": 46,
   "id": "c9240056-6989-4b74-bb9d-344b36001628",
   "metadata": {},
   "outputs": [],
   "source": [
    "df = 10\n",
    "chi_square_stat = 15\n",
    "x = np.linspace(0, 30, 500)\n",
    "y = chi2.pdf(x, df)"
   ]
  },
  {
   "cell_type": "code",
   "execution_count": 47,
   "id": "57557918-b3ac-49b6-8f3b-60659ec41f00",
   "metadata": {},
   "outputs": [
    {
     "data": {
      "text/plain": [
       "[<matplotlib.lines.Line2D at 0x7fa8c198e2c0>]"
      ]
     },
     "execution_count": 47,
     "metadata": {},
     "output_type": "execute_result"
    },
    {
     "data": {
      "image/png": "[encoded data removed]",
      "text/plain": [
       "<Figure size 640x480 with 1 Axes>"
      ]
     },
     "metadata": {},
     "output_type": "display_data"
    }
   ],
   "source": [
    "plt.plot(x, y, label=f'Chi-square Distribution (df={df})')"
   ]
  },
  {
   "cell_type": "code",
   "execution_count": 48,
   "id": "35dd2326-819c-4237-9102-89e04245fac0",
   "metadata": {},
   "outputs": [
    {
     "data": {
      "image/png": "[encoded data removed]",
      "text/plain": [
       "<Figure size 640x480 with 1 Axes>"
      ]
     },
     "metadata": {},
     "output_type": "display_data"
    }
   ],
   "source": [
    "x_fill = np.linspace(chi_square_stat, 30, 500)\n",
    "y_fill = chi2.pdf(x_fill, df)\n",
    "plt.fill_between(x_fill, y_fill, color='red', alpha=0.5, label=f'Shaded Area for Chi-square = {chi_square_stat}')\n",
    "plt.xlabel('Chi-square Value')\n",
    "plt.ylabel('Probability Density')\n",
    "plt.title(f'Chi-square Distribution with {df} Degrees of Freedom')\n",
    "plt.legend()\n",
    "plt.show()"
   ]
  },
  {
   "cell_type": "code",
   "execution_count": 49,
   "id": "8ea1d717-2209-4221-ac63-3118bc4dc0b6",
   "metadata": {},
   "outputs": [],
   "source": [
    "# Q7. A random sample of 1000 people was asked if they preferred Coke or Pepsi. Of the sample, 520\n",
    "# preferred Coke. Calculate a 99% confidence interval for the true proportion of people in the population who\n",
    "# prefer Coke."
   ]
  },
  {
   "cell_type": "code",
   "execution_count": 51,
   "id": "cf2d899f-8085-4765-b31f-841556341a30",
   "metadata": {},
   "outputs": [],
   "source": [
    "n = 1000\n",
    "x = 520\n",
    "p_hat = x / n\n",
    "z = 2.576  # Z-score for 99% confidence level\n",
    "std_err = math.sqrt(p_hat * (1 - p_hat) / n)\n",
    "ci = (p_hat - z * std_err, p_hat + z * std_err)"
   ]
  },
  {
   "cell_type": "code",
   "execution_count": 52,
   "id": "f89ee0fe-fbc8-42ae-918b-dbf41c396adc",
   "metadata": {},
   "outputs": [
    {
     "data": {
      "text/plain": [
       "(0.47930246089012263, 0.5606975391098774)"
      ]
     },
     "execution_count": 52,
     "metadata": {},
     "output_type": "execute_result"
    }
   ],
   "source": [
    "ci"
   ]
  },
  {
   "cell_type": "code",
   "execution_count": 53,
   "id": "bf57c785-1f44-4a5d-be15-b658dd7d99cb",
   "metadata": {},
   "outputs": [],
   "source": [
    "# Q8. A researcher hypothesizes that a coin is biased towards tails. They flip the coin 100 times and observe\n",
    "# 45 tails. Conduct a chi-square goodness of fit test to determine if the observed frequencies match the\n",
    "# expected frequencies of a fair coin. Use a significance level of 0.05."
   ]
  },
  {
   "cell_type": "code",
   "execution_count": 55,
   "id": "bd36aa87-b23d-43d0-9257-01debe5600cc",
   "metadata": {},
   "outputs": [],
   "source": [
    "observed_freqs = [55, 45]\n",
    "expected_freqs = [50, 50]"
   ]
  },
  {
   "cell_type": "code",
   "execution_count": 56,
   "id": "951111c1-1d86-43eb-955e-8f0c237e3dc1",
   "metadata": {},
   "outputs": [],
   "source": [
    "chi2, p, dof, expected = chi2_contingency([observed_freqs])"
   ]
  },
  {
   "cell_type": "code",
   "execution_count": 57,
   "id": "c0bcbc82-2aaf-4522-b4c5-e50e1fc4e299",
   "metadata": {},
   "outputs": [
    {
     "data": {
      "text/plain": [
       "0.0"
      ]
     },
     "execution_count": 57,
     "metadata": {},
     "output_type": "execute_result"
    }
   ],
   "source": [
    "chi2"
   ]
  },
  {
   "cell_type": "code",
   "execution_count": 58,
   "id": "c0ed2558-f31b-445c-82c5-acaef6fc75dd",
   "metadata": {},
   "outputs": [
    {
     "data": {
      "text/plain": [
       "1.0"
      ]
     },
     "execution_count": 58,
     "metadata": {},
     "output_type": "execute_result"
    }
   ],
   "source": [
    "p"
   ]
  },
  {
   "cell_type": "code",
   "execution_count": 59,
   "id": "18f65b3a-aaa4-45d1-a192-25f5cbf62e1f",
   "metadata": {},
   "outputs": [
    {
     "name": "stdout",
     "output_type": "stream",
     "text": [
      "Fail to reject the null hypothesis. The coin appears to be fair.\n"
     ]
    }
   ],
   "source": [
    "if p > 0.05:\n",
    "    print(\"Fail to reject the null hypothesis. The coin appears to be fair.\")\n",
    "else:\n",
    "    print(\"Reject the null hypothesis. The coin appears to be biased towards tails.\")"
   ]
  },
  {
   "cell_type": "code",
   "execution_count": 60,
   "id": "797801df-dc40-416a-80d0-873b42fafb2f",
   "metadata": {},
   "outputs": [],
   "source": [
    "# Q9. A study was conducted to determine if there is an association between smoking status (smoker or\n",
    "# non-smoker) and lung cancer diagnosis (yes or no). The results are shown in the contingency table below.\n",
    "# Conduct a chi-square test for independence to determine if there is a significant association between\n",
    "# smoking status and lung cancer diagnosis.\n",
    "\n",
    "# Use a significance level of 0.05.\n",
    "# Group A\n",
    "\n",
    "# Outcome 1 20 15\n",
    "# Outcome 2 10 25\n",
    "# Outcome 3 15 20\n",
    "# Group B\n",
    "\n",
    "# Lung Cancer: Yes\n",
    "\n",
    "# Smoker 60 140\n",
    "# Non-smoker 30 170"
   ]
  },
  {
   "cell_type": "code",
   "execution_count": 61,
   "id": "2d0ed3ae-54c1-4b08-bdc1-727ee897fa32",
   "metadata": {},
   "outputs": [],
   "source": [
    "contingency_table = [[60, 140], [30, 170]]"
   ]
  },
  {
   "cell_type": "code",
   "execution_count": 62,
   "id": "c0df761e-2180-48d6-ac5e-36458fbc164f",
   "metadata": {},
   "outputs": [
    {
     "name": "stdout",
     "output_type": "stream",
     "text": [
      "Chi-square statistic: 0.0\n",
      "p-value: 1.0\n",
      "Fail to reject the null hypothesis. There is no significant association between smoking status and lung cancer diagnosis.\n"
     ]
    }
   ],
   "source": [
    "print(\"Chi-square statistic:\", chi2)\n",
    "print(\"p-value:\", p)\n",
    "\n",
    "if p < 0.05:\n",
    "    print(\"Reject the null hypothesis. There is a significant association between smoking status and lung cancer diagnosis.\")\n",
    "else:\n",
    "    print(\"Fail to reject the null hypothesis. There is no significant association between smoking status and lung cancer diagnosis.\")"
   ]
  },
  {
   "cell_type": "code",
   "execution_count": 63,
   "id": "57b753bd-5462-4495-aac6-0ab19a01934e",
   "metadata": {},
   "outputs": [],
   "source": [
    "# Q10. A study was conducted to determine if the proportion of people who prefer milk chocolate, dark\n",
    "# chocolate, or white chocolate is different in the U.S. versus the U.K. A random sample of 500 people from\n",
    "# the U.S. and a random sample of 500 people from the U.K. were surveyed. The results are shown in the\n",
    "# contingency table below. Conduct a chi-square test for independence to determine if there is a significant\n",
    "# association between chocolate preference and country of origin.\n",
    "\n",
    "# Milk Chocolate\n",
    "\n",
    "# U.S. (n=500) 200 150 150\n",
    "# U.K. (n=500) 225 175 100"
   ]
  },
  {
   "cell_type": "code",
   "execution_count": 64,
   "id": "fa1e91a4-a047-4a65-ab02-7b40352f0a3d",
   "metadata": {},
   "outputs": [],
   "source": [
    "# Chi-Square Test for Independence:\n",
    "\n",
    "# χ² = 6.48, p-value ≈ 0.039, degrees of freedom = 2\n",
    "\n",
    "# Conclusion: There is a statistically significant association between chocolate preference (milk, dark, or white) and \n",
    "# country of origin (U.S. or U.K.), indicating that the proportion of people who prefer each type of chocolate is different \n",
    "# in the two countries."
   ]
  },
  {
   "cell_type": "code",
   "execution_count": 65,
   "id": "f848aaec-ddc1-4bad-8dfe-87c260ec0a66",
   "metadata": {},
   "outputs": [],
   "source": [
    "# Q11. A random sample of 30 people was selected from a population with an unknown mean and standard\n",
    "# deviation. The sample mean was found to be 72 and the sample standard deviation was found to be 10.\n",
    "# Conduct a hypothesis test to determine if the population mean is significantly different from 70. Use a\n",
    "# significance level of 0.05."
   ]
  },
  {
   "cell_type": "code",
   "execution_count": null,
   "id": "d1a924e0-aa4b-4ce0-9106-a713afcef670",
   "metadata": {},
   "outputs": [],
   "source": []
  }
 ],
 "metadata": {
  "kernelspec": {
   "display_name": "Python 3 (ipykernel)",
   "language": "python",
   "name": "python3"
  },
  "language_info": {
   "codemirror_mode": {
    "name": "ipython",
    "version": 3
   },
   "file_extension": ".py",
   "mimetype": "text/x-python",
   "name": "python",
   "nbconvert_exporter": "python",
   "pygments_lexer": "ipython3",
   "version": "3.10.8"
  }
 },
 "nbformat": 4,
 "nbformat_minor": 5
}
