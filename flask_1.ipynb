{
 "cells": [
  {
   "cell_type": "markdown",
   "id": "76123bf1-f1ad-4a1e-95c2-038da7b05916",
   "metadata": {},
   "source": [
    "i am not able to insert screenshort in juypternotebook give me solution"
   ]
  },
  {
   "cell_type": "code",
   "execution_count": 13,
   "id": "c0eca6e2-57f5-4c56-b0d4-9a58d9eb0d94",
   "metadata": {},
   "outputs": [],
   "source": [
    "# Q1. What is Flask Framework? What are the advantages of Flask Framework?"
   ]
  },
  {
   "cell_type": "code",
   "execution_count": 14,
   "id": "73b3a70f-f7e6-43e5-9c6a-5ca7a17b17de",
   "metadata": {},
   "outputs": [],
   "source": [
    "# Flask is a lightweight, flexible, and modular web framework for Python. It allows you to build web applications quickly \n",
    "# and efficiently.\n",
    "\n",
    "# Advantages of Flask Framework:\n",
    "\n",
    "# Lightweight: Flask has a small codebase, making it easy to learn and use.\n",
    "# Flexible: Flask is highly customizable, allowing you to build applications tailored to your needs.\n",
    "# Modular: Flask has a modular design, making it easy to add or remove features as needed.\n",
    "# Easy to learn: Flask has a simple and intuitive API, making it easy for beginners to learn.\n",
    "# Fast development: Flask allows for rapid development and prototyping of web applications."
   ]
  },
  {
   "cell_type": "code",
   "execution_count": 15,
   "id": "d0ccd01d-0e0a-4504-898b-bb290abeab87",
   "metadata": {},
   "outputs": [],
   "source": [
    "# Q2. Create a simple Flask application to display ‘Hello World!!’. Attach the screenshot of the output in\n",
    "# Jupyter Notebook."
   ]
  },
  {
   "cell_type": "code",
   "execution_count": 16,
   "id": "3010b85e-723f-43f7-b2d2-8fdf3660b432",
   "metadata": {},
   "outputs": [],
   "source": [
    "# from flask import Flask\n",
    "\n",
    "# app = Flask(__name__)\n",
    "\n",
    "# @app.route(\"/\")\n",
    "# def hello_world():\n",
    "#     return \"<h1>Hello, World!</h1>\"\n",
    "\n",
    "# if __name__==\"__main__\":\n",
    "#     app.run(host=\"0.0.0.0\")\n",
    "\n"
   ]
  },
  {
   "cell_type": "code",
   "execution_count": 17,
   "id": "49cb10f9-5ad2-4bad-9256-c5f13860c7c6",
   "metadata": {},
   "outputs": [],
   "source": [
    "# I am noat able to attatch screenshort in juypter notbook"
   ]
  },
  {
   "cell_type": "code",
   "execution_count": 18,
   "id": "62578158-0555-4a3b-8733-a9666c88aa70",
   "metadata": {},
   "outputs": [],
   "source": [
    "# Q4. Create a “/welcome” route to display the welcome message “Welcome to ABC Corporation” and a “/”\n",
    "# route to show the following details:\n",
    "# Company Name: ABC Corporation\n",
    "# Location: India\n",
    "# Contact Detail: 999-999-9999"
   ]
  },
  {
   "cell_type": "code",
   "execution_count": 19,
   "id": "399024d8-c7c9-41eb-b1b1-6ce98c0e4f26",
   "metadata": {},
   "outputs": [],
   "source": [
    "# from flask import Flask\n",
    "\n",
    "# app = Flask(__name__)\n",
    "\n",
    "# @app.route('/')\n",
    "# def company_details():\n",
    "#     details = \"\"\"\n",
    "#     <h1>Company Details</h1>\n",
    "#     <p>Company Name: ABC Corporation</p>\n",
    "#     <p>Location: India</p>\n",
    "#     <p>Contact Detail: 999-999-9999</p>\n",
    "#     \"\"\"\n",
    "#     return details\n",
    "\n",
    "# @app.route('/welcome')\n",
    "# def welcome_message():\n",
    "#     return '<h1>Welcome to ABC Corporation</h1>'\n",
    "\n",
    "# if __name__==\"__main__\":\n",
    "#     app.run(host=\"0.0.0.0\")"
   ]
  },
  {
   "cell_type": "code",
   "execution_count": null,
   "id": "5f8d4017-b005-45bd-819e-bfccbdd4b776",
   "metadata": {},
   "outputs": [],
   "source": []
  },
  {
   "cell_type": "code",
   "execution_count": null,
   "id": "099f11d1-8752-4247-9471-8be8e5a0ab2a",
   "metadata": {},
   "outputs": [],
   "source": []
  },
  {
   "cell_type": "code",
   "execution_count": null,
   "id": "b283f176-2658-4267-9a8d-9b01f4e691e8",
   "metadata": {},
   "outputs": [],
   "source": []
  },
  {
   "cell_type": "code",
   "execution_count": null,
   "id": "32aa5a9a-5032-41e0-b782-2985d88b0e37",
   "metadata": {},
   "outputs": [],
   "source": []
  },
  {
   "cell_type": "code",
   "execution_count": null,
   "id": "89f2feff-12bf-4ebb-892f-b23a94b87602",
   "metadata": {},
   "outputs": [],
   "source": []
  }
 ],
 "metadata": {
  "kernelspec": {
   "display_name": "Python 3 (ipykernel)",
   "language": "python",
   "name": "python3"
  },
  "language_info": {
   "codemirror_mode": {
    "name": "ipython",
    "version": 3
   },
   "file_extension": ".py",
   "mimetype": "text/x-python",
   "name": "python",
   "nbconvert_exporter": "python",
   "pygments_lexer": "ipython3",
   "version": "3.10.8"
  }
 },
 "nbformat": 4,
 "nbformat_minor": 5
}
