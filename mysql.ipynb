{
 "cells": [
  {
   "cell_type": "code",
   "execution_count": 1,
   "id": "abf60eec-6f84-4675-9279-207fdd7919ff",
   "metadata": {},
   "outputs": [],
   "source": [
    "# Q1. What is a database? Differentiate between SQL and NoSQL databases."
   ]
  },
  {
   "cell_type": "code",
   "execution_count": 2,
   "id": "6d63eeb1-d6e8-4ac1-a008-08a8881f5cc6",
   "metadata": {},
   "outputs": [],
   "source": [
    "# A database is a collection of organized data that allows for efficient retrieval and manipulation.\n",
    "\n",
    "# SQL Databases\n",
    "\n",
    "# Relational databases that use structured tables with fixed schemas\n",
    "# Data is stored in tables with rows and columns\n",
    "# Follows ACID principles (Atomicity, Consistency, Isolation, Durability) for reliable transactions\n",
    "# Vertically scalable (increase power of hardware)\n",
    "# Examples: MySQL, PostgreSQL, Microsoft SQL Server, Oracle\n",
    "\n",
    "\n",
    "# NoSQL Databases\n",
    "\n",
    "# Non-relational databases that use flexible data structures\n",
    "# Data is stored in formats like key-value pairs, documents, or graphs\n",
    "# Dynamic schema that can change as data is inserted\n",
    "# Horizontally scalable (add more nodes to the cluster)\n",
    "# May not follow ACID principles\n",
    "# Examples: MongoDB, Cassandra, Redis, RavenDB"
   ]
  },
  {
   "cell_type": "code",
   "execution_count": 3,
   "id": "d74c0cbf-182d-41aa-a87d-81b656593a8c",
   "metadata": {},
   "outputs": [],
   "source": [
    "# Q2. What is DDL? Explain why CREATE, DROP, ALTER, and TRUNCATE are used with an example."
   ]
  },
  {
   "cell_type": "code",
   "execution_count": 4,
   "id": "4d8da7b3-8753-4689-94ae-baad2491d795",
   "metadata": {},
   "outputs": [],
   "source": [
    "# CREATE, DROP, ALTER, and TRUNCATE\n",
    "\n",
    "# These are four essential DDL commands:\n",
    "\n",
    "# CREATE: Used to create a new database object, such as a table, index, or view.\n",
    "# Example: CREATE TABLE customers (id INT, name VARCHAR(255), email VARCHAR(255));\n",
    "\n",
    "# DROP: Used to delete a database object.\n",
    "# Example: DROP TABLE customers;\n",
    "\n",
    "# ALTER: Used to modify the structure of a database object.\n",
    "# Example: ALTER TABLE customers ADD COLUMN phone VARCHAR(20);\n",
    "\n",
    "# TRUNCATE: Used to delete all rows from a table, while preserving the table structure.\n",
    "# Example: TRUNCATE TABLE customers;"
   ]
  },
  {
   "cell_type": "code",
   "execution_count": 5,
   "id": "db3e90f8-2d8a-4fc0-9c87-f7211c34f41e",
   "metadata": {},
   "outputs": [],
   "source": [
    "# Q3. What is DML? Explain INSERT, UPDATE, and DELETE with an example."
   ]
  },
  {
   "cell_type": "code",
   "execution_count": 6,
   "id": "e74f8b61-ac6b-4a41-933f-05b6e9ea8b87",
   "metadata": {},
   "outputs": [],
   "source": [
    " # DML stands for Data Manipulation Language, which is a set of SQL commands used to manipulate and manage data in a database."
   ]
  },
  {
   "cell_type": "code",
   "execution_count": 7,
   "id": "eec155e1-13ac-43de-bc21-31435caf17f5",
   "metadata": {},
   "outputs": [],
   "source": [
    "# INSERT: Used to add new data to a table.\n",
    "# Example: INSERT INTO customers (id, name, email) VALUES (1, 'John Doe', 'johndoe@example.com');\n",
    "\n",
    "# This command inserts a new row into the customers table with the specified values.\n",
    "\n",
    "# UPDATE: Used to modify existing data in a table.\n",
    "# Example: UPDATE customers SET email = 'jane Doe@example.com' WHERE name = 'Jane Doe';\n",
    "\n",
    "# This command updates the email column for the row where name is 'Jane Doe' in the customers table.\n",
    "\n",
    "# DELETE: Used to delete data from a table.\n",
    "# Example: DELETE FROM customers WHERE id = 1;"
   ]
  },
  {
   "cell_type": "code",
   "execution_count": 8,
   "id": "9b650b6e-1a5d-4e06-893b-fa47716df69c",
   "metadata": {},
   "outputs": [],
   "source": [
    "# Q4. What is DQL? Explain SELECT with an example."
   ]
  },
  {
   "cell_type": "code",
   "execution_count": 9,
   "id": "0df0e78d-1320-4931-8255-6eccaef57e71",
   "metadata": {},
   "outputs": [],
   "source": [
    "# DQL stands for Data Query Language, which is a set of SQL commands used to retrieve and manipulate data in a database."
   ]
  },
  {
   "cell_type": "code",
   "execution_count": 10,
   "id": "64bbe907-32e9-4d83-b328-160b495fb703",
   "metadata": {},
   "outputs": [],
   "source": [
    "# SELECT Statement\n",
    "#     Retrieves data from a database table\n",
    "#     Example: SELECT * FROM customers WHERE country='USA';\n",
    "# Breakdown:\n",
    "#     SELECT *: Retrieves all columns\n",
    "#     FROM customers: Specifies the table\n",
    "#     WHERE country='USA': Filters results to only include rows where country is 'USA'\n",
    "# Can also specify specific columns to retrieve, e.g. SELECT name, email FROM customers WHERE country='USA';"
   ]
  },
  {
   "cell_type": "code",
   "execution_count": 11,
   "id": "73128eb1-8ea6-4c87-8902-89bce1a600a5",
   "metadata": {},
   "outputs": [],
   "source": [
    "# Q5. Explain Primary Key and Foreign Key."
   ]
  },
  {
   "cell_type": "code",
   "execution_count": 12,
   "id": "0e6036e9-cf19-4b81-a98a-ce65f2a420f3",
   "metadata": {},
   "outputs": [],
   "source": [
    "# Primary Key (PK)\n",
    "# Uniquely identifies each row in a table\n",
    "# Must be unique and non-null\n",
    "# Cannot be changed once inserted\n",
    "\n",
    "# Foreign Key (FK)\n",
    "# References the primary key of another table\n",
    "# Establishes relationships between tables\n",
    "# Values must match the referenced primary key\n",
    "# Example\n",
    "\n",
    "# customers table: customer_id (PK)\n",
    "# orders table: customer_id (FK) references customer_id (PK) in customers table"
   ]
  },
  {
   "cell_type": "code",
   "execution_count": 13,
   "id": "44b553c5-2ec6-4a54-ac66-4ba5c8427bbf",
   "metadata": {},
   "outputs": [],
   "source": [
    "# Q6. Write a python code to connect MySQL to python. Explain the cursor() and execute() method."
   ]
  },
  {
   "cell_type": "code",
   "execution_count": 18,
   "id": "5f5fadd2-fad2-4c9e-95b1-e3afcd55ab2b",
   "metadata": {},
   "outputs": [],
   "source": [
    "import mysql.connector"
   ]
  },
  {
   "cell_type": "code",
   "execution_count": 20,
   "id": "abd852e4-5b5c-4822-bbbd-a8a64fc2c8be",
   "metadata": {},
   "outputs": [],
   "source": [
    "# connection = mysql.connector.connect(\n",
    "#     host='localhost',\n",
    "#     user='dipakbishwas08 ',\n",
    "#     password='password'\n",
    "# )\n",
    "\n",
    "# cursor() method\n",
    "\n",
    "# Creates a cursor object, which is used to execute SQL queries and retrieve results from the database.\n",
    "# Think of it as a pointer that moves over the result set.\n",
    "\n",
    "# execute() method\n",
    "# Executes a SQL query using the cursor object.\n",
    "# Takes a string argument, which is the SQL query to be executed."
   ]
  },
  {
   "cell_type": "code",
   "execution_count": 21,
   "id": "1de763d5-a101-476f-843c-708077ddcf26",
   "metadata": {},
   "outputs": [],
   "source": [
    "# Q7. Give the order of execution of SQL clauses in an SQL query."
   ]
  },
  {
   "cell_type": "code",
   "execution_count": null,
   "id": "7700070a-fd48-45f5-a1a2-a4446d695829",
   "metadata": {},
   "outputs": [],
   "source": []
  }
 ],
 "metadata": {
  "kernelspec": {
   "display_name": "Python 3 (ipykernel)",
   "language": "python",
   "name": "python3"
  },
  "language_info": {
   "codemirror_mode": {
    "name": "ipython",
    "version": 3
   },
   "file_extension": ".py",
   "mimetype": "text/x-python",
   "name": "python",
   "nbconvert_exporter": "python",
   "pygments_lexer": "ipython3",
   "version": "3.10.8"
  }
 },
 "nbformat": 4,
 "nbformat_minor": 5
}
