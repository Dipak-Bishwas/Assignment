{
 "cells": [
  {
   "cell_type": "code",
   "execution_count": 1,
   "id": "b0c255f6-32c3-4ac0-b3e0-9641d13b8ff4",
   "metadata": {},
   "outputs": [],
   "source": [
    "# Q1.  Explain with an example each when to use a for loop and a while loop."
   ]
  },
  {
   "cell_type": "code",
   "execution_count": 2,
   "id": "6b838608-ebde-4ce4-8382-24243df8bea8",
   "metadata": {},
   "outputs": [],
   "source": [
    "# --> we used for loop when we already know number of iteration"
   ]
  },
  {
   "cell_type": "code",
   "execution_count": 3,
   "id": "11426339-60f3-46f1-978f-a5fcd5458a38",
   "metadata": {},
   "outputs": [],
   "source": [
    "# example of for loop\n",
    "l = [2,4,5,3,7,9,8]"
   ]
  },
  {
   "cell_type": "code",
   "execution_count": 4,
   "id": "18577ed4-cee8-4c39-89d1-13f5bc5949bb",
   "metadata": {},
   "outputs": [
    {
     "name": "stdout",
     "output_type": "stream",
     "text": [
      "2\n",
      "4\n",
      "5\n",
      "3\n",
      "7\n",
      "9\n",
      "8\n"
     ]
    }
   ],
   "source": [
    "for i in l:\n",
    "    print(i)"
   ]
  },
  {
   "cell_type": "code",
   "execution_count": 5,
   "id": "acc5051d-971b-43c6-911e-51d933a68089",
   "metadata": {},
   "outputs": [],
   "source": [
    "# --> we used for loop when we don't  know number of iteration"
   ]
  },
  {
   "cell_type": "code",
   "execution_count": 6,
   "id": "f950f8cc-8856-4cfb-b4c2-1f631e1f1bb0",
   "metadata": {},
   "outputs": [
    {
     "name": "stdout",
     "output_type": "stream",
     "text": [
      "1\n",
      "2\n",
      "3\n",
      "4\n",
      "5\n",
      "6\n",
      "7\n",
      "8\n",
      "9\n",
      "10\n"
     ]
    }
   ],
   "source": [
    "# example of while loop\n",
    "a = 1\n",
    "while a <= 10:\n",
    "    print(a)\n",
    "    a = a+1"
   ]
  },
  {
   "cell_type": "code",
   "execution_count": 7,
   "id": "e06a31a8-188a-4a0c-a08e-c15fee70783b",
   "metadata": {},
   "outputs": [],
   "source": [
    "# Q2.  Write a python program to print the sum and product of the first 10 natural numbers using for \n",
    "# and while loop."
   ]
  },
  {
   "cell_type": "code",
   "execution_count": 8,
   "id": "96926772-d677-4281-9deb-2c04b9cfcc48",
   "metadata": {},
   "outputs": [
    {
     "name": "stdout",
     "output_type": "stream",
     "text": [
      "sum of the first 10 natural number is : 55\n",
      "product of the first 10 natural number is : 3628800\n"
     ]
    }
   ],
   "source": [
    "# using for loop\n",
    "sum = 0 \n",
    "product = 1\n",
    "\n",
    "for i in range(1,11):\n",
    "    sum = sum+i\n",
    "    product = product*i\n",
    "    \n",
    "print(\"sum of the first 10 natural number is :\", sum)\n",
    "print(\"product of the first 10 natural number is :\", product)\n",
    "    \n"
   ]
  },
  {
   "cell_type": "code",
   "execution_count": 9,
   "id": "826f3167-0294-4c61-b6a9-add8b5552f0d",
   "metadata": {},
   "outputs": [
    {
     "name": "stdout",
     "output_type": "stream",
     "text": [
      "sum of the first 10 natural number is : 55\n",
      "product of the first 10 natural number is : 0\n"
     ]
    }
   ],
   "source": [
    "# using while loop\n",
    "sum = 0 \n",
    "product = 0 \n",
    "a = 1\n",
    "\n",
    "while a <= 10:\n",
    "    sum = sum+a\n",
    "    product = product*a \n",
    "    a = a+1\n",
    "print(\"sum of the first 10 natural number is :\", sum)\n",
    "print(\"product of the first 10 natural number is :\", product)\n"
   ]
  },
  {
   "cell_type": "code",
   "execution_count": 10,
   "id": "82f3e17e-1083-43dc-a8ee-4b4f765699bf",
   "metadata": {},
   "outputs": [],
   "source": [
    "# Q3. Create a python program to compute the electricity bill for a household.\n",
    "# The per-unit charges in rupees are as follows: For the first 100 units, the user will be charged Rs. 4.5 per\n",
    "# unit, for the next 100 units, the user will be charged Rs. 6 per unit, and for the next 100 units, the user will\n",
    "# be charged Rs. 10 per unit, After 300 units and above the user will be charged Rs. 20 per unit.\n",
    "# You are required to take the units of electricity consumed in a month from the user as input.\n",
    "# Your program must pass this test case: when the unit of electricity consumed by the user in a month is\n",
    "# 310, the total electricity bill should be 2250."
   ]
  },
  {
   "cell_type": "code",
   "execution_count": 18,
   "id": "153481f0-3ae1-464e-a416-1d67117ef08f",
   "metadata": {},
   "outputs": [
    {
     "name": "stdin",
     "output_type": "stream",
     "text": [
      "Enter the units consumed:  310\n"
     ]
    },
    {
     "name": "stdout",
     "output_type": "stream",
     "text": [
      "Electricity Bill: Rs.  2250.0\n"
     ]
    }
   ],
   "source": [
    "units_consumed = int(input(\"Enter the units consumed: \"))\n",
    "total_bill = 0\n",
    "\n",
    "if units_consumed <= 100:\n",
    "    total_bill = units_consumed * 4.5\n",
    "elif units_consumed <= 200:\n",
    "    total_bill = 100 * 4.5 + (units_consumed - 100) * 6\n",
    "elif units_consumed <= 300:\n",
    "    total_bill = 100 * 4.5 + 100 * 6 + (units_consumed - 200) * 10\n",
    "else:\n",
    "    total_bill = 100 * 4.5 + 100 * 6 + 100 * 10 + (units_consumed - 300) * 20\n",
    "\n",
    "print(\"Electricity Bill: Rs. \", total_bill)"
   ]
  },
  {
   "cell_type": "code",
   "execution_count": 11,
   "id": "8b9b47e5-890d-4aac-b826-6882b5926192",
   "metadata": {},
   "outputs": [],
   "source": [
    "# Q4. Create a list of numbers from 1 to 100. Use for loop and while loop to calculate the cube of each \n",
    "# number and if the cube of that number is divisible by 4 or 5 then append that number in a list and print \n",
    "# that list."
   ]
  },
  {
   "cell_type": "code",
   "execution_count": 12,
   "id": "047e84c2-b361-4c40-8d1d-546f71384f13",
   "metadata": {},
   "outputs": [
    {
     "name": "stdout",
     "output_type": "stream",
     "text": [
      "[8, 64, 125, 216, 512, 1000, 1728, 2744, 3375, 4096, 5832, 8000, 10648, 13824, 15625, 17576, 21952, 27000, 32768, 39304, 42875, 46656, 54872, 64000, 74088, 85184, 91125, 97336, 110592, 125000, 140608, 157464, 166375, 175616, 195112, 216000, 238328, 262144, 274625, 287496, 314432, 343000, 373248, 405224, 421875, 438976, 474552, 512000, 551368, 592704, 614125, 636056, 681472, 729000, 778688, 830584, 857375, 884736, 941192, 1000000]\n"
     ]
    }
   ],
   "source": [
    "# using for loop\n",
    "cubes_list = []\n",
    "for i in  range(1,101):\n",
    "    cube = i**3\n",
    "    if cube % 4 == 0 or cube % 5 == 0:\n",
    "        cubes_list.append(cube)\n",
    "print(cubes_list)\n",
    "    \n",
    "    \n",
    "    "
   ]
  },
  {
   "cell_type": "code",
   "execution_count": 13,
   "id": "6818090e-f694-4918-98e4-fe6b1c179871",
   "metadata": {},
   "outputs": [
    {
     "name": "stdout",
     "output_type": "stream",
     "text": [
      "[8, 64, 125, 216, 512, 1000, 1728, 2744, 3375, 4096, 5832, 8000, 10648, 13824, 15625, 17576, 21952, 27000, 32768, 39304, 42875, 46656, 54872, 64000, 74088, 85184, 91125, 97336, 110592, 125000, 140608, 157464, 166375, 175616, 195112, 216000, 238328, 262144, 274625, 287496, 314432, 343000, 373248, 405224, 421875, 438976, 474552, 512000, 551368, 592704, 614125, 636056, 681472, 729000, 778688, 830584, 857375, 884736, 941192, 1000000]\n"
     ]
    }
   ],
   "source": [
    "# using while loop\n",
    "cubes_list = []\n",
    "i = 1\n",
    "while i <= 100:\n",
    "    cube = i ** 3\n",
    "    if cube % 4 == 0 or cube % 5 == 0:\n",
    "        cubes_list.append(cube)\n",
    "    i = i+1\n",
    "print(cubes_list)\n",
    "\n",
    "    "
   ]
  },
  {
   "cell_type": "code",
   "execution_count": 20,
   "id": "cfa13261-f7ac-4586-bd2a-e2f4ac67fc62",
   "metadata": {},
   "outputs": [
    {
     "name": "stdout",
     "output_type": "stream",
     "text": [
      "The number of vowels in the string is: 12\n"
     ]
    }
   ],
   "source": [
    "# Q5. Write a program to filter count vowels in the below-given string.\n",
    "# string = \"I want to become a data scientist\"\n",
    "\n",
    "string = \"I want to become a data scientist\"\n",
    "\n",
    "vowels = \"aeiouAEIOU\" \n",
    "count = 0\n",
    "for char in string:\n",
    "    if char in vowels:\n",
    "        count  = count + 1\n",
    "\n",
    "print(\"The number of vowels in the string is:\", count)\n"
   ]
  },
  {
   "cell_type": "code",
   "execution_count": null,
   "id": "bdc1ffad-8165-4282-80b4-030ac8960276",
   "metadata": {},
   "outputs": [],
   "source": []
  }
 ],
 "metadata": {
  "kernelspec": {
   "display_name": "Python 3 (ipykernel)",
   "language": "python",
   "name": "python3"
  },
  "language_info": {
   "codemirror_mode": {
    "name": "ipython",
    "version": 3
   },
   "file_extension": ".py",
   "mimetype": "text/x-python",
   "name": "python",
   "nbconvert_exporter": "python",
   "pygments_lexer": "ipython3",
   "version": "3.10.8"
  }
 },
 "nbformat": 4,
 "nbformat_minor": 5
}
