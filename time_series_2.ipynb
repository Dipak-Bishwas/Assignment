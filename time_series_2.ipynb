{
 "cells": [
  {
   "cell_type": "code",
   "execution_count": 1,
   "id": "129637ff-e000-4dbd-a183-384381daf2ba",
   "metadata": {},
   "outputs": [],
   "source": [
    "# Q1. What is meant by time-dependent seasonal components?"
   ]
  },
  {
   "cell_type": "code",
   "execution_count": 2,
   "id": "81b769f5-bbd5-4fc4-8f3f-73a052ab1849",
   "metadata": {},
   "outputs": [],
   "source": [
    "# Time-dependent seasonal components refer to repeating patterns or fluctuations in a time series that occur at regular \n",
    "# intervals (e.g., monthly, annually), but where the pattern or intensity may change over time.\n",
    "\n",
    "# Characteristics:\n",
    "# Occur at consistent intervals.\n",
    "# Strength or form of the pattern can vary.\n",
    "# Important for accurate forecasting and analysis.\n",
    "\n",
    "# Examples:\n",
    "# Seasonal retail sales varying in intensity each year.\n",
    "# Fluctuations in temperature showing yearly patterns with changing ranges.\n",
    "\n",
    "# Understanding these components helps in better modeling and forecasting of time series data."
   ]
  },
  {
   "cell_type": "code",
   "execution_count": 3,
   "id": "6d9bd084-aadc-4906-8015-71f37b0ee335",
   "metadata": {},
   "outputs": [],
   "source": [
    "# Q2. How can time-dependent seasonal components be identified in time series data?"
   ]
  },
  {
   "cell_type": "code",
   "execution_count": 4,
   "id": "666f2aec-a022-4323-b6f6-ac009c84998e",
   "metadata": {},
   "outputs": [],
   "source": [
    "# Visual Inspection: Plot the time series data to identify non-stationary seasonal patterns.\n",
    "\n",
    "# Seasonal Decomposition: Use techniques like STL decomposition or seasonal-trend decomposition to extract seasonal \n",
    "# components and check for changes over time.\n",
    "\n",
    "# Autocorrelation Function (ACF) and Partial Autocorrelation Function (PACF) Plots: Analyze the ACF and PACF plots to \n",
    "# identify non-stationary seasonal patterns.\n",
    "\n",
    "# Machine Learning and Deep Learning Techniques: Use techniques like recurrent neural networks (RNNs) or long short-term \n",
    "# memory (LSTM) networks to identify complex patterns and non-stationarity in the data."
   ]
  },
  {
   "cell_type": "code",
   "execution_count": 5,
   "id": "a062196c-a730-4fd9-89d3-14f051e1a1ee",
   "metadata": {},
   "outputs": [],
   "source": [
    "# Q3. What are the factors that can influence time-dependent seasonal components?"
   ]
  },
  {
   "cell_type": "code",
   "execution_count": 6,
   "id": "37011baf-568b-4914-82e6-2465ea8d4d4d",
   "metadata": {},
   "outputs": [],
   "source": [
    "# External factors: weather, economic trends, demographic changes, and technological advancements\n",
    "# Internal factors: business strategies, product life cycles, and operational changes\n",
    "# Social and cultural factors: holidays, social media trends, and lifestyle changes\n",
    "# Data-related factors: data quality, collection methods, and data seasonality"
   ]
  },
  {
   "cell_type": "code",
   "execution_count": 7,
   "id": "0783b77e-ab8c-4299-a41a-7c8d6caf98f4",
   "metadata": {},
   "outputs": [],
   "source": [
    "# Q4. How are autoregression models used in time series analysis and forecasting?"
   ]
  },
  {
   "cell_type": "code",
   "execution_count": 8,
   "id": "eb98662f-e119-4400-ae68-b5f288549aea",
   "metadata": {},
   "outputs": [],
   "source": [
    "# Concept: Predict future values based on past values using a linear equation.\n",
    "# Model Specification: Determine number of lags (p) using AIC/BIC, estimate coefficients (φ) from historical data.\n",
    "# Forecasting: Apply estimated coefficients to recent observations to predict future values.\n",
    "# Evaluation: Assess model performance through residual analysis.\n",
    "# Applications: Economic forecasting (GDP, inflation), demand forecasting (product sales).\n",
    "# Advantages: Simple, interpretable, effective for linear relationships.\n",
    "# Limitations: Assume linearity, require stationarity, may need data transformation."
   ]
  },
  {
   "cell_type": "code",
   "execution_count": 9,
   "id": "ba0d060d-b742-4f2d-800d-b8ff4c3adea1",
   "metadata": {},
   "outputs": [],
   "source": [
    "# Q5. How do you use autoregression models to make predictions for future time points?"
   ]
  },
  {
   "cell_type": "code",
   "execution_count": 10,
   "id": "3c999628-7c87-4080-8a1a-766d323323b8",
   "metadata": {},
   "outputs": [],
   "source": [
    "# Using Autoregression (AR) Models for Future Predictions\n",
    "\n",
    "# Estimate model parameters (coefficients and number of lags) from historical data.\n",
    "# Select the forecast origin (last available time point).\n",
    "# Generate predictions using the estimated model parameters and past values.\n",
    "\n",
    "# Prediction Equation: Y(t) = φ1 * Y(t-1) + φ2 * Y(t-2) + … + φp * Y(t-p) + ε(t)\n",
    "\n",
    "# Example: Predict Y(10) using an AR(2) model with coefficients φ1 = 0.8 and φ2 = 0.2, and past values Y(9) = 20 and Y(8) = 18\n",
    "\n",
    "# Result: Y(10) = 20.0\n"
   ]
  },
  {
   "cell_type": "code",
   "execution_count": 11,
   "id": "3a1065bc-c82f-41d1-a02e-d43f5fcec3e9",
   "metadata": {},
   "outputs": [],
   "source": [
    "# Q6. What is a moving average (MA) model and how does it differ from other time series models?"
   ]
  },
  {
   "cell_type": "code",
   "execution_count": 12,
   "id": "8f711412-9bf9-4c64-926d-517c5d0f7a82",
   "metadata": {},
   "outputs": [],
   "source": [
    "# Definition: A time series model where the current value is a linear combination of past error terms (white noise).\n",
    "\n",
    "# Formula: For an MA(q) model:\n",
    "\n",
    "# Yt = μ + θ1εt-1 + θ2εt-2 + … + θqεt-q + εt\n",
    "\n",
    "# Key Components:\n",
    "\n",
    "# μ: Mean of the time series\n",
    "# θi: Parameters\n",
    "# εt: White noise error terms\n",
    "# Key Characteristics:\n",
    "\n",
    "# Models residuals or noise in time series data\n",
    "# Utilizes past error terms rather than past observations\n",
    "\n",
    "\n",
    "# Differences from Other Models:\n",
    "\n",
    "# AR Model: Uses past values of the series\n",
    "# MA Model: Uses past error terms\n",
    "# ARMA Model: Combines both AR and MA components\n"
   ]
  },
  {
   "cell_type": "code",
   "execution_count": 13,
   "id": "6c64ea54-0299-47c0-9513-b66e5b467e5d",
   "metadata": {},
   "outputs": [],
   "source": [
    "# Q7. What is a mixed ARMA model and how does it differ from an AR or MA model?"
   ]
  },
  {
   "cell_type": "code",
   "execution_count": 14,
   "id": "856cb438-5a8c-4c5b-8932-3abf6eb91488",
   "metadata": {},
   "outputs": [],
   "source": [
    "# Combines features of AR and MA models\n",
    "# Formula: Yt = μ + φ1Yt-1 + … + φpYt-p + θ1εt-1 + … + θqεt-q + εt\n",
    "# Uses both past values (AR) and past error terms (MA) to forecast future values\n",
    "# More flexible and accurate than AR or MA models alone\n",
    "# Captures short-term correlations, random fluctuations, and long-term trends in time series data"
   ]
  },
  {
   "cell_type": "code",
   "execution_count": null,
   "id": "4773ea1d-aceb-47ea-a5c6-95fbb6313449",
   "metadata": {},
   "outputs": [],
   "source": []
  },
  {
   "cell_type": "code",
   "execution_count": null,
   "id": "1f8e790e-a7e4-4d3a-9b9c-9b22d69d8dc5",
   "metadata": {},
   "outputs": [],
   "source": []
  },
  {
   "cell_type": "code",
   "execution_count": null,
   "id": "d99f78db-f686-4d15-8e44-1678e55f0211",
   "metadata": {},
   "outputs": [],
   "source": []
  }
 ],
 "metadata": {
  "kernelspec": {
   "display_name": "Python 3 (ipykernel)",
   "language": "python",
   "name": "python3"
  },
  "language_info": {
   "codemirror_mode": {
    "name": "ipython",
    "version": 3
   },
   "file_extension": ".py",
   "mimetype": "text/x-python",
   "name": "python",
   "nbconvert_exporter": "python",
   "pygments_lexer": "ipython3",
   "version": "3.10.8"
  }
 },
 "nbformat": 4,
 "nbformat_minor": 5
}
