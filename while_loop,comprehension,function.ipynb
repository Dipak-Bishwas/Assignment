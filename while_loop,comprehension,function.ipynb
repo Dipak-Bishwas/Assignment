{
 "cells": [
  {
   "cell_type": "code",
   "execution_count": 6,
   "id": "e05d4c9a-629d-4bc6-bc58-752fdb153ce7",
   "metadata": {},
   "outputs": [],
   "source": [
    "# Q1. Which keyword is used to create a function? Create a function to return a list of odd numbers in the\n",
    "#  range of 1 to 25. "
   ]
  },
  {
   "cell_type": "code",
   "execution_count": 7,
   "id": "ed7c3410-d1a3-4d32-94d6-0504c9b70206",
   "metadata": {},
   "outputs": [],
   "source": [
    "# Ans-> def functionName():"
   ]
  },
  {
   "cell_type": "code",
   "execution_count": 10,
   "id": "6fdef886-75c7-41fb-9df3-32fc54c67f20",
   "metadata": {},
   "outputs": [],
   "source": [
    "def odd_numbers():\n",
    "    odd_numbers = []\n",
    "    for num in range(1, 26):\n",
    "        if num % 2 != 0:\n",
    "            odd_numbers.append(num)\n",
    "    return odd_numbers"
   ]
  },
  {
   "cell_type": "code",
   "execution_count": 11,
   "id": "418fd3f8-71de-4fd2-afac-1deff1dd4852",
   "metadata": {},
   "outputs": [
    {
     "data": {
      "text/plain": [
       "[1, 3, 5, 7, 9, 11, 13, 15, 17, 19, 21, 23, 25]"
      ]
     },
     "execution_count": 11,
     "metadata": {},
     "output_type": "execute_result"
    }
   ],
   "source": [
    "odd_numbers()"
   ]
  },
  {
   "cell_type": "code",
   "execution_count": 12,
   "id": "46bcdb9b-86aa-47f6-a07c-9c88f1f0f71c",
   "metadata": {},
   "outputs": [],
   "source": [
    "# Q2. Why *args and **kwargs is used in some functions? Create a function each for *args and **kwargs\n",
    "# to demonstrate their use."
   ]
  },
  {
   "cell_type": "code",
   "execution_count": 2,
   "id": "5ca9c275-3d3e-4ac0-bd0e-57f39549515a",
   "metadata": {},
   "outputs": [],
   "source": [
    "# Ans->  *args (Arbitrary Arguments)\n",
    "#        The *args parameter allows a function to accept any number of positional arguments.It collects all the positional arguments into a tuple within the function.The * before args unpacks the arguments when passed into the function.This is useful when you want to pass a variable number of arguments to a function without specifying them individually."
   ]
  },
  {
   "cell_type": "code",
   "execution_count": 3,
   "id": "a5a971c2-61a4-4a60-ad3e-fb4b185c8f4c",
   "metadata": {},
   "outputs": [],
   "source": [
    "# Function of *args"
   ]
  },
  {
   "cell_type": "code",
   "execution_count": 9,
   "id": "dd0dce09-8852-4f08-8c97-eecd2fb206c5",
   "metadata": {},
   "outputs": [],
   "source": [
    "def args_function(*args):\n",
    "    for arg in args:\n",
    "        print(arg)"
   ]
  },
  {
   "cell_type": "code",
   "execution_count": 10,
   "id": "8a61b2ff-10a2-4430-9807-b605909e1edf",
   "metadata": {},
   "outputs": [
    {
     "name": "stdout",
     "output_type": "stream",
     "text": [
      "10\n",
      "20\n",
      "30\n",
      "40\n",
      "50\n"
     ]
    }
   ],
   "source": [
    "args_function(10, 20, 30, 40, 50)"
   ]
  },
  {
   "cell_type": "code",
   "execution_count": 11,
   "id": "fe9c6a15-a4d0-4663-a7fe-612e825bdfd5",
   "metadata": {},
   "outputs": [],
   "source": [
    "# **kwargs (Keyword Arguments)\n",
    "# The **kwargs parameter allows a function to accept any number of keyword arguments.It collects all the keyword arguments into a dictionary within the function.The ** before kwargs unpacks the keyword arguments when passed into the function.This is useful when you want to pass a variable number of named arguments to a function without specifying them individually."
   ]
  },
  {
   "cell_type": "code",
   "execution_count": 12,
   "id": "469f9014-0ef9-43a6-8d55-adb75812208f",
   "metadata": {},
   "outputs": [],
   "source": [
    "# Function of **kwargs"
   ]
  },
  {
   "cell_type": "code",
   "execution_count": 13,
   "id": "1dc06560-9bda-4e40-892c-19f8fddb0862",
   "metadata": {},
   "outputs": [],
   "source": [
    "def kwargs_function(**kwargs):\n",
    "    for key, value in kwargs.items():\n",
    "        print(key + \": \" + str(value))"
   ]
  },
  {
   "cell_type": "code",
   "execution_count": 16,
   "id": "b1fc990e-bdf4-4882-a350-9e1172801320",
   "metadata": {},
   "outputs": [
    {
     "name": "stdout",
     "output_type": "stream",
     "text": [
      "name: Dipak\n",
      "collage: GEC Daman\n",
      "rollno: 201420107013\n",
      "city: Daman\n"
     ]
    }
   ],
   "source": [
    "kwargs_function(name=\"Dipak\", collage=\"GEC Daman\", rollno=201420107013, city=\"Daman\")"
   ]
  },
  {
   "cell_type": "code",
   "execution_count": 17,
   "id": "b8f90ffb-9157-4476-9fb4-8a5391d25b62",
   "metadata": {},
   "outputs": [],
   "source": [
    "\n",
    "# Q3. What is an iterator in python? Name the method used to initialise the iterator object and the method\n",
    "# used for iteration. Use these methods to print the first five elements of the given list [2, 4, 6, 8, 10, 12, 14,\n",
    "# 16, 18, 20]."
   ]
  },
  {
   "cell_type": "code",
   "execution_count": 1,
   "id": "9302f1e8-f360-4611-8a9a-f67f985e3fe5",
   "metadata": {},
   "outputs": [],
   "source": [
    "# Ans:\n",
    "#  Iterator is an object that allows you to iterate over collections of data, such as lists, tuples, dictionaries, and sets. It provides a way to access the elements of a container one at a time, without the need to know the underlying implementation details of the container.\n",
    "    \n",
    "#  To initialize an iterator object in Python, we use the iter() method. This method takes an iterable (such as a list) as an argument and returns an iterator object associated with that iterable.\n",
    "\n",
    "#  To iterate over the elements of an iterator object, we use the next() method. This method retrieves the next element from the iterator. We can call next() repeatedly to access the subsequent elements in the iterator."
   ]
  },
  {
   "cell_type": "code",
   "execution_count": 22,
   "id": "f7eaad86-e44c-4eef-91f7-90a93e4455e8",
   "metadata": {},
   "outputs": [],
   "source": [
    "l = [2, 4, 6, 8, 10, 12, 14, 16, 18, 20]"
   ]
  },
  {
   "cell_type": "code",
   "execution_count": 23,
   "id": "30f48d65-3a3f-42ca-9d24-1a81ba7ce3d9",
   "metadata": {},
   "outputs": [],
   "source": [
    "iterator = iter(l)"
   ]
  },
  {
   "cell_type": "code",
   "execution_count": 25,
   "id": "955ed5b0-1b3e-4580-a41c-b6144fe1d616",
   "metadata": {},
   "outputs": [
    {
     "name": "stdout",
     "output_type": "stream",
     "text": [
      "2\n",
      "4\n",
      "6\n",
      "8\n",
      "10\n",
      "12\n",
      "14\n",
      "16\n",
      "18\n",
      "20\n"
     ]
    }
   ],
   "source": [
    "for i in range(10):\n",
    "    element = next(iterator)\n",
    "    print(element)"
   ]
  },
  {
   "cell_type": "code",
   "execution_count": 26,
   "id": "54de2ffe-2b82-4b4b-ad19-3a4bbd192723",
   "metadata": {},
   "outputs": [],
   "source": [
    "# Q4. What is a generator function in python? Why yield keyword is used? Give an example of a generator\n",
    "# function."
   ]
  },
  {
   "cell_type": "code",
   "execution_count": 3,
   "id": "caf468b2-f8c6-4f2f-9cc1-00c219e7a5c6",
   "metadata": {},
   "outputs": [],
   "source": [
    "# Ans: A generator function is a special type of function that generates a sequence of values using the yield keyword.\n",
    "\n",
    "#      The yield keyword in Python controls the flow of a generator function.\n",
    "    "
   ]
  },
  {
   "cell_type": "code",
   "execution_count": 4,
   "id": "d472847a-4c9a-4cf0-afc9-338eaec13816",
   "metadata": {},
   "outputs": [],
   "source": [
    "# Example of a generator function "
   ]
  },
  {
   "cell_type": "code",
   "execution_count": 8,
   "id": "a4c08234-e2a4-47db-b14a-f699e80fa27a",
   "metadata": {},
   "outputs": [],
   "source": [
    "# fibonacci series\n",
    "def fib(n):\n",
    "    a,b = 0,1\n",
    "    for i in range(n):\n",
    "        yield a \n",
    "        a,b = b , a+b"
   ]
  },
  {
   "cell_type": "code",
   "execution_count": 9,
   "id": "1f253f79-68d5-472b-b672-bb58837adf9f",
   "metadata": {},
   "outputs": [
    {
     "name": "stdout",
     "output_type": "stream",
     "text": [
      "0\n",
      "1\n",
      "1\n",
      "2\n",
      "3\n",
      "5\n",
      "8\n",
      "13\n",
      "21\n",
      "34\n"
     ]
    }
   ],
   "source": [
    "for i in fib(10):\n",
    "    print(i)"
   ]
  },
  {
   "cell_type": "code",
   "execution_count": 10,
   "id": "f54f3782-195e-40ce-a166-86065575d589",
   "metadata": {},
   "outputs": [],
   "source": [
    "# Q5. Create a generator function for prime numbers less than 1000. Use the next() method to print the\n",
    "# first 20 prime numbers."
   ]
  },
  {
   "cell_type": "code",
   "execution_count": 11,
   "id": "91a9d77e-556c-4b8a-bf87-586426254dec",
   "metadata": {},
   "outputs": [],
   "source": [
    "def generator():\n",
    "    a = 2\n",
    "    while a < 1000:\n",
    "        if prime(a):\n",
    "            yield a\n",
    "        a += 1"
   ]
  },
  {
   "cell_type": "code",
   "execution_count": 12,
   "id": "0464bc46-ffdf-4f31-a2c0-f28f1d4e62f6",
   "metadata": {},
   "outputs": [],
   "source": [
    "def prime(n):\n",
    "    if n < 2:\n",
    "        return Fasle\n",
    "    for i in range(2, int(n**0.5)+1):\n",
    "        if n%i ==0:\n",
    "            return False\n",
    "    return True\n",
    "        "
   ]
  },
  {
   "cell_type": "code",
   "execution_count": 13,
   "id": "4de1890f-3bbd-4c92-969b-77c773091165",
   "metadata": {},
   "outputs": [],
   "source": [
    "prime_generator = generator()"
   ]
  },
  {
   "cell_type": "code",
   "execution_count": 14,
   "id": "6902d55b-cb67-4542-9116-fcf84cfc8d85",
   "metadata": {},
   "outputs": [
    {
     "name": "stdout",
     "output_type": "stream",
     "text": [
      "2\n",
      "3\n",
      "5\n",
      "7\n",
      "11\n",
      "13\n",
      "17\n",
      "19\n",
      "23\n",
      "29\n",
      "31\n",
      "37\n",
      "41\n",
      "43\n",
      "47\n",
      "53\n",
      "59\n",
      "61\n",
      "67\n",
      "71\n"
     ]
    }
   ],
   "source": [
    "for i in range(20):\n",
    "    prime_no = next(prime_generator)\n",
    "    print(prime_no)"
   ]
  },
  {
   "cell_type": "code",
   "execution_count": 11,
   "id": "9ced4473-ece1-4010-9cd6-5e68c528f01f",
   "metadata": {},
   "outputs": [],
   "source": [
    "# Q6. Write a python program to print the first 10 Fibonacci numbers using a while loop."
   ]
  },
  {
   "cell_type": "code",
   "execution_count": 15,
   "id": "dc3a3ae8-0b42-4baf-9bf0-a344f0ca7ada",
   "metadata": {},
   "outputs": [
    {
     "name": "stdout",
     "output_type": "stream",
     "text": [
      "0\n",
      "1\n",
      "1\n",
      "2\n",
      "3\n",
      "5\n",
      "8\n",
      "13\n",
      "21\n",
      "34\n"
     ]
    }
   ],
   "source": [
    "a = 0\n",
    "b = 1\n",
    "c = 0\n",
    "\n",
    "while c<10:\n",
    "    print(a)\n",
    "    d = a+b\n",
    "    a = b\n",
    "    b = d\n",
    "    c +=1\n"
   ]
  },
  {
   "cell_type": "code",
   "execution_count": 15,
   "id": "2271a7c4-b198-4678-8c03-93f60fd78116",
   "metadata": {},
   "outputs": [],
   "source": [
    "# Q7. Write a List Comprehension to iterate through the given string: ‘pwskills’.\n",
    "# Expected output: ['p', 'w', 's', 'k', 'i', 'l', 'l', 's']"
   ]
  },
  {
   "cell_type": "code",
   "execution_count": 16,
   "id": "95d8c330-52d7-4459-8049-bf99508779ac",
   "metadata": {},
   "outputs": [
    {
     "name": "stdout",
     "output_type": "stream",
     "text": [
      "['p', 'w', 's', 'k', 'i', 'l', 'l', 's']\n"
     ]
    }
   ],
   "source": [
    "s = 'pwskills'\n",
    "output = [char for char in s]\n",
    "print(output)\n"
   ]
  },
  {
   "cell_type": "code",
   "execution_count": 17,
   "id": "1ec85f44-1004-4db3-8581-2503dd47beb8",
   "metadata": {},
   "outputs": [],
   "source": [
    "# Q8. Write a python program to check whether a given number is Palindrome or not using a while loop."
   ]
  },
  {
   "cell_type": "code",
   "execution_count": 19,
   "id": "8190839f-79da-43cf-ad9c-191a2f55067b",
   "metadata": {},
   "outputs": [
    {
     "name": "stdin",
     "output_type": "stream",
     "text": [
      "Enter a number 222\n"
     ]
    },
    {
     "name": "stdout",
     "output_type": "stream",
     "text": [
      "The number is palindrome\n"
     ]
    }
   ],
   "source": [
    "num = int(input(\"Enter a number\"))\n",
    "temp = num\n",
    "rev = 0\n",
    "while(num>0):\n",
    "    dig = num%10\n",
    "    rev = rev*10+dig\n",
    "    num = num//10\n",
    "if(temp==rev):\n",
    "    print(\"The number is palindrome\")\n",
    "else:\n",
    "    print(\"Not a palindrom\")"
   ]
  },
  {
   "cell_type": "code",
   "execution_count": 20,
   "id": "1f5f5a5c-96e4-488a-b8c5-5348148d273e",
   "metadata": {},
   "outputs": [],
   "source": [
    "# Q9. Write a code to print odd numbers from 1 to 100 using list comprehension.\n",
    "# Note: Use a list comprehension to create a list from 1 to 100 and use another List comprehension to filter\n",
    "# out odd numbers."
   ]
  },
  {
   "cell_type": "code",
   "execution_count": 22,
   "id": "61654a99-59ce-4969-a65a-2e27ac10d185",
   "metadata": {},
   "outputs": [
    {
     "name": "stdout",
     "output_type": "stream",
     "text": [
      "[1, 3, 5, 7, 9, 11, 13, 15, 17, 19, 21, 23, 25, 27, 29, 31, 33, 35, 37, 39, 41, 43, 45, 47, 49, 51, 53, 55, 57, 59, 61, 63, 65, 67, 69, 71, 73, 75, 77, 79, 81, 83, 85, 87, 89, 91, 93, 95, 97, 99]\n"
     ]
    }
   ],
   "source": [
    "odd = [num for num in range(1, 101) if num % 2 != 0]\n",
    "print(odd)"
   ]
  },
  {
   "cell_type": "code",
   "execution_count": null,
   "id": "88cf681d-7ab9-4b21-ba50-75de3d7b9e73",
   "metadata": {},
   "outputs": [],
   "source": []
  }
 ],
 "metadata": {
  "kernelspec": {
   "display_name": "Python 3 (ipykernel)",
   "language": "python",
   "name": "python3"
  },
  "language_info": {
   "codemirror_mode": {
    "name": "ipython",
    "version": 3
   },
   "file_extension": ".py",
   "mimetype": "text/x-python",
   "name": "python",
   "nbconvert_exporter": "python",
   "pygments_lexer": "ipython3",
   "version": "3.10.8"
  }
 },
 "nbformat": 4,
 "nbformat_minor": 5
}
