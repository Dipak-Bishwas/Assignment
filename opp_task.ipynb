{
 "cells": [
  {
   "cell_type": "code",
   "execution_count": 1,
   "id": "11153715-5353-4adf-8ac5-d0c2f34108f1",
   "metadata": {},
   "outputs": [],
   "source": [
    "# Q1, Create a vehicle class with an init method having instance variables as name_of_vehicle, max_speed\n",
    "# and average_of_vehicle."
   ]
  },
  {
   "cell_type": "code",
   "execution_count": 5,
   "id": "9caeeb6d-e438-4716-b361-63ca3dd783c7",
   "metadata": {},
   "outputs": [],
   "source": [
    "class Vehicle:\n",
    "    def __init__(self, name_of_vehicle, max_speed, average_of_vehicle):\n",
    "        self.name_of_vehicle = name_of_vehicle\n",
    "        self.max_speed = max_speed\n",
    "        self.average_of_vehicle = average_of_vehicle\n"
   ]
  },
  {
   "cell_type": "code",
   "execution_count": null,
   "id": "84bff256-5a2d-43cd-81af-8615d47ce022",
   "metadata": {},
   "outputs": [],
   "source": [
    "# Q2. Create a child class car from the vehicle class created in Que 1, which will inherit the vehicle class.\n",
    "# Create a method named seating_capacity which takes capacity as an argument and returns the name of\n",
    "# the vehicle and its seating capacity."
   ]
  },
  {
   "cell_type": "code",
   "execution_count": 11,
   "id": "360cc3a6-2882-40f4-af74-ece6c2b55985",
   "metadata": {},
   "outputs": [
    {
     "name": "stdout",
     "output_type": "stream",
     "text": [
      "autorickshaw has a seating capacity of 5 passengers.\n"
     ]
    }
   ],
   "source": [
    "class Car(Vehicle):\n",
    "    def seating_capacity(self, capacity):\n",
    "        return f\"{self.name_of_vehicle} has a seating capacity of {capacity} passengers.\"\n",
    "\n",
    "car1 = Car(\"autorickshaw\", 180 , 5)\n",
    "\n",
    "capacity_message = car1.seating_capacity(5)\n",
    "print(capacity_message)\n"
   ]
  },
  {
   "cell_type": "code",
   "execution_count": 12,
   "id": "38e8c232-c71a-4a56-8d05-a8fdb97de90a",
   "metadata": {},
   "outputs": [],
   "source": [
    "# Q3. What is multiple inheritance? Write a python code to demonstrate multiple inheritance."
   ]
  },
  {
   "cell_type": "code",
   "execution_count": null,
   "id": "1761baca-dc4e-4159-913c-adbd62d1d43d",
   "metadata": {},
   "outputs": [],
   "source": [
    "# Ans:\n",
    "# Multiple inheritance is a feature in object-oriented programming where a class can inherit properties and behaviors from more than one parent class. In other words, a subclass can inherit from multiple base classes, thereby gaining the attributes and methods of all the parent classes."
   ]
  },
  {
   "cell_type": "code",
   "execution_count": 19,
   "id": "fb9c86e5-ef6a-440e-b1b2-d5ac7a050a32",
   "metadata": {},
   "outputs": [],
   "source": [
    "class Animal:\n",
    "    def __init__(self, species):\n",
    "        self.species = species\n",
    "\n",
    "    def make_sound(self):\n",
    "        print(\"Some generic animal sound.\")\n",
    "\n",
    "\n",
    "class Flyable:\n",
    "    def fly(self):\n",
    "        print(\"I can fly!\")\n",
    "\n",
    "\n",
    "class Bird(Animal, Flyable):\n",
    "    def __init__(self, species):\n",
    "        super().__init__(species)\n",
    "\n",
    "    def make_sound(self):\n",
    "        print(\"Chirp chirp!\")"
   ]
  },
  {
   "cell_type": "code",
   "execution_count": 20,
   "id": "fae570e5-d067-45f0-b529-b50bb5399b6c",
   "metadata": {},
   "outputs": [],
   "source": [
    "bird = Bird(\"Sparrow\")"
   ]
  },
  {
   "cell_type": "code",
   "execution_count": 21,
   "id": "abe49009-c1e0-4c0c-a796-02ecf04fde6c",
   "metadata": {},
   "outputs": [
    {
     "name": "stdout",
     "output_type": "stream",
     "text": [
      "I can fly!\n"
     ]
    }
   ],
   "source": [
    "bird.fly()"
   ]
  },
  {
   "cell_type": "code",
   "execution_count": 22,
   "id": "7ed9aa8f-752b-4a71-90f8-4da86e1ce1c1",
   "metadata": {},
   "outputs": [
    {
     "name": "stdout",
     "output_type": "stream",
     "text": [
      "Chirp chirp!\n"
     ]
    }
   ],
   "source": [
    "bird.make_sound()"
   ]
  },
  {
   "cell_type": "code",
   "execution_count": 23,
   "id": "319ba01d-87fb-4cca-baed-67d7a3cd5154",
   "metadata": {},
   "outputs": [
    {
     "name": "stdout",
     "output_type": "stream",
     "text": [
      "Species: Sparrow\n"
     ]
    }
   ],
   "source": [
    "print(\"Species:\", bird.species)"
   ]
  },
  {
   "cell_type": "code",
   "execution_count": 24,
   "id": "535df261-d3d3-429e-a66f-b1dfa1df9504",
   "metadata": {},
   "outputs": [],
   "source": [
    "# Q4. What are getter and setter in python? Create a class and create a getter and a setter method in this\n",
    "# class."
   ]
  },
  {
   "cell_type": "code",
   "execution_count": 26,
   "id": "e2dc0e1e-ece6-454c-96d6-f110b6e182d2",
   "metadata": {},
   "outputs": [],
   "source": [
    "# Ans: getter and setter methods are used to control access to the attributes of a class. They provide a way to read and modify the values of private instance variables, encapsulating them within the class and enabling data validation or manipulation."
   ]
  },
  {
   "cell_type": "code",
   "execution_count": 27,
   "id": "8184dbf0-39fd-4cc9-ae24-aa30bf46f5ac",
   "metadata": {},
   "outputs": [],
   "source": [
    "class Book:\n",
    "    def __init__(self, title, author):\n",
    "        self._title = title\n",
    "        self._author = author\n",
    "\n",
    "    def get_title(self):\n",
    "        return self._title\n",
    "\n",
    "    def set_title(self, title):\n",
    "        self._title = title\n",
    "\n",
    "    def get_author(self):\n",
    "        return self._author\n",
    "\n",
    "    def set_author(self, author):\n",
    "        self._author = author"
   ]
  },
  {
   "cell_type": "code",
   "execution_count": 29,
   "id": "3c819497-35b2-4387-8a5c-d4a58b5f04f0",
   "metadata": {},
   "outputs": [],
   "source": [
    "book = Book(\"The Hobbit\", \"J.R.R. Tolkien\")"
   ]
  },
  {
   "cell_type": "code",
   "execution_count": 30,
   "id": "062929e3-e01a-438b-a6d9-b66ff26acbb6",
   "metadata": {},
   "outputs": [],
   "source": [
    "book.set_title(\"Bhagwat Geeta\")\n",
    "book.set_author(\"Shri Krishna\")"
   ]
  },
  {
   "cell_type": "code",
   "execution_count": 32,
   "id": "0cdeca03-10e7-4da2-8fd2-5e398b76da72",
   "metadata": {},
   "outputs": [
    {
     "data": {
      "text/plain": [
       "'Bhagwat Geeta'"
      ]
     },
     "execution_count": 32,
     "metadata": {},
     "output_type": "execute_result"
    }
   ],
   "source": [
    "book.get_title()"
   ]
  },
  {
   "cell_type": "code",
   "execution_count": 33,
   "id": "08cd488c-4d4e-4fcb-816b-5f218a936183",
   "metadata": {},
   "outputs": [
    {
     "data": {
      "text/plain": [
       "'Shri Krishna'"
      ]
     },
     "execution_count": 33,
     "metadata": {},
     "output_type": "execute_result"
    }
   ],
   "source": [
    "book.get_author()"
   ]
  },
  {
   "cell_type": "code",
   "execution_count": 34,
   "id": "d1629376-6946-4e41-bd54-63337dd6c78e",
   "metadata": {},
   "outputs": [],
   "source": [
    "# Q5.What is method overriding in python? Write a python code to demonstrate method overriding."
   ]
  },
  {
   "cell_type": "code",
   "execution_count": 35,
   "id": "c0fb467f-0222-4734-b0ec-395dd55af6c6",
   "metadata": {},
   "outputs": [],
   "source": [
    "# Ans:Method overriding in Python is a feature of object-oriented programming where a subclass provides a specific implementation for a method that is already defined in its superclass. When a method is overridden in the subclass, the implementation of the method in the subclass takes precedence over the implementation in the superclass"
   ]
  },
  {
   "cell_type": "code",
   "execution_count": 36,
   "id": "980b02ba-56b6-4bea-ab76-e57f12863234",
   "metadata": {},
   "outputs": [],
   "source": [
    "class Animal:\n",
    "    def make_sound(self):\n",
    "        print(\"Some generic animal sound.\")\n",
    "\n",
    "\n",
    "class Dog(Animal):\n",
    "    def make_sound(self):\n",
    "        print(\"Woof woof!\")\n",
    "\n",
    "\n",
    "class Cat(Animal):\n",
    "    def make_sound(self):\n",
    "        print(\"Meow meow!\")"
   ]
  },
  {
   "cell_type": "code",
   "execution_count": 37,
   "id": "97214502-6fa3-4f0d-a2a8-3774fb8bcbd6",
   "metadata": {},
   "outputs": [],
   "source": [
    "dog = Dog()\n",
    "cat = Cat()"
   ]
  },
  {
   "cell_type": "code",
   "execution_count": 38,
   "id": "0709a3b7-d558-42dd-a6d2-a1b421319bfe",
   "metadata": {},
   "outputs": [
    {
     "name": "stdout",
     "output_type": "stream",
     "text": [
      "Woof woof!\n",
      "Meow meow!\n"
     ]
    }
   ],
   "source": [
    "dog.make_sound()\n",
    "cat.make_sound()  "
   ]
  },
  {
   "cell_type": "code",
   "execution_count": null,
   "id": "7d1cb195-a7fd-464e-be02-4e4375cc7567",
   "metadata": {},
   "outputs": [],
   "source": []
  }
 ],
 "metadata": {
  "kernelspec": {
   "display_name": "Python 3 (ipykernel)",
   "language": "python",
   "name": "python3"
  },
  "language_info": {
   "codemirror_mode": {
    "name": "ipython",
    "version": 3
   },
   "file_extension": ".py",
   "mimetype": "text/x-python",
   "name": "python",
   "nbconvert_exporter": "python",
   "pygments_lexer": "ipython3",
   "version": "3.10.8"
  }
 },
 "nbformat": 4,
 "nbformat_minor": 5
}
