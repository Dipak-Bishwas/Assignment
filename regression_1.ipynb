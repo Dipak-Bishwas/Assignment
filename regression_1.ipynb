{
 "cells": [
  {
   "cell_type": "code",
   "execution_count": 1,
   "id": "6352c351-a31d-4111-bd66-38bfb31df0a9",
   "metadata": {},
   "outputs": [],
   "source": [
    "# Q1. Explain the difference between simple linear regression and multiple linear regression. Provide an\n",
    "# example of each."
   ]
  },
  {
   "cell_type": "code",
   "execution_count": 2,
   "id": "fddd6452-b890-4a6e-86c9-80eba6119880",
   "metadata": {},
   "outputs": [],
   "source": [
    "# Simple Linear Regression:\n",
    "\n",
    "#     Definition: Models the relationship between two variables: one independent variable (predictor) and one \n",
    "#     dependent variable (response).\n",
    "#         Example: Predicting a person's weight based on their height.\n",
    "        \n",
    "# Multiple Linear Regression:\n",
    "        \n",
    "#     Definition: Models the relationship between one dependent variable and multiple independent variables.\n",
    "#         Example: Predicting a person's weight based on their height, age, and gender."
   ]
  },
  {
   "cell_type": "code",
   "execution_count": 3,
   "id": "bd32877e-1f2d-4a13-b447-69ab5a9ea94b",
   "metadata": {},
   "outputs": [],
   "source": [
    "# Q2. Discuss the assumptions of linear regression. How can you check whether these assumptions hold in\n",
    "# a given dataset?"
   ]
  },
  {
   "cell_type": "code",
   "execution_count": 4,
   "id": "3aeae61b-80bd-4394-9b8f-b7d20b16d7b2",
   "metadata": {},
   "outputs": [],
   "source": [
    "# Linearity:\n",
    "#     Definition: The relationship between predictors and the response is linear.\n",
    "#     Check: Scatter plot of predictors vs. response should show a linear pattern.\n",
    "    \n",
    "# Independence:\n",
    "#     Definition: Observations are independent of each other.\n",
    "#     Check: Plot residuals vs. time or sequence to check for patterns.\n",
    "    \n",
    "# Homoscedasticity:\n",
    "#     Definition: Residuals have constant variance across all levels of the predictors.\n",
    "#     Check: Residuals vs. fitted values plot should show no clear pattern.\n",
    "    \n",
    "# Normality of Residuals:\n",
    "#     Definition: Residuals are normally distributed.\n",
    "#     Check: Q-Q plot of residuals should be approximately straight."
   ]
  },
  {
   "cell_type": "code",
   "execution_count": 5,
   "id": "ed47474d-de80-49df-a140-d9808bb4bece",
   "metadata": {},
   "outputs": [],
   "source": [
    "# Q3. How do you interpret the slope and intercept in a linear regression model? Provide an example using\n",
    "# a real-world scenario."
   ]
  },
  {
   "cell_type": "code",
   "execution_count": 6,
   "id": "818d2095-aa2f-4c1c-9b36-41fc9da97379",
   "metadata": {},
   "outputs": [],
   "source": [
    "# Intercept:\n",
    "#     Definition: The value of the dependent variable when all independent variables are zero.\n",
    "#         Example: In predicting weight based on height, the intercept represents the estimated weight when height is zero \n",
    "#         (though this value might not be meaningful in practice).\n",
    "        \n",
    "# Slope:\n",
    "#     Definition: The change in the dependent variable for a one-unit change in an independent variable.\n",
    "#         Example: In predicting weight based on height, the slope indicates how much weight increases for each additional \n",
    "#         inch of height.\n",
    "        \n",
    "# Example\n",
    "\n",
    "# Scenario: Predicting a person’s weight based on their height.\n",
    "#     Intercept: If the intercept is 50 kg, it means that the model predicts a weight of 50 kg when height is zero \n",
    "#     (though height zero is not practical).\n",
    "#     Slope: If the slope is 0.5 kg per inch, it means that for each additional inch in height, the model predicts a\n",
    "#     weight increase of 0.5 kg."
   ]
  },
  {
   "cell_type": "code",
   "execution_count": 7,
   "id": "f33c0b34-1ec2-441a-b461-5040b672f264",
   "metadata": {},
   "outputs": [],
   "source": [
    "# Q4. Explain the concept of gradient descent. How is it used in machine learning?"
   ]
  },
  {
   "cell_type": "code",
   "execution_count": 8,
   "id": "a8ae3643-156a-4fd6-910a-4d406ba6c68d",
   "metadata": {},
   "outputs": [],
   "source": [
    "# Definition: An optimization method to minimize a model's cost function by adjusting parameters iteratively.\n",
    "\n",
    "# Process:\n",
    "#     Start with initial parameters.\n",
    "#     Compute the gradient of the cost function.\n",
    "#     Update parameters in the opposite direction of the gradient.\n",
    "#     Repeat until convergence.\n",
    "#     Use: Commonly used to train machine learning models by minimizing the cost function."
   ]
  },
  {
   "cell_type": "code",
   "execution_count": 9,
   "id": "2ae721d0-5707-46db-864d-40c36b3deb2a",
   "metadata": {},
   "outputs": [],
   "source": [
    "# Q5. Describe the multiple linear regression model. How does it differ from simple linear regression?"
   ]
  },
  {
   "cell_type": "code",
   "execution_count": 10,
   "id": "c1a2229c-9506-4e1a-991d-037137458b7c",
   "metadata": {},
   "outputs": [],
   "source": [
    "# Simple Linear Regression: Models the relationship between one predictor and one response.\n",
    "\n",
    "# Multiple Linear Regression: Models the relationship between multiple predictors and one response, providing a more \n",
    "# comprehensive analysis when multiple factors influence the outcome.\n"
   ]
  },
  {
   "cell_type": "code",
   "execution_count": 11,
   "id": "9bfccd0e-e906-498d-ba03-613cb6679988",
   "metadata": {},
   "outputs": [],
   "source": [
    "# Q6. Explain the concept of multicollinearity in multiple linear regression. How can you detect and\n",
    "# address this issue?"
   ]
  },
  {
   "cell_type": "code",
   "execution_count": 12,
   "id": "79413a6a-3459-4bfa-afdc-22e8ec858f15",
   "metadata": {},
   "outputs": [],
   "source": [
    "# Multicollinearity\n",
    "#     Definition: Occurs when independent variables in a regression model are highly correlated, leading to unreliable \n",
    "#     coefficient estimates.\n",
    "    \n",
    "# Detection\n",
    "#     Correlation Matrix: Look for high correlations between variables.\n",
    "#     Variance Inflation Factor (VIF): VIF > 10 indicates multicollinearity.\n",
    "#     Condition Index: High values suggest multicollinearity.\n",
    "    \n",
    "# Addressing\n",
    "#     Remove Variables: Eliminate highly correlated variables.\n",
    "#     Combine Variables: Create composite variables.\n",
    "#     Regularization: Use techniques like Ridge Regression.\n",
    "#     Principal Component Analysis (PCA): Transform correlated variables into uncorrelated components."
   ]
  },
  {
   "cell_type": "code",
   "execution_count": 13,
   "id": "a4a5a6f6-4647-4ecb-a994-313566fffc8c",
   "metadata": {},
   "outputs": [],
   "source": [
    "# Q7. Describe the polynomial regression model. How is it different from linear regression?"
   ]
  },
  {
   "cell_type": "code",
   "execution_count": 14,
   "id": "7c5d83d7-992f-4d0b-87f5-8d9b9f4cc474",
   "metadata": {},
   "outputs": [],
   "source": [
    "# Polynomial Regression: \n",
    "#     Fits data with curves, making it suitable for complex, non-linear relationships.\n",
    "    \n",
    "# Linear Regression:\n",
    "#     Fits data with straight lines, ideal for linear trends."
   ]
  },
  {
   "cell_type": "code",
   "execution_count": null,
   "id": "569b7ec7-742a-4d10-97a1-7f4fe022f917",
   "metadata": {},
   "outputs": [],
   "source": []
  }
 ],
 "metadata": {
  "kernelspec": {
   "display_name": "Python 3 (ipykernel)",
   "language": "python",
   "name": "python3"
  },
  "language_info": {
   "codemirror_mode": {
    "name": "ipython",
    "version": 3
   },
   "file_extension": ".py",
   "mimetype": "text/x-python",
   "name": "python",
   "nbconvert_exporter": "python",
   "pygments_lexer": "ipython3",
   "version": "3.10.8"
  }
 },
 "nbformat": 4,
 "nbformat_minor": 5
}
